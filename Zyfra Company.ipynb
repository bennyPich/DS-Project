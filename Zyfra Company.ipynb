{
 "cells": [
  {
   "cell_type": "markdown",
   "metadata": {},
   "source": [
    "#  Zyfra Company\n",
    "\n",
    "- The company is from the gold mining sector\n",
    "- The company develops efficiency solutions for heavy industry.\n",
    "- Our task is to build a model that will predict the amount of gold recovered from gold ore.\n",
    "- The model will help to optimize the production and eliminate unprofitable parameters."
   ]
  },
  {
   "cell_type": "markdown",
   "metadata": {},
   "source": [
    "## Prepare the data\n",
    "### Get files"
   ]
  },
  {
   "cell_type": "code",
   "execution_count": 1,
   "metadata": {},
   "outputs": [],
   "source": [
    "import pandas as pd\n",
    "import numpy as np\n",
    "from sklearn.model_selection import train_test_split,cross_val_score \n",
    "from sklearn.preprocessing import OrdinalEncoder, StandardScaler\n",
    "from sklearn.linear_model import LinearRegression\n",
    "from sklearn.ensemble import  RandomForestRegressor\n",
    "from sklearn.metrics import mean_squared_error,mean_absolute_error,make_scorer\n",
    "from sklearn.dummy import DummyRegressor\n",
    "import matplotlib.pyplot as plt\n",
    "import pprint"
   ]
  },
  {
   "cell_type": "code",
   "execution_count": 2,
   "metadata": {},
   "outputs": [],
   "source": [
    "# const random_state \n",
    "RANDOM_STATE = 12345\n",
    "\n",
    "# Silence SettingWithCopyWarning \n",
    "pd.options.mode.chained_assignment = None\n"
   ]
  },
  {
   "cell_type": "code",
   "execution_count": 3,
   "metadata": {},
   "outputs": [],
   "source": [
    "#Read csv file\n",
    "gold_recovery_train = pd.read_csv('https://code.s3.yandex.net/datasets/gold_recovery_train.csv') \n",
    "gold_recovery_test = pd.read_csv('https://code.s3.yandex.net/datasets/gold_recovery_test.csv')\n",
    "gold_recovery_full = pd.read_csv('https://code.s3.yandex.net/datasets/gold_recovery_full.csv')"
   ]
  },
  {
   "cell_type": "code",
   "execution_count": 4,
   "metadata": {},
   "outputs": [
    {
     "name": "stdout",
     "output_type": "stream",
     "text": [
      "<class 'pandas.core.frame.DataFrame'>\n",
      "RangeIndex: 16860 entries, 0 to 16859\n",
      "Data columns (total 87 columns):\n",
      "date                                                  16860 non-null object\n",
      "final.output.concentrate_ag                           16788 non-null float64\n",
      "final.output.concentrate_pb                           16788 non-null float64\n",
      "final.output.concentrate_sol                          16490 non-null float64\n",
      "final.output.concentrate_au                           16789 non-null float64\n",
      "final.output.recovery                                 15339 non-null float64\n",
      "final.output.tail_ag                                  16794 non-null float64\n",
      "final.output.tail_pb                                  16677 non-null float64\n",
      "final.output.tail_sol                                 16715 non-null float64\n",
      "final.output.tail_au                                  16794 non-null float64\n",
      "primary_cleaner.input.sulfate                         15553 non-null float64\n",
      "primary_cleaner.input.depressant                      15598 non-null float64\n",
      "primary_cleaner.input.feed_size                       16860 non-null float64\n",
      "primary_cleaner.input.xanthate                        15875 non-null float64\n",
      "primary_cleaner.output.concentrate_ag                 16778 non-null float64\n",
      "primary_cleaner.output.concentrate_pb                 16502 non-null float64\n",
      "primary_cleaner.output.concentrate_sol                16224 non-null float64\n",
      "primary_cleaner.output.concentrate_au                 16778 non-null float64\n",
      "primary_cleaner.output.tail_ag                        16777 non-null float64\n",
      "primary_cleaner.output.tail_pb                        16761 non-null float64\n",
      "primary_cleaner.output.tail_sol                       16579 non-null float64\n",
      "primary_cleaner.output.tail_au                        16777 non-null float64\n",
      "primary_cleaner.state.floatbank8_a_air                16820 non-null float64\n",
      "primary_cleaner.state.floatbank8_a_level              16827 non-null float64\n",
      "primary_cleaner.state.floatbank8_b_air                16820 non-null float64\n",
      "primary_cleaner.state.floatbank8_b_level              16833 non-null float64\n",
      "primary_cleaner.state.floatbank8_c_air                16822 non-null float64\n",
      "primary_cleaner.state.floatbank8_c_level              16833 non-null float64\n",
      "primary_cleaner.state.floatbank8_d_air                16821 non-null float64\n",
      "primary_cleaner.state.floatbank8_d_level              16833 non-null float64\n",
      "rougher.calculation.sulfate_to_au_concentrate         16833 non-null float64\n",
      "rougher.calculation.floatbank10_sulfate_to_au_feed    16833 non-null float64\n",
      "rougher.calculation.floatbank11_sulfate_to_au_feed    16833 non-null float64\n",
      "rougher.calculation.au_pb_ratio                       15618 non-null float64\n",
      "rougher.input.feed_ag                                 16778 non-null float64\n",
      "rougher.input.feed_pb                                 16632 non-null float64\n",
      "rougher.input.feed_rate                               16347 non-null float64\n",
      "rougher.input.feed_size                               16443 non-null float64\n",
      "rougher.input.feed_sol                                16568 non-null float64\n",
      "rougher.input.feed_au                                 16777 non-null float64\n",
      "rougher.input.floatbank10_sulfate                     15816 non-null float64\n",
      "rougher.input.floatbank10_xanthate                    16514 non-null float64\n",
      "rougher.input.floatbank11_sulfate                     16237 non-null float64\n",
      "rougher.input.floatbank11_xanthate                    14956 non-null float64\n",
      "rougher.output.concentrate_ag                         16778 non-null float64\n",
      "rougher.output.concentrate_pb                         16778 non-null float64\n",
      "rougher.output.concentrate_sol                        16698 non-null float64\n",
      "rougher.output.concentrate_au                         16778 non-null float64\n",
      "rougher.output.recovery                               14287 non-null float64\n",
      "rougher.output.tail_ag                                14610 non-null float64\n",
      "rougher.output.tail_pb                                16778 non-null float64\n",
      "rougher.output.tail_sol                               14611 non-null float64\n",
      "rougher.output.tail_au                                14611 non-null float64\n",
      "rougher.state.floatbank10_a_air                       16807 non-null float64\n",
      "rougher.state.floatbank10_a_level                     16807 non-null float64\n",
      "rougher.state.floatbank10_b_air                       16807 non-null float64\n",
      "rougher.state.floatbank10_b_level                     16807 non-null float64\n",
      "rougher.state.floatbank10_c_air                       16807 non-null float64\n",
      "rougher.state.floatbank10_c_level                     16814 non-null float64\n",
      "rougher.state.floatbank10_d_air                       16802 non-null float64\n",
      "rougher.state.floatbank10_d_level                     16809 non-null float64\n",
      "rougher.state.floatbank10_e_air                       16257 non-null float64\n",
      "rougher.state.floatbank10_e_level                     16809 non-null float64\n",
      "rougher.state.floatbank10_f_air                       16802 non-null float64\n",
      "rougher.state.floatbank10_f_level                     16802 non-null float64\n",
      "secondary_cleaner.output.tail_ag                      16776 non-null float64\n",
      "secondary_cleaner.output.tail_pb                      16764 non-null float64\n",
      "secondary_cleaner.output.tail_sol                     14874 non-null float64\n",
      "secondary_cleaner.output.tail_au                      16778 non-null float64\n",
      "secondary_cleaner.state.floatbank2_a_air              16497 non-null float64\n",
      "secondary_cleaner.state.floatbank2_a_level            16751 non-null float64\n",
      "secondary_cleaner.state.floatbank2_b_air              16705 non-null float64\n",
      "secondary_cleaner.state.floatbank2_b_level            16748 non-null float64\n",
      "secondary_cleaner.state.floatbank3_a_air              16763 non-null float64\n",
      "secondary_cleaner.state.floatbank3_a_level            16747 non-null float64\n",
      "secondary_cleaner.state.floatbank3_b_air              16752 non-null float64\n",
      "secondary_cleaner.state.floatbank3_b_level            16750 non-null float64\n",
      "secondary_cleaner.state.floatbank4_a_air              16731 non-null float64\n",
      "secondary_cleaner.state.floatbank4_a_level            16747 non-null float64\n",
      "secondary_cleaner.state.floatbank4_b_air              16768 non-null float64\n",
      "secondary_cleaner.state.floatbank4_b_level            16767 non-null float64\n",
      "secondary_cleaner.state.floatbank5_a_air              16775 non-null float64\n",
      "secondary_cleaner.state.floatbank5_a_level            16775 non-null float64\n",
      "secondary_cleaner.state.floatbank5_b_air              16775 non-null float64\n",
      "secondary_cleaner.state.floatbank5_b_level            16776 non-null float64\n",
      "secondary_cleaner.state.floatbank6_a_air              16757 non-null float64\n",
      "secondary_cleaner.state.floatbank6_a_level            16775 non-null float64\n",
      "dtypes: float64(86), object(1)\n",
      "memory usage: 11.2+ MB\n"
     ]
    }
   ],
   "source": [
    "gold_recovery_train.info()"
   ]
  },
  {
   "cell_type": "code",
   "execution_count": 5,
   "metadata": {},
   "outputs": [
    {
     "data": {
      "text/html": [
       "<div>\n",
       "<style scoped>\n",
       "    .dataframe tbody tr th:only-of-type {\n",
       "        vertical-align: middle;\n",
       "    }\n",
       "\n",
       "    .dataframe tbody tr th {\n",
       "        vertical-align: top;\n",
       "    }\n",
       "\n",
       "    .dataframe thead th {\n",
       "        text-align: right;\n",
       "    }\n",
       "</style>\n",
       "<table border=\"1\" class=\"dataframe\">\n",
       "  <thead>\n",
       "    <tr style=\"text-align: right;\">\n",
       "      <th></th>\n",
       "      <th>date</th>\n",
       "      <th>final.output.concentrate_ag</th>\n",
       "      <th>final.output.concentrate_pb</th>\n",
       "      <th>final.output.concentrate_sol</th>\n",
       "      <th>final.output.concentrate_au</th>\n",
       "      <th>final.output.recovery</th>\n",
       "      <th>final.output.tail_ag</th>\n",
       "      <th>final.output.tail_pb</th>\n",
       "      <th>final.output.tail_sol</th>\n",
       "      <th>final.output.tail_au</th>\n",
       "      <th>...</th>\n",
       "      <th>secondary_cleaner.state.floatbank4_a_air</th>\n",
       "      <th>secondary_cleaner.state.floatbank4_a_level</th>\n",
       "      <th>secondary_cleaner.state.floatbank4_b_air</th>\n",
       "      <th>secondary_cleaner.state.floatbank4_b_level</th>\n",
       "      <th>secondary_cleaner.state.floatbank5_a_air</th>\n",
       "      <th>secondary_cleaner.state.floatbank5_a_level</th>\n",
       "      <th>secondary_cleaner.state.floatbank5_b_air</th>\n",
       "      <th>secondary_cleaner.state.floatbank5_b_level</th>\n",
       "      <th>secondary_cleaner.state.floatbank6_a_air</th>\n",
       "      <th>secondary_cleaner.state.floatbank6_a_level</th>\n",
       "    </tr>\n",
       "  </thead>\n",
       "  <tbody>\n",
       "    <tr>\n",
       "      <td>12319</td>\n",
       "      <td>2018-02-10 06:59:59</td>\n",
       "      <td>6.766960</td>\n",
       "      <td>8.956377</td>\n",
       "      <td>10.419626</td>\n",
       "      <td>45.574389</td>\n",
       "      <td>84.415997</td>\n",
       "      <td>9.701121</td>\n",
       "      <td>0.329199</td>\n",
       "      <td>14.924112</td>\n",
       "      <td>1.304472</td>\n",
       "      <td>...</td>\n",
       "      <td>19.963151</td>\n",
       "      <td>-499.401567</td>\n",
       "      <td>15.044839</td>\n",
       "      <td>-500.000573</td>\n",
       "      <td>10.936143</td>\n",
       "      <td>-498.844483</td>\n",
       "      <td>9.023666</td>\n",
       "      <td>-499.857996</td>\n",
       "      <td>10.988570</td>\n",
       "      <td>-499.203981</td>\n",
       "    </tr>\n",
       "    <tr>\n",
       "      <td>14561</td>\n",
       "      <td>2018-05-14 16:59:59</td>\n",
       "      <td>3.979700</td>\n",
       "      <td>7.824051</td>\n",
       "      <td>9.703507</td>\n",
       "      <td>48.040745</td>\n",
       "      <td>74.111496</td>\n",
       "      <td>10.285254</td>\n",
       "      <td>1.827834</td>\n",
       "      <td>11.553966</td>\n",
       "      <td>2.507282</td>\n",
       "      <td>...</td>\n",
       "      <td>30.007512</td>\n",
       "      <td>-499.849657</td>\n",
       "      <td>21.271068</td>\n",
       "      <td>-499.850307</td>\n",
       "      <td>24.977271</td>\n",
       "      <td>-500.347573</td>\n",
       "      <td>22.964348</td>\n",
       "      <td>-499.811888</td>\n",
       "      <td>24.985642</td>\n",
       "      <td>-500.253911</td>\n",
       "    </tr>\n",
       "    <tr>\n",
       "      <td>3955</td>\n",
       "      <td>2016-06-27 18:59:59</td>\n",
       "      <td>5.224597</td>\n",
       "      <td>6.832063</td>\n",
       "      <td>9.281311</td>\n",
       "      <td>47.763045</td>\n",
       "      <td>68.308265</td>\n",
       "      <td>8.994269</td>\n",
       "      <td>0.907413</td>\n",
       "      <td>14.305267</td>\n",
       "      <td>1.841052</td>\n",
       "      <td>...</td>\n",
       "      <td>16.962877</td>\n",
       "      <td>-501.970336</td>\n",
       "      <td>9.122809</td>\n",
       "      <td>-494.768061</td>\n",
       "      <td>17.014612</td>\n",
       "      <td>-501.032271</td>\n",
       "      <td>7.969155</td>\n",
       "      <td>-500.148567</td>\n",
       "      <td>25.018339</td>\n",
       "      <td>-500.131270</td>\n",
       "    </tr>\n",
       "    <tr>\n",
       "      <td>16115</td>\n",
       "      <td>2018-07-18 10:59:59</td>\n",
       "      <td>3.245268</td>\n",
       "      <td>11.720792</td>\n",
       "      <td>6.710830</td>\n",
       "      <td>45.119122</td>\n",
       "      <td>73.905355</td>\n",
       "      <td>9.935383</td>\n",
       "      <td>4.194564</td>\n",
       "      <td>7.719919</td>\n",
       "      <td>2.103984</td>\n",
       "      <td>...</td>\n",
       "      <td>18.033753</td>\n",
       "      <td>-500.134586</td>\n",
       "      <td>14.999202</td>\n",
       "      <td>-499.726698</td>\n",
       "      <td>12.061039</td>\n",
       "      <td>-500.379236</td>\n",
       "      <td>10.993713</td>\n",
       "      <td>-499.850906</td>\n",
       "      <td>12.974697</td>\n",
       "      <td>-499.486703</td>\n",
       "    </tr>\n",
       "    <tr>\n",
       "      <td>16499</td>\n",
       "      <td>2018-08-03 10:59:59</td>\n",
       "      <td>0.010000</td>\n",
       "      <td>0.010000</td>\n",
       "      <td>0.010000</td>\n",
       "      <td>0.010000</td>\n",
       "      <td>100.000000</td>\n",
       "      <td>0.000000</td>\n",
       "      <td>0.000000</td>\n",
       "      <td>0.000000</td>\n",
       "      <td>0.000000</td>\n",
       "      <td>...</td>\n",
       "      <td>0.000000</td>\n",
       "      <td>-799.708528</td>\n",
       "      <td>0.000000</td>\n",
       "      <td>-508.673699</td>\n",
       "      <td>0.452697</td>\n",
       "      <td>-646.746867</td>\n",
       "      <td>0.507579</td>\n",
       "      <td>-765.010210</td>\n",
       "      <td>0.249089</td>\n",
       "      <td>-555.660398</td>\n",
       "    </tr>\n",
       "    <tr>\n",
       "      <td>3467</td>\n",
       "      <td>2016-06-07 10:59:59</td>\n",
       "      <td>3.695670</td>\n",
       "      <td>9.828998</td>\n",
       "      <td>7.082758</td>\n",
       "      <td>47.113651</td>\n",
       "      <td>43.464610</td>\n",
       "      <td>7.163246</td>\n",
       "      <td>2.410115</td>\n",
       "      <td>10.992946</td>\n",
       "      <td>3.822939</td>\n",
       "      <td>...</td>\n",
       "      <td>8.997666</td>\n",
       "      <td>-550.006516</td>\n",
       "      <td>7.048751</td>\n",
       "      <td>-525.882687</td>\n",
       "      <td>8.012975</td>\n",
       "      <td>-548.665981</td>\n",
       "      <td>6.003099</td>\n",
       "      <td>-550.337143</td>\n",
       "      <td>17.990358</td>\n",
       "      <td>-499.485199</td>\n",
       "    </tr>\n",
       "    <tr>\n",
       "      <td>5361</td>\n",
       "      <td>2016-08-25 08:59:59</td>\n",
       "      <td>4.493924</td>\n",
       "      <td>10.833346</td>\n",
       "      <td>8.505341</td>\n",
       "      <td>45.582788</td>\n",
       "      <td>68.631837</td>\n",
       "      <td>8.581861</td>\n",
       "      <td>2.866737</td>\n",
       "      <td>7.946325</td>\n",
       "      <td>3.312653</td>\n",
       "      <td>...</td>\n",
       "      <td>17.982493</td>\n",
       "      <td>-400.259842</td>\n",
       "      <td>9.965597</td>\n",
       "      <td>-400.050154</td>\n",
       "      <td>10.014318</td>\n",
       "      <td>-399.487596</td>\n",
       "      <td>4.974389</td>\n",
       "      <td>-399.758043</td>\n",
       "      <td>25.001851</td>\n",
       "      <td>-499.341467</td>\n",
       "    </tr>\n",
       "    <tr>\n",
       "      <td>7480</td>\n",
       "      <td>2017-03-23 15:59:59</td>\n",
       "      <td>5.784117</td>\n",
       "      <td>9.281290</td>\n",
       "      <td>10.111099</td>\n",
       "      <td>45.788116</td>\n",
       "      <td>64.652361</td>\n",
       "      <td>9.922437</td>\n",
       "      <td>2.963259</td>\n",
       "      <td>10.808104</td>\n",
       "      <td>3.489644</td>\n",
       "      <td>...</td>\n",
       "      <td>24.986366</td>\n",
       "      <td>-401.176319</td>\n",
       "      <td>23.049350</td>\n",
       "      <td>-399.517345</td>\n",
       "      <td>22.635869</td>\n",
       "      <td>-450.254458</td>\n",
       "      <td>17.313444</td>\n",
       "      <td>-449.930391</td>\n",
       "      <td>24.999019</td>\n",
       "      <td>-500.266699</td>\n",
       "    </tr>\n",
       "    <tr>\n",
       "      <td>8620</td>\n",
       "      <td>2017-05-10 03:59:59</td>\n",
       "      <td>4.630813</td>\n",
       "      <td>10.653291</td>\n",
       "      <td>7.960865</td>\n",
       "      <td>46.708742</td>\n",
       "      <td>61.065623</td>\n",
       "      <td>9.419539</td>\n",
       "      <td>3.806901</td>\n",
       "      <td>9.943330</td>\n",
       "      <td>3.732872</td>\n",
       "      <td>...</td>\n",
       "      <td>24.980436</td>\n",
       "      <td>-401.193433</td>\n",
       "      <td>22.969598</td>\n",
       "      <td>-400.540111</td>\n",
       "      <td>25.975050</td>\n",
       "      <td>-448.962379</td>\n",
       "      <td>23.991944</td>\n",
       "      <td>-449.944204</td>\n",
       "      <td>30.003965</td>\n",
       "      <td>-499.128846</td>\n",
       "    </tr>\n",
       "    <tr>\n",
       "      <td>2262</td>\n",
       "      <td>2016-04-18 06:00:00</td>\n",
       "      <td>4.915780</td>\n",
       "      <td>10.130897</td>\n",
       "      <td>8.652860</td>\n",
       "      <td>46.328352</td>\n",
       "      <td>62.491189</td>\n",
       "      <td>8.255269</td>\n",
       "      <td>1.871480</td>\n",
       "      <td>11.216504</td>\n",
       "      <td>2.669063</td>\n",
       "      <td>...</td>\n",
       "      <td>14.025847</td>\n",
       "      <td>-500.112557</td>\n",
       "      <td>11.996388</td>\n",
       "      <td>-500.315801</td>\n",
       "      <td>12.951255</td>\n",
       "      <td>-498.187095</td>\n",
       "      <td>11.005497</td>\n",
       "      <td>-499.333553</td>\n",
       "      <td>19.997480</td>\n",
       "      <td>-498.447146</td>\n",
       "    </tr>\n",
       "  </tbody>\n",
       "</table>\n",
       "<p>10 rows × 87 columns</p>\n",
       "</div>"
      ],
      "text/plain": [
       "                      date  final.output.concentrate_ag  \\\n",
       "12319  2018-02-10 06:59:59                     6.766960   \n",
       "14561  2018-05-14 16:59:59                     3.979700   \n",
       "3955   2016-06-27 18:59:59                     5.224597   \n",
       "16115  2018-07-18 10:59:59                     3.245268   \n",
       "16499  2018-08-03 10:59:59                     0.010000   \n",
       "3467   2016-06-07 10:59:59                     3.695670   \n",
       "5361   2016-08-25 08:59:59                     4.493924   \n",
       "7480   2017-03-23 15:59:59                     5.784117   \n",
       "8620   2017-05-10 03:59:59                     4.630813   \n",
       "2262   2016-04-18 06:00:00                     4.915780   \n",
       "\n",
       "       final.output.concentrate_pb  final.output.concentrate_sol  \\\n",
       "12319                     8.956377                     10.419626   \n",
       "14561                     7.824051                      9.703507   \n",
       "3955                      6.832063                      9.281311   \n",
       "16115                    11.720792                      6.710830   \n",
       "16499                     0.010000                      0.010000   \n",
       "3467                      9.828998                      7.082758   \n",
       "5361                     10.833346                      8.505341   \n",
       "7480                      9.281290                     10.111099   \n",
       "8620                     10.653291                      7.960865   \n",
       "2262                     10.130897                      8.652860   \n",
       "\n",
       "       final.output.concentrate_au  final.output.recovery  \\\n",
       "12319                    45.574389              84.415997   \n",
       "14561                    48.040745              74.111496   \n",
       "3955                     47.763045              68.308265   \n",
       "16115                    45.119122              73.905355   \n",
       "16499                     0.010000             100.000000   \n",
       "3467                     47.113651              43.464610   \n",
       "5361                     45.582788              68.631837   \n",
       "7480                     45.788116              64.652361   \n",
       "8620                     46.708742              61.065623   \n",
       "2262                     46.328352              62.491189   \n",
       "\n",
       "       final.output.tail_ag  final.output.tail_pb  final.output.tail_sol  \\\n",
       "12319              9.701121              0.329199              14.924112   \n",
       "14561             10.285254              1.827834              11.553966   \n",
       "3955               8.994269              0.907413              14.305267   \n",
       "16115              9.935383              4.194564               7.719919   \n",
       "16499              0.000000              0.000000               0.000000   \n",
       "3467               7.163246              2.410115              10.992946   \n",
       "5361               8.581861              2.866737               7.946325   \n",
       "7480               9.922437              2.963259              10.808104   \n",
       "8620               9.419539              3.806901               9.943330   \n",
       "2262               8.255269              1.871480              11.216504   \n",
       "\n",
       "       final.output.tail_au  ...  secondary_cleaner.state.floatbank4_a_air  \\\n",
       "12319              1.304472  ...                                 19.963151   \n",
       "14561              2.507282  ...                                 30.007512   \n",
       "3955               1.841052  ...                                 16.962877   \n",
       "16115              2.103984  ...                                 18.033753   \n",
       "16499              0.000000  ...                                  0.000000   \n",
       "3467               3.822939  ...                                  8.997666   \n",
       "5361               3.312653  ...                                 17.982493   \n",
       "7480               3.489644  ...                                 24.986366   \n",
       "8620               3.732872  ...                                 24.980436   \n",
       "2262               2.669063  ...                                 14.025847   \n",
       "\n",
       "       secondary_cleaner.state.floatbank4_a_level  \\\n",
       "12319                                 -499.401567   \n",
       "14561                                 -499.849657   \n",
       "3955                                  -501.970336   \n",
       "16115                                 -500.134586   \n",
       "16499                                 -799.708528   \n",
       "3467                                  -550.006516   \n",
       "5361                                  -400.259842   \n",
       "7480                                  -401.176319   \n",
       "8620                                  -401.193433   \n",
       "2262                                  -500.112557   \n",
       "\n",
       "       secondary_cleaner.state.floatbank4_b_air  \\\n",
       "12319                                 15.044839   \n",
       "14561                                 21.271068   \n",
       "3955                                   9.122809   \n",
       "16115                                 14.999202   \n",
       "16499                                  0.000000   \n",
       "3467                                   7.048751   \n",
       "5361                                   9.965597   \n",
       "7480                                  23.049350   \n",
       "8620                                  22.969598   \n",
       "2262                                  11.996388   \n",
       "\n",
       "       secondary_cleaner.state.floatbank4_b_level  \\\n",
       "12319                                 -500.000573   \n",
       "14561                                 -499.850307   \n",
       "3955                                  -494.768061   \n",
       "16115                                 -499.726698   \n",
       "16499                                 -508.673699   \n",
       "3467                                  -525.882687   \n",
       "5361                                  -400.050154   \n",
       "7480                                  -399.517345   \n",
       "8620                                  -400.540111   \n",
       "2262                                  -500.315801   \n",
       "\n",
       "       secondary_cleaner.state.floatbank5_a_air  \\\n",
       "12319                                 10.936143   \n",
       "14561                                 24.977271   \n",
       "3955                                  17.014612   \n",
       "16115                                 12.061039   \n",
       "16499                                  0.452697   \n",
       "3467                                   8.012975   \n",
       "5361                                  10.014318   \n",
       "7480                                  22.635869   \n",
       "8620                                  25.975050   \n",
       "2262                                  12.951255   \n",
       "\n",
       "       secondary_cleaner.state.floatbank5_a_level  \\\n",
       "12319                                 -498.844483   \n",
       "14561                                 -500.347573   \n",
       "3955                                  -501.032271   \n",
       "16115                                 -500.379236   \n",
       "16499                                 -646.746867   \n",
       "3467                                  -548.665981   \n",
       "5361                                  -399.487596   \n",
       "7480                                  -450.254458   \n",
       "8620                                  -448.962379   \n",
       "2262                                  -498.187095   \n",
       "\n",
       "       secondary_cleaner.state.floatbank5_b_air  \\\n",
       "12319                                  9.023666   \n",
       "14561                                 22.964348   \n",
       "3955                                   7.969155   \n",
       "16115                                 10.993713   \n",
       "16499                                  0.507579   \n",
       "3467                                   6.003099   \n",
       "5361                                   4.974389   \n",
       "7480                                  17.313444   \n",
       "8620                                  23.991944   \n",
       "2262                                  11.005497   \n",
       "\n",
       "       secondary_cleaner.state.floatbank5_b_level  \\\n",
       "12319                                 -499.857996   \n",
       "14561                                 -499.811888   \n",
       "3955                                  -500.148567   \n",
       "16115                                 -499.850906   \n",
       "16499                                 -765.010210   \n",
       "3467                                  -550.337143   \n",
       "5361                                  -399.758043   \n",
       "7480                                  -449.930391   \n",
       "8620                                  -449.944204   \n",
       "2262                                  -499.333553   \n",
       "\n",
       "       secondary_cleaner.state.floatbank6_a_air  \\\n",
       "12319                                 10.988570   \n",
       "14561                                 24.985642   \n",
       "3955                                  25.018339   \n",
       "16115                                 12.974697   \n",
       "16499                                  0.249089   \n",
       "3467                                  17.990358   \n",
       "5361                                  25.001851   \n",
       "7480                                  24.999019   \n",
       "8620                                  30.003965   \n",
       "2262                                  19.997480   \n",
       "\n",
       "       secondary_cleaner.state.floatbank6_a_level  \n",
       "12319                                 -499.203981  \n",
       "14561                                 -500.253911  \n",
       "3955                                  -500.131270  \n",
       "16115                                 -499.486703  \n",
       "16499                                 -555.660398  \n",
       "3467                                  -499.485199  \n",
       "5361                                  -499.341467  \n",
       "7480                                  -500.266699  \n",
       "8620                                  -499.128846  \n",
       "2262                                  -498.447146  \n",
       "\n",
       "[10 rows x 87 columns]"
      ]
     },
     "execution_count": 5,
     "metadata": {},
     "output_type": "execute_result"
    }
   ],
   "source": [
    "gold_recovery_train.sample(10)"
   ]
  },
  {
   "cell_type": "code",
   "execution_count": 6,
   "metadata": {},
   "outputs": [
    {
     "name": "stdout",
     "output_type": "stream",
     "text": [
      "<class 'pandas.core.frame.DataFrame'>\n",
      "RangeIndex: 5856 entries, 0 to 5855\n",
      "Data columns (total 53 columns):\n",
      "date                                          5856 non-null object\n",
      "primary_cleaner.input.sulfate                 5554 non-null float64\n",
      "primary_cleaner.input.depressant              5572 non-null float64\n",
      "primary_cleaner.input.feed_size               5856 non-null float64\n",
      "primary_cleaner.input.xanthate                5690 non-null float64\n",
      "primary_cleaner.state.floatbank8_a_air        5840 non-null float64\n",
      "primary_cleaner.state.floatbank8_a_level      5840 non-null float64\n",
      "primary_cleaner.state.floatbank8_b_air        5840 non-null float64\n",
      "primary_cleaner.state.floatbank8_b_level      5840 non-null float64\n",
      "primary_cleaner.state.floatbank8_c_air        5840 non-null float64\n",
      "primary_cleaner.state.floatbank8_c_level      5840 non-null float64\n",
      "primary_cleaner.state.floatbank8_d_air        5840 non-null float64\n",
      "primary_cleaner.state.floatbank8_d_level      5840 non-null float64\n",
      "rougher.input.feed_ag                         5840 non-null float64\n",
      "rougher.input.feed_pb                         5840 non-null float64\n",
      "rougher.input.feed_rate                       5816 non-null float64\n",
      "rougher.input.feed_size                       5834 non-null float64\n",
      "rougher.input.feed_sol                        5789 non-null float64\n",
      "rougher.input.feed_au                         5840 non-null float64\n",
      "rougher.input.floatbank10_sulfate             5599 non-null float64\n",
      "rougher.input.floatbank10_xanthate            5733 non-null float64\n",
      "rougher.input.floatbank11_sulfate             5801 non-null float64\n",
      "rougher.input.floatbank11_xanthate            5503 non-null float64\n",
      "rougher.state.floatbank10_a_air               5839 non-null float64\n",
      "rougher.state.floatbank10_a_level             5840 non-null float64\n",
      "rougher.state.floatbank10_b_air               5839 non-null float64\n",
      "rougher.state.floatbank10_b_level             5840 non-null float64\n",
      "rougher.state.floatbank10_c_air               5839 non-null float64\n",
      "rougher.state.floatbank10_c_level             5840 non-null float64\n",
      "rougher.state.floatbank10_d_air               5839 non-null float64\n",
      "rougher.state.floatbank10_d_level             5840 non-null float64\n",
      "rougher.state.floatbank10_e_air               5839 non-null float64\n",
      "rougher.state.floatbank10_e_level             5840 non-null float64\n",
      "rougher.state.floatbank10_f_air               5839 non-null float64\n",
      "rougher.state.floatbank10_f_level             5840 non-null float64\n",
      "secondary_cleaner.state.floatbank2_a_air      5836 non-null float64\n",
      "secondary_cleaner.state.floatbank2_a_level    5840 non-null float64\n",
      "secondary_cleaner.state.floatbank2_b_air      5833 non-null float64\n",
      "secondary_cleaner.state.floatbank2_b_level    5840 non-null float64\n",
      "secondary_cleaner.state.floatbank3_a_air      5822 non-null float64\n",
      "secondary_cleaner.state.floatbank3_a_level    5840 non-null float64\n",
      "secondary_cleaner.state.floatbank3_b_air      5840 non-null float64\n",
      "secondary_cleaner.state.floatbank3_b_level    5840 non-null float64\n",
      "secondary_cleaner.state.floatbank4_a_air      5840 non-null float64\n",
      "secondary_cleaner.state.floatbank4_a_level    5840 non-null float64\n",
      "secondary_cleaner.state.floatbank4_b_air      5840 non-null float64\n",
      "secondary_cleaner.state.floatbank4_b_level    5840 non-null float64\n",
      "secondary_cleaner.state.floatbank5_a_air      5840 non-null float64\n",
      "secondary_cleaner.state.floatbank5_a_level    5840 non-null float64\n",
      "secondary_cleaner.state.floatbank5_b_air      5840 non-null float64\n",
      "secondary_cleaner.state.floatbank5_b_level    5840 non-null float64\n",
      "secondary_cleaner.state.floatbank6_a_air      5840 non-null float64\n",
      "secondary_cleaner.state.floatbank6_a_level    5840 non-null float64\n",
      "dtypes: float64(52), object(1)\n",
      "memory usage: 2.4+ MB\n"
     ]
    }
   ],
   "source": [
    "gold_recovery_test.info()"
   ]
  },
  {
   "cell_type": "code",
   "execution_count": 7,
   "metadata": {},
   "outputs": [
    {
     "data": {
      "text/html": [
       "<div>\n",
       "<style scoped>\n",
       "    .dataframe tbody tr th:only-of-type {\n",
       "        vertical-align: middle;\n",
       "    }\n",
       "\n",
       "    .dataframe tbody tr th {\n",
       "        vertical-align: top;\n",
       "    }\n",
       "\n",
       "    .dataframe thead th {\n",
       "        text-align: right;\n",
       "    }\n",
       "</style>\n",
       "<table border=\"1\" class=\"dataframe\">\n",
       "  <thead>\n",
       "    <tr style=\"text-align: right;\">\n",
       "      <th></th>\n",
       "      <th>date</th>\n",
       "      <th>primary_cleaner.input.sulfate</th>\n",
       "      <th>primary_cleaner.input.depressant</th>\n",
       "      <th>primary_cleaner.input.feed_size</th>\n",
       "      <th>primary_cleaner.input.xanthate</th>\n",
       "      <th>primary_cleaner.state.floatbank8_a_air</th>\n",
       "      <th>primary_cleaner.state.floatbank8_a_level</th>\n",
       "      <th>primary_cleaner.state.floatbank8_b_air</th>\n",
       "      <th>primary_cleaner.state.floatbank8_b_level</th>\n",
       "      <th>primary_cleaner.state.floatbank8_c_air</th>\n",
       "      <th>...</th>\n",
       "      <th>secondary_cleaner.state.floatbank4_a_air</th>\n",
       "      <th>secondary_cleaner.state.floatbank4_a_level</th>\n",
       "      <th>secondary_cleaner.state.floatbank4_b_air</th>\n",
       "      <th>secondary_cleaner.state.floatbank4_b_level</th>\n",
       "      <th>secondary_cleaner.state.floatbank5_a_air</th>\n",
       "      <th>secondary_cleaner.state.floatbank5_a_level</th>\n",
       "      <th>secondary_cleaner.state.floatbank5_b_air</th>\n",
       "      <th>secondary_cleaner.state.floatbank5_b_level</th>\n",
       "      <th>secondary_cleaner.state.floatbank6_a_air</th>\n",
       "      <th>secondary_cleaner.state.floatbank6_a_level</th>\n",
       "    </tr>\n",
       "  </thead>\n",
       "  <tbody>\n",
       "    <tr>\n",
       "      <td>4641</td>\n",
       "      <td>2017-11-11 09:59:59</td>\n",
       "      <td>171.419931</td>\n",
       "      <td>9.966882</td>\n",
       "      <td>7.970000</td>\n",
       "      <td>1.680076</td>\n",
       "      <td>1598.463945</td>\n",
       "      <td>-500.138548</td>\n",
       "      <td>1599.193364</td>\n",
       "      <td>-499.425692</td>\n",
       "      <td>1579.494036</td>\n",
       "      <td>...</td>\n",
       "      <td>16.996017</td>\n",
       "      <td>-500.074909</td>\n",
       "      <td>14.098323</td>\n",
       "      <td>-500.393654</td>\n",
       "      <td>15.042441</td>\n",
       "      <td>-500.475151</td>\n",
       "      <td>10.982650</td>\n",
       "      <td>-500.025399</td>\n",
       "      <td>16.004550</td>\n",
       "      <td>-499.814163</td>\n",
       "    </tr>\n",
       "    <tr>\n",
       "      <td>841</td>\n",
       "      <td>2016-10-06 01:59:59</td>\n",
       "      <td>192.281785</td>\n",
       "      <td>7.003405</td>\n",
       "      <td>7.700000</td>\n",
       "      <td>1.005073</td>\n",
       "      <td>1644.384679</td>\n",
       "      <td>-500.357814</td>\n",
       "      <td>1649.875082</td>\n",
       "      <td>-499.100359</td>\n",
       "      <td>1650.351093</td>\n",
       "      <td>...</td>\n",
       "      <td>14.013337</td>\n",
       "      <td>-499.789831</td>\n",
       "      <td>12.955483</td>\n",
       "      <td>-488.416423</td>\n",
       "      <td>10.453175</td>\n",
       "      <td>-512.560806</td>\n",
       "      <td>8.003336</td>\n",
       "      <td>-498.345657</td>\n",
       "      <td>20.155947</td>\n",
       "      <td>-499.273633</td>\n",
       "    </tr>\n",
       "    <tr>\n",
       "      <td>1379</td>\n",
       "      <td>2016-10-28 11:59:59</td>\n",
       "      <td>132.818148</td>\n",
       "      <td>6.504726</td>\n",
       "      <td>6.340000</td>\n",
       "      <td>0.693290</td>\n",
       "      <td>1654.276123</td>\n",
       "      <td>-498.523184</td>\n",
       "      <td>1704.921795</td>\n",
       "      <td>-500.449726</td>\n",
       "      <td>1701.769608</td>\n",
       "      <td>...</td>\n",
       "      <td>19.949188</td>\n",
       "      <td>-500.055910</td>\n",
       "      <td>17.002670</td>\n",
       "      <td>-499.431224</td>\n",
       "      <td>16.970301</td>\n",
       "      <td>-500.752789</td>\n",
       "      <td>13.973229</td>\n",
       "      <td>-500.620243</td>\n",
       "      <td>24.975510</td>\n",
       "      <td>-499.575043</td>\n",
       "    </tr>\n",
       "    <tr>\n",
       "      <td>1177</td>\n",
       "      <td>2016-10-20 01:59:59</td>\n",
       "      <td>157.256314</td>\n",
       "      <td>8.088636</td>\n",
       "      <td>6.790000</td>\n",
       "      <td>0.994326</td>\n",
       "      <td>1636.897562</td>\n",
       "      <td>-499.392765</td>\n",
       "      <td>1702.400521</td>\n",
       "      <td>-499.899560</td>\n",
       "      <td>1704.695826</td>\n",
       "      <td>...</td>\n",
       "      <td>19.986951</td>\n",
       "      <td>-499.469858</td>\n",
       "      <td>17.010733</td>\n",
       "      <td>-499.934684</td>\n",
       "      <td>19.090255</td>\n",
       "      <td>-499.411965</td>\n",
       "      <td>14.008460</td>\n",
       "      <td>-500.033609</td>\n",
       "      <td>24.965044</td>\n",
       "      <td>-320.085062</td>\n",
       "    </tr>\n",
       "    <tr>\n",
       "      <td>5467</td>\n",
       "      <td>2017-12-15 19:59:59</td>\n",
       "      <td>170.214932</td>\n",
       "      <td>6.465025</td>\n",
       "      <td>7.490000</td>\n",
       "      <td>1.002084</td>\n",
       "      <td>1549.288400</td>\n",
       "      <td>-500.071190</td>\n",
       "      <td>1550.444359</td>\n",
       "      <td>-799.402821</td>\n",
       "      <td>1549.711030</td>\n",
       "      <td>...</td>\n",
       "      <td>20.014300</td>\n",
       "      <td>-500.440153</td>\n",
       "      <td>15.106126</td>\n",
       "      <td>-367.486670</td>\n",
       "      <td>11.000672</td>\n",
       "      <td>-500.232732</td>\n",
       "      <td>7.997219</td>\n",
       "      <td>-500.184110</td>\n",
       "      <td>12.014253</td>\n",
       "      <td>-500.434751</td>\n",
       "    </tr>\n",
       "    <tr>\n",
       "      <td>2262</td>\n",
       "      <td>2016-12-04 06:59:59</td>\n",
       "      <td>223.778301</td>\n",
       "      <td>9.057398</td>\n",
       "      <td>7.350000</td>\n",
       "      <td>1.485189</td>\n",
       "      <td>1498.822693</td>\n",
       "      <td>-499.677856</td>\n",
       "      <td>1500.523474</td>\n",
       "      <td>-500.315370</td>\n",
       "      <td>1503.248618</td>\n",
       "      <td>...</td>\n",
       "      <td>18.013101</td>\n",
       "      <td>-499.455128</td>\n",
       "      <td>15.976763</td>\n",
       "      <td>-499.342415</td>\n",
       "      <td>18.148415</td>\n",
       "      <td>-499.920013</td>\n",
       "      <td>11.985572</td>\n",
       "      <td>-500.209589</td>\n",
       "      <td>21.998880</td>\n",
       "      <td>-500.995543</td>\n",
       "    </tr>\n",
       "    <tr>\n",
       "      <td>1614</td>\n",
       "      <td>2016-11-07 06:59:59</td>\n",
       "      <td>124.003173</td>\n",
       "      <td>8.340915</td>\n",
       "      <td>7.660000</td>\n",
       "      <td>0.911131</td>\n",
       "      <td>1599.877522</td>\n",
       "      <td>-501.005432</td>\n",
       "      <td>1601.890137</td>\n",
       "      <td>-499.511498</td>\n",
       "      <td>1599.450613</td>\n",
       "      <td>...</td>\n",
       "      <td>14.990315</td>\n",
       "      <td>-500.778609</td>\n",
       "      <td>12.940766</td>\n",
       "      <td>-500.529133</td>\n",
       "      <td>17.041113</td>\n",
       "      <td>-500.050993</td>\n",
       "      <td>13.993759</td>\n",
       "      <td>-500.125417</td>\n",
       "      <td>22.018559</td>\n",
       "      <td>-499.870485</td>\n",
       "    </tr>\n",
       "    <tr>\n",
       "      <td>2214</td>\n",
       "      <td>2016-12-02 06:59:59</td>\n",
       "      <td>236.220077</td>\n",
       "      <td>8.454620</td>\n",
       "      <td>7.500000</td>\n",
       "      <td>1.182624</td>\n",
       "      <td>1502.100924</td>\n",
       "      <td>-499.678438</td>\n",
       "      <td>1502.049154</td>\n",
       "      <td>-499.693601</td>\n",
       "      <td>1500.518866</td>\n",
       "      <td>...</td>\n",
       "      <td>17.988424</td>\n",
       "      <td>-498.824774</td>\n",
       "      <td>16.042722</td>\n",
       "      <td>-499.658204</td>\n",
       "      <td>16.574603</td>\n",
       "      <td>-498.126304</td>\n",
       "      <td>12.006606</td>\n",
       "      <td>-499.424393</td>\n",
       "      <td>21.998922</td>\n",
       "      <td>-498.429978</td>\n",
       "    </tr>\n",
       "    <tr>\n",
       "      <td>4970</td>\n",
       "      <td>2017-11-25 02:59:59</td>\n",
       "      <td>225.602545</td>\n",
       "      <td>10.496980</td>\n",
       "      <td>8.039999</td>\n",
       "      <td>2.098911</td>\n",
       "      <td>1601.832619</td>\n",
       "      <td>-499.394669</td>\n",
       "      <td>1598.236584</td>\n",
       "      <td>-501.957446</td>\n",
       "      <td>1599.615038</td>\n",
       "      <td>...</td>\n",
       "      <td>17.016245</td>\n",
       "      <td>-500.158138</td>\n",
       "      <td>15.095608</td>\n",
       "      <td>-500.270925</td>\n",
       "      <td>10.936730</td>\n",
       "      <td>-498.249510</td>\n",
       "      <td>8.964480</td>\n",
       "      <td>-500.201771</td>\n",
       "      <td>16.017255</td>\n",
       "      <td>-499.064282</td>\n",
       "    </tr>\n",
       "    <tr>\n",
       "      <td>2557</td>\n",
       "      <td>2016-12-16 13:59:59</td>\n",
       "      <td>177.926748</td>\n",
       "      <td>12.512900</td>\n",
       "      <td>7.010000</td>\n",
       "      <td>1.101395</td>\n",
       "      <td>1504.150507</td>\n",
       "      <td>-500.283252</td>\n",
       "      <td>1503.267630</td>\n",
       "      <td>-500.500284</td>\n",
       "      <td>1503.144824</td>\n",
       "      <td>...</td>\n",
       "      <td>16.993310</td>\n",
       "      <td>-498.884177</td>\n",
       "      <td>15.009945</td>\n",
       "      <td>-498.780453</td>\n",
       "      <td>16.799675</td>\n",
       "      <td>-500.888572</td>\n",
       "      <td>12.019177</td>\n",
       "      <td>-500.382927</td>\n",
       "      <td>21.019430</td>\n",
       "      <td>-499.151365</td>\n",
       "    </tr>\n",
       "  </tbody>\n",
       "</table>\n",
       "<p>10 rows × 53 columns</p>\n",
       "</div>"
      ],
      "text/plain": [
       "                     date  primary_cleaner.input.sulfate  \\\n",
       "4641  2017-11-11 09:59:59                     171.419931   \n",
       "841   2016-10-06 01:59:59                     192.281785   \n",
       "1379  2016-10-28 11:59:59                     132.818148   \n",
       "1177  2016-10-20 01:59:59                     157.256314   \n",
       "5467  2017-12-15 19:59:59                     170.214932   \n",
       "2262  2016-12-04 06:59:59                     223.778301   \n",
       "1614  2016-11-07 06:59:59                     124.003173   \n",
       "2214  2016-12-02 06:59:59                     236.220077   \n",
       "4970  2017-11-25 02:59:59                     225.602545   \n",
       "2557  2016-12-16 13:59:59                     177.926748   \n",
       "\n",
       "      primary_cleaner.input.depressant  primary_cleaner.input.feed_size  \\\n",
       "4641                          9.966882                         7.970000   \n",
       "841                           7.003405                         7.700000   \n",
       "1379                          6.504726                         6.340000   \n",
       "1177                          8.088636                         6.790000   \n",
       "5467                          6.465025                         7.490000   \n",
       "2262                          9.057398                         7.350000   \n",
       "1614                          8.340915                         7.660000   \n",
       "2214                          8.454620                         7.500000   \n",
       "4970                         10.496980                         8.039999   \n",
       "2557                         12.512900                         7.010000   \n",
       "\n",
       "      primary_cleaner.input.xanthate  primary_cleaner.state.floatbank8_a_air  \\\n",
       "4641                        1.680076                             1598.463945   \n",
       "841                         1.005073                             1644.384679   \n",
       "1379                        0.693290                             1654.276123   \n",
       "1177                        0.994326                             1636.897562   \n",
       "5467                        1.002084                             1549.288400   \n",
       "2262                        1.485189                             1498.822693   \n",
       "1614                        0.911131                             1599.877522   \n",
       "2214                        1.182624                             1502.100924   \n",
       "4970                        2.098911                             1601.832619   \n",
       "2557                        1.101395                             1504.150507   \n",
       "\n",
       "      primary_cleaner.state.floatbank8_a_level  \\\n",
       "4641                               -500.138548   \n",
       "841                                -500.357814   \n",
       "1379                               -498.523184   \n",
       "1177                               -499.392765   \n",
       "5467                               -500.071190   \n",
       "2262                               -499.677856   \n",
       "1614                               -501.005432   \n",
       "2214                               -499.678438   \n",
       "4970                               -499.394669   \n",
       "2557                               -500.283252   \n",
       "\n",
       "      primary_cleaner.state.floatbank8_b_air  \\\n",
       "4641                             1599.193364   \n",
       "841                              1649.875082   \n",
       "1379                             1704.921795   \n",
       "1177                             1702.400521   \n",
       "5467                             1550.444359   \n",
       "2262                             1500.523474   \n",
       "1614                             1601.890137   \n",
       "2214                             1502.049154   \n",
       "4970                             1598.236584   \n",
       "2557                             1503.267630   \n",
       "\n",
       "      primary_cleaner.state.floatbank8_b_level  \\\n",
       "4641                               -499.425692   \n",
       "841                                -499.100359   \n",
       "1379                               -500.449726   \n",
       "1177                               -499.899560   \n",
       "5467                               -799.402821   \n",
       "2262                               -500.315370   \n",
       "1614                               -499.511498   \n",
       "2214                               -499.693601   \n",
       "4970                               -501.957446   \n",
       "2557                               -500.500284   \n",
       "\n",
       "      primary_cleaner.state.floatbank8_c_air  ...  \\\n",
       "4641                             1579.494036  ...   \n",
       "841                              1650.351093  ...   \n",
       "1379                             1701.769608  ...   \n",
       "1177                             1704.695826  ...   \n",
       "5467                             1549.711030  ...   \n",
       "2262                             1503.248618  ...   \n",
       "1614                             1599.450613  ...   \n",
       "2214                             1500.518866  ...   \n",
       "4970                             1599.615038  ...   \n",
       "2557                             1503.144824  ...   \n",
       "\n",
       "      secondary_cleaner.state.floatbank4_a_air  \\\n",
       "4641                                 16.996017   \n",
       "841                                  14.013337   \n",
       "1379                                 19.949188   \n",
       "1177                                 19.986951   \n",
       "5467                                 20.014300   \n",
       "2262                                 18.013101   \n",
       "1614                                 14.990315   \n",
       "2214                                 17.988424   \n",
       "4970                                 17.016245   \n",
       "2557                                 16.993310   \n",
       "\n",
       "      secondary_cleaner.state.floatbank4_a_level  \\\n",
       "4641                                 -500.074909   \n",
       "841                                  -499.789831   \n",
       "1379                                 -500.055910   \n",
       "1177                                 -499.469858   \n",
       "5467                                 -500.440153   \n",
       "2262                                 -499.455128   \n",
       "1614                                 -500.778609   \n",
       "2214                                 -498.824774   \n",
       "4970                                 -500.158138   \n",
       "2557                                 -498.884177   \n",
       "\n",
       "      secondary_cleaner.state.floatbank4_b_air  \\\n",
       "4641                                 14.098323   \n",
       "841                                  12.955483   \n",
       "1379                                 17.002670   \n",
       "1177                                 17.010733   \n",
       "5467                                 15.106126   \n",
       "2262                                 15.976763   \n",
       "1614                                 12.940766   \n",
       "2214                                 16.042722   \n",
       "4970                                 15.095608   \n",
       "2557                                 15.009945   \n",
       "\n",
       "      secondary_cleaner.state.floatbank4_b_level  \\\n",
       "4641                                 -500.393654   \n",
       "841                                  -488.416423   \n",
       "1379                                 -499.431224   \n",
       "1177                                 -499.934684   \n",
       "5467                                 -367.486670   \n",
       "2262                                 -499.342415   \n",
       "1614                                 -500.529133   \n",
       "2214                                 -499.658204   \n",
       "4970                                 -500.270925   \n",
       "2557                                 -498.780453   \n",
       "\n",
       "      secondary_cleaner.state.floatbank5_a_air  \\\n",
       "4641                                 15.042441   \n",
       "841                                  10.453175   \n",
       "1379                                 16.970301   \n",
       "1177                                 19.090255   \n",
       "5467                                 11.000672   \n",
       "2262                                 18.148415   \n",
       "1614                                 17.041113   \n",
       "2214                                 16.574603   \n",
       "4970                                 10.936730   \n",
       "2557                                 16.799675   \n",
       "\n",
       "      secondary_cleaner.state.floatbank5_a_level  \\\n",
       "4641                                 -500.475151   \n",
       "841                                  -512.560806   \n",
       "1379                                 -500.752789   \n",
       "1177                                 -499.411965   \n",
       "5467                                 -500.232732   \n",
       "2262                                 -499.920013   \n",
       "1614                                 -500.050993   \n",
       "2214                                 -498.126304   \n",
       "4970                                 -498.249510   \n",
       "2557                                 -500.888572   \n",
       "\n",
       "      secondary_cleaner.state.floatbank5_b_air  \\\n",
       "4641                                 10.982650   \n",
       "841                                   8.003336   \n",
       "1379                                 13.973229   \n",
       "1177                                 14.008460   \n",
       "5467                                  7.997219   \n",
       "2262                                 11.985572   \n",
       "1614                                 13.993759   \n",
       "2214                                 12.006606   \n",
       "4970                                  8.964480   \n",
       "2557                                 12.019177   \n",
       "\n",
       "      secondary_cleaner.state.floatbank5_b_level  \\\n",
       "4641                                 -500.025399   \n",
       "841                                  -498.345657   \n",
       "1379                                 -500.620243   \n",
       "1177                                 -500.033609   \n",
       "5467                                 -500.184110   \n",
       "2262                                 -500.209589   \n",
       "1614                                 -500.125417   \n",
       "2214                                 -499.424393   \n",
       "4970                                 -500.201771   \n",
       "2557                                 -500.382927   \n",
       "\n",
       "      secondary_cleaner.state.floatbank6_a_air  \\\n",
       "4641                                 16.004550   \n",
       "841                                  20.155947   \n",
       "1379                                 24.975510   \n",
       "1177                                 24.965044   \n",
       "5467                                 12.014253   \n",
       "2262                                 21.998880   \n",
       "1614                                 22.018559   \n",
       "2214                                 21.998922   \n",
       "4970                                 16.017255   \n",
       "2557                                 21.019430   \n",
       "\n",
       "      secondary_cleaner.state.floatbank6_a_level  \n",
       "4641                                 -499.814163  \n",
       "841                                  -499.273633  \n",
       "1379                                 -499.575043  \n",
       "1177                                 -320.085062  \n",
       "5467                                 -500.434751  \n",
       "2262                                 -500.995543  \n",
       "1614                                 -499.870485  \n",
       "2214                                 -498.429978  \n",
       "4970                                 -499.064282  \n",
       "2557                                 -499.151365  \n",
       "\n",
       "[10 rows x 53 columns]"
      ]
     },
     "execution_count": 7,
     "metadata": {},
     "output_type": "execute_result"
    }
   ],
   "source": [
    "gold_recovery_test.sample(10)"
   ]
  },
  {
   "cell_type": "code",
   "execution_count": 8,
   "metadata": {},
   "outputs": [
    {
     "name": "stdout",
     "output_type": "stream",
     "text": [
      "<class 'pandas.core.frame.DataFrame'>\n",
      "RangeIndex: 22716 entries, 0 to 22715\n",
      "Data columns (total 87 columns):\n",
      "date                                                  22716 non-null object\n",
      "final.output.concentrate_ag                           22627 non-null float64\n",
      "final.output.concentrate_pb                           22629 non-null float64\n",
      "final.output.concentrate_sol                          22331 non-null float64\n",
      "final.output.concentrate_au                           22630 non-null float64\n",
      "final.output.recovery                                 20753 non-null float64\n",
      "final.output.tail_ag                                  22633 non-null float64\n",
      "final.output.tail_pb                                  22516 non-null float64\n",
      "final.output.tail_sol                                 22445 non-null float64\n",
      "final.output.tail_au                                  22635 non-null float64\n",
      "primary_cleaner.input.sulfate                         21107 non-null float64\n",
      "primary_cleaner.input.depressant                      21170 non-null float64\n",
      "primary_cleaner.input.feed_size                       22716 non-null float64\n",
      "primary_cleaner.input.xanthate                        21565 non-null float64\n",
      "primary_cleaner.output.concentrate_ag                 22618 non-null float64\n",
      "primary_cleaner.output.concentrate_pb                 22268 non-null float64\n",
      "primary_cleaner.output.concentrate_sol                21918 non-null float64\n",
      "primary_cleaner.output.concentrate_au                 22618 non-null float64\n",
      "primary_cleaner.output.tail_ag                        22614 non-null float64\n",
      "primary_cleaner.output.tail_pb                        22594 non-null float64\n",
      "primary_cleaner.output.tail_sol                       22365 non-null float64\n",
      "primary_cleaner.output.tail_au                        22617 non-null float64\n",
      "primary_cleaner.state.floatbank8_a_air                22660 non-null float64\n",
      "primary_cleaner.state.floatbank8_a_level              22667 non-null float64\n",
      "primary_cleaner.state.floatbank8_b_air                22660 non-null float64\n",
      "primary_cleaner.state.floatbank8_b_level              22673 non-null float64\n",
      "primary_cleaner.state.floatbank8_c_air                22662 non-null float64\n",
      "primary_cleaner.state.floatbank8_c_level              22673 non-null float64\n",
      "primary_cleaner.state.floatbank8_d_air                22661 non-null float64\n",
      "primary_cleaner.state.floatbank8_d_level              22673 non-null float64\n",
      "rougher.calculation.sulfate_to_au_concentrate         22672 non-null float64\n",
      "rougher.calculation.floatbank10_sulfate_to_au_feed    22672 non-null float64\n",
      "rougher.calculation.floatbank11_sulfate_to_au_feed    22672 non-null float64\n",
      "rougher.calculation.au_pb_ratio                       21089 non-null float64\n",
      "rougher.input.feed_ag                                 22618 non-null float64\n",
      "rougher.input.feed_pb                                 22472 non-null float64\n",
      "rougher.input.feed_rate                               22163 non-null float64\n",
      "rougher.input.feed_size                               22277 non-null float64\n",
      "rougher.input.feed_sol                                22357 non-null float64\n",
      "rougher.input.feed_au                                 22617 non-null float64\n",
      "rougher.input.floatbank10_sulfate                     21415 non-null float64\n",
      "rougher.input.floatbank10_xanthate                    22247 non-null float64\n",
      "rougher.input.floatbank11_sulfate                     22038 non-null float64\n",
      "rougher.input.floatbank11_xanthate                    20459 non-null float64\n",
      "rougher.output.concentrate_ag                         22618 non-null float64\n",
      "rougher.output.concentrate_pb                         22618 non-null float64\n",
      "rougher.output.concentrate_sol                        22526 non-null float64\n",
      "rougher.output.concentrate_au                         22618 non-null float64\n",
      "rougher.output.recovery                               19597 non-null float64\n",
      "rougher.output.tail_ag                                19979 non-null float64\n",
      "rougher.output.tail_pb                                22618 non-null float64\n",
      "rougher.output.tail_sol                               19980 non-null float64\n",
      "rougher.output.tail_au                                19980 non-null float64\n",
      "rougher.state.floatbank10_a_air                       22646 non-null float64\n",
      "rougher.state.floatbank10_a_level                     22647 non-null float64\n",
      "rougher.state.floatbank10_b_air                       22646 non-null float64\n",
      "rougher.state.floatbank10_b_level                     22647 non-null float64\n",
      "rougher.state.floatbank10_c_air                       22646 non-null float64\n",
      "rougher.state.floatbank10_c_level                     22654 non-null float64\n",
      "rougher.state.floatbank10_d_air                       22641 non-null float64\n",
      "rougher.state.floatbank10_d_level                     22649 non-null float64\n",
      "rougher.state.floatbank10_e_air                       22096 non-null float64\n",
      "rougher.state.floatbank10_e_level                     22649 non-null float64\n",
      "rougher.state.floatbank10_f_air                       22641 non-null float64\n",
      "rougher.state.floatbank10_f_level                     22642 non-null float64\n",
      "secondary_cleaner.output.tail_ag                      22616 non-null float64\n",
      "secondary_cleaner.output.tail_pb                      22600 non-null float64\n",
      "secondary_cleaner.output.tail_sol                     20501 non-null float64\n",
      "secondary_cleaner.output.tail_au                      22618 non-null float64\n",
      "secondary_cleaner.state.floatbank2_a_air              22333 non-null float64\n",
      "secondary_cleaner.state.floatbank2_a_level            22591 non-null float64\n",
      "secondary_cleaner.state.floatbank2_b_air              22538 non-null float64\n",
      "secondary_cleaner.state.floatbank2_b_level            22588 non-null float64\n",
      "secondary_cleaner.state.floatbank3_a_air              22585 non-null float64\n",
      "secondary_cleaner.state.floatbank3_a_level            22587 non-null float64\n",
      "secondary_cleaner.state.floatbank3_b_air              22592 non-null float64\n",
      "secondary_cleaner.state.floatbank3_b_level            22590 non-null float64\n",
      "secondary_cleaner.state.floatbank4_a_air              22571 non-null float64\n",
      "secondary_cleaner.state.floatbank4_a_level            22587 non-null float64\n",
      "secondary_cleaner.state.floatbank4_b_air              22608 non-null float64\n",
      "secondary_cleaner.state.floatbank4_b_level            22607 non-null float64\n",
      "secondary_cleaner.state.floatbank5_a_air              22615 non-null float64\n",
      "secondary_cleaner.state.floatbank5_a_level            22615 non-null float64\n",
      "secondary_cleaner.state.floatbank5_b_air              22615 non-null float64\n",
      "secondary_cleaner.state.floatbank5_b_level            22616 non-null float64\n",
      "secondary_cleaner.state.floatbank6_a_air              22597 non-null float64\n",
      "secondary_cleaner.state.floatbank6_a_level            22615 non-null float64\n",
      "dtypes: float64(86), object(1)\n",
      "memory usage: 15.1+ MB\n"
     ]
    }
   ],
   "source": [
    "gold_recovery_full.info()"
   ]
  },
  {
   "cell_type": "code",
   "execution_count": 9,
   "metadata": {},
   "outputs": [
    {
     "data": {
      "text/html": [
       "<div>\n",
       "<style scoped>\n",
       "    .dataframe tbody tr th:only-of-type {\n",
       "        vertical-align: middle;\n",
       "    }\n",
       "\n",
       "    .dataframe tbody tr th {\n",
       "        vertical-align: top;\n",
       "    }\n",
       "\n",
       "    .dataframe thead th {\n",
       "        text-align: right;\n",
       "    }\n",
       "</style>\n",
       "<table border=\"1\" class=\"dataframe\">\n",
       "  <thead>\n",
       "    <tr style=\"text-align: right;\">\n",
       "      <th></th>\n",
       "      <th>date</th>\n",
       "      <th>final.output.concentrate_ag</th>\n",
       "      <th>final.output.concentrate_pb</th>\n",
       "      <th>final.output.concentrate_sol</th>\n",
       "      <th>final.output.concentrate_au</th>\n",
       "      <th>final.output.recovery</th>\n",
       "      <th>final.output.tail_ag</th>\n",
       "      <th>final.output.tail_pb</th>\n",
       "      <th>final.output.tail_sol</th>\n",
       "      <th>final.output.tail_au</th>\n",
       "      <th>...</th>\n",
       "      <th>secondary_cleaner.state.floatbank4_a_air</th>\n",
       "      <th>secondary_cleaner.state.floatbank4_a_level</th>\n",
       "      <th>secondary_cleaner.state.floatbank4_b_air</th>\n",
       "      <th>secondary_cleaner.state.floatbank4_b_level</th>\n",
       "      <th>secondary_cleaner.state.floatbank5_a_air</th>\n",
       "      <th>secondary_cleaner.state.floatbank5_a_level</th>\n",
       "      <th>secondary_cleaner.state.floatbank5_b_air</th>\n",
       "      <th>secondary_cleaner.state.floatbank5_b_level</th>\n",
       "      <th>secondary_cleaner.state.floatbank6_a_air</th>\n",
       "      <th>secondary_cleaner.state.floatbank6_a_level</th>\n",
       "    </tr>\n",
       "  </thead>\n",
       "  <tbody>\n",
       "    <tr>\n",
       "      <td>17829</td>\n",
       "      <td>2018-01-26 20:59:59</td>\n",
       "      <td>0.000000</td>\n",
       "      <td>0.000000</td>\n",
       "      <td>0.000000</td>\n",
       "      <td>0.000000</td>\n",
       "      <td>NaN</td>\n",
       "      <td>0.000000</td>\n",
       "      <td>0.000000</td>\n",
       "      <td>0.000000</td>\n",
       "      <td>0.000000</td>\n",
       "      <td>...</td>\n",
       "      <td>19.949490</td>\n",
       "      <td>-501.025374</td>\n",
       "      <td>14.993998</td>\n",
       "      <td>-500.093992</td>\n",
       "      <td>11.075805</td>\n",
       "      <td>-500.406133</td>\n",
       "      <td>9.024016</td>\n",
       "      <td>-500.027651</td>\n",
       "      <td>11.019471</td>\n",
       "      <td>-500.094101</td>\n",
       "    </tr>\n",
       "    <tr>\n",
       "      <td>13965</td>\n",
       "      <td>2017-08-18 20:59:59</td>\n",
       "      <td>4.021439</td>\n",
       "      <td>9.756109</td>\n",
       "      <td>8.133612</td>\n",
       "      <td>48.877255</td>\n",
       "      <td>69.919059</td>\n",
       "      <td>7.286177</td>\n",
       "      <td>2.836170</td>\n",
       "      <td>11.887242</td>\n",
       "      <td>2.351677</td>\n",
       "      <td>...</td>\n",
       "      <td>14.498046</td>\n",
       "      <td>-501.386412</td>\n",
       "      <td>10.943898</td>\n",
       "      <td>-399.950317</td>\n",
       "      <td>13.991351</td>\n",
       "      <td>-500.478365</td>\n",
       "      <td>11.020540</td>\n",
       "      <td>-500.048232</td>\n",
       "      <td>14.987294</td>\n",
       "      <td>-499.966932</td>\n",
       "    </tr>\n",
       "    <tr>\n",
       "      <td>15455</td>\n",
       "      <td>2017-10-19 22:59:59</td>\n",
       "      <td>6.414553</td>\n",
       "      <td>12.405646</td>\n",
       "      <td>9.635903</td>\n",
       "      <td>41.774681</td>\n",
       "      <td>73.737481</td>\n",
       "      <td>10.256645</td>\n",
       "      <td>5.060154</td>\n",
       "      <td>10.836618</td>\n",
       "      <td>4.060662</td>\n",
       "      <td>...</td>\n",
       "      <td>20.973730</td>\n",
       "      <td>-501.306121</td>\n",
       "      <td>19.015863</td>\n",
       "      <td>-400.107274</td>\n",
       "      <td>14.960624</td>\n",
       "      <td>-497.845388</td>\n",
       "      <td>10.953745</td>\n",
       "      <td>-499.923588</td>\n",
       "      <td>16.010741</td>\n",
       "      <td>-499.745657</td>\n",
       "    </tr>\n",
       "    <tr>\n",
       "      <td>3162</td>\n",
       "      <td>2016-05-25 17:59:59</td>\n",
       "      <td>4.626958</td>\n",
       "      <td>9.408974</td>\n",
       "      <td>9.493007</td>\n",
       "      <td>45.259928</td>\n",
       "      <td>64.848123</td>\n",
       "      <td>8.484714</td>\n",
       "      <td>2.031194</td>\n",
       "      <td>12.622647</td>\n",
       "      <td>2.861535</td>\n",
       "      <td>...</td>\n",
       "      <td>10.044600</td>\n",
       "      <td>-501.129537</td>\n",
       "      <td>7.928599</td>\n",
       "      <td>-500.514467</td>\n",
       "      <td>7.986678</td>\n",
       "      <td>-495.986861</td>\n",
       "      <td>5.969954</td>\n",
       "      <td>-499.388812</td>\n",
       "      <td>18.003524</td>\n",
       "      <td>-498.879280</td>\n",
       "    </tr>\n",
       "    <tr>\n",
       "      <td>7515</td>\n",
       "      <td>2016-11-23 02:59:59</td>\n",
       "      <td>6.124491</td>\n",
       "      <td>8.594139</td>\n",
       "      <td>14.284685</td>\n",
       "      <td>45.449518</td>\n",
       "      <td>75.969368</td>\n",
       "      <td>9.787152</td>\n",
       "      <td>2.318453</td>\n",
       "      <td>8.914914</td>\n",
       "      <td>2.745523</td>\n",
       "      <td>...</td>\n",
       "      <td>18.004914</td>\n",
       "      <td>-498.456145</td>\n",
       "      <td>15.967844</td>\n",
       "      <td>-492.303217</td>\n",
       "      <td>16.215464</td>\n",
       "      <td>-497.466778</td>\n",
       "      <td>12.030610</td>\n",
       "      <td>-499.680109</td>\n",
       "      <td>22.011132</td>\n",
       "      <td>-497.071688</td>\n",
       "    </tr>\n",
       "    <tr>\n",
       "      <td>6914</td>\n",
       "      <td>2016-10-29 01:59:59</td>\n",
       "      <td>4.260032</td>\n",
       "      <td>11.000201</td>\n",
       "      <td>13.101991</td>\n",
       "      <td>46.692386</td>\n",
       "      <td>68.058196</td>\n",
       "      <td>8.356200</td>\n",
       "      <td>2.911452</td>\n",
       "      <td>10.344911</td>\n",
       "      <td>3.428660</td>\n",
       "      <td>...</td>\n",
       "      <td>20.005142</td>\n",
       "      <td>-499.475700</td>\n",
       "      <td>17.085654</td>\n",
       "      <td>-500.362683</td>\n",
       "      <td>17.044738</td>\n",
       "      <td>-499.784850</td>\n",
       "      <td>14.002692</td>\n",
       "      <td>-499.925521</td>\n",
       "      <td>25.008867</td>\n",
       "      <td>-500.274019</td>\n",
       "    </tr>\n",
       "    <tr>\n",
       "      <td>20186</td>\n",
       "      <td>2018-05-05 01:59:59</td>\n",
       "      <td>3.688960</td>\n",
       "      <td>10.370795</td>\n",
       "      <td>8.102460</td>\n",
       "      <td>47.860485</td>\n",
       "      <td>64.465578</td>\n",
       "      <td>9.183818</td>\n",
       "      <td>2.938531</td>\n",
       "      <td>9.288322</td>\n",
       "      <td>2.663825</td>\n",
       "      <td>...</td>\n",
       "      <td>30.013657</td>\n",
       "      <td>-498.419302</td>\n",
       "      <td>20.061112</td>\n",
       "      <td>-497.566396</td>\n",
       "      <td>24.988277</td>\n",
       "      <td>-499.873212</td>\n",
       "      <td>23.009956</td>\n",
       "      <td>-500.151398</td>\n",
       "      <td>24.985981</td>\n",
       "      <td>-499.789679</td>\n",
       "    </tr>\n",
       "    <tr>\n",
       "      <td>13633</td>\n",
       "      <td>2017-08-05 00:59:59</td>\n",
       "      <td>4.355755</td>\n",
       "      <td>12.887984</td>\n",
       "      <td>5.588601</td>\n",
       "      <td>43.802880</td>\n",
       "      <td>27.912659</td>\n",
       "      <td>7.451337</td>\n",
       "      <td>5.508474</td>\n",
       "      <td>12.212043</td>\n",
       "      <td>5.919295</td>\n",
       "      <td>...</td>\n",
       "      <td>12.952985</td>\n",
       "      <td>-499.826317</td>\n",
       "      <td>9.997069</td>\n",
       "      <td>-399.603429</td>\n",
       "      <td>11.000975</td>\n",
       "      <td>-499.692727</td>\n",
       "      <td>9.022250</td>\n",
       "      <td>-499.975682</td>\n",
       "      <td>12.006083</td>\n",
       "      <td>-499.737927</td>\n",
       "    </tr>\n",
       "    <tr>\n",
       "      <td>6402</td>\n",
       "      <td>2016-10-07 17:59:59</td>\n",
       "      <td>5.650330</td>\n",
       "      <td>8.529979</td>\n",
       "      <td>11.154662</td>\n",
       "      <td>46.320401</td>\n",
       "      <td>69.497694</td>\n",
       "      <td>10.339104</td>\n",
       "      <td>2.482936</td>\n",
       "      <td>11.466102</td>\n",
       "      <td>3.534488</td>\n",
       "      <td>...</td>\n",
       "      <td>12.020364</td>\n",
       "      <td>-499.795220</td>\n",
       "      <td>12.037415</td>\n",
       "      <td>-500.722219</td>\n",
       "      <td>9.330848</td>\n",
       "      <td>-500.700216</td>\n",
       "      <td>7.017679</td>\n",
       "      <td>-499.704252</td>\n",
       "      <td>17.974506</td>\n",
       "      <td>-500.368264</td>\n",
       "    </tr>\n",
       "    <tr>\n",
       "      <td>6632</td>\n",
       "      <td>2016-10-17 07:59:59</td>\n",
       "      <td>7.338532</td>\n",
       "      <td>9.263016</td>\n",
       "      <td>12.619038</td>\n",
       "      <td>43.253396</td>\n",
       "      <td>69.172046</td>\n",
       "      <td>12.500542</td>\n",
       "      <td>3.279956</td>\n",
       "      <td>10.610922</td>\n",
       "      <td>4.479953</td>\n",
       "      <td>...</td>\n",
       "      <td>19.959097</td>\n",
       "      <td>-500.756552</td>\n",
       "      <td>14.971445</td>\n",
       "      <td>-500.241468</td>\n",
       "      <td>8.735956</td>\n",
       "      <td>-502.710102</td>\n",
       "      <td>13.980908</td>\n",
       "      <td>-501.527015</td>\n",
       "      <td>16.994387</td>\n",
       "      <td>-499.941004</td>\n",
       "    </tr>\n",
       "  </tbody>\n",
       "</table>\n",
       "<p>10 rows × 87 columns</p>\n",
       "</div>"
      ],
      "text/plain": [
       "                      date  final.output.concentrate_ag  \\\n",
       "17829  2018-01-26 20:59:59                     0.000000   \n",
       "13965  2017-08-18 20:59:59                     4.021439   \n",
       "15455  2017-10-19 22:59:59                     6.414553   \n",
       "3162   2016-05-25 17:59:59                     4.626958   \n",
       "7515   2016-11-23 02:59:59                     6.124491   \n",
       "6914   2016-10-29 01:59:59                     4.260032   \n",
       "20186  2018-05-05 01:59:59                     3.688960   \n",
       "13633  2017-08-05 00:59:59                     4.355755   \n",
       "6402   2016-10-07 17:59:59                     5.650330   \n",
       "6632   2016-10-17 07:59:59                     7.338532   \n",
       "\n",
       "       final.output.concentrate_pb  final.output.concentrate_sol  \\\n",
       "17829                     0.000000                      0.000000   \n",
       "13965                     9.756109                      8.133612   \n",
       "15455                    12.405646                      9.635903   \n",
       "3162                      9.408974                      9.493007   \n",
       "7515                      8.594139                     14.284685   \n",
       "6914                     11.000201                     13.101991   \n",
       "20186                    10.370795                      8.102460   \n",
       "13633                    12.887984                      5.588601   \n",
       "6402                      8.529979                     11.154662   \n",
       "6632                      9.263016                     12.619038   \n",
       "\n",
       "       final.output.concentrate_au  final.output.recovery  \\\n",
       "17829                     0.000000                    NaN   \n",
       "13965                    48.877255              69.919059   \n",
       "15455                    41.774681              73.737481   \n",
       "3162                     45.259928              64.848123   \n",
       "7515                     45.449518              75.969368   \n",
       "6914                     46.692386              68.058196   \n",
       "20186                    47.860485              64.465578   \n",
       "13633                    43.802880              27.912659   \n",
       "6402                     46.320401              69.497694   \n",
       "6632                     43.253396              69.172046   \n",
       "\n",
       "       final.output.tail_ag  final.output.tail_pb  final.output.tail_sol  \\\n",
       "17829              0.000000              0.000000               0.000000   \n",
       "13965              7.286177              2.836170              11.887242   \n",
       "15455             10.256645              5.060154              10.836618   \n",
       "3162               8.484714              2.031194              12.622647   \n",
       "7515               9.787152              2.318453               8.914914   \n",
       "6914               8.356200              2.911452              10.344911   \n",
       "20186              9.183818              2.938531               9.288322   \n",
       "13633              7.451337              5.508474              12.212043   \n",
       "6402              10.339104              2.482936              11.466102   \n",
       "6632              12.500542              3.279956              10.610922   \n",
       "\n",
       "       final.output.tail_au  ...  secondary_cleaner.state.floatbank4_a_air  \\\n",
       "17829              0.000000  ...                                 19.949490   \n",
       "13965              2.351677  ...                                 14.498046   \n",
       "15455              4.060662  ...                                 20.973730   \n",
       "3162               2.861535  ...                                 10.044600   \n",
       "7515               2.745523  ...                                 18.004914   \n",
       "6914               3.428660  ...                                 20.005142   \n",
       "20186              2.663825  ...                                 30.013657   \n",
       "13633              5.919295  ...                                 12.952985   \n",
       "6402               3.534488  ...                                 12.020364   \n",
       "6632               4.479953  ...                                 19.959097   \n",
       "\n",
       "       secondary_cleaner.state.floatbank4_a_level  \\\n",
       "17829                                 -501.025374   \n",
       "13965                                 -501.386412   \n",
       "15455                                 -501.306121   \n",
       "3162                                  -501.129537   \n",
       "7515                                  -498.456145   \n",
       "6914                                  -499.475700   \n",
       "20186                                 -498.419302   \n",
       "13633                                 -499.826317   \n",
       "6402                                  -499.795220   \n",
       "6632                                  -500.756552   \n",
       "\n",
       "       secondary_cleaner.state.floatbank4_b_air  \\\n",
       "17829                                 14.993998   \n",
       "13965                                 10.943898   \n",
       "15455                                 19.015863   \n",
       "3162                                   7.928599   \n",
       "7515                                  15.967844   \n",
       "6914                                  17.085654   \n",
       "20186                                 20.061112   \n",
       "13633                                  9.997069   \n",
       "6402                                  12.037415   \n",
       "6632                                  14.971445   \n",
       "\n",
       "       secondary_cleaner.state.floatbank4_b_level  \\\n",
       "17829                                 -500.093992   \n",
       "13965                                 -399.950317   \n",
       "15455                                 -400.107274   \n",
       "3162                                  -500.514467   \n",
       "7515                                  -492.303217   \n",
       "6914                                  -500.362683   \n",
       "20186                                 -497.566396   \n",
       "13633                                 -399.603429   \n",
       "6402                                  -500.722219   \n",
       "6632                                  -500.241468   \n",
       "\n",
       "       secondary_cleaner.state.floatbank5_a_air  \\\n",
       "17829                                 11.075805   \n",
       "13965                                 13.991351   \n",
       "15455                                 14.960624   \n",
       "3162                                   7.986678   \n",
       "7515                                  16.215464   \n",
       "6914                                  17.044738   \n",
       "20186                                 24.988277   \n",
       "13633                                 11.000975   \n",
       "6402                                   9.330848   \n",
       "6632                                   8.735956   \n",
       "\n",
       "       secondary_cleaner.state.floatbank5_a_level  \\\n",
       "17829                                 -500.406133   \n",
       "13965                                 -500.478365   \n",
       "15455                                 -497.845388   \n",
       "3162                                  -495.986861   \n",
       "7515                                  -497.466778   \n",
       "6914                                  -499.784850   \n",
       "20186                                 -499.873212   \n",
       "13633                                 -499.692727   \n",
       "6402                                  -500.700216   \n",
       "6632                                  -502.710102   \n",
       "\n",
       "       secondary_cleaner.state.floatbank5_b_air  \\\n",
       "17829                                  9.024016   \n",
       "13965                                 11.020540   \n",
       "15455                                 10.953745   \n",
       "3162                                   5.969954   \n",
       "7515                                  12.030610   \n",
       "6914                                  14.002692   \n",
       "20186                                 23.009956   \n",
       "13633                                  9.022250   \n",
       "6402                                   7.017679   \n",
       "6632                                  13.980908   \n",
       "\n",
       "       secondary_cleaner.state.floatbank5_b_level  \\\n",
       "17829                                 -500.027651   \n",
       "13965                                 -500.048232   \n",
       "15455                                 -499.923588   \n",
       "3162                                  -499.388812   \n",
       "7515                                  -499.680109   \n",
       "6914                                  -499.925521   \n",
       "20186                                 -500.151398   \n",
       "13633                                 -499.975682   \n",
       "6402                                  -499.704252   \n",
       "6632                                  -501.527015   \n",
       "\n",
       "       secondary_cleaner.state.floatbank6_a_air  \\\n",
       "17829                                 11.019471   \n",
       "13965                                 14.987294   \n",
       "15455                                 16.010741   \n",
       "3162                                  18.003524   \n",
       "7515                                  22.011132   \n",
       "6914                                  25.008867   \n",
       "20186                                 24.985981   \n",
       "13633                                 12.006083   \n",
       "6402                                  17.974506   \n",
       "6632                                  16.994387   \n",
       "\n",
       "       secondary_cleaner.state.floatbank6_a_level  \n",
       "17829                                 -500.094101  \n",
       "13965                                 -499.966932  \n",
       "15455                                 -499.745657  \n",
       "3162                                  -498.879280  \n",
       "7515                                  -497.071688  \n",
       "6914                                  -500.274019  \n",
       "20186                                 -499.789679  \n",
       "13633                                 -499.737927  \n",
       "6402                                  -500.368264  \n",
       "6632                                  -499.941004  \n",
       "\n",
       "[10 rows x 87 columns]"
      ]
     },
     "execution_count": 9,
     "metadata": {},
     "output_type": "execute_result"
    }
   ],
   "source": [
    "gold_recovery_full.sample(10)"
   ]
  },
  {
   "cell_type": "markdown",
   "metadata": {},
   "source": [
    "### Check that recovery is calculated correctly"
   ]
  },
  {
   "cell_type": "code",
   "execution_count": 10,
   "metadata": {},
   "outputs": [],
   "source": [
    "# Calculate recovery\n",
    "# Avoid of dividing by 0\n",
    "def recovery1(row):\n",
    "    C = row['rougher.output.concentrate_au'] / row['final.output.concentrate_au'] \n",
    "    F = row['rougher.input.feed_au'] / row['rougher.output.concentrate_au'] \n",
    "    T = row['rougher.output.tail_au'] / row['secondary_cleaner.output.tail_au'] \n",
    "    \n",
    "    recovery = (C *(F - T) / F *(C - T)  ) * 100\n",
    "    \n",
    "    return recovery"
   ]
  },
  {
   "cell_type": "code",
   "execution_count": 11,
   "metadata": {},
   "outputs": [],
   "source": [
    "# Calculate recovery\n",
    "# Avoid of dividing by 0\n",
    "def recovery(C,F,T): \n",
    "    recovery = (C *(F - T) / (F *(C - T) or not  F *(C - T)) ) * 100\n",
    "       \n",
    "    return recovery"
   ]
  },
  {
   "cell_type": "code",
   "execution_count": 12,
   "metadata": {},
   "outputs": [
    {
     "data": {
      "text/plain": [
       "2250"
      ]
     },
     "execution_count": 12,
     "metadata": {},
     "output_type": "execute_result"
    }
   ],
   "source": [
    "# Execute  recovery(rougher.output.recovery) calculation for each row\n",
    "C =  'rougher.output.concentrate_au'\n",
    "F = 'rougher.input.feed_au'\n",
    "T = 'rougher.output.tail_au'\n",
    "rougher_output_recovery_calc = gold_recovery_train.apply(lambda row:recovery(row[C],row[F],row[T]) , axis=1)\n",
    "rougher_output_recovery_calc.isnull().sum()"
   ]
  },
  {
   "cell_type": "code",
   "execution_count": 13,
   "metadata": {},
   "outputs": [
    {
     "name": "stdout",
     "output_type": "stream",
     "text": [
      "Number of rows with missing recovery\n"
     ]
    },
    {
     "data": {
      "text/plain": [
       "rougher.output.recovery    2573\n",
       "manual_calculation         2250\n",
       "dtype: int64"
      ]
     },
     "execution_count": 13,
     "metadata": {},
     "output_type": "execute_result"
    }
   ],
   "source": [
    "# Create dataFrame with recovery and calculated recovery\n",
    "recovery_df = pd.DataFrame({'rougher.output.recovery':gold_recovery_train['rougher.output.recovery'],\n",
    "                            'manual_calculation':rougher_output_recovery_calc})\n",
    "print('Number of rows with missing recovery')\n",
    "recovery_df.isnull().sum()"
   ]
  },
  {
   "cell_type": "code",
   "execution_count": 14,
   "metadata": {},
   "outputs": [],
   "source": [
    "#Drop rows with recovery= null in order to calculate MAE\n",
    "recovery_df.dropna(inplace=True)"
   ]
  },
  {
   "cell_type": "code",
   "execution_count": 15,
   "metadata": {
    "scrolled": false
   },
   "outputs": [
    {
     "name": "stdout",
     "output_type": "stream",
     "text": [
      "MAE= 9.444891926100695e-15\n"
     ]
    }
   ],
   "source": [
    "mae = mean_absolute_error(recovery_df['rougher.output.recovery'], recovery_df['manual_calculation'])\n",
    "print('MAE=',mae)"
   ]
  },
  {
   "cell_type": "code",
   "execution_count": 16,
   "metadata": {},
   "outputs": [
    {
     "name": "stdout",
     "output_type": "stream",
     "text": [
      "There are 320 observations that have the same recovery calculation and it equal to 0\n"
     ]
    }
   ],
   "source": [
    "#number of observations that have the same recovery calculation\n",
    "equal_recovery = recovery_df[(recovery_df['rougher.output.recovery'] == recovery_df['manual_calculation']*(-1))]['manual_calculation'].count()\n",
    "print('There are {} observations that have the same recovery calculation and it equal to 0'.format(equal_recovery))\n",
    "             "
   ]
  },
  {
   "cell_type": "markdown",
   "metadata": {},
   "source": [
    "reasons for MAE:\n",
    "- We have a very small MAE.It can be happen because of rounding numbers in the calculation\n"
   ]
  },
  {
   "cell_type": "markdown",
   "metadata": {},
   "source": [
    "###  Analyze the features not available in the test set"
   ]
  },
  {
   "cell_type": "code",
   "execution_count": 17,
   "metadata": {},
   "outputs": [
    {
     "name": "stdout",
     "output_type": "stream",
     "text": [
      "There are 34 featuers that does'nt exist in the test data  \n",
      "\n",
      "['final.output.concentrate_ag' 'final.output.concentrate_au'\n",
      " 'final.output.concentrate_pb' 'final.output.concentrate_sol'\n",
      " 'final.output.recovery' 'final.output.tail_ag' 'final.output.tail_au'\n",
      " 'final.output.tail_pb' 'final.output.tail_sol'\n",
      " 'primary_cleaner.output.concentrate_ag'\n",
      " 'primary_cleaner.output.concentrate_au'\n",
      " 'primary_cleaner.output.concentrate_pb'\n",
      " 'primary_cleaner.output.concentrate_sol' 'primary_cleaner.output.tail_ag'\n",
      " 'primary_cleaner.output.tail_au' 'primary_cleaner.output.tail_pb'\n",
      " 'primary_cleaner.output.tail_sol' 'rougher.calculation.au_pb_ratio'\n",
      " 'rougher.calculation.floatbank10_sulfate_to_au_feed'\n",
      " 'rougher.calculation.floatbank11_sulfate_to_au_feed'\n",
      " 'rougher.calculation.sulfate_to_au_concentrate'\n",
      " 'rougher.output.concentrate_ag' 'rougher.output.concentrate_au'\n",
      " 'rougher.output.concentrate_pb' 'rougher.output.concentrate_sol'\n",
      " 'rougher.output.recovery' 'rougher.output.tail_ag'\n",
      " 'rougher.output.tail_au' 'rougher.output.tail_pb'\n",
      " 'rougher.output.tail_sol' 'secondary_cleaner.output.tail_ag'\n",
      " 'secondary_cleaner.output.tail_au' 'secondary_cleaner.output.tail_pb'\n",
      " 'secondary_cleaner.output.tail_sol']\n"
     ]
    }
   ],
   "source": [
    "#get the features that does'nt exist in the test data\n",
    "features_diff = np.setdiff1d(gold_recovery_train.columns, gold_recovery_test.columns)\n",
    "print('There are {} featuers that does\\'nt exist in the test data '.format(features_diff.size),'\\n')\n",
    "print(features_diff)"
   ]
  },
  {
   "cell_type": "markdown",
   "metadata": {},
   "source": [
    "There are 34 featuers that does'nt exist in the test data.   \n",
    "these parameters are:\n",
    " - Au - gold\n",
    " - Ag - silver\n",
    " - pb - lead  \n",
    " - sol - Solder(metal alloy usually made of tin and lead which is melted using a hot iron)\n",
    " \n",
    "The type of the features are:\n",
    " - output  \n",
    " - calculation\n",
    " \n",
    "These columns are either produced as a result of the process or are calculated based on the results, so it is not possible to access them before the process is finished.  \n",
    "Thus we can't use them for our models to avoid target leakage."
   ]
  },
  {
   "cell_type": "markdown",
   "metadata": {},
   "source": [
    "### data preprocessing"
   ]
  },
  {
   "cell_type": "code",
   "execution_count": 18,
   "metadata": {},
   "outputs": [
    {
     "data": {
      "text/plain": [
       "2017-01-08 06:59:59    1\n",
       "2017-04-06 16:59:59    1\n",
       "2017-04-23 04:59:59    1\n",
       "2016-01-16 05:00:00    1\n",
       "2018-07-05 19:59:59    1\n",
       "                      ..\n",
       "2016-04-08 02:00:00    1\n",
       "2018-08-12 19:59:59    1\n",
       "2017-10-29 09:59:59    1\n",
       "2017-09-01 21:59:59    1\n",
       "2016-06-23 08:59:59    1\n",
       "Name: date, Length: 22716, dtype: int64"
      ]
     },
     "execution_count": 18,
     "metadata": {},
     "output_type": "execute_result"
    }
   ],
   "source": [
    "# Check if there are rows with the same datetime\n",
    "gold_recovery_full['date'].value_counts().sort_values(ascending=False)"
   ]
  },
  {
   "cell_type": "code",
   "execution_count": 19,
   "metadata": {},
   "outputs": [],
   "source": [
    "# Get number of observations with target = null\n",
    "before_rougher_recovey_calc = gold_recovery_train[gold_recovery_train['rougher.output.recovery'].isnull()]['rougher.output.recovery'].shape[0]\n",
    "before_final_recovey_calc = gold_recovery_train[gold_recovery_train['final.output.recovery'].isnull()]['final.output.recovery'].shape[0]"
   ]
  },
  {
   "cell_type": "code",
   "execution_count": 20,
   "metadata": {},
   "outputs": [],
   "source": [
    "# Execute  recovery(rougher.output.recovery) calculation for each row\n",
    "C =  'rougher.output.concentrate_au'\n",
    "F = 'rougher.input.feed_au'\n",
    "T = 'rougher.output.tail_au'\n",
    "gold_recovery_train['rougher.output.recovery'] = gold_recovery_train.apply(lambda row:recovery(row[C],row[F],row[T]) , axis=1)\n"
   ]
  },
  {
   "cell_type": "code",
   "execution_count": 21,
   "metadata": {},
   "outputs": [],
   "source": [
    "# Execute  recovery(final.output.recovery) calculation for each row\n",
    "C = 'final.output.concentrate_au'\n",
    "F = 'rougher.output.concentrate_au'\n",
    "T = 'secondary_cleaner.output.tail_au'\n",
    "gold_recovery_train['final.output.recovery'] = gold_recovery_train.apply(lambda row:recovery(row[C],row[F],row[T]) , axis=1)\n"
   ]
  },
  {
   "cell_type": "code",
   "execution_count": 22,
   "metadata": {},
   "outputs": [
    {
     "name": "stdout",
     "output_type": "stream",
     "text": [
      "we successed calculating 323 rougher.output.recovery targets\n",
      "we successed calculating 1424 final.output.recovery targets\n"
     ]
    }
   ],
   "source": [
    "# Get number of observations with target = null\n",
    "after_rougher_recovey_calc = gold_recovery_train[gold_recovery_train['rougher.output.recovery'].isnull()]['rougher.output.recovery'].shape[0]\n",
    "after_final_recovey_calc = gold_recovery_train[gold_recovery_train['final.output.recovery'].isnull()]['final.output.recovery'].shape[0]\n",
    "\n",
    "print('we successed calculating {} rougher.output.recovery targets'.format(before_rougher_recovey_calc -after_rougher_recovey_calc ))\n",
    "print('we successed calculating {} final.output.recovery targets'.format(before_final_recovey_calc -after_final_recovey_calc ))"
   ]
  },
  {
   "cell_type": "code",
   "execution_count": 23,
   "metadata": {},
   "outputs": [
    {
     "name": "stdout",
     "output_type": "stream",
     "text": [
      "There are 0.575326% observations with null targer. we will remove them\n",
      "There are 13.345196% observations with null targer. we will remove them\n"
     ]
    }
   ],
   "source": [
    "# Get number of observations with target = null \n",
    "null_final_recovery = gold_recovery_train[gold_recovery_train['final.output.recovery'].isnull()]\\\n",
    "                                                             ['final.output.recovery'].shape[0]\n",
    " \n",
    "null_rougher_recovery = gold_recovery_train[gold_recovery_train['rougher.output.recovery'].isnull()]\\\n",
    "                                                             ['rougher.output.recovery'].shape[0]\n",
    "\n",
    "print('There are {:%} observations with null targer. we will remove them'.format(null_final_recovery / gold_recovery_train.shape[0] ))\n",
    "\n",
    "print('There are {:%} observations with null targer. we will remove them'.format(null_rougher_recovery / gold_recovery_train.shape[0] ))"
   ]
  },
  {
   "cell_type": "code",
   "execution_count": 24,
   "metadata": {},
   "outputs": [],
   "source": [
    "# Drop all observations with a null target\n",
    "gold_recovery_train = gold_recovery_train[gold_recovery_train['rougher.output.recovery'].notna()]\n",
    "gold_recovery_train = gold_recovery_train[gold_recovery_train['final.output.recovery'].notna()]"
   ]
  },
  {
   "cell_type": "code",
   "execution_count": 25,
   "metadata": {},
   "outputs": [],
   "source": [
    "# Fill missing values with backword and forward values\n",
    "# as said in the description:'Parameters that are next to each other in terms of time are often similar'\n",
    "gold_recovery_train = gold_recovery_train.ffill().bfill()\n",
    "gold_recovery_test = gold_recovery_test.ffill().bfill()"
   ]
  },
  {
   "cell_type": "code",
   "execution_count": 26,
   "metadata": {},
   "outputs": [],
   "source": [
    "#Get from gold_recovery_full data set  the test data set targets\n",
    "#gold_recovery_test['rougher.output.recovery'] = gold_recovery_full[gold_recovery_full.date.isin(gold_recovery_test.date)]['rougher.output.recovery']\n",
    "#gold_recovery_test['final.output.recovery'] = gold_recovery_full[gold_recovery_full.date.isin(gold_recovery_test.date)]['final.output.recovery']\n",
    "\n",
    "#Remove features from the list of features difference between train set and test set\n",
    "#features_diff = np.delete(features_diff,np.argwhere((features_diff =='rougher.output.recovery') | \\\n",
    "#                                                    (features_diff =='final.output.recovery')\n",
    "#                                                   ))\n"
   ]
  },
  {
   "cell_type": "code",
   "execution_count": 27,
   "metadata": {},
   "outputs": [],
   "source": [
    "#Get from gold_recovery_full data set  the test data set targets\n",
    "gold_recovery_test = gold_recovery_test.merge(gold_recovery_full[['date','rougher.output.recovery','final.output.recovery']],\n",
    "                                             how='left',on='date')\n",
    "\n",
    "#Remove features from the list of features difference between train set and test set\n",
    "features_diff = np.delete(features_diff,np.argwhere((features_diff =='rougher.output.recovery') | \\\n",
    "                                                    (features_diff =='final.output.recovery')\n",
    "                                                   ))\n"
   ]
  },
  {
   "cell_type": "code",
   "execution_count": 323,
   "metadata": {},
   "outputs": [],
   "source": [
    "#Convert date from object to datetime\n",
    "gold_recovery_train['date'] = gold_recovery_train['date'].astype('datetime64[ns]')\n",
    "gold_recovery_test['date'] = gold_recovery_test['date'].astype('datetime64[ns]')"
   ]
  },
  {
   "cell_type": "code",
   "execution_count": 324,
   "metadata": {},
   "outputs": [
    {
     "data": {
      "text/plain": [
       "0"
      ]
     },
     "execution_count": 324,
     "metadata": {},
     "output_type": "execute_result"
    }
   ],
   "source": [
    "#Get number of duplicated rows\n",
    "gold_recovery_train.duplicated().sum()"
   ]
  },
  {
   "cell_type": "code",
   "execution_count": 325,
   "metadata": {},
   "outputs": [
    {
     "data": {
      "text/plain": [
       "0"
      ]
     },
     "execution_count": 325,
     "metadata": {},
     "output_type": "execute_result"
    }
   ],
   "source": [
    "#Get number of duplicated rows\n",
    "gold_recovery_test.duplicated().sum()"
   ]
  },
  {
   "cell_type": "code",
   "execution_count": 326,
   "metadata": {},
   "outputs": [
    {
     "data": {
      "text/plain": [
       "0"
      ]
     },
     "execution_count": 326,
     "metadata": {},
     "output_type": "execute_result"
    }
   ],
   "source": [
    "#Get number of duplicated rows\n",
    "gold_recovery_full.duplicated().sum()"
   ]
  },
  {
   "cell_type": "markdown",
   "metadata": {},
   "source": [
    "###  Conclusion\n",
    "\n",
    "- date feature type was changed from object to datetime\n",
    "- The missing values were filled with the backword/forward value\n",
    "- No duplicated data was found"
   ]
  },
  {
   "cell_type": "markdown",
   "metadata": {},
   "source": [
    "## Analyze the data"
   ]
  },
  {
   "cell_type": "markdown",
   "metadata": {},
   "source": [
    "### Take note of how the concentrations of metals (Au, Ag, Pb) change depending on the purification stage."
   ]
  },
  {
   "cell_type": "code",
   "execution_count": 327,
   "metadata": {},
   "outputs": [],
   "source": [
    "concentrate_ag = gold_recovery_train[['rougher.output.concentrate_ag','primary_cleaner.output.concentrate_ag','final.output.concentrate_ag']]\n",
    "concentrate_au = gold_recovery_train[['rougher.output.concentrate_au','primary_cleaner.output.concentrate_au','final.output.concentrate_au']]\n",
    "concentrate_pb = gold_recovery_train[['rougher.output.concentrate_pb','primary_cleaner.output.concentrate_pb','final.output.concentrate_pb']]\n"
   ]
  },
  {
   "cell_type": "code",
   "execution_count": 328,
   "metadata": {},
   "outputs": [
    {
     "data": {
      "image/png": "[encoded data removed]",
      "text/plain": [
       "<Figure size 432x288 with 1 Axes>"
      ]
     },
     "metadata": {
      "needs_background": "light"
     },
     "output_type": "display_data"
    },
    {
     "data": {
      "image/png": "[encoded data removed]",
      "text/plain": [
       "<Figure size 432x288 with 1 Axes>"
      ]
     },
     "metadata": {
      "needs_background": "light"
     },
     "output_type": "display_data"
    },
    {
     "data": {
      "image/png": "[encoded data removed]",
      "text/plain": [
       "<Figure size 432x288 with 1 Axes>"
      ]
     },
     "metadata": {
      "needs_background": "light"
     },
     "output_type": "display_data"
    }
   ],
   "source": [
    "concentrate_ag.plot.hist(bins=100, alpha=0.5);\n",
    "concentrate_au.plot.hist(bins=100, alpha=0.5);\n",
    "concentrate_pb.plot.hist(bins=100, alpha=0.5);"
   ]
  },
  {
   "cell_type": "markdown",
   "metadata": {},
   "source": [
    "<b> Conclusion</b>  \n",
    "- Concentration of gold is getting higher in every step  \n",
    "- Concentration of silver is getting lower in every step  \n",
    "- Concentration of lead is not consistent after every step. it can be higher or lower  \n",
    "- There are outliers around 0 value in each metal"
   ]
  },
  {
   "cell_type": "markdown",
   "metadata": {},
   "source": [
    "###  Compare the feed particle size distributions in the training set and in the test set."
   ]
  },
  {
   "cell_type": "code",
   "execution_count": 329,
   "metadata": {},
   "outputs": [
    {
     "data": {
      "image/png": "[encoded data removed]",
      "text/plain": [
       "<Figure size 432x288 with 1 Axes>"
      ]
     },
     "metadata": {
      "needs_background": "light"
     },
     "output_type": "display_data"
    }
   ],
   "source": [
    "gold_recovery_train['primary_cleaner.input.feed_size'].plot.hist(bins=30, alpha=0.5,density=True);\n",
    "gold_recovery_test['primary_cleaner.input.feed_size'].plot.hist(bins=30, alpha=0.5,density=True);\n"
   ]
  },
  {
   "cell_type": "code",
   "execution_count": 330,
   "metadata": {},
   "outputs": [
    {
     "data": {
      "image/png": "[encoded data removed]",
      "text/plain": [
       "<Figure size 432x288 with 1 Axes>"
      ]
     },
     "metadata": {
      "needs_background": "light"
     },
     "output_type": "display_data"
    }
   ],
   "source": [
    "gold_recovery_train['rougher.input.feed_size'].plot.hist(bins=30, alpha=0.5,density=True);\n",
    "gold_recovery_test['rougher.input.feed_size'].plot.hist(bins=30, alpha=0.5,density=True);"
   ]
  },
  {
   "cell_type": "markdown",
   "metadata": {},
   "source": [
    "As we can see in the graphs, the feed particle size distributions in the training set and in the test set are similare "
   ]
  },
  {
   "cell_type": "markdown",
   "metadata": {},
   "source": [
    "### Consider the total concentrations of all substances at different stages: raw feed, rougher concentrate, and final concentrate. Do you notice any abnormal values in the total distribution?"
   ]
  },
  {
   "cell_type": "code",
   "execution_count": 331,
   "metadata": {},
   "outputs": [
    {
     "name": "stdout",
     "output_type": "stream",
     "text": [
      "Number of observations before removing outliers\n",
      "train: 14606\n",
      "test: 5856\n"
     ]
    }
   ],
   "source": [
    "print('Number of observations before removing outliers')\n",
    "print('train:',gold_recovery_train.shape[0])\n",
    "print('test:',gold_recovery_test.shape[0])"
   ]
  },
  {
   "cell_type": "code",
   "execution_count": 332,
   "metadata": {},
   "outputs": [],
   "source": [
    "def remove_outliers(df,features):\n",
    "    for feature in features:\n",
    "        df[df[feature] < 0.01] =np.nan        \n",
    "    df.dropna(inplace=True)   "
   ]
  },
  {
   "cell_type": "code",
   "execution_count": 333,
   "metadata": {},
   "outputs": [],
   "source": [
    "outlires_features_train = ['rougher.output.concentrate_ag','primary_cleaner.output.concentrate_ag','final.output.concentrate_ag',\n",
    "                     'rougher.output.concentrate_au','primary_cleaner.output.concentrate_au','final.output.concentrate_au',\n",
    "                     'rougher.output.concentrate_pb','primary_cleaner.output.concentrate_pb','final.output.concentrate_pb',\n",
    "                     'final.output.recovery','rougher.output.recovery']\n",
    "\n",
    "outlires_features_test =['final.output.recovery','rougher.output.recovery']\n",
    "\n",
    "#Remove outlires from train\n",
    "remove_outliers(gold_recovery_train,outlires_features_train)\n",
    "#Remove outlires from test\n",
    "remove_outliers(gold_recovery_test,outlires_features_test)"
   ]
  },
  {
   "cell_type": "code",
   "execution_count": 334,
   "metadata": {},
   "outputs": [
    {
     "name": "stdout",
     "output_type": "stream",
     "text": [
      "Number of observations after removing outliers\n",
      "train: 13653\n",
      "test: 5154\n"
     ]
    }
   ],
   "source": [
    "print('Number of observations after removing outliers')\n",
    "print('train:',gold_recovery_train.shape[0])\n",
    "print('test:',gold_recovery_test.shape[0])"
   ]
  },
  {
   "cell_type": "markdown",
   "metadata": {},
   "source": [
    "- As we saw above in chapter 2.1, there are outliers around 0 value in each metal(ag,au.pb)"
   ]
  },
  {
   "cell_type": "markdown",
   "metadata": {},
   "source": [
    "## Build the model"
   ]
  },
  {
   "cell_type": "markdown",
   "metadata": {},
   "source": [
    "###  Write a function to calculate the final sMAPE value."
   ]
  },
  {
   "cell_type": "code",
   "execution_count": 335,
   "metadata": {},
   "outputs": [
    {
     "data": {
      "text/plain": [
       "Index([], dtype='object')"
      ]
     },
     "execution_count": 335,
     "metadata": {},
     "output_type": "execute_result"
    }
   ],
   "source": [
    "# Drop all the features that does'nt exist in test set from train set\n",
    "gold_recovery_train.drop(columns=features_diff,inplace=True)\n",
    "# Varify that train set and test set  has the same features \n",
    "gold_recovery_train.columns.difference(gold_recovery_test.columns)"
   ]
  },
  {
   "cell_type": "code",
   "execution_count": 336,
   "metadata": {},
   "outputs": [],
   "source": [
    "# List of targets\n",
    "target = ['rougher.output.recovery','final.output.recovery']\n",
    "# List of features not including 'date' and target\n",
    "features = [feature for feature in gold_recovery_train.columns if feature != 'date' and  feature not in (target)]"
   ]
  },
  {
   "cell_type": "code",
   "execution_count": 337,
   "metadata": {},
   "outputs": [],
   "source": [
    "features_train, features_test = gold_recovery_train[features].values, gold_recovery_test[features].values\n",
    "target_train, target_test = gold_recovery_train[target].values, gold_recovery_test[target].values\n"
   ]
  },
  {
   "cell_type": "code",
   "execution_count": 338,
   "metadata": {},
   "outputs": [],
   "source": [
    "def smape(target_val, predict_val):   \n",
    "     return (np.abs(target_val - predict_val) / ((np.abs(target_val) + np.abs(predict_val)) / 2)).mean()   "
   ]
  },
  {
   "cell_type": "code",
   "execution_count": 339,
   "metadata": {},
   "outputs": [],
   "source": [
    "def final_smape(target_val, predict_val):\n",
    "    smape_rougher = smape(target_val[:,0], predict_val[:,0])\n",
    "    smape_final = smape(target_val[:,1], predict_val[:,1])\n",
    "    \n",
    "    return 0.25 * smape_rougher + 0.75 * smape_final"
   ]
  },
  {
   "cell_type": "markdown",
   "metadata": {},
   "source": [
    "### Train different models. Evaluate them using cross-validation. Pick the best model and test it using the test sample."
   ]
  },
  {
   "cell_type": "markdown",
   "metadata": {},
   "source": [
    "####  LinearRegression model"
   ]
  },
  {
   "cell_type": "code",
   "execution_count": 340,
   "metadata": {},
   "outputs": [],
   "source": [
    "model_lr = LinearRegression()\n",
    "model_lr.fit(features_train, target_train)\n",
    "predicted_test_lr = model_lr.predict(features_test)"
   ]
  },
  {
   "cell_type": "code",
   "execution_count": 341,
   "metadata": {},
   "outputs": [
    {
     "data": {
      "text/plain": [
       "0.048485289572423575"
      ]
     },
     "execution_count": 341,
     "metadata": {},
     "output_type": "execute_result"
    }
   ],
   "source": [
    "# Calculate smape for 'rougher.output.recovery'\n",
    "smape(target_test[:,0],predicted_test_lr[:,0])"
   ]
  },
  {
   "cell_type": "code",
   "execution_count": 342,
   "metadata": {},
   "outputs": [
    {
     "data": {
      "text/plain": [
       "0.25584713562261346"
      ]
     },
     "execution_count": 342,
     "metadata": {},
     "output_type": "execute_result"
    }
   ],
   "source": [
    "# Calculate smape for 'final.output.recovery'\n",
    "smape(target_test[:,1],predicted_test_lr[:,1])\n"
   ]
  },
  {
   "cell_type": "code",
   "execution_count": 343,
   "metadata": {},
   "outputs": [
    {
     "data": {
      "text/plain": [
       "0.20400667411006598"
      ]
     },
     "execution_count": 343,
     "metadata": {},
     "output_type": "execute_result"
    }
   ],
   "source": [
    "#Calc final smape \n",
    "final_smape(target_test,predicted_test_lr)"
   ]
  },
  {
   "cell_type": "code",
   "execution_count": 344,
   "metadata": {},
   "outputs": [
    {
     "data": {
      "text/plain": [
       "-0.07559963574021689"
      ]
     },
     "execution_count": 344,
     "metadata": {},
     "output_type": "execute_result"
    }
   ],
   "source": [
    "# Cross validation score\n",
    "smape_score = make_scorer(final_smape,greater_is_better=False)\n",
    "scores_lr = cross_val_score(model_lr,features_train,target_train,cv=5,scoring=smape_score)\n",
    "scores_lr.mean()"
   ]
  },
  {
   "cell_type": "markdown",
   "metadata": {},
   "source": [
    "<b>final smape using LinearRegression 0.20400667411006598</b>"
   ]
  },
  {
   "cell_type": "markdown",
   "metadata": {},
   "source": [
    "####  RandomForest  model"
   ]
  },
  {
   "cell_type": "code",
   "execution_count": 345,
   "metadata": {},
   "outputs": [
    {
     "name": "stdout",
     "output_type": "stream",
     "text": [
      "[('n_estimators=11,max_depth=1 ', -0.07368053305754121),\n",
      " ('n_estimators=11,max_depth=2 ', -0.07431014496593391),\n",
      " ('n_estimators=1,max_depth=1 ', -0.07530542184768266),\n",
      " ('n_estimators=1,max_depth=2 ', -0.07798280858266655)]\n"
     ]
    }
   ],
   "source": [
    "# RandomForest model\n",
    "\n",
    "# Create dictionary\n",
    "result_dict={} \n",
    "# DOTO:change estimator to 120,depth to  20 for better results\n",
    "for estimator in range(1,20,10):\n",
    "    for depth in range(1,3,1):\n",
    "        model = RandomForestRegressor(n_estimators=estimator, max_depth=depth, random_state=RANDOM_STATE)\n",
    "        model.fit(features_train, target_train)\n",
    "        predicted_valid = cross_val_score(model,features_train,target_train,cv=5,scoring=smape_score).mean()\n",
    "        \n",
    "        key = 'n_estimators={},max_depth={} '.format(estimator,depth)\n",
    "        result_dict[key] =  predicted_valid\n",
    "       \n",
    "        \n",
    "#Sort the dictionary by values       \n",
    "sorted_results = sorted(result_dict.items(),key = lambda kv:(kv[1], kv[0]),reverse=True)\n",
    "\n",
    "# Print the results in ascending order\n",
    "pprint.pprint(sorted_results)"
   ]
  },
  {
   "cell_type": "code",
   "execution_count": 346,
   "metadata": {},
   "outputs": [],
   "source": [
    "model_rf = RandomForestRegressor(n_estimators=41, max_depth=1, random_state=RANDOM_STATE)\n",
    "model_rf.fit(features_train, target_train)\n",
    "predicted_test_rf = model_rf.predict(features_test) "
   ]
  },
  {
   "cell_type": "code",
   "execution_count": 347,
   "metadata": {},
   "outputs": [
    {
     "data": {
      "text/plain": [
       "0.05181150126997423"
      ]
     },
     "execution_count": 347,
     "metadata": {},
     "output_type": "execute_result"
    }
   ],
   "source": [
    "# Calc smape for 'rougher.output.recovery'\n",
    "smape(target_test[:,0],predicted_test_rf[:,0])"
   ]
  },
  {
   "cell_type": "code",
   "execution_count": 348,
   "metadata": {},
   "outputs": [
    {
     "data": {
      "text/plain": [
       "0.234139951713352"
      ]
     },
     "execution_count": 348,
     "metadata": {},
     "output_type": "execute_result"
    }
   ],
   "source": [
    "# Calc smape for 'final.output.recovery'\n",
    "smape(target_test[:,1],predicted_test_rf[:,1])"
   ]
  },
  {
   "cell_type": "code",
   "execution_count": 349,
   "metadata": {},
   "outputs": [
    {
     "data": {
      "text/plain": [
       "0.18855783910250756"
      ]
     },
     "execution_count": 349,
     "metadata": {},
     "output_type": "execute_result"
    }
   ],
   "source": [
    "# Calc final smape \n",
    "final_smape(target_test ,predicted_test_rf)"
   ]
  },
  {
   "cell_type": "markdown",
   "metadata": {},
   "source": [
    "<b>final smape using RandomForest is 0.18855783910250756</b>"
   ]
  },
  {
   "cell_type": "markdown",
   "metadata": {},
   "source": [
    "#### DummyRegressor model"
   ]
  },
  {
   "cell_type": "code",
   "execution_count": 350,
   "metadata": {},
   "outputs": [
    {
     "name": "stdout",
     "output_type": "stream",
     "text": [
      "[('mean', 0.1881379539993637),\n",
      " ('median', 0.19881817408240443),\n",
      " ('constant', 1.9448284938670186),\n",
      " ('quantile', 1.975870288231067)]\n"
     ]
    }
   ],
   "source": [
    "# Create dictionary\n",
    "result_dict={}\n",
    "strategy_list=['mean', 'median', 'quantile','constant']\n",
    "\n",
    "\n",
    "for strategy in strategy_list:  \n",
    "    if strategy== 'constant':\n",
    "         dummy_model = DummyRegressor(strategy=strategy, constant=1)\n",
    "    elif strategy== 'quantile':\n",
    "         dummy_model = DummyRegressor(strategy=strategy, quantile=0)\n",
    "    else:\n",
    "         dummy_model = DummyRegressor(strategy=strategy)\n",
    "         \n",
    "    predicted_test={}\n",
    "    for index, target in enumerate(target_train[0]):\n",
    "        dummy_model.fit(features_train, target_train[:,index])\n",
    "        predicted_test[index]  = dummy_model.predict(features_test)\n",
    "\n",
    "    #create array with targets\n",
    "    # Each item(observation) contains the results from 'rougher.output.recovery' and 'final.output.recovery' \n",
    "    predicted_test_dr = []\n",
    "    for index,val in enumerate(predicted_test[0]):\n",
    "        predicted_test_dr.append([predicted_test[0][index],predicted_test[1][index]])\n",
    "        \n",
    "    #Convert list to numpy.array\n",
    "    predicted_test_dr = np.array(predicted_test_dr)\n",
    "   # Add item to dictionary\n",
    "    result_dict[strategy] =final_smape(target_test, predicted_test_dr)\n",
    "\n",
    "# Sort the dictionary by values       \n",
    "sorted_results = sorted(result_dict.items(),key = lambda kv:(kv[1], kv[0]),reverse=False)\n",
    "\n",
    "# Print the results in ascending order\n",
    "pprint.pprint(sorted_results)\n"
   ]
  },
  {
   "cell_type": "markdown",
   "metadata": {},
   "source": [
    "The DummyRegressor model gave us the best result using mean stategy with score of  0.1881379539993637"
   ]
  },
  {
   "cell_type": "markdown",
   "metadata": {},
   "source": [
    "## Conclusion\n",
    "\n",
    "- final smape using LinearRegression 0.20400667411006598. \n",
    "- final smape using RandomForest is 0.18855783910250756.  \n",
    "- final smape using DummyRegressor is 0.1881379539993637.\n",
    "- There is no difference between LinearRegression and RandomForest comparing to DummyRegressor.\n",
    "  that means that there is nothing that we can learn from the data.\n"
   ]
  },
  {
   "cell_type": "code",
   "execution_count": null,
   "metadata": {},
   "outputs": [],
   "source": []
  }
 ],
 "metadata": {
  "ExecuteTimeLog": [
   {
    "duration": 1290,
    "start_time": "2021-10-17T07:20:48.417Z"
   },
   {
    "duration": 4,
    "start_time": "2021-10-17T07:20:51.414Z"
   },
   {
    "duration": 977,
    "start_time": "2021-10-17T07:20:53.022Z"
   },
   {
    "duration": 25,
    "start_time": "2021-10-17T07:23:15.328Z"
   },
   {
    "duration": 46,
    "start_time": "2021-10-17T07:25:06.840Z"
   },
   {
    "duration": 20,
    "start_time": "2021-10-17T07:48:00.372Z"
   },
   {
    "duration": 7,
    "start_time": "2021-10-17T07:49:12.751Z"
   },
   {
    "duration": 30,
    "start_time": "2021-10-17T08:06:50.857Z"
   },
   {
    "duration": 5,
    "start_time": "2021-10-17T08:41:26.297Z"
   },
   {
    "duration": 601,
    "start_time": "2021-10-17T08:41:28.253Z"
   },
   {
    "duration": 6,
    "start_time": "2021-10-17T08:42:23.452Z"
   },
   {
    "duration": 730,
    "start_time": "2021-10-17T08:42:25.335Z"
   },
   {
    "duration": 29,
    "start_time": "2021-10-17T08:48:31.002Z"
   },
   {
    "duration": 8,
    "start_time": "2021-10-17T08:48:44.744Z"
   },
   {
    "duration": 41,
    "start_time": "2021-10-17T08:49:41.004Z"
   },
   {
    "duration": 5,
    "start_time": "2021-10-17T09:00:52.541Z"
   },
   {
    "duration": 42,
    "start_time": "2021-10-17T09:00:54.277Z"
   },
   {
    "duration": 749,
    "start_time": "2021-10-17T09:01:03.662Z"
   },
   {
    "duration": 6,
    "start_time": "2021-10-17T09:01:36.245Z"
   },
   {
    "duration": 701,
    "start_time": "2021-10-17T09:01:38.286Z"
   },
   {
    "duration": 5,
    "start_time": "2021-10-17T09:02:03.060Z"
   },
   {
    "duration": 755,
    "start_time": "2021-10-17T09:02:05.271Z"
   },
   {
    "duration": 6,
    "start_time": "2021-10-17T09:03:17.366Z"
   },
   {
    "duration": 1665,
    "start_time": "2021-10-17T09:03:19.799Z"
   },
   {
    "duration": 1328,
    "start_time": "2021-10-17T09:03:57.887Z"
   },
   {
    "duration": 7,
    "start_time": "2021-10-17T09:04:04.327Z"
   },
   {
    "duration": 5,
    "start_time": "2021-10-17T09:04:39.128Z"
   },
   {
    "duration": 6,
    "start_time": "2021-10-17T09:04:45.592Z"
   },
   {
    "duration": 7,
    "start_time": "2021-10-17T09:04:57.292Z"
   },
   {
    "duration": 7,
    "start_time": "2021-10-17T09:05:02.471Z"
   },
   {
    "duration": 10,
    "start_time": "2021-10-17T09:05:16.014Z"
   },
   {
    "duration": 7,
    "start_time": "2021-10-17T09:05:26.072Z"
   },
   {
    "duration": 8,
    "start_time": "2021-10-17T09:05:27.193Z"
   },
   {
    "duration": 97,
    "start_time": "2021-10-17T09:16:42.415Z"
   },
   {
    "duration": 88,
    "start_time": "2021-10-17T09:16:52.574Z"
   },
   {
    "duration": 100,
    "start_time": "2021-10-17T09:17:02.474Z"
   },
   {
    "duration": 347,
    "start_time": "2021-10-17T09:17:12.015Z"
   },
   {
    "duration": 320,
    "start_time": "2021-10-17T09:19:37.850Z"
   },
   {
    "duration": 1146,
    "start_time": "2021-10-17T09:21:47.361Z"
   },
   {
    "duration": 1163,
    "start_time": "2021-10-17T09:22:16.489Z"
   },
   {
    "duration": 10,
    "start_time": "2021-10-17T09:22:45.296Z"
   },
   {
    "duration": 2377,
    "start_time": "2021-10-17T09:22:59.157Z"
   },
   {
    "duration": 135,
    "start_time": "2021-10-17T09:23:10.843Z"
   },
   {
    "duration": 11,
    "start_time": "2021-10-17T09:26:25.229Z"
   },
   {
    "duration": 13,
    "start_time": "2021-10-17T09:26:44.829Z"
   },
   {
    "duration": 6,
    "start_time": "2021-10-17T09:27:26.063Z"
   },
   {
    "duration": 61736,
    "start_time": "2021-10-17T09:28:18.548Z"
   },
   {
    "duration": 1369,
    "start_time": "2021-10-17T09:30:29.401Z"
   },
   {
    "duration": 32,
    "start_time": "2021-10-17T09:33:07.899Z"
   },
   {
    "duration": 58,
    "start_time": "2021-10-17T09:33:11.562Z"
   },
   {
    "duration": 45,
    "start_time": "2021-10-17T09:33:36.386Z"
   },
   {
    "duration": 7,
    "start_time": "2021-10-17T09:34:05.504Z"
   },
   {
    "duration": 1058,
    "start_time": "2021-10-17T09:34:34.299Z"
   },
   {
    "duration": 8,
    "start_time": "2021-10-17T09:34:39.315Z"
   },
   {
    "duration": 9,
    "start_time": "2021-10-17T09:34:54.618Z"
   },
   {
    "duration": 13,
    "start_time": "2021-10-17T09:34:56.036Z"
   },
   {
    "duration": 12,
    "start_time": "2021-10-17T09:35:12.564Z"
   },
   {
    "duration": 14,
    "start_time": "2021-10-17T09:35:44.502Z"
   },
   {
    "duration": 8,
    "start_time": "2021-10-17T09:36:39.013Z"
   },
   {
    "duration": 6,
    "start_time": "2021-10-17T10:06:36.400Z"
   },
   {
    "duration": 2,
    "start_time": "2021-10-17T10:07:34.769Z"
   },
   {
    "duration": 4,
    "start_time": "2021-10-17T10:10:09.852Z"
   },
   {
    "duration": 304,
    "start_time": "2021-10-17T10:11:58.350Z"
   },
   {
    "duration": 1273,
    "start_time": "2021-10-17T10:12:10.611Z"
   },
   {
    "duration": 289,
    "start_time": "2021-10-17T10:12:14.030Z"
   },
   {
    "duration": 7,
    "start_time": "2021-10-17T10:13:03.182Z"
   },
   {
    "duration": 7,
    "start_time": "2021-10-17T10:13:13.160Z"
   },
   {
    "duration": 8,
    "start_time": "2021-10-17T10:13:27.093Z"
   },
   {
    "duration": 9,
    "start_time": "2021-10-17T10:13:44.199Z"
   },
   {
    "duration": 8,
    "start_time": "2021-10-17T10:24:54.007Z"
   },
   {
    "duration": 7,
    "start_time": "2021-10-17T10:25:06.867Z"
   },
   {
    "duration": 10,
    "start_time": "2021-10-17T10:25:11.887Z"
   },
   {
    "duration": 4,
    "start_time": "2021-10-17T10:25:23.879Z"
   },
   {
    "duration": 9,
    "start_time": "2021-10-17T10:25:27.240Z"
   },
   {
    "duration": 5,
    "start_time": "2021-10-17T10:25:35.101Z"
   },
   {
    "duration": 1078,
    "start_time": "2021-10-17T10:27:21.546Z"
   },
   {
    "duration": 11,
    "start_time": "2021-10-17T10:27:34.162Z"
   },
   {
    "duration": 8,
    "start_time": "2021-10-17T10:27:54.157Z"
   },
   {
    "duration": 5,
    "start_time": "2021-10-17T10:28:52.627Z"
   },
   {
    "duration": 8,
    "start_time": "2021-10-17T10:28:57.052Z"
   },
   {
    "duration": 7,
    "start_time": "2021-10-17T10:36:14.787Z"
   },
   {
    "duration": 5,
    "start_time": "2021-10-17T10:37:18.656Z"
   },
   {
    "duration": 17,
    "start_time": "2021-10-17T12:23:19.364Z"
   },
   {
    "duration": 6,
    "start_time": "2021-10-17T12:37:00.468Z"
   },
   {
    "duration": 300,
    "start_time": "2021-10-17T12:37:11.098Z"
   },
   {
    "duration": 7,
    "start_time": "2021-10-17T12:37:21.730Z"
   },
   {
    "duration": 6,
    "start_time": "2021-10-17T12:37:40.498Z"
   },
   {
    "duration": 300,
    "start_time": "2021-10-17T12:38:24.665Z"
   },
   {
    "duration": 8,
    "start_time": "2021-10-17T12:38:37.405Z"
   },
   {
    "duration": 8,
    "start_time": "2021-10-17T12:40:07.059Z"
   },
   {
    "duration": 8,
    "start_time": "2021-10-17T12:40:23.652Z"
   },
   {
    "duration": 318,
    "start_time": "2021-10-17T12:40:30.306Z"
   },
   {
    "duration": 7,
    "start_time": "2021-10-17T12:40:43.331Z"
   },
   {
    "duration": 309,
    "start_time": "2021-10-17T12:41:01.092Z"
   },
   {
    "duration": 6,
    "start_time": "2021-10-17T12:41:33.454Z"
   },
   {
    "duration": 6,
    "start_time": "2021-10-17T12:41:39.100Z"
   },
   {
    "duration": 94,
    "start_time": "2021-10-17T12:45:39.359Z"
   },
   {
    "duration": 5,
    "start_time": "2021-10-17T12:45:53.656Z"
   },
   {
    "duration": 8,
    "start_time": "2021-10-17T12:46:00.260Z"
   },
   {
    "duration": 7,
    "start_time": "2021-10-17T12:46:36.566Z"
   },
   {
    "duration": 6,
    "start_time": "2021-10-17T12:50:50.669Z"
   },
   {
    "duration": 6,
    "start_time": "2021-10-17T12:51:03.295Z"
   },
   {
    "duration": 7,
    "start_time": "2021-10-17T12:51:14.255Z"
   },
   {
    "duration": 7,
    "start_time": "2021-10-17T12:51:45.599Z"
   },
   {
    "duration": 7,
    "start_time": "2021-10-17T12:51:53.439Z"
   },
   {
    "duration": 6,
    "start_time": "2021-10-17T12:52:02.768Z"
   },
   {
    "duration": 6,
    "start_time": "2021-10-17T12:52:11.151Z"
   },
   {
    "duration": 391,
    "start_time": "2021-10-18T07:13:22.202Z"
   },
   {
    "duration": 1313,
    "start_time": "2021-10-18T07:13:27.912Z"
   },
   {
    "duration": 3,
    "start_time": "2021-10-18T07:13:29.228Z"
   },
   {
    "duration": 978,
    "start_time": "2021-10-18T07:13:29.234Z"
   },
   {
    "duration": 27,
    "start_time": "2021-10-18T07:13:30.215Z"
   },
   {
    "duration": 15,
    "start_time": "2021-10-18T07:13:30.245Z"
   },
   {
    "duration": 130,
    "start_time": "2021-10-18T07:13:30.262Z"
   },
   {
    "duration": -696,
    "start_time": "2021-10-18T07:13:31.090Z"
   },
   {
    "duration": -697,
    "start_time": "2021-10-18T07:13:31.093Z"
   },
   {
    "duration": -698,
    "start_time": "2021-10-18T07:13:31.095Z"
   },
   {
    "duration": -698,
    "start_time": "2021-10-18T07:13:31.097Z"
   },
   {
    "duration": -807,
    "start_time": "2021-10-18T07:13:31.207Z"
   },
   {
    "duration": -840,
    "start_time": "2021-10-18T07:13:31.241Z"
   },
   {
    "duration": -864,
    "start_time": "2021-10-18T07:13:31.267Z"
   },
   {
    "duration": -872,
    "start_time": "2021-10-18T07:13:31.276Z"
   },
   {
    "duration": -876,
    "start_time": "2021-10-18T07:13:31.281Z"
   },
   {
    "duration": 5,
    "start_time": "2021-10-18T07:14:33.427Z"
   },
   {
    "duration": 6,
    "start_time": "2021-10-18T07:14:33.434Z"
   },
   {
    "duration": 1015,
    "start_time": "2021-10-18T07:14:33.443Z"
   },
   {
    "duration": 24,
    "start_time": "2021-10-18T07:14:34.461Z"
   },
   {
    "duration": 17,
    "start_time": "2021-10-18T07:14:34.488Z"
   },
   {
    "duration": 5,
    "start_time": "2021-10-18T07:14:34.507Z"
   },
   {
    "duration": 9,
    "start_time": "2021-10-18T07:14:34.515Z"
   },
   {
    "duration": 6,
    "start_time": "2021-10-18T07:14:34.528Z"
   },
   {
    "duration": 8,
    "start_time": "2021-10-18T07:14:34.536Z"
   },
   {
    "duration": 1467,
    "start_time": "2021-10-18T07:14:34.547Z"
   },
   {
    "duration": 6,
    "start_time": "2021-10-18T07:14:36.017Z"
   },
   {
    "duration": 9,
    "start_time": "2021-10-18T07:14:36.026Z"
   },
   {
    "duration": 8,
    "start_time": "2021-10-18T07:14:36.037Z"
   },
   {
    "duration": 58,
    "start_time": "2021-10-18T07:14:36.048Z"
   },
   {
    "duration": 40,
    "start_time": "2021-10-18T07:14:36.109Z"
   },
   {
    "duration": 142,
    "start_time": "2021-10-18T07:16:51.317Z"
   },
   {
    "duration": 27,
    "start_time": "2021-10-18T07:20:49.919Z"
   },
   {
    "duration": 15,
    "start_time": "2021-10-18T07:21:42.612Z"
   },
   {
    "duration": 9,
    "start_time": "2021-10-18T07:26:34.988Z"
   },
   {
    "duration": 634,
    "start_time": "2021-10-18T07:30:12.006Z"
   },
   {
    "duration": 39,
    "start_time": "2021-10-18T07:33:04.830Z"
   },
   {
    "duration": 20,
    "start_time": "2021-10-18T07:34:27.222Z"
   },
   {
    "duration": 140,
    "start_time": "2021-10-18T07:38:22.385Z"
   },
   {
    "duration": 45,
    "start_time": "2021-10-18T07:38:38.904Z"
   },
   {
    "duration": 43,
    "start_time": "2021-10-18T07:50:18.715Z"
   },
   {
    "duration": 180,
    "start_time": "2021-10-18T07:50:29.702Z"
   },
   {
    "duration": 32,
    "start_time": "2021-10-18T07:54:17.309Z"
   },
   {
    "duration": 32,
    "start_time": "2021-10-18T07:54:29.602Z"
   },
   {
    "duration": 22,
    "start_time": "2021-10-18T08:25:10.837Z"
   },
   {
    "duration": 23,
    "start_time": "2021-10-18T08:25:26.742Z"
   },
   {
    "duration": 23,
    "start_time": "2021-10-18T08:26:01.867Z"
   },
   {
    "duration": 24,
    "start_time": "2021-10-18T08:26:08.134Z"
   },
   {
    "duration": 25,
    "start_time": "2021-10-18T08:28:29.884Z"
   },
   {
    "duration": 331,
    "start_time": "2021-10-18T08:30:03.204Z"
   },
   {
    "duration": 47,
    "start_time": "2021-10-18T08:30:33.883Z"
   },
   {
    "duration": 16,
    "start_time": "2021-10-18T08:31:08.498Z"
   },
   {
    "duration": 11,
    "start_time": "2021-10-18T08:34:14.431Z"
   },
   {
    "duration": 21,
    "start_time": "2021-10-18T08:34:23.352Z"
   },
   {
    "duration": 11,
    "start_time": "2021-10-18T09:08:35.230Z"
   },
   {
    "duration": 21,
    "start_time": "2021-10-18T09:08:37.069Z"
   },
   {
    "duration": 17,
    "start_time": "2021-10-18T09:19:17.895Z"
   },
   {
    "duration": 18,
    "start_time": "2021-10-18T09:20:19.267Z"
   },
   {
    "duration": 46,
    "start_time": "2021-10-18T09:20:40.724Z"
   },
   {
    "duration": 18,
    "start_time": "2021-10-18T09:20:49.110Z"
   },
   {
    "duration": 19,
    "start_time": "2021-10-18T09:21:00.617Z"
   },
   {
    "duration": 7,
    "start_time": "2021-10-18T09:24:37.169Z"
   },
   {
    "duration": 6,
    "start_time": "2021-10-18T09:25:19.907Z"
   },
   {
    "duration": 8,
    "start_time": "2021-10-18T09:25:49.454Z"
   },
   {
    "duration": 9,
    "start_time": "2021-10-18T09:26:00.160Z"
   },
   {
    "duration": 8,
    "start_time": "2021-10-18T09:26:06.533Z"
   },
   {
    "duration": 46,
    "start_time": "2021-10-18T09:27:28.935Z"
   },
   {
    "duration": 41,
    "start_time": "2021-10-18T09:30:53.226Z"
   },
   {
    "duration": 17,
    "start_time": "2021-10-18T09:31:05.502Z"
   },
   {
    "duration": 5,
    "start_time": "2021-10-18T09:33:26.754Z"
   },
   {
    "duration": 331,
    "start_time": "2021-10-18T09:33:47.512Z"
   },
   {
    "duration": 46,
    "start_time": "2021-10-18T09:34:10.421Z"
   },
   {
    "duration": 7,
    "start_time": "2021-10-18T09:34:16.301Z"
   },
   {
    "duration": 6,
    "start_time": "2021-10-18T09:34:59.199Z"
   },
   {
    "duration": 6,
    "start_time": "2021-10-18T09:35:12.680Z"
   },
   {
    "duration": 41,
    "start_time": "2021-10-18T09:36:18.633Z"
   },
   {
    "duration": 1576,
    "start_time": "2021-10-18T09:49:51.835Z"
   },
   {
    "duration": 1962,
    "start_time": "2021-10-18T09:51:17.066Z"
   },
   {
    "duration": 325,
    "start_time": "2021-10-18T09:52:54.343Z"
   },
   {
    "duration": 380,
    "start_time": "2021-10-18T09:53:01.806Z"
   },
   {
    "duration": 4,
    "start_time": "2021-10-18T09:53:10.178Z"
   },
   {
    "duration": 5,
    "start_time": "2021-10-18T09:53:18.399Z"
   },
   {
    "duration": 440,
    "start_time": "2021-10-18T09:54:31.255Z"
   },
   {
    "duration": 5,
    "start_time": "2021-10-18T09:54:41.478Z"
   },
   {
    "duration": 5,
    "start_time": "2021-10-18T09:54:42.856Z"
   },
   {
    "duration": 2039,
    "start_time": "2021-10-18T09:57:22.701Z"
   },
   {
    "duration": 5,
    "start_time": "2021-10-18T09:57:27.122Z"
   },
   {
    "duration": 2147,
    "start_time": "2021-10-18T09:58:17.981Z"
   },
   {
    "duration": 4,
    "start_time": "2021-10-18T09:58:21.979Z"
   },
   {
    "duration": 4,
    "start_time": "2021-10-18T09:58:34.236Z"
   },
   {
    "duration": 10,
    "start_time": "2021-10-18T09:59:39.412Z"
   },
   {
    "duration": 22,
    "start_time": "2021-10-18T09:59:50.228Z"
   },
   {
    "duration": 11,
    "start_time": "2021-10-18T10:01:12.714Z"
   },
   {
    "duration": 8,
    "start_time": "2021-10-18T10:01:20.669Z"
   },
   {
    "duration": 21,
    "start_time": "2021-10-18T11:03:06.076Z"
   },
   {
    "duration": 710,
    "start_time": "2021-10-18T11:15:54.993Z"
   },
   {
    "duration": 326,
    "start_time": "2021-10-18T11:17:27.305Z"
   },
   {
    "duration": 343,
    "start_time": "2021-10-18T11:18:17.999Z"
   },
   {
    "duration": 8,
    "start_time": "2021-10-18T11:19:39.608Z"
   },
   {
    "duration": 7,
    "start_time": "2021-10-18T11:19:55.095Z"
   },
   {
    "duration": 7,
    "start_time": "2021-10-18T11:20:03.804Z"
   },
   {
    "duration": 8,
    "start_time": "2021-10-18T11:20:19.108Z"
   },
   {
    "duration": 7,
    "start_time": "2021-10-18T11:20:23.191Z"
   },
   {
    "duration": 7,
    "start_time": "2021-10-18T11:20:28.335Z"
   },
   {
    "duration": 8,
    "start_time": "2021-10-18T11:20:40.112Z"
   },
   {
    "duration": 7,
    "start_time": "2021-10-18T11:20:43.856Z"
   },
   {
    "duration": 8,
    "start_time": "2021-10-18T11:20:49.406Z"
   },
   {
    "duration": 344,
    "start_time": "2021-10-18T11:22:03.755Z"
   },
   {
    "duration": 4,
    "start_time": "2021-10-18T11:22:29.978Z"
   },
   {
    "duration": 5,
    "start_time": "2021-10-18T11:22:31.658Z"
   },
   {
    "duration": 4,
    "start_time": "2021-10-18T11:22:35.636Z"
   },
   {
    "duration": 336,
    "start_time": "2021-10-18T11:22:39.634Z"
   },
   {
    "duration": 4,
    "start_time": "2021-10-18T11:23:18.042Z"
   },
   {
    "duration": 1352,
    "start_time": "2021-10-18T11:23:32.052Z"
   },
   {
    "duration": 7,
    "start_time": "2021-10-18T11:23:46.698Z"
   },
   {
    "duration": 32,
    "start_time": "2021-10-18T11:23:54.202Z"
   },
   {
    "duration": 8066,
    "start_time": "2021-10-18T11:26:39.949Z"
   },
   {
    "duration": 5,
    "start_time": "2021-10-18T11:27:29.070Z"
   },
   {
    "duration": 14,
    "start_time": "2021-10-18T11:27:36.340Z"
   },
   {
    "duration": 8,
    "start_time": "2021-10-18T11:28:48.214Z"
   },
   {
    "duration": 16,
    "start_time": "2021-10-18T11:28:52.791Z"
   },
   {
    "duration": 15,
    "start_time": "2021-10-18T11:29:07.094Z"
   },
   {
    "duration": 9,
    "start_time": "2021-10-18T11:29:15.224Z"
   },
   {
    "duration": 16,
    "start_time": "2021-10-18T11:29:19.470Z"
   },
   {
    "duration": 743,
    "start_time": "2021-10-18T11:40:16.857Z"
   },
   {
    "duration": 504318,
    "start_time": "2021-10-18T11:54:08.328Z"
   },
   {
    "duration": 16,
    "start_time": "2021-10-18T12:03:31.126Z"
   },
   {
    "duration": 356,
    "start_time": "2021-10-18T12:04:00.897Z"
   },
   {
    "duration": 13,
    "start_time": "2021-10-18T12:04:08.541Z"
   },
   {
    "duration": 721,
    "start_time": "2021-10-18T12:05:23.470Z"
   },
   {
    "duration": 745,
    "start_time": "2021-10-18T12:05:56.208Z"
   },
   {
    "duration": 15,
    "start_time": "2021-10-18T12:09:24.621Z"
   },
   {
    "duration": 4,
    "start_time": "2021-10-18T12:12:19.552Z"
   },
   {
    "duration": 30,
    "start_time": "2021-10-18T12:12:29.002Z"
   },
   {
    "duration": 15814,
    "start_time": "2021-10-18T12:12:48.258Z"
   },
   {
    "duration": 4,
    "start_time": "2021-10-18T12:13:09.673Z"
   },
   {
    "duration": 29,
    "start_time": "2021-10-18T12:13:14.958Z"
   },
   {
    "duration": 15,
    "start_time": "2021-10-18T12:13:33.412Z"
   },
   {
    "duration": 348616,
    "start_time": "2021-10-18T12:14:24.312Z"
   },
   {
    "duration": 3,
    "start_time": "2021-10-18T12:20:30.450Z"
   },
   {
    "duration": 13,
    "start_time": "2021-10-18T12:20:37.668Z"
   },
   {
    "duration": 12,
    "start_time": "2021-10-18T12:29:33.012Z"
   },
   {
    "duration": 381,
    "start_time": "2021-10-18T12:29:52.829Z"
   },
   {
    "duration": 750,
    "start_time": "2021-10-18T12:30:08.260Z"
   },
   {
    "duration": 418,
    "start_time": "2021-10-18T12:31:04.164Z"
   },
   {
    "duration": 7,
    "start_time": "2021-10-18T12:31:59.693Z"
   },
   {
    "duration": 453,
    "start_time": "2021-10-18T12:34:00.832Z"
   },
   {
    "duration": 1374,
    "start_time": "2021-10-18T12:34:16.991Z"
   },
   {
    "duration": 539,
    "start_time": "2021-10-18T12:34:25.834Z"
   },
   {
    "duration": 438,
    "start_time": "2021-10-18T12:34:32.835Z"
   },
   {
    "duration": 428,
    "start_time": "2021-10-18T12:35:06.457Z"
   },
   {
    "duration": 428,
    "start_time": "2021-10-18T12:35:28.882Z"
   },
   {
    "duration": 455,
    "start_time": "2021-10-18T12:35:36.650Z"
   },
   {
    "duration": 35,
    "start_time": "2021-10-18T12:36:27.951Z"
   },
   {
    "duration": 433,
    "start_time": "2021-10-18T12:38:27.380Z"
   },
   {
    "duration": 398,
    "start_time": "2021-10-18T12:38:40.541Z"
   },
   {
    "duration": 428,
    "start_time": "2021-10-18T12:39:39.692Z"
   },
   {
    "duration": 400,
    "start_time": "2021-10-18T12:39:53.609Z"
   },
   {
    "duration": 292,
    "start_time": "2021-10-18T12:53:09.870Z"
   },
   {
    "duration": 8,
    "start_time": "2021-10-18T12:53:15.832Z"
   },
   {
    "duration": 291,
    "start_time": "2021-10-18T12:53:25.278Z"
   },
   {
    "duration": 333,
    "start_time": "2021-10-18T12:56:58.925Z"
   },
   {
    "duration": 359,
    "start_time": "2021-10-18T12:57:17.538Z"
   },
   {
    "duration": 732,
    "start_time": "2021-10-18T13:08:52.262Z"
   },
   {
    "duration": 670,
    "start_time": "2021-10-18T13:09:03.316Z"
   },
   {
    "duration": 346,
    "start_time": "2021-10-18T13:13:31.213Z"
   },
   {
    "duration": 1273,
    "start_time": "2021-10-19T08:28:50.716Z"
   },
   {
    "duration": 4,
    "start_time": "2021-10-19T08:28:51.992Z"
   },
   {
    "duration": 962,
    "start_time": "2021-10-19T08:28:51.999Z"
   },
   {
    "duration": 32,
    "start_time": "2021-10-19T08:28:52.964Z"
   },
   {
    "duration": 15,
    "start_time": "2021-10-19T08:28:52.998Z"
   },
   {
    "duration": 6,
    "start_time": "2021-10-19T08:28:53.016Z"
   },
   {
    "duration": 6,
    "start_time": "2021-10-19T08:28:53.024Z"
   },
   {
    "duration": 10,
    "start_time": "2021-10-19T08:28:53.032Z"
   },
   {
    "duration": 11,
    "start_time": "2021-10-19T08:28:53.046Z"
   },
   {
    "duration": 1308,
    "start_time": "2021-10-19T08:28:53.060Z"
   },
   {
    "duration": 12,
    "start_time": "2021-10-19T08:28:54.370Z"
   },
   {
    "duration": 10,
    "start_time": "2021-10-19T08:28:54.384Z"
   },
   {
    "duration": 11,
    "start_time": "2021-10-19T08:28:54.396Z"
   },
   {
    "duration": 21,
    "start_time": "2021-10-19T08:28:54.409Z"
   },
   {
    "duration": 51,
    "start_time": "2021-10-19T08:28:54.432Z"
   },
   {
    "duration": 22,
    "start_time": "2021-10-19T08:28:54.485Z"
   },
   {
    "duration": 10,
    "start_time": "2021-10-19T08:28:54.510Z"
   },
   {
    "duration": 13,
    "start_time": "2021-10-19T08:29:06.298Z"
   },
   {
    "duration": 22,
    "start_time": "2021-10-19T08:30:17.129Z"
   },
   {
    "duration": 41,
    "start_time": "2021-10-19T08:31:38.730Z"
   },
   {
    "duration": 4,
    "start_time": "2021-10-19T08:37:02.916Z"
   },
   {
    "duration": 10,
    "start_time": "2021-10-19T08:37:02.923Z"
   },
   {
    "duration": 1055,
    "start_time": "2021-10-19T08:37:02.936Z"
   },
   {
    "duration": 26,
    "start_time": "2021-10-19T08:37:03.994Z"
   },
   {
    "duration": 8,
    "start_time": "2021-10-19T08:37:04.023Z"
   },
   {
    "duration": 5,
    "start_time": "2021-10-19T08:37:04.033Z"
   },
   {
    "duration": 42,
    "start_time": "2021-10-19T08:37:04.041Z"
   },
   {
    "duration": 8,
    "start_time": "2021-10-19T08:37:04.086Z"
   },
   {
    "duration": 7,
    "start_time": "2021-10-19T08:37:04.097Z"
   },
   {
    "duration": 1417,
    "start_time": "2021-10-19T08:37:04.106Z"
   },
   {
    "duration": 4,
    "start_time": "2021-10-19T08:37:11.993Z"
   },
   {
    "duration": 496,
    "start_time": "2021-10-19T08:37:13.358Z"
   },
   {
    "duration": 5,
    "start_time": "2021-10-19T08:37:45.199Z"
   },
   {
    "duration": 6,
    "start_time": "2021-10-19T08:37:47.678Z"
   },
   {
    "duration": 8,
    "start_time": "2021-10-19T08:56:10.093Z"
   },
   {
    "duration": 7,
    "start_time": "2021-10-19T08:58:04.064Z"
   },
   {
    "duration": 6,
    "start_time": "2021-10-19T08:58:20.976Z"
   },
   {
    "duration": 5,
    "start_time": "2021-10-19T08:58:31.546Z"
   },
   {
    "duration": 14,
    "start_time": "2021-10-19T08:58:31.553Z"
   },
   {
    "duration": 998,
    "start_time": "2021-10-19T08:58:31.571Z"
   },
   {
    "duration": 27,
    "start_time": "2021-10-19T08:58:32.571Z"
   },
   {
    "duration": 7,
    "start_time": "2021-10-19T08:58:32.601Z"
   },
   {
    "duration": 4,
    "start_time": "2021-10-19T08:58:32.611Z"
   },
   {
    "duration": 10,
    "start_time": "2021-10-19T08:58:32.618Z"
   },
   {
    "duration": 9,
    "start_time": "2021-10-19T08:58:32.630Z"
   },
   {
    "duration": 40,
    "start_time": "2021-10-19T08:58:32.642Z"
   },
   {
    "duration": 1296,
    "start_time": "2021-10-19T08:58:39.229Z"
   },
   {
    "duration": 7,
    "start_time": "2021-10-19T08:58:42.881Z"
   },
   {
    "duration": 6,
    "start_time": "2021-10-19T09:00:09.464Z"
   },
   {
    "duration": 8,
    "start_time": "2021-10-19T09:01:55.970Z"
   },
   {
    "duration": 7,
    "start_time": "2021-10-19T09:19:45.202Z"
   },
   {
    "duration": 41,
    "start_time": "2021-10-19T09:19:56.539Z"
   },
   {
    "duration": 453,
    "start_time": "2021-10-19T09:20:58.134Z"
   },
   {
    "duration": 102,
    "start_time": "2021-10-19T09:23:53.954Z"
   },
   {
    "duration": 457,
    "start_time": "2021-10-19T09:23:59.853Z"
   },
   {
    "duration": 239,
    "start_time": "2021-10-19T09:24:32.780Z"
   },
   {
    "duration": 479,
    "start_time": "2021-10-19T09:27:51.439Z"
   },
   {
    "duration": 564,
    "start_time": "2021-10-19T09:28:02.405Z"
   },
   {
    "duration": 223,
    "start_time": "2021-10-19T09:29:10.703Z"
   },
   {
    "duration": 7,
    "start_time": "2021-10-19T09:29:19.174Z"
   },
   {
    "duration": 11,
    "start_time": "2021-10-19T09:30:19.561Z"
   },
   {
    "duration": 219,
    "start_time": "2021-10-19T09:34:32.934Z"
   },
   {
    "duration": 220,
    "start_time": "2021-10-19T09:35:10.022Z"
   },
   {
    "duration": 249,
    "start_time": "2021-10-19T09:35:16.806Z"
   },
   {
    "duration": 7,
    "start_time": "2021-10-19T09:35:38.398Z"
   },
   {
    "duration": 10,
    "start_time": "2021-10-19T09:35:42.821Z"
   },
   {
    "duration": 223,
    "start_time": "2021-10-19T09:36:11.415Z"
   },
   {
    "duration": 6,
    "start_time": "2021-10-19T09:36:14.174Z"
   },
   {
    "duration": 11,
    "start_time": "2021-10-19T09:36:20.645Z"
   },
   {
    "duration": 217,
    "start_time": "2021-10-19T09:43:45.609Z"
   },
   {
    "duration": 229,
    "start_time": "2021-10-19T09:44:03.889Z"
   },
   {
    "duration": 232,
    "start_time": "2021-10-19T09:44:25.523Z"
   },
   {
    "duration": 7,
    "start_time": "2021-10-19T09:44:42.169Z"
   },
   {
    "duration": 17,
    "start_time": "2021-10-19T09:44:51.907Z"
   },
   {
    "duration": 338,
    "start_time": "2021-10-19T09:45:03.604Z"
   },
   {
    "duration": 9,
    "start_time": "2021-10-19T09:45:12.058Z"
   },
   {
    "duration": 501,
    "start_time": "2021-10-19T09:56:38.448Z"
   },
   {
    "duration": 508,
    "start_time": "2021-10-19T09:56:45.634Z"
   },
   {
    "duration": 220,
    "start_time": "2021-10-19T09:56:58.546Z"
   },
   {
    "duration": 214,
    "start_time": "2021-10-19T10:01:43.719Z"
   },
   {
    "duration": 9,
    "start_time": "2021-10-19T10:02:05.485Z"
   },
   {
    "duration": 10,
    "start_time": "2021-10-19T10:02:26.094Z"
   },
   {
    "duration": 8,
    "start_time": "2021-10-19T10:02:58.209Z"
   },
   {
    "duration": 9,
    "start_time": "2021-10-19T10:03:03.486Z"
   },
   {
    "duration": 10,
    "start_time": "2021-10-19T10:03:13.557Z"
   },
   {
    "duration": 7,
    "start_time": "2021-10-19T10:03:25.524Z"
   },
   {
    "duration": 4,
    "start_time": "2021-10-19T10:04:09.778Z"
   },
   {
    "duration": 13,
    "start_time": "2021-10-19T10:04:09.785Z"
   },
   {
    "duration": 954,
    "start_time": "2021-10-19T10:04:09.801Z"
   },
   {
    "duration": 31,
    "start_time": "2021-10-19T10:04:10.758Z"
   },
   {
    "duration": 6,
    "start_time": "2021-10-19T10:04:10.792Z"
   },
   {
    "duration": 6,
    "start_time": "2021-10-19T10:04:10.800Z"
   },
   {
    "duration": 9,
    "start_time": "2021-10-19T10:04:10.808Z"
   },
   {
    "duration": 1288,
    "start_time": "2021-10-19T10:04:10.819Z"
   },
   {
    "duration": 7,
    "start_time": "2021-10-19T10:04:12.111Z"
   },
   {
    "duration": 7,
    "start_time": "2021-10-19T10:04:18.644Z"
   },
   {
    "duration": 10,
    "start_time": "2021-10-19T10:04:42.775Z"
   },
   {
    "duration": 6,
    "start_time": "2021-10-19T10:04:53.559Z"
   },
   {
    "duration": 7,
    "start_time": "2021-10-19T10:05:00.352Z"
   },
   {
    "duration": 11,
    "start_time": "2021-10-19T10:05:11.478Z"
   },
   {
    "duration": 9,
    "start_time": "2021-10-19T10:05:16.813Z"
   },
   {
    "duration": 10,
    "start_time": "2021-10-19T10:05:29.224Z"
   },
   {
    "duration": 5,
    "start_time": "2021-10-19T10:39:30.509Z"
   },
   {
    "duration": 5,
    "start_time": "2021-10-19T11:03:27.379Z"
   },
   {
    "duration": 10,
    "start_time": "2021-10-19T11:03:27.386Z"
   },
   {
    "duration": 968,
    "start_time": "2021-10-19T11:03:27.398Z"
   },
   {
    "duration": 32,
    "start_time": "2021-10-19T11:03:28.369Z"
   },
   {
    "duration": 7,
    "start_time": "2021-10-19T11:03:28.404Z"
   },
   {
    "duration": 17,
    "start_time": "2021-10-19T11:03:28.413Z"
   },
   {
    "duration": 16,
    "start_time": "2021-10-19T11:03:28.433Z"
   },
   {
    "duration": 17,
    "start_time": "2021-10-19T11:03:28.453Z"
   },
   {
    "duration": 6,
    "start_time": "2021-10-19T11:03:28.482Z"
   },
   {
    "duration": 14,
    "start_time": "2021-10-19T11:03:28.491Z"
   },
   {
    "duration": 14,
    "start_time": "2021-10-19T11:03:28.507Z"
   },
   {
    "duration": 28,
    "start_time": "2021-10-19T11:03:28.524Z"
   },
   {
    "duration": 48,
    "start_time": "2021-10-19T11:03:28.555Z"
   },
   {
    "duration": 26,
    "start_time": "2021-10-19T11:03:28.607Z"
   },
   {
    "duration": 20,
    "start_time": "2021-10-19T11:03:28.636Z"
   },
   {
    "duration": 424,
    "start_time": "2021-10-19T11:03:28.659Z"
   },
   {
    "duration": -1763,
    "start_time": "2021-10-19T11:03:30.849Z"
   },
   {
    "duration": -1768,
    "start_time": "2021-10-19T11:03:30.856Z"
   },
   {
    "duration": -1810,
    "start_time": "2021-10-19T11:03:30.899Z"
   },
   {
    "duration": -1819,
    "start_time": "2021-10-19T11:03:30.909Z"
   },
   {
    "duration": -1837,
    "start_time": "2021-10-19T11:03:30.928Z"
   },
   {
    "duration": -1838,
    "start_time": "2021-10-19T11:03:30.931Z"
   },
   {
    "duration": -1883,
    "start_time": "2021-10-19T11:03:30.977Z"
   },
   {
    "duration": -1884,
    "start_time": "2021-10-19T11:03:30.980Z"
   },
   {
    "duration": -1886,
    "start_time": "2021-10-19T11:03:30.983Z"
   },
   {
    "duration": -2044,
    "start_time": "2021-10-19T11:03:31.143Z"
   },
   {
    "duration": -2046,
    "start_time": "2021-10-19T11:03:31.146Z"
   },
   {
    "duration": -2046,
    "start_time": "2021-10-19T11:03:31.148Z"
   },
   {
    "duration": -2046,
    "start_time": "2021-10-19T11:03:31.150Z"
   },
   {
    "duration": -2050,
    "start_time": "2021-10-19T11:03:31.155Z"
   },
   {
    "duration": -2081,
    "start_time": "2021-10-19T11:03:31.188Z"
   },
   {
    "duration": -2089,
    "start_time": "2021-10-19T11:03:31.197Z"
   },
   {
    "duration": -2089,
    "start_time": "2021-10-19T11:03:31.199Z"
   },
   {
    "duration": -2090,
    "start_time": "2021-10-19T11:03:31.201Z"
   },
   {
    "duration": -2091,
    "start_time": "2021-10-19T11:03:31.203Z"
   },
   {
    "duration": 44,
    "start_time": "2021-10-19T11:04:01.392Z"
   },
   {
    "duration": 16,
    "start_time": "2021-10-19T11:04:01.440Z"
   },
   {
    "duration": 30,
    "start_time": "2021-10-19T11:04:01.459Z"
   },
   {
    "duration": 11,
    "start_time": "2021-10-19T11:04:01.492Z"
   },
   {
    "duration": 13,
    "start_time": "2021-10-19T11:04:01.505Z"
   },
   {
    "duration": 17,
    "start_time": "2021-10-19T11:04:01.521Z"
   },
   {
    "duration": 168,
    "start_time": "2021-10-19T11:04:01.541Z"
   },
   {
    "duration": 82,
    "start_time": "2021-10-19T11:04:01.713Z"
   },
   {
    "duration": 187,
    "start_time": "2021-10-19T11:04:01.799Z"
   },
   {
    "duration": 19,
    "start_time": "2021-10-19T11:04:01.989Z"
   },
   {
    "duration": 271,
    "start_time": "2021-10-19T11:04:02.010Z"
   },
   {
    "duration": -1125,
    "start_time": "2021-10-19T11:04:03.408Z"
   },
   {
    "duration": -1176,
    "start_time": "2021-10-19T11:04:03.460Z"
   },
   {
    "duration": -1181,
    "start_time": "2021-10-19T11:04:03.467Z"
   },
   {
    "duration": -1189,
    "start_time": "2021-10-19T11:04:03.476Z"
   },
   {
    "duration": -1197,
    "start_time": "2021-10-19T11:04:03.486Z"
   },
   {
    "duration": -1202,
    "start_time": "2021-10-19T11:04:03.492Z"
   },
   {
    "duration": -1236,
    "start_time": "2021-10-19T11:04:03.527Z"
   },
   {
    "duration": -1239,
    "start_time": "2021-10-19T11:04:03.532Z"
   },
   {
    "duration": 5,
    "start_time": "2021-10-19T11:06:31.430Z"
   },
   {
    "duration": 38,
    "start_time": "2021-10-19T11:06:31.437Z"
   },
   {
    "duration": 1020,
    "start_time": "2021-10-19T11:06:31.479Z"
   },
   {
    "duration": 24,
    "start_time": "2021-10-19T11:06:32.503Z"
   },
   {
    "duration": 7,
    "start_time": "2021-10-19T11:06:32.530Z"
   },
   {
    "duration": 9,
    "start_time": "2021-10-19T11:06:32.539Z"
   },
   {
    "duration": 32,
    "start_time": "2021-10-19T11:06:32.550Z"
   },
   {
    "duration": 9,
    "start_time": "2021-10-19T11:06:32.585Z"
   },
   {
    "duration": 7,
    "start_time": "2021-10-19T11:06:32.600Z"
   },
   {
    "duration": 12,
    "start_time": "2021-10-19T11:06:32.610Z"
   },
   {
    "duration": 11,
    "start_time": "2021-10-19T11:06:32.625Z"
   },
   {
    "duration": 53,
    "start_time": "2021-10-19T11:06:32.639Z"
   },
   {
    "duration": 37,
    "start_time": "2021-10-19T11:06:32.695Z"
   },
   {
    "duration": 63,
    "start_time": "2021-10-19T11:06:32.735Z"
   },
   {
    "duration": 11,
    "start_time": "2021-10-19T11:06:32.801Z"
   },
   {
    "duration": 67,
    "start_time": "2021-10-19T11:06:32.815Z"
   },
   {
    "duration": 13,
    "start_time": "2021-10-19T11:06:32.885Z"
   },
   {
    "duration": 10,
    "start_time": "2021-10-19T11:06:32.901Z"
   },
   {
    "duration": 24,
    "start_time": "2021-10-19T11:06:32.913Z"
   },
   {
    "duration": 11,
    "start_time": "2021-10-19T11:06:32.940Z"
   },
   {
    "duration": 22,
    "start_time": "2021-10-19T11:06:32.954Z"
   },
   {
    "duration": 141,
    "start_time": "2021-10-19T11:06:32.983Z"
   },
   {
    "duration": 77,
    "start_time": "2021-10-19T11:06:33.126Z"
   },
   {
    "duration": 188,
    "start_time": "2021-10-19T11:06:33.206Z"
   },
   {
    "duration": 23,
    "start_time": "2021-10-19T11:06:33.402Z"
   },
   {
    "duration": 5,
    "start_time": "2021-10-19T11:06:33.428Z"
   },
   {
    "duration": 42,
    "start_time": "2021-10-19T11:06:33.441Z"
   },
   {
    "duration": 551,
    "start_time": "2021-10-19T11:06:33.486Z"
   },
   {
    "duration": 402,
    "start_time": "2021-10-19T11:06:34.039Z"
   },
   {
    "duration": 417,
    "start_time": "2021-10-19T11:06:34.444Z"
   },
   {
    "duration": 18,
    "start_time": "2021-10-19T11:06:34.864Z"
   },
   {
    "duration": 343,
    "start_time": "2021-10-19T11:06:34.885Z"
   },
   {
    "duration": 329,
    "start_time": "2021-10-19T11:06:35.231Z"
   },
   {
    "duration": 353,
    "start_time": "2021-10-19T11:06:35.563Z"
   },
   {
    "duration": 8,
    "start_time": "2021-10-19T11:07:22.334Z"
   },
   {
    "duration": 247,
    "start_time": "2021-10-19T11:07:51.878Z"
   },
   {
    "duration": 1166,
    "start_time": "2021-10-19T11:20:35.201Z"
   },
   {
    "duration": 295,
    "start_time": "2021-10-19T11:21:18.669Z"
   },
   {
    "duration": 69,
    "start_time": "2021-10-19T11:23:10.844Z"
   },
   {
    "duration": 14,
    "start_time": "2021-10-19T11:23:59.546Z"
   },
   {
    "duration": 39,
    "start_time": "2021-10-19T11:24:06.703Z"
   },
   {
    "duration": 9,
    "start_time": "2021-10-19T11:24:18.470Z"
   },
   {
    "duration": 8,
    "start_time": "2021-10-19T11:24:30.540Z"
   },
   {
    "duration": 7,
    "start_time": "2021-10-19T11:24:56.501Z"
   },
   {
    "duration": 7,
    "start_time": "2021-10-19T11:25:03.502Z"
   },
   {
    "duration": 276,
    "start_time": "2021-10-19T11:25:38.516Z"
   },
   {
    "duration": 7,
    "start_time": "2021-10-19T11:25:55.242Z"
   },
   {
    "duration": 9019,
    "start_time": "2021-10-19T11:26:05.057Z"
   },
   {
    "duration": 11,
    "start_time": "2021-10-19T11:26:51.363Z"
   },
   {
    "duration": 10,
    "start_time": "2021-10-19T11:26:54.679Z"
   },
   {
    "duration": 6,
    "start_time": "2021-10-19T11:27:49.587Z"
   },
   {
    "duration": 7,
    "start_time": "2021-10-19T11:28:03.276Z"
   },
   {
    "duration": 5,
    "start_time": "2021-10-19T11:57:41.203Z"
   },
   {
    "duration": 10,
    "start_time": "2021-10-19T11:57:41.211Z"
   },
   {
    "duration": 992,
    "start_time": "2021-10-19T11:57:41.336Z"
   },
   {
    "duration": 25,
    "start_time": "2021-10-19T11:57:42.331Z"
   },
   {
    "duration": 26,
    "start_time": "2021-10-19T11:57:42.359Z"
   },
   {
    "duration": 15,
    "start_time": "2021-10-19T11:57:42.388Z"
   },
   {
    "duration": 20,
    "start_time": "2021-10-19T11:57:42.405Z"
   },
   {
    "duration": 28,
    "start_time": "2021-10-19T11:57:42.428Z"
   },
   {
    "duration": 286,
    "start_time": "2021-10-19T11:57:46.427Z"
   },
   {
    "duration": 7,
    "start_time": "2021-10-19T12:21:55.022Z"
   },
   {
    "duration": 2109,
    "start_time": "2021-10-19T12:22:40.907Z"
   },
   {
    "duration": 7,
    "start_time": "2021-10-19T12:26:05.910Z"
   },
   {
    "duration": 8,
    "start_time": "2021-10-19T12:29:40.017Z"
   },
   {
    "duration": 14,
    "start_time": "2021-10-19T12:29:48.034Z"
   },
   {
    "duration": 25,
    "start_time": "2021-10-19T12:33:22.976Z"
   },
   {
    "duration": 20,
    "start_time": "2021-10-19T12:35:14.375Z"
   },
   {
    "duration": 1112,
    "start_time": "2021-10-19T12:35:47.916Z"
   },
   {
    "duration": 94,
    "start_time": "2021-10-19T12:36:09.284Z"
   },
   {
    "duration": 15,
    "start_time": "2021-10-19T12:36:22.129Z"
   },
   {
    "duration": 326,
    "start_time": "2021-10-19T12:36:33.613Z"
   },
   {
    "duration": 16,
    "start_time": "2021-10-19T12:36:49.960Z"
   },
   {
    "duration": 9,
    "start_time": "2021-10-19T12:37:24.621Z"
   },
   {
    "duration": 5,
    "start_time": "2021-10-19T12:40:14.247Z"
   },
   {
    "duration": 15,
    "start_time": "2021-10-19T12:40:25.179Z"
   },
   {
    "duration": 7,
    "start_time": "2021-10-19T12:40:51.643Z"
   },
   {
    "duration": 7,
    "start_time": "2021-10-19T12:41:00.203Z"
   },
   {
    "duration": 10,
    "start_time": "2021-10-19T12:43:02.026Z"
   },
   {
    "duration": 446,
    "start_time": "2021-10-19T12:43:12.080Z"
   },
   {
    "duration": 9,
    "start_time": "2021-10-19T12:44:03.721Z"
   },
   {
    "duration": 3,
    "start_time": "2021-10-19T12:50:03.691Z"
   },
   {
    "duration": 19,
    "start_time": "2021-10-19T12:58:58.841Z"
   },
   {
    "duration": 16,
    "start_time": "2021-10-19T12:59:38.884Z"
   },
   {
    "duration": 21,
    "start_time": "2021-10-19T13:00:09.732Z"
   },
   {
    "duration": 12,
    "start_time": "2021-10-19T13:06:57.267Z"
   },
   {
    "duration": 16,
    "start_time": "2021-10-19T13:07:16.108Z"
   },
   {
    "duration": 12,
    "start_time": "2021-10-19T13:09:42.743Z"
   },
   {
    "duration": 9,
    "start_time": "2021-10-19T13:09:56.782Z"
   },
   {
    "duration": 8,
    "start_time": "2021-10-19T13:10:24.167Z"
   },
   {
    "duration": 279,
    "start_time": "2021-10-19T13:10:44.208Z"
   },
   {
    "duration": 11,
    "start_time": "2021-10-19T13:10:58.092Z"
   },
   {
    "duration": 99,
    "start_time": "2021-10-19T13:11:38.713Z"
   },
   {
    "duration": 341,
    "start_time": "2021-10-19T13:12:01.608Z"
   },
   {
    "duration": 9,
    "start_time": "2021-10-19T13:12:09.754Z"
   },
   {
    "duration": 8,
    "start_time": "2021-10-19T13:12:35.169Z"
   },
   {
    "duration": 7,
    "start_time": "2021-10-19T13:12:46.690Z"
   },
   {
    "duration": 1137,
    "start_time": "2021-10-20T05:56:13.037Z"
   },
   {
    "duration": 2,
    "start_time": "2021-10-20T05:56:14.176Z"
   },
   {
    "duration": 832,
    "start_time": "2021-10-20T05:56:14.180Z"
   },
   {
    "duration": 16,
    "start_time": "2021-10-20T05:56:15.013Z"
   },
   {
    "duration": 33,
    "start_time": "2021-10-20T05:56:15.031Z"
   },
   {
    "duration": 10,
    "start_time": "2021-10-20T05:56:15.066Z"
   },
   {
    "duration": 26,
    "start_time": "2021-10-20T05:56:15.078Z"
   },
   {
    "duration": 52,
    "start_time": "2021-10-20T05:56:15.106Z"
   },
   {
    "duration": 21,
    "start_time": "2021-10-20T05:56:15.160Z"
   },
   {
    "duration": 390,
    "start_time": "2021-10-20T06:11:33.524Z"
   },
   {
    "duration": 4,
    "start_time": "2021-10-20T06:11:45.885Z"
   },
   {
    "duration": 8,
    "start_time": "2021-10-20T06:11:45.893Z"
   },
   {
    "duration": 897,
    "start_time": "2021-10-20T06:11:45.903Z"
   },
   {
    "duration": 15,
    "start_time": "2021-10-20T06:11:46.802Z"
   },
   {
    "duration": 30,
    "start_time": "2021-10-20T06:11:46.819Z"
   },
   {
    "duration": 16,
    "start_time": "2021-10-20T06:11:46.852Z"
   },
   {
    "duration": 21,
    "start_time": "2021-10-20T06:11:46.870Z"
   },
   {
    "duration": 37,
    "start_time": "2021-10-20T06:11:46.892Z"
   },
   {
    "duration": 36,
    "start_time": "2021-10-20T06:11:46.931Z"
   },
   {
    "duration": 5,
    "start_time": "2021-10-20T06:11:46.970Z"
   },
   {
    "duration": 19,
    "start_time": "2021-10-20T06:11:46.977Z"
   },
   {
    "duration": 829,
    "start_time": "2021-10-20T06:11:46.997Z"
   },
   {
    "duration": 6,
    "start_time": "2021-10-20T06:11:47.828Z"
   },
   {
    "duration": 17,
    "start_time": "2021-10-20T06:11:47.836Z"
   },
   {
    "duration": 26,
    "start_time": "2021-10-20T06:11:47.855Z"
   },
   {
    "duration": 13,
    "start_time": "2021-10-20T06:11:47.883Z"
   },
   {
    "duration": 11,
    "start_time": "2021-10-20T06:11:47.898Z"
   },
   {
    "duration": 11,
    "start_time": "2021-10-20T06:11:47.911Z"
   },
   {
    "duration": 11,
    "start_time": "2021-10-20T06:11:47.923Z"
   },
   {
    "duration": 7,
    "start_time": "2021-10-20T06:11:47.936Z"
   },
   {
    "duration": 19,
    "start_time": "2021-10-20T06:11:47.945Z"
   },
   {
    "duration": 13,
    "start_time": "2021-10-20T06:11:47.966Z"
   },
   {
    "duration": 19,
    "start_time": "2021-10-20T06:11:47.981Z"
   },
   {
    "duration": 8,
    "start_time": "2021-10-20T06:11:48.001Z"
   },
   {
    "duration": 54,
    "start_time": "2021-10-20T06:11:48.011Z"
   },
   {
    "duration": 10,
    "start_time": "2021-10-20T06:11:48.067Z"
   },
   {
    "duration": 8,
    "start_time": "2021-10-20T06:11:48.079Z"
   },
   {
    "duration": 3,
    "start_time": "2021-10-20T06:11:48.092Z"
   },
   {
    "duration": 9,
    "start_time": "2021-10-20T06:11:48.097Z"
   },
   {
    "duration": 37,
    "start_time": "2021-10-20T06:11:48.108Z"
   },
   {
    "duration": 72,
    "start_time": "2021-10-20T06:11:48.149Z"
   },
   {
    "duration": 54,
    "start_time": "2021-10-20T06:11:48.222Z"
   },
   {
    "duration": 97,
    "start_time": "2021-10-20T06:11:48.278Z"
   },
   {
    "duration": 12,
    "start_time": "2021-10-20T06:11:48.377Z"
   },
   {
    "duration": 19,
    "start_time": "2021-10-20T06:11:48.390Z"
   },
   {
    "duration": 29,
    "start_time": "2021-10-20T06:11:48.411Z"
   },
   {
    "duration": 331,
    "start_time": "2021-10-20T06:11:48.442Z"
   },
   {
    "duration": 244,
    "start_time": "2021-10-20T06:11:48.775Z"
   },
   {
    "duration": 259,
    "start_time": "2021-10-20T06:11:49.021Z"
   },
   {
    "duration": 3,
    "start_time": "2021-10-20T06:11:49.282Z"
   },
   {
    "duration": 313,
    "start_time": "2021-10-20T06:11:49.287Z"
   },
   {
    "duration": 200,
    "start_time": "2021-10-20T06:11:49.602Z"
   },
   {
    "duration": 271,
    "start_time": "2021-10-20T06:11:49.804Z"
   },
   {
    "duration": 6,
    "start_time": "2021-10-20T06:13:04.478Z"
   },
   {
    "duration": 25,
    "start_time": "2021-10-20T06:24:51.481Z"
   },
   {
    "duration": 9,
    "start_time": "2021-10-20T06:25:12.868Z"
   },
   {
    "duration": 8731,
    "start_time": "2021-10-20T06:26:21.364Z"
   },
   {
    "duration": 9,
    "start_time": "2021-10-20T06:26:53.894Z"
   },
   {
    "duration": 7,
    "start_time": "2021-10-20T06:27:28.188Z"
   },
   {
    "duration": 6,
    "start_time": "2021-10-20T06:27:42.947Z"
   },
   {
    "duration": 8,
    "start_time": "2021-10-20T06:27:56.801Z"
   },
   {
    "duration": 6,
    "start_time": "2021-10-20T06:28:28.588Z"
   },
   {
    "duration": 6,
    "start_time": "2021-10-20T06:28:36.226Z"
   },
   {
    "duration": 6,
    "start_time": "2021-10-20T06:30:18.691Z"
   },
   {
    "duration": 6,
    "start_time": "2021-10-20T06:30:24.758Z"
   },
   {
    "duration": 366,
    "start_time": "2021-10-20T07:07:30.927Z"
   },
   {
    "duration": 371,
    "start_time": "2021-10-20T07:07:43.870Z"
   },
   {
    "duration": 4,
    "start_time": "2021-10-20T07:08:03.943Z"
   },
   {
    "duration": 368,
    "start_time": "2021-10-20T07:08:05.875Z"
   },
   {
    "duration": 395,
    "start_time": "2021-10-20T07:10:16.927Z"
   },
   {
    "duration": 791,
    "start_time": "2021-10-20T07:10:32.460Z"
   },
   {
    "duration": 364,
    "start_time": "2021-10-20T07:24:48.183Z"
   },
   {
    "duration": 5,
    "start_time": "2021-10-20T07:28:25.708Z"
   },
   {
    "duration": 384,
    "start_time": "2021-10-20T07:43:06.061Z"
   },
   {
    "duration": 1020,
    "start_time": "2021-10-20T07:43:23.985Z"
   },
   {
    "duration": 3,
    "start_time": "2021-10-20T07:43:25.007Z"
   },
   {
    "duration": 825,
    "start_time": "2021-10-20T07:43:25.012Z"
   },
   {
    "duration": 16,
    "start_time": "2021-10-20T07:43:25.839Z"
   },
   {
    "duration": 28,
    "start_time": "2021-10-20T07:43:25.857Z"
   },
   {
    "duration": 13,
    "start_time": "2021-10-20T07:43:25.887Z"
   },
   {
    "duration": 21,
    "start_time": "2021-10-20T07:43:25.902Z"
   },
   {
    "duration": 20,
    "start_time": "2021-10-20T07:43:25.945Z"
   },
   {
    "duration": 20,
    "start_time": "2021-10-20T07:43:25.967Z"
   },
   {
    "duration": 8,
    "start_time": "2021-10-20T07:43:25.988Z"
   },
   {
    "duration": 17,
    "start_time": "2021-10-20T07:43:25.997Z"
   },
   {
    "duration": 4,
    "start_time": "2021-10-20T07:46:44.622Z"
   },
   {
    "duration": 308,
    "start_time": "2021-10-20T07:46:47.198Z"
   },
   {
    "duration": 1044,
    "start_time": "2021-10-20T07:47:08.343Z"
   },
   {
    "duration": 3,
    "start_time": "2021-10-20T07:47:09.389Z"
   },
   {
    "duration": 901,
    "start_time": "2021-10-20T07:47:09.394Z"
   },
   {
    "duration": 16,
    "start_time": "2021-10-20T07:47:10.297Z"
   },
   {
    "duration": 41,
    "start_time": "2021-10-20T07:47:10.315Z"
   },
   {
    "duration": 11,
    "start_time": "2021-10-20T07:47:10.357Z"
   },
   {
    "duration": 23,
    "start_time": "2021-10-20T07:47:10.369Z"
   },
   {
    "duration": 17,
    "start_time": "2021-10-20T07:47:10.394Z"
   },
   {
    "duration": 52,
    "start_time": "2021-10-20T07:47:10.413Z"
   },
   {
    "duration": 9,
    "start_time": "2021-10-20T07:47:10.466Z"
   },
   {
    "duration": 9,
    "start_time": "2021-10-20T07:47:10.476Z"
   },
   {
    "duration": 161968,
    "start_time": "2021-10-20T07:47:12.816Z"
   },
   {
    "duration": 163109,
    "start_time": "2021-10-20T07:50:45.112Z"
   },
   {
    "duration": 3,
    "start_time": "2021-10-20T08:00:00.205Z"
   },
   {
    "duration": 3,
    "start_time": "2021-10-20T08:05:31.853Z"
   },
   {
    "duration": 299,
    "start_time": "2021-10-20T08:05:33.877Z"
   },
   {
    "duration": 998,
    "start_time": "2021-10-20T08:05:40.653Z"
   },
   {
    "duration": 3,
    "start_time": "2021-10-20T08:05:41.653Z"
   },
   {
    "duration": 750,
    "start_time": "2021-10-20T08:05:41.657Z"
   },
   {
    "duration": 16,
    "start_time": "2021-10-20T08:05:42.409Z"
   },
   {
    "duration": 36,
    "start_time": "2021-10-20T08:05:42.426Z"
   },
   {
    "duration": 16,
    "start_time": "2021-10-20T08:05:42.464Z"
   },
   {
    "duration": 21,
    "start_time": "2021-10-20T08:05:42.482Z"
   },
   {
    "duration": 17,
    "start_time": "2021-10-20T08:05:42.505Z"
   },
   {
    "duration": 40,
    "start_time": "2021-10-20T08:05:42.524Z"
   },
   {
    "duration": 5,
    "start_time": "2021-10-20T08:05:42.566Z"
   },
   {
    "duration": 21,
    "start_time": "2021-10-20T08:05:42.572Z"
   },
   {
    "duration": 1115,
    "start_time": "2021-10-20T08:06:27.240Z"
   },
   {
    "duration": 3,
    "start_time": "2021-10-20T08:06:28.357Z"
   },
   {
    "duration": 765,
    "start_time": "2021-10-20T08:06:28.362Z"
   },
   {
    "duration": 19,
    "start_time": "2021-10-20T08:06:29.129Z"
   },
   {
    "duration": 27,
    "start_time": "2021-10-20T08:06:29.150Z"
   },
   {
    "duration": 10,
    "start_time": "2021-10-20T08:06:29.179Z"
   },
   {
    "duration": 21,
    "start_time": "2021-10-20T08:06:29.191Z"
   },
   {
    "duration": 42,
    "start_time": "2021-10-20T08:06:29.214Z"
   },
   {
    "duration": 22,
    "start_time": "2021-10-20T08:06:29.258Z"
   },
   {
    "duration": 3,
    "start_time": "2021-10-20T08:06:29.281Z"
   },
   {
    "duration": 11,
    "start_time": "2021-10-20T08:06:29.286Z"
   },
   {
    "duration": 704,
    "start_time": "2021-10-20T08:06:32.257Z"
   },
   {
    "duration": 4,
    "start_time": "2021-10-20T08:07:02.199Z"
   },
   {
    "duration": 688,
    "start_time": "2021-10-20T08:07:04.068Z"
   },
   {
    "duration": 3,
    "start_time": "2021-10-20T08:27:01.269Z"
   },
   {
    "duration": 14,
    "start_time": "2021-10-20T08:27:01.274Z"
   },
   {
    "duration": 802,
    "start_time": "2021-10-20T08:27:01.291Z"
   },
   {
    "duration": 15,
    "start_time": "2021-10-20T08:27:02.095Z"
   },
   {
    "duration": 34,
    "start_time": "2021-10-20T08:27:02.113Z"
   },
   {
    "duration": 33,
    "start_time": "2021-10-20T08:27:02.150Z"
   },
   {
    "duration": 27,
    "start_time": "2021-10-20T08:27:02.186Z"
   },
   {
    "duration": 36,
    "start_time": "2021-10-20T08:27:02.215Z"
   },
   {
    "duration": 31,
    "start_time": "2021-10-20T08:27:02.254Z"
   },
   {
    "duration": 3,
    "start_time": "2021-10-20T08:27:02.287Z"
   },
   {
    "duration": 3,
    "start_time": "2021-10-20T08:27:11.855Z"
   },
   {
    "duration": 619,
    "start_time": "2021-10-20T08:27:26.995Z"
   },
   {
    "duration": 99,
    "start_time": "2021-10-20T08:32:36.003Z"
   },
   {
    "duration": 3,
    "start_time": "2021-10-20T08:32:40.887Z"
   },
   {
    "duration": 449,
    "start_time": "2021-10-20T08:32:45.877Z"
   },
   {
    "duration": 438,
    "start_time": "2021-10-20T08:33:53.086Z"
   },
   {
    "duration": 3,
    "start_time": "2021-10-20T08:34:25.757Z"
   },
   {
    "duration": 14767,
    "start_time": "2021-10-20T08:34:27.223Z"
   },
   {
    "duration": 3,
    "start_time": "2021-10-20T08:35:53.377Z"
   },
   {
    "duration": 3,
    "start_time": "2021-10-20T08:35:55.874Z"
   },
   {
    "duration": 14944,
    "start_time": "2021-10-20T08:35:57.577Z"
   },
   {
    "duration": 3,
    "start_time": "2021-10-20T08:37:01.131Z"
   },
   {
    "duration": 4,
    "start_time": "2021-10-20T08:39:15.524Z"
   },
   {
    "duration": 302,
    "start_time": "2021-10-20T08:39:20.282Z"
   },
   {
    "duration": 1007,
    "start_time": "2021-10-20T08:39:27.685Z"
   },
   {
    "duration": 3,
    "start_time": "2021-10-20T08:39:28.694Z"
   },
   {
    "duration": 794,
    "start_time": "2021-10-20T08:39:28.699Z"
   },
   {
    "duration": 16,
    "start_time": "2021-10-20T08:39:29.496Z"
   },
   {
    "duration": 40,
    "start_time": "2021-10-20T08:39:29.514Z"
   },
   {
    "duration": 9,
    "start_time": "2021-10-20T08:39:29.555Z"
   },
   {
    "duration": 22,
    "start_time": "2021-10-20T08:39:29.566Z"
   },
   {
    "duration": 15,
    "start_time": "2021-10-20T08:39:29.590Z"
   },
   {
    "duration": 51,
    "start_time": "2021-10-20T08:39:29.607Z"
   },
   {
    "duration": 5,
    "start_time": "2021-10-20T08:39:29.660Z"
   },
   {
    "duration": 17,
    "start_time": "2021-10-20T08:39:29.667Z"
   },
   {
    "duration": 492,
    "start_time": "2021-10-20T08:39:32.252Z"
   },
   {
    "duration": 505,
    "start_time": "2021-10-20T08:41:04.457Z"
   },
   {
    "duration": 7,
    "start_time": "2021-10-20T08:41:53.215Z"
   },
   {
    "duration": 6,
    "start_time": "2021-10-20T08:42:02.859Z"
   },
   {
    "duration": 5,
    "start_time": "2021-10-20T08:42:04.583Z"
   },
   {
    "duration": 9,
    "start_time": "2021-10-20T08:42:11.415Z"
   },
   {
    "duration": 4,
    "start_time": "2021-10-20T08:46:39.480Z"
   },
   {
    "duration": 7,
    "start_time": "2021-10-20T09:21:39.694Z"
   },
   {
    "duration": 330,
    "start_time": "2021-10-20T09:29:57.483Z"
   },
   {
    "duration": 5,
    "start_time": "2021-10-20T09:30:14.164Z"
   },
   {
    "duration": 270,
    "start_time": "2021-10-20T09:31:01.520Z"
   },
   {
    "duration": 3,
    "start_time": "2021-10-20T09:31:08.599Z"
   },
   {
    "duration": 35,
    "start_time": "2021-10-20T09:31:12.391Z"
   },
   {
    "duration": 10,
    "start_time": "2021-10-20T09:31:28.492Z"
   },
   {
    "duration": 4,
    "start_time": "2021-10-20T09:31:30.136Z"
   },
   {
    "duration": 271,
    "start_time": "2021-10-20T09:34:09.310Z"
   },
   {
    "duration": 268,
    "start_time": "2021-10-20T09:34:31.517Z"
   },
   {
    "duration": 4,
    "start_time": "2021-10-20T09:34:40.214Z"
   },
   {
    "duration": 11,
    "start_time": "2021-10-20T09:34:40.219Z"
   },
   {
    "duration": 817,
    "start_time": "2021-10-20T09:34:40.232Z"
   },
   {
    "duration": 15,
    "start_time": "2021-10-20T09:34:41.051Z"
   },
   {
    "duration": 22,
    "start_time": "2021-10-20T09:34:41.068Z"
   },
   {
    "duration": 9,
    "start_time": "2021-10-20T09:34:41.092Z"
   },
   {
    "duration": 22,
    "start_time": "2021-10-20T09:34:41.103Z"
   },
   {
    "duration": 30,
    "start_time": "2021-10-20T09:34:41.127Z"
   },
   {
    "duration": 20,
    "start_time": "2021-10-20T09:34:41.159Z"
   },
   {
    "duration": 3,
    "start_time": "2021-10-20T09:34:41.181Z"
   },
   {
    "duration": 10,
    "start_time": "2021-10-20T09:34:41.186Z"
   },
   {
    "duration": 634,
    "start_time": "2021-10-20T09:34:41.619Z"
   },
   {
    "duration": 6,
    "start_time": "2021-10-20T09:34:42.255Z"
   },
   {
    "duration": 7,
    "start_time": "2021-10-20T09:34:42.263Z"
   },
   {
    "duration": 7,
    "start_time": "2021-10-20T09:34:42.272Z"
   },
   {
    "duration": 12,
    "start_time": "2021-10-20T09:34:42.281Z"
   },
   {
    "duration": 6,
    "start_time": "2021-10-20T09:34:42.294Z"
   },
   {
    "duration": 8,
    "start_time": "2021-10-20T09:34:42.301Z"
   },
   {
    "duration": 8,
    "start_time": "2021-10-20T09:34:42.311Z"
   },
   {
    "duration": 15,
    "start_time": "2021-10-20T09:34:42.320Z"
   },
   {
    "duration": 6,
    "start_time": "2021-10-20T09:34:42.337Z"
   },
   {
    "duration": 7,
    "start_time": "2021-10-20T09:34:42.345Z"
   },
   {
    "duration": 20,
    "start_time": "2021-10-20T09:34:42.353Z"
   },
   {
    "duration": 6,
    "start_time": "2021-10-20T09:34:42.375Z"
   },
   {
    "duration": 12,
    "start_time": "2021-10-20T09:34:47.333Z"
   },
   {
    "duration": 3,
    "start_time": "2021-10-20T09:35:30.807Z"
   },
   {
    "duration": 25,
    "start_time": "2021-10-20T09:35:30.812Z"
   },
   {
    "duration": 806,
    "start_time": "2021-10-20T09:35:30.839Z"
   },
   {
    "duration": 16,
    "start_time": "2021-10-20T09:35:31.647Z"
   },
   {
    "duration": 25,
    "start_time": "2021-10-20T09:35:31.664Z"
   },
   {
    "duration": 12,
    "start_time": "2021-10-20T09:35:31.691Z"
   },
   {
    "duration": 47,
    "start_time": "2021-10-20T09:35:31.705Z"
   },
   {
    "duration": 17,
    "start_time": "2021-10-20T09:35:31.754Z"
   },
   {
    "duration": 22,
    "start_time": "2021-10-20T09:35:31.773Z"
   },
   {
    "duration": 8,
    "start_time": "2021-10-20T09:35:31.797Z"
   },
   {
    "duration": 13,
    "start_time": "2021-10-20T09:35:31.806Z"
   },
   {
    "duration": 524,
    "start_time": "2021-10-20T09:35:31.821Z"
   },
   {
    "duration": 7,
    "start_time": "2021-10-20T09:35:32.346Z"
   },
   {
    "duration": 20,
    "start_time": "2021-10-20T09:35:32.355Z"
   },
   {
    "duration": 7,
    "start_time": "2021-10-20T09:35:32.376Z"
   },
   {
    "duration": 6,
    "start_time": "2021-10-20T09:35:32.385Z"
   },
   {
    "duration": 12,
    "start_time": "2021-10-20T09:35:32.393Z"
   },
   {
    "duration": 7,
    "start_time": "2021-10-20T09:35:32.407Z"
   },
   {
    "duration": 14,
    "start_time": "2021-10-20T09:35:32.417Z"
   },
   {
    "duration": 10,
    "start_time": "2021-10-20T09:35:32.433Z"
   },
   {
    "duration": 10,
    "start_time": "2021-10-20T09:35:32.444Z"
   },
   {
    "duration": 19,
    "start_time": "2021-10-20T09:35:32.455Z"
   },
   {
    "duration": 21,
    "start_time": "2021-10-20T09:35:32.475Z"
   },
   {
    "duration": 5,
    "start_time": "2021-10-20T09:35:32.498Z"
   },
   {
    "duration": 8,
    "start_time": "2021-10-20T09:35:41.073Z"
   },
   {
    "duration": 4,
    "start_time": "2021-10-20T09:37:24.414Z"
   },
   {
    "duration": 7712,
    "start_time": "2021-10-20T09:38:30.399Z"
   },
   {
    "duration": 31,
    "start_time": "2021-10-20T09:40:01.809Z"
   },
   {
    "duration": 11,
    "start_time": "2021-10-20T09:40:19.336Z"
   },
   {
    "duration": 25,
    "start_time": "2021-10-20T09:42:03.527Z"
   },
   {
    "duration": 153,
    "start_time": "2021-10-20T09:43:15.201Z"
   },
   {
    "duration": 9,
    "start_time": "2021-10-20T09:43:25.440Z"
   },
   {
    "duration": 27,
    "start_time": "2021-10-20T09:43:33.582Z"
   },
   {
    "duration": 96,
    "start_time": "2021-10-20T09:43:42.560Z"
   },
   {
    "duration": 87,
    "start_time": "2021-10-20T09:43:59.057Z"
   },
   {
    "duration": 90,
    "start_time": "2021-10-20T09:44:06.517Z"
   },
   {
    "duration": 9,
    "start_time": "2021-10-20T09:48:46.918Z"
   },
   {
    "duration": 6,
    "start_time": "2021-10-20T09:48:57.980Z"
   },
   {
    "duration": 14,
    "start_time": "2021-10-20T09:51:48.954Z"
   },
   {
    "duration": 330,
    "start_time": "2021-10-20T10:07:06.695Z"
   },
   {
    "duration": 3,
    "start_time": "2021-10-20T10:07:24.116Z"
   },
   {
    "duration": 7,
    "start_time": "2021-10-20T10:07:24.123Z"
   },
   {
    "duration": 1045,
    "start_time": "2021-10-20T10:07:24.132Z"
   },
   {
    "duration": 24,
    "start_time": "2021-10-20T10:07:25.180Z"
   },
   {
    "duration": 44,
    "start_time": "2021-10-20T10:07:25.206Z"
   },
   {
    "duration": 13,
    "start_time": "2021-10-20T10:07:25.251Z"
   },
   {
    "duration": 24,
    "start_time": "2021-10-20T10:07:25.266Z"
   },
   {
    "duration": 19,
    "start_time": "2021-10-20T10:07:25.292Z"
   },
   {
    "duration": 55,
    "start_time": "2021-10-20T10:07:25.313Z"
   },
   {
    "duration": 3,
    "start_time": "2021-10-20T10:07:25.371Z"
   },
   {
    "duration": 6,
    "start_time": "2021-10-20T10:07:25.376Z"
   },
   {
    "duration": 593,
    "start_time": "2021-10-20T10:07:25.384Z"
   },
   {
    "duration": 7,
    "start_time": "2021-10-20T10:07:25.979Z"
   },
   {
    "duration": 10,
    "start_time": "2021-10-20T10:07:25.987Z"
   },
   {
    "duration": 13,
    "start_time": "2021-10-20T10:07:25.998Z"
   },
   {
    "duration": 7,
    "start_time": "2021-10-20T10:07:26.013Z"
   },
   {
    "duration": 22,
    "start_time": "2021-10-20T10:07:26.022Z"
   },
   {
    "duration": 6,
    "start_time": "2021-10-20T10:07:26.046Z"
   },
   {
    "duration": 10,
    "start_time": "2021-10-20T10:07:26.054Z"
   },
   {
    "duration": 8,
    "start_time": "2021-10-20T10:07:26.066Z"
   },
   {
    "duration": 14,
    "start_time": "2021-10-20T10:07:26.076Z"
   },
   {
    "duration": 11,
    "start_time": "2021-10-20T10:07:26.092Z"
   },
   {
    "duration": 28,
    "start_time": "2021-10-20T10:07:26.105Z"
   },
   {
    "duration": 2,
    "start_time": "2021-10-20T10:07:26.136Z"
   },
   {
    "duration": 19,
    "start_time": "2021-10-20T10:07:26.140Z"
   },
   {
    "duration": 10,
    "start_time": "2021-10-20T10:07:31.655Z"
   },
   {
    "duration": 7765,
    "start_time": "2021-10-20T10:07:37.193Z"
   },
   {
    "duration": 6836,
    "start_time": "2021-10-20T10:07:56.330Z"
   },
   {
    "duration": 3,
    "start_time": "2021-10-20T10:15:04.597Z"
   },
   {
    "duration": 6,
    "start_time": "2021-10-20T10:15:04.602Z"
   },
   {
    "duration": 768,
    "start_time": "2021-10-20T10:15:04.610Z"
   },
   {
    "duration": 16,
    "start_time": "2021-10-20T10:15:05.380Z"
   },
   {
    "duration": 24,
    "start_time": "2021-10-20T10:15:05.397Z"
   },
   {
    "duration": 30,
    "start_time": "2021-10-20T10:15:05.422Z"
   },
   {
    "duration": 22,
    "start_time": "2021-10-20T10:15:05.455Z"
   },
   {
    "duration": 16,
    "start_time": "2021-10-20T10:15:05.480Z"
   },
   {
    "duration": 48,
    "start_time": "2021-10-20T10:15:05.498Z"
   },
   {
    "duration": 4,
    "start_time": "2021-10-20T10:15:05.547Z"
   },
   {
    "duration": 8,
    "start_time": "2021-10-20T10:15:05.552Z"
   },
   {
    "duration": 488,
    "start_time": "2021-10-20T10:15:05.561Z"
   },
   {
    "duration": 7,
    "start_time": "2021-10-20T10:15:06.051Z"
   },
   {
    "duration": 8,
    "start_time": "2021-10-20T10:15:06.060Z"
   },
   {
    "duration": 16,
    "start_time": "2021-10-20T10:15:06.069Z"
   },
   {
    "duration": 6,
    "start_time": "2021-10-20T10:15:06.087Z"
   },
   {
    "duration": 6,
    "start_time": "2021-10-20T10:15:06.096Z"
   },
   {
    "duration": 4,
    "start_time": "2021-10-20T10:15:06.104Z"
   },
   {
    "duration": 4,
    "start_time": "2021-10-20T10:15:06.111Z"
   },
   {
    "duration": 29,
    "start_time": "2021-10-20T10:15:06.117Z"
   },
   {
    "duration": 6,
    "start_time": "2021-10-20T10:15:06.148Z"
   },
   {
    "duration": 7,
    "start_time": "2021-10-20T10:15:06.156Z"
   },
   {
    "duration": 20,
    "start_time": "2021-10-20T10:15:06.165Z"
   },
   {
    "duration": 2,
    "start_time": "2021-10-20T10:15:06.187Z"
   },
   {
    "duration": 319,
    "start_time": "2021-10-20T10:15:06.191Z"
   },
   {
    "duration": -1252,
    "start_time": "2021-10-20T10:15:07.763Z"
   },
   {
    "duration": 397,
    "start_time": "2021-10-20T10:17:10.767Z"
   },
   {
    "duration": 4,
    "start_time": "2021-10-20T10:27:15.906Z"
   },
   {
    "duration": 751,
    "start_time": "2021-10-20T10:27:24.037Z"
   },
   {
    "duration": 5,
    "start_time": "2021-10-20T10:27:31.476Z"
   },
   {
    "duration": 309,
    "start_time": "2021-10-20T10:27:52.796Z"
   },
   {
    "duration": 16,
    "start_time": "2021-10-20T10:32:48.814Z"
   },
   {
    "duration": 16,
    "start_time": "2021-10-20T10:33:02.160Z"
   },
   {
    "duration": 4,
    "start_time": "2021-10-20T10:33:10.766Z"
   },
   {
    "duration": 13,
    "start_time": "2021-10-20T10:34:46.208Z"
   },
   {
    "duration": 4,
    "start_time": "2021-10-20T10:34:47.449Z"
   },
   {
    "duration": 3,
    "start_time": "2021-10-20T10:35:21.805Z"
   },
   {
    "duration": 19,
    "start_time": "2021-10-20T10:35:21.810Z"
   },
   {
    "duration": 770,
    "start_time": "2021-10-20T10:35:21.830Z"
   },
   {
    "duration": 16,
    "start_time": "2021-10-20T10:35:22.603Z"
   },
   {
    "duration": 35,
    "start_time": "2021-10-20T10:35:22.621Z"
   },
   {
    "duration": 11,
    "start_time": "2021-10-20T10:35:22.658Z"
   },
   {
    "duration": 23,
    "start_time": "2021-10-20T10:35:22.671Z"
   },
   {
    "duration": 17,
    "start_time": "2021-10-20T10:35:22.697Z"
   },
   {
    "duration": 48,
    "start_time": "2021-10-20T10:35:22.716Z"
   },
   {
    "duration": 12,
    "start_time": "2021-10-20T10:35:22.765Z"
   },
   {
    "duration": 12,
    "start_time": "2021-10-20T10:35:22.778Z"
   },
   {
    "duration": 480,
    "start_time": "2021-10-20T10:35:22.792Z"
   },
   {
    "duration": 8,
    "start_time": "2021-10-20T10:35:23.273Z"
   },
   {
    "duration": 40,
    "start_time": "2021-10-20T10:35:23.283Z"
   },
   {
    "duration": 29,
    "start_time": "2021-10-20T10:35:23.325Z"
   },
   {
    "duration": 31,
    "start_time": "2021-10-20T10:35:23.356Z"
   },
   {
    "duration": 29,
    "start_time": "2021-10-20T10:35:23.389Z"
   },
   {
    "duration": 19,
    "start_time": "2021-10-20T10:35:23.420Z"
   },
   {
    "duration": 20,
    "start_time": "2021-10-20T10:35:23.442Z"
   },
   {
    "duration": 26,
    "start_time": "2021-10-20T10:35:23.464Z"
   },
   {
    "duration": 42,
    "start_time": "2021-10-20T10:35:23.492Z"
   },
   {
    "duration": 20,
    "start_time": "2021-10-20T10:35:23.536Z"
   },
   {
    "duration": 42,
    "start_time": "2021-10-20T10:35:23.558Z"
   },
   {
    "duration": 28,
    "start_time": "2021-10-20T10:35:23.602Z"
   },
   {
    "duration": 42,
    "start_time": "2021-10-20T10:35:23.632Z"
   },
   {
    "duration": 11,
    "start_time": "2021-10-20T10:35:35.706Z"
   },
   {
    "duration": 5,
    "start_time": "2021-10-20T10:35:37.733Z"
   },
   {
    "duration": 14,
    "start_time": "2021-10-20T10:36:40.371Z"
   },
   {
    "duration": 6,
    "start_time": "2021-10-20T10:37:17.408Z"
   },
   {
    "duration": 6,
    "start_time": "2021-10-20T10:37:24.045Z"
   },
   {
    "duration": 8,
    "start_time": "2021-10-20T10:39:37.237Z"
   },
   {
    "duration": 6,
    "start_time": "2021-10-20T10:40:12.624Z"
   },
   {
    "duration": 974,
    "start_time": "2021-10-20T10:51:17.388Z"
   },
   {
    "duration": 9775,
    "start_time": "2021-10-20T10:51:55.535Z"
   },
   {
    "duration": 5,
    "start_time": "2021-10-20T10:53:15.803Z"
   },
   {
    "duration": 9873,
    "start_time": "2021-10-20T10:53:27.187Z"
   },
   {
    "duration": 21,
    "start_time": "2021-10-20T10:54:01.308Z"
   },
   {
    "duration": 4,
    "start_time": "2021-10-20T11:01:52.776Z"
   },
   {
    "duration": 3,
    "start_time": "2021-10-20T11:01:52.786Z"
   },
   {
    "duration": 1104,
    "start_time": "2021-10-20T11:01:52.791Z"
   },
   {
    "duration": 22,
    "start_time": "2021-10-20T11:01:53.898Z"
   },
   {
    "duration": 35,
    "start_time": "2021-10-20T11:01:53.922Z"
   },
   {
    "duration": 12,
    "start_time": "2021-10-20T11:01:53.959Z"
   },
   {
    "duration": 20,
    "start_time": "2021-10-20T11:01:53.973Z"
   },
   {
    "duration": 19,
    "start_time": "2021-10-20T11:01:53.995Z"
   },
   {
    "duration": 47,
    "start_time": "2021-10-20T11:01:54.016Z"
   },
   {
    "duration": 7,
    "start_time": "2021-10-20T11:01:54.065Z"
   },
   {
    "duration": 6,
    "start_time": "2021-10-20T11:01:54.074Z"
   },
   {
    "duration": 534,
    "start_time": "2021-10-20T11:01:54.082Z"
   },
   {
    "duration": 8,
    "start_time": "2021-10-20T11:01:54.617Z"
   },
   {
    "duration": 19,
    "start_time": "2021-10-20T11:01:54.627Z"
   },
   {
    "duration": 6,
    "start_time": "2021-10-20T11:01:54.648Z"
   },
   {
    "duration": 7,
    "start_time": "2021-10-20T11:01:54.655Z"
   },
   {
    "duration": 6,
    "start_time": "2021-10-20T11:01:54.664Z"
   },
   {
    "duration": 9,
    "start_time": "2021-10-20T11:01:54.672Z"
   },
   {
    "duration": 8,
    "start_time": "2021-10-20T11:01:54.682Z"
   },
   {
    "duration": 11,
    "start_time": "2021-10-20T11:01:54.692Z"
   },
   {
    "duration": 4,
    "start_time": "2021-10-20T11:01:54.705Z"
   },
   {
    "duration": 8,
    "start_time": "2021-10-20T11:01:54.711Z"
   },
   {
    "duration": 40,
    "start_time": "2021-10-20T11:01:54.721Z"
   },
   {
    "duration": 8,
    "start_time": "2021-10-20T11:01:54.764Z"
   },
   {
    "duration": 7,
    "start_time": "2021-10-20T11:02:21.981Z"
   },
   {
    "duration": 6,
    "start_time": "2021-10-20T11:02:34.125Z"
   },
   {
    "duration": 443,
    "start_time": "2021-10-20T11:02:36.425Z"
   },
   {
    "duration": 6,
    "start_time": "2021-10-20T11:02:42.560Z"
   },
   {
    "duration": 262,
    "start_time": "2021-10-20T11:06:36.820Z"
   },
   {
    "duration": 3,
    "start_time": "2021-10-20T11:06:48.302Z"
   },
   {
    "duration": 6,
    "start_time": "2021-10-20T11:06:48.308Z"
   },
   {
    "duration": 756,
    "start_time": "2021-10-20T11:06:48.316Z"
   },
   {
    "duration": 15,
    "start_time": "2021-10-20T11:06:49.074Z"
   },
   {
    "duration": 21,
    "start_time": "2021-10-20T11:06:49.091Z"
   },
   {
    "duration": 30,
    "start_time": "2021-10-20T11:06:49.114Z"
   },
   {
    "duration": 21,
    "start_time": "2021-10-20T11:06:49.146Z"
   },
   {
    "duration": 20,
    "start_time": "2021-10-20T11:06:49.170Z"
   },
   {
    "duration": 21,
    "start_time": "2021-10-20T11:06:49.192Z"
   },
   {
    "duration": 3,
    "start_time": "2021-10-20T11:06:49.214Z"
   },
   {
    "duration": 27,
    "start_time": "2021-10-20T11:06:49.219Z"
   },
   {
    "duration": 463,
    "start_time": "2021-10-20T11:06:49.248Z"
   },
   {
    "duration": 7,
    "start_time": "2021-10-20T11:06:49.712Z"
   },
   {
    "duration": 6,
    "start_time": "2021-10-20T11:06:49.721Z"
   },
   {
    "duration": 18,
    "start_time": "2021-10-20T11:06:49.729Z"
   },
   {
    "duration": 9,
    "start_time": "2021-10-20T11:06:49.748Z"
   },
   {
    "duration": 6,
    "start_time": "2021-10-20T11:06:49.758Z"
   },
   {
    "duration": 6,
    "start_time": "2021-10-20T11:06:49.766Z"
   },
   {
    "duration": 5,
    "start_time": "2021-10-20T11:06:49.774Z"
   },
   {
    "duration": 6,
    "start_time": "2021-10-20T11:06:49.780Z"
   },
   {
    "duration": 4,
    "start_time": "2021-10-20T11:06:49.788Z"
   },
   {
    "duration": 6,
    "start_time": "2021-10-20T11:06:49.794Z"
   },
   {
    "duration": 47,
    "start_time": "2021-10-20T11:06:49.801Z"
   },
   {
    "duration": 5,
    "start_time": "2021-10-20T11:06:49.849Z"
   },
   {
    "duration": 469,
    "start_time": "2021-10-20T11:06:49.856Z"
   },
   {
    "duration": 6,
    "start_time": "2021-10-20T11:06:53.570Z"
   },
   {
    "duration": 643,
    "start_time": "2021-10-20T11:22:50.919Z"
   },
   {
    "duration": 3,
    "start_time": "2021-10-20T11:23:29.240Z"
   },
   {
    "duration": 7,
    "start_time": "2021-10-20T11:23:29.245Z"
   },
   {
    "duration": 727,
    "start_time": "2021-10-20T11:23:29.254Z"
   },
   {
    "duration": 15,
    "start_time": "2021-10-20T11:23:29.983Z"
   },
   {
    "duration": 23,
    "start_time": "2021-10-20T11:23:29.999Z"
   },
   {
    "duration": 26,
    "start_time": "2021-10-20T11:23:30.023Z"
   },
   {
    "duration": 22,
    "start_time": "2021-10-20T11:23:30.050Z"
   },
   {
    "duration": 25,
    "start_time": "2021-10-20T11:23:30.075Z"
   },
   {
    "duration": 20,
    "start_time": "2021-10-20T11:23:30.102Z"
   },
   {
    "duration": 3,
    "start_time": "2021-10-20T11:23:30.145Z"
   },
   {
    "duration": 7,
    "start_time": "2021-10-20T11:23:30.150Z"
   },
   {
    "duration": 460,
    "start_time": "2021-10-20T11:23:30.158Z"
   },
   {
    "duration": 7,
    "start_time": "2021-10-20T11:23:30.619Z"
   },
   {
    "duration": 17,
    "start_time": "2021-10-20T11:23:30.627Z"
   },
   {
    "duration": 15,
    "start_time": "2021-10-20T11:23:30.646Z"
   },
   {
    "duration": 20,
    "start_time": "2021-10-20T11:23:30.662Z"
   },
   {
    "duration": 24,
    "start_time": "2021-10-20T11:23:30.683Z"
   },
   {
    "duration": 29,
    "start_time": "2021-10-20T11:23:30.708Z"
   },
   {
    "duration": 12,
    "start_time": "2021-10-20T11:23:30.739Z"
   },
   {
    "duration": 15,
    "start_time": "2021-10-20T11:23:30.753Z"
   },
   {
    "duration": 28,
    "start_time": "2021-10-20T11:23:30.769Z"
   },
   {
    "duration": 13,
    "start_time": "2021-10-20T11:23:30.799Z"
   },
   {
    "duration": 29,
    "start_time": "2021-10-20T11:23:30.814Z"
   },
   {
    "duration": 9,
    "start_time": "2021-10-20T11:23:30.845Z"
   },
   {
    "duration": 468,
    "start_time": "2021-10-20T11:23:30.856Z"
   },
   {
    "duration": 9,
    "start_time": "2021-10-20T11:23:35.412Z"
   },
   {
    "duration": 440,
    "start_time": "2021-10-20T11:26:14.101Z"
   },
   {
    "duration": 7,
    "start_time": "2021-10-20T11:26:21.052Z"
   },
   {
    "duration": 5,
    "start_time": "2021-10-20T11:26:43.292Z"
   },
   {
    "duration": 7,
    "start_time": "2021-10-20T11:27:09.668Z"
   },
   {
    "duration": 4,
    "start_time": "2021-10-20T11:30:48.739Z"
   },
   {
    "duration": 5,
    "start_time": "2021-10-20T11:33:29.365Z"
   },
   {
    "duration": 5,
    "start_time": "2021-10-20T11:37:59.869Z"
   },
   {
    "duration": 5,
    "start_time": "2021-10-20T11:38:09.374Z"
   },
   {
    "duration": 5,
    "start_time": "2021-10-20T11:38:14.333Z"
   },
   {
    "duration": 5,
    "start_time": "2021-10-20T11:38:30.966Z"
   },
   {
    "duration": 428,
    "start_time": "2021-10-20T11:40:08.377Z"
   },
   {
    "duration": 8,
    "start_time": "2021-10-20T11:40:20.418Z"
   },
   {
    "duration": 6,
    "start_time": "2021-10-20T11:41:22.631Z"
   },
   {
    "duration": 8,
    "start_time": "2021-10-20T11:41:36.820Z"
   },
   {
    "duration": 8,
    "start_time": "2021-10-20T11:41:48.375Z"
   },
   {
    "duration": 4,
    "start_time": "2021-10-20T12:11:27.195Z"
   },
   {
    "duration": 4,
    "start_time": "2021-10-20T12:12:43.609Z"
   },
   {
    "duration": 4,
    "start_time": "2021-10-20T12:12:44.984Z"
   },
   {
    "duration": 5,
    "start_time": "2021-10-20T12:12:47.187Z"
   },
   {
    "duration": 414,
    "start_time": "2021-10-20T12:13:28.346Z"
   },
   {
    "duration": 4,
    "start_time": "2021-10-20T12:13:53.914Z"
   },
   {
    "duration": 16,
    "start_time": "2021-10-20T12:13:53.920Z"
   },
   {
    "duration": 748,
    "start_time": "2021-10-20T12:13:53.938Z"
   },
   {
    "duration": 14,
    "start_time": "2021-10-20T12:13:54.689Z"
   },
   {
    "duration": 46,
    "start_time": "2021-10-20T12:13:54.704Z"
   },
   {
    "duration": 23,
    "start_time": "2021-10-20T12:13:54.752Z"
   },
   {
    "duration": 41,
    "start_time": "2021-10-20T12:13:54.777Z"
   },
   {
    "duration": 25,
    "start_time": "2021-10-20T12:13:54.820Z"
   },
   {
    "duration": 26,
    "start_time": "2021-10-20T12:13:54.847Z"
   },
   {
    "duration": 3,
    "start_time": "2021-10-20T12:13:54.874Z"
   },
   {
    "duration": 12,
    "start_time": "2021-10-20T12:13:54.879Z"
   },
   {
    "duration": 507,
    "start_time": "2021-10-20T12:13:54.893Z"
   },
   {
    "duration": 7,
    "start_time": "2021-10-20T12:13:55.401Z"
   },
   {
    "duration": 6,
    "start_time": "2021-10-20T12:13:55.410Z"
   },
   {
    "duration": 4,
    "start_time": "2021-10-20T12:13:55.418Z"
   },
   {
    "duration": 24,
    "start_time": "2021-10-20T12:13:55.424Z"
   },
   {
    "duration": 5,
    "start_time": "2021-10-20T12:13:55.450Z"
   },
   {
    "duration": 5,
    "start_time": "2021-10-20T12:13:55.456Z"
   },
   {
    "duration": 6,
    "start_time": "2021-10-20T12:13:55.463Z"
   },
   {
    "duration": 6,
    "start_time": "2021-10-20T12:13:55.471Z"
   },
   {
    "duration": 5,
    "start_time": "2021-10-20T12:13:55.478Z"
   },
   {
    "duration": 8,
    "start_time": "2021-10-20T12:13:55.486Z"
   },
   {
    "duration": 23,
    "start_time": "2021-10-20T12:13:55.497Z"
   },
   {
    "duration": 26,
    "start_time": "2021-10-20T12:13:55.522Z"
   },
   {
    "duration": 486,
    "start_time": "2021-10-20T12:13:55.550Z"
   },
   {
    "duration": 479,
    "start_time": "2021-10-20T12:13:56.038Z"
   },
   {
    "duration": 7,
    "start_time": "2021-10-20T12:13:56.519Z"
   },
   {
    "duration": 19,
    "start_time": "2021-10-20T12:13:56.528Z"
   },
   {
    "duration": 7,
    "start_time": "2021-10-20T12:19:25.336Z"
   },
   {
    "duration": 4,
    "start_time": "2021-10-20T12:19:27.238Z"
   },
   {
    "duration": 3,
    "start_time": "2021-10-20T12:19:46.887Z"
   },
   {
    "duration": 10,
    "start_time": "2021-10-20T12:19:57.379Z"
   },
   {
    "duration": 4,
    "start_time": "2021-10-20T12:20:00.048Z"
   },
   {
    "duration": 4,
    "start_time": "2021-10-20T12:20:27.895Z"
   },
   {
    "duration": 6,
    "start_time": "2021-10-20T12:20:27.901Z"
   },
   {
    "duration": 817,
    "start_time": "2021-10-20T12:20:27.909Z"
   },
   {
    "duration": 29,
    "start_time": "2021-10-20T12:20:28.727Z"
   },
   {
    "duration": 25,
    "start_time": "2021-10-20T12:20:28.758Z"
   },
   {
    "duration": 16,
    "start_time": "2021-10-20T12:20:28.785Z"
   },
   {
    "duration": 46,
    "start_time": "2021-10-20T12:20:28.804Z"
   },
   {
    "duration": 21,
    "start_time": "2021-10-20T12:20:28.854Z"
   },
   {
    "duration": 24,
    "start_time": "2021-10-20T12:20:28.877Z"
   },
   {
    "duration": 13,
    "start_time": "2021-10-20T12:20:28.903Z"
   },
   {
    "duration": 30,
    "start_time": "2021-10-20T12:20:28.918Z"
   },
   {
    "duration": 499,
    "start_time": "2021-10-20T12:20:28.949Z"
   },
   {
    "duration": 7,
    "start_time": "2021-10-20T12:20:29.450Z"
   },
   {
    "duration": 10,
    "start_time": "2021-10-20T12:20:29.458Z"
   },
   {
    "duration": 8,
    "start_time": "2021-10-20T12:20:29.470Z"
   },
   {
    "duration": 9,
    "start_time": "2021-10-20T12:20:29.480Z"
   },
   {
    "duration": 5,
    "start_time": "2021-10-20T12:20:29.491Z"
   },
   {
    "duration": 9,
    "start_time": "2021-10-20T12:20:29.497Z"
   },
   {
    "duration": 9,
    "start_time": "2021-10-20T12:20:29.509Z"
   },
   {
    "duration": 25,
    "start_time": "2021-10-20T12:20:29.520Z"
   },
   {
    "duration": 11,
    "start_time": "2021-10-20T12:20:29.547Z"
   },
   {
    "duration": 9,
    "start_time": "2021-10-20T12:20:29.560Z"
   },
   {
    "duration": 21,
    "start_time": "2021-10-20T12:20:29.570Z"
   },
   {
    "duration": 6,
    "start_time": "2021-10-20T12:20:29.593Z"
   },
   {
    "duration": 501,
    "start_time": "2021-10-20T12:20:29.601Z"
   },
   {
    "duration": 481,
    "start_time": "2021-10-20T12:20:30.103Z"
   },
   {
    "duration": 7,
    "start_time": "2021-10-20T12:20:30.585Z"
   },
   {
    "duration": 24,
    "start_time": "2021-10-20T12:20:30.594Z"
   },
   {
    "duration": 4,
    "start_time": "2021-10-20T12:20:46.414Z"
   },
   {
    "duration": 8,
    "start_time": "2021-10-20T12:20:53.058Z"
   },
   {
    "duration": 4,
    "start_time": "2021-10-20T12:20:55.569Z"
   },
   {
    "duration": 10,
    "start_time": "2021-10-20T12:21:02.747Z"
   },
   {
    "duration": 9,
    "start_time": "2021-10-20T12:23:36.675Z"
   },
   {
    "duration": 295,
    "start_time": "2021-10-20T12:23:46.227Z"
   },
   {
    "duration": 10,
    "start_time": "2021-10-20T12:23:53.742Z"
   },
   {
    "duration": 6,
    "start_time": "2021-10-20T12:24:32.404Z"
   },
   {
    "duration": 8,
    "start_time": "2021-10-20T12:26:21.285Z"
   },
   {
    "duration": 15,
    "start_time": "2021-10-20T12:26:30.079Z"
   },
   {
    "duration": 7,
    "start_time": "2021-10-20T12:26:35.232Z"
   },
   {
    "duration": 7,
    "start_time": "2021-10-20T12:26:39.694Z"
   },
   {
    "duration": 8,
    "start_time": "2021-10-20T12:27:03.484Z"
   },
   {
    "duration": 9,
    "start_time": "2021-10-20T12:30:02.098Z"
   },
   {
    "duration": 7,
    "start_time": "2021-10-20T12:30:33.622Z"
   },
   {
    "duration": 4,
    "start_time": "2021-10-20T12:30:54.682Z"
   },
   {
    "duration": 4,
    "start_time": "2021-10-20T12:30:58.866Z"
   },
   {
    "duration": 12,
    "start_time": "2021-10-20T12:33:40.518Z"
   },
   {
    "duration": 254,
    "start_time": "2021-10-20T12:34:14.879Z"
   },
   {
    "duration": 191,
    "start_time": "2021-10-20T12:41:49.692Z"
   },
   {
    "duration": 195,
    "start_time": "2021-10-20T12:42:08.525Z"
   },
   {
    "duration": 197,
    "start_time": "2021-10-20T12:42:32.500Z"
   },
   {
    "duration": 5,
    "start_time": "2021-10-20T12:44:27.804Z"
   },
   {
    "duration": 7,
    "start_time": "2021-10-20T12:44:43.256Z"
   },
   {
    "duration": 5,
    "start_time": "2021-10-20T12:44:50.491Z"
   },
   {
    "duration": 283,
    "start_time": "2021-10-20T12:46:55.965Z"
   },
   {
    "duration": 35,
    "start_time": "2021-10-20T12:47:16.933Z"
   },
   {
    "duration": 7,
    "start_time": "2021-10-20T12:48:29.684Z"
   },
   {
    "duration": 3,
    "start_time": "2021-10-20T12:54:11.080Z"
   },
   {
    "duration": 105,
    "start_time": "2021-10-20T12:55:08.641Z"
   },
   {
    "duration": 269,
    "start_time": "2021-10-20T12:55:19.271Z"
   },
   {
    "duration": 6,
    "start_time": "2021-10-20T12:55:52.967Z"
   },
   {
    "duration": 92,
    "start_time": "2021-10-20T12:57:51.864Z"
   },
   {
    "duration": 2,
    "start_time": "2021-10-20T13:03:12.648Z"
   },
   {
    "duration": 278,
    "start_time": "2021-10-20T13:03:14.125Z"
   },
   {
    "duration": 22,
    "start_time": "2021-10-20T13:03:43.125Z"
   },
   {
    "duration": 1456,
    "start_time": "2021-10-20T13:04:07.354Z"
   },
   {
    "duration": 6,
    "start_time": "2021-10-20T13:09:09.460Z"
   },
   {
    "duration": 2,
    "start_time": "2021-10-20T13:10:00.386Z"
   },
   {
    "duration": 11,
    "start_time": "2021-10-20T13:10:06.009Z"
   },
   {
    "duration": 3,
    "start_time": "2021-10-20T13:20:48.236Z"
   },
   {
    "duration": 1461,
    "start_time": "2021-10-20T13:20:49.519Z"
   },
   {
    "duration": 3,
    "start_time": "2021-10-20T13:35:21.960Z"
   },
   {
    "duration": 90,
    "start_time": "2021-10-20T13:35:23.453Z"
   },
   {
    "duration": 3,
    "start_time": "2021-10-20T13:36:04.010Z"
   },
   {
    "duration": 52,
    "start_time": "2021-10-20T13:36:05.134Z"
   },
   {
    "duration": 3,
    "start_time": "2021-10-20T13:36:54.358Z"
   },
   {
    "duration": 567,
    "start_time": "2021-10-20T13:36:56.930Z"
   },
   {
    "duration": 3,
    "start_time": "2021-10-20T13:37:07.967Z"
   },
   {
    "duration": 53,
    "start_time": "2021-10-20T13:37:12.037Z"
   },
   {
    "duration": 419,
    "start_time": "2021-10-21T05:05:36.433Z"
   },
   {
    "duration": 1381,
    "start_time": "2021-10-21T05:05:43.248Z"
   },
   {
    "duration": 4,
    "start_time": "2021-10-21T05:05:44.632Z"
   },
   {
    "duration": 1031,
    "start_time": "2021-10-21T05:05:44.639Z"
   },
   {
    "duration": 33,
    "start_time": "2021-10-21T05:05:45.673Z"
   },
   {
    "duration": 45,
    "start_time": "2021-10-21T05:05:45.708Z"
   },
   {
    "duration": 16,
    "start_time": "2021-10-21T05:05:45.756Z"
   },
   {
    "duration": 37,
    "start_time": "2021-10-21T05:05:45.800Z"
   },
   {
    "duration": 26,
    "start_time": "2021-10-21T05:05:45.840Z"
   },
   {
    "duration": 62,
    "start_time": "2021-10-21T05:05:45.869Z"
   },
   {
    "duration": 4,
    "start_time": "2021-10-21T05:05:45.934Z"
   },
   {
    "duration": 10,
    "start_time": "2021-10-21T05:05:45.941Z"
   },
   {
    "duration": 857,
    "start_time": "2021-10-21T05:05:45.953Z"
   },
   {
    "duration": 9,
    "start_time": "2021-10-21T05:05:46.812Z"
   },
   {
    "duration": 17,
    "start_time": "2021-10-21T05:05:46.823Z"
   },
   {
    "duration": 6,
    "start_time": "2021-10-21T05:05:46.842Z"
   },
   {
    "duration": 11,
    "start_time": "2021-10-21T05:05:46.851Z"
   },
   {
    "duration": 38,
    "start_time": "2021-10-21T05:05:46.865Z"
   },
   {
    "duration": 3,
    "start_time": "2021-10-21T05:05:46.906Z"
   },
   {
    "duration": 5,
    "start_time": "2021-10-21T05:05:46.912Z"
   },
   {
    "duration": 9,
    "start_time": "2021-10-21T05:05:46.920Z"
   },
   {
    "duration": 8,
    "start_time": "2021-10-21T05:05:46.931Z"
   },
   {
    "duration": 10,
    "start_time": "2021-10-21T05:05:46.942Z"
   },
   {
    "duration": 62,
    "start_time": "2021-10-21T05:05:46.956Z"
   },
   {
    "duration": 8,
    "start_time": "2021-10-21T05:05:47.021Z"
   },
   {
    "duration": 835,
    "start_time": "2021-10-21T05:05:47.031Z"
   },
   {
    "duration": 817,
    "start_time": "2021-10-21T05:05:47.868Z"
   },
   {
    "duration": 16,
    "start_time": "2021-10-21T05:05:48.688Z"
   },
   {
    "duration": 9,
    "start_time": "2021-10-21T05:05:48.706Z"
   },
   {
    "duration": 19,
    "start_time": "2021-10-21T05:05:48.718Z"
   },
   {
    "duration": 21,
    "start_time": "2021-10-21T05:05:48.740Z"
   },
   {
    "duration": 43,
    "start_time": "2021-10-21T05:05:48.763Z"
   },
   {
    "duration": 11,
    "start_time": "2021-10-21T05:05:48.809Z"
   },
   {
    "duration": 17,
    "start_time": "2021-10-21T05:05:48.823Z"
   },
   {
    "duration": 3,
    "start_time": "2021-10-21T05:05:48.842Z"
   },
   {
    "duration": 55,
    "start_time": "2021-10-21T05:05:48.847Z"
   },
   {
    "duration": 3,
    "start_time": "2021-10-21T05:05:48.905Z"
   },
   {
    "duration": 93,
    "start_time": "2021-10-21T05:05:48.910Z"
   },
   {
    "duration": 10,
    "start_time": "2021-10-21T05:05:49.005Z"
   },
   {
    "duration": 10,
    "start_time": "2021-10-21T05:05:49.018Z"
   },
   {
    "duration": 4,
    "start_time": "2021-10-21T05:05:49.031Z"
   },
   {
    "duration": 9,
    "start_time": "2021-10-21T05:05:49.037Z"
   },
   {
    "duration": 8,
    "start_time": "2021-10-21T05:05:49.048Z"
   },
   {
    "duration": 467,
    "start_time": "2021-10-21T05:05:53.178Z"
   },
   {
    "duration": 115,
    "start_time": "2021-10-21T05:07:56.754Z"
   },
   {
    "duration": 10,
    "start_time": "2021-10-21T05:08:12.955Z"
   },
   {
    "duration": 17,
    "start_time": "2021-10-21T05:08:20.691Z"
   },
   {
    "duration": 12,
    "start_time": "2021-10-21T05:53:39.066Z"
   },
   {
    "duration": 8,
    "start_time": "2021-10-21T05:53:42.224Z"
   },
   {
    "duration": 17,
    "start_time": "2021-10-21T05:55:40.734Z"
   },
   {
    "duration": 12,
    "start_time": "2021-10-21T05:56:16.359Z"
   },
   {
    "duration": 4,
    "start_time": "2021-10-21T06:02:12.576Z"
   },
   {
    "duration": 9,
    "start_time": "2021-10-21T06:02:12.583Z"
   },
   {
    "duration": 1053,
    "start_time": "2021-10-21T06:02:12.595Z"
   },
   {
    "duration": 24,
    "start_time": "2021-10-21T06:02:13.651Z"
   },
   {
    "duration": 50,
    "start_time": "2021-10-21T06:02:13.678Z"
   },
   {
    "duration": 16,
    "start_time": "2021-10-21T06:02:13.730Z"
   },
   {
    "duration": 61,
    "start_time": "2021-10-21T06:02:13.748Z"
   },
   {
    "duration": 27,
    "start_time": "2021-10-21T06:02:13.811Z"
   },
   {
    "duration": 59,
    "start_time": "2021-10-21T06:02:13.841Z"
   },
   {
    "duration": 4,
    "start_time": "2021-10-21T06:02:13.903Z"
   },
   {
    "duration": 119,
    "start_time": "2021-10-21T06:02:13.909Z"
   },
   {
    "duration": 109,
    "start_time": "2021-10-21T06:02:32.037Z"
   },
   {
    "duration": 120,
    "start_time": "2021-10-21T06:02:58.482Z"
   },
   {
    "duration": 4,
    "start_time": "2021-10-21T06:03:18.629Z"
   },
   {
    "duration": 1301,
    "start_time": "2021-10-21T06:03:21.774Z"
   },
   {
    "duration": 5,
    "start_time": "2021-10-21T06:04:58.669Z"
   },
   {
    "duration": 5,
    "start_time": "2021-10-21T06:05:01.844Z"
   },
   {
    "duration": 810,
    "start_time": "2021-10-21T06:05:03.880Z"
   },
   {
    "duration": 5,
    "start_time": "2021-10-21T06:05:12.466Z"
   },
   {
    "duration": 9,
    "start_time": "2021-10-21T06:05:12.473Z"
   },
   {
    "duration": 1051,
    "start_time": "2021-10-21T06:05:12.485Z"
   },
   {
    "duration": 25,
    "start_time": "2021-10-21T06:05:13.538Z"
   },
   {
    "duration": 55,
    "start_time": "2021-10-21T06:05:13.565Z"
   },
   {
    "duration": 16,
    "start_time": "2021-10-21T06:05:13.623Z"
   },
   {
    "duration": 62,
    "start_time": "2021-10-21T06:05:13.641Z"
   },
   {
    "duration": 27,
    "start_time": "2021-10-21T06:05:13.707Z"
   },
   {
    "duration": 35,
    "start_time": "2021-10-21T06:05:13.737Z"
   },
   {
    "duration": 5,
    "start_time": "2021-10-21T06:05:13.800Z"
   },
   {
    "duration": 7,
    "start_time": "2021-10-21T06:05:13.807Z"
   },
   {
    "duration": 796,
    "start_time": "2021-10-21T06:05:13.817Z"
   },
   {
    "duration": 10,
    "start_time": "2021-10-21T06:05:14.615Z"
   },
   {
    "duration": 19,
    "start_time": "2021-10-21T06:05:14.627Z"
   },
   {
    "duration": 11,
    "start_time": "2021-10-21T06:05:14.649Z"
   },
   {
    "duration": 7,
    "start_time": "2021-10-21T06:05:14.662Z"
   },
   {
    "duration": 31,
    "start_time": "2021-10-21T06:05:14.671Z"
   },
   {
    "duration": 17,
    "start_time": "2021-10-21T06:05:14.704Z"
   },
   {
    "duration": 6,
    "start_time": "2021-10-21T06:05:14.724Z"
   },
   {
    "duration": 11,
    "start_time": "2021-10-21T06:05:14.732Z"
   },
   {
    "duration": 13,
    "start_time": "2021-10-21T06:05:14.745Z"
   },
   {
    "duration": 41,
    "start_time": "2021-10-21T06:05:14.760Z"
   },
   {
    "duration": 10,
    "start_time": "2021-10-21T06:05:14.807Z"
   },
   {
    "duration": 818,
    "start_time": "2021-10-21T06:05:14.820Z"
   },
   {
    "duration": 790,
    "start_time": "2021-10-21T06:05:15.640Z"
   },
   {
    "duration": 10,
    "start_time": "2021-10-21T06:05:16.432Z"
   },
   {
    "duration": 22,
    "start_time": "2021-10-21T06:05:16.444Z"
   },
   {
    "duration": 31,
    "start_time": "2021-10-21T06:05:16.469Z"
   },
   {
    "duration": 23,
    "start_time": "2021-10-21T06:05:16.502Z"
   },
   {
    "duration": 11,
    "start_time": "2021-10-21T06:05:16.528Z"
   },
   {
    "duration": 27,
    "start_time": "2021-10-21T06:05:16.541Z"
   },
   {
    "duration": 35,
    "start_time": "2021-10-21T06:05:16.571Z"
   },
   {
    "duration": 137,
    "start_time": "2021-10-21T06:05:16.609Z"
   },
   {
    "duration": 55,
    "start_time": "2021-10-21T06:05:16.749Z"
   },
   {
    "duration": 190,
    "start_time": "2021-10-21T06:05:16.807Z"
   },
   {
    "duration": 5,
    "start_time": "2021-10-21T06:05:17.000Z"
   },
   {
    "duration": 345,
    "start_time": "2021-10-21T06:05:17.007Z"
   },
   {
    "duration": -1330,
    "start_time": "2021-10-21T06:05:18.684Z"
   },
   {
    "duration": -1330,
    "start_time": "2021-10-21T06:05:18.686Z"
   },
   {
    "duration": -1331,
    "start_time": "2021-10-21T06:05:18.688Z"
   },
   {
    "duration": -1331,
    "start_time": "2021-10-21T06:05:18.689Z"
   },
   {
    "duration": -1336,
    "start_time": "2021-10-21T06:05:18.695Z"
   },
   {
    "duration": -1338,
    "start_time": "2021-10-21T06:05:18.699Z"
   },
   {
    "duration": -1340,
    "start_time": "2021-10-21T06:05:18.702Z"
   },
   {
    "duration": 21,
    "start_time": "2021-10-21T06:06:38.324Z"
   },
   {
    "duration": 13,
    "start_time": "2021-10-21T06:07:35.232Z"
   },
   {
    "duration": 5,
    "start_time": "2021-10-21T06:21:10.610Z"
   },
   {
    "duration": 7,
    "start_time": "2021-10-21T06:21:10.618Z"
   },
   {
    "duration": 1041,
    "start_time": "2021-10-21T06:21:10.629Z"
   },
   {
    "duration": 42,
    "start_time": "2021-10-21T06:21:11.673Z"
   },
   {
    "duration": 39,
    "start_time": "2021-10-21T06:21:11.718Z"
   },
   {
    "duration": 47,
    "start_time": "2021-10-21T06:21:11.760Z"
   },
   {
    "duration": 36,
    "start_time": "2021-10-21T06:21:11.812Z"
   },
   {
    "duration": 57,
    "start_time": "2021-10-21T06:21:11.852Z"
   },
   {
    "duration": 38,
    "start_time": "2021-10-21T06:21:11.912Z"
   },
   {
    "duration": 6,
    "start_time": "2021-10-21T06:21:11.954Z"
   },
   {
    "duration": 39,
    "start_time": "2021-10-21T06:21:11.963Z"
   },
   {
    "duration": 790,
    "start_time": "2021-10-21T06:21:12.005Z"
   },
   {
    "duration": 10,
    "start_time": "2021-10-21T06:21:12.801Z"
   },
   {
    "duration": 8,
    "start_time": "2021-10-21T06:21:12.814Z"
   },
   {
    "duration": 7,
    "start_time": "2021-10-21T06:21:12.825Z"
   },
   {
    "duration": 10,
    "start_time": "2021-10-21T06:21:12.835Z"
   },
   {
    "duration": 54,
    "start_time": "2021-10-21T06:21:12.848Z"
   },
   {
    "duration": 3,
    "start_time": "2021-10-21T06:21:12.909Z"
   },
   {
    "duration": 14,
    "start_time": "2021-10-21T06:21:12.916Z"
   },
   {
    "duration": 24,
    "start_time": "2021-10-21T06:21:12.933Z"
   },
   {
    "duration": 20,
    "start_time": "2021-10-21T06:21:12.961Z"
   },
   {
    "duration": 35,
    "start_time": "2021-10-21T06:21:12.984Z"
   },
   {
    "duration": 12,
    "start_time": "2021-10-21T06:21:13.022Z"
   },
   {
    "duration": 806,
    "start_time": "2021-10-21T06:21:13.037Z"
   },
   {
    "duration": 798,
    "start_time": "2021-10-21T06:21:13.845Z"
   },
   {
    "duration": 12,
    "start_time": "2021-10-21T06:21:14.646Z"
   },
   {
    "duration": 18,
    "start_time": "2021-10-21T06:21:14.660Z"
   },
   {
    "duration": 34,
    "start_time": "2021-10-21T06:21:14.680Z"
   },
   {
    "duration": 34,
    "start_time": "2021-10-21T06:21:14.717Z"
   },
   {
    "duration": 24,
    "start_time": "2021-10-21T06:21:14.754Z"
   },
   {
    "duration": 23,
    "start_time": "2021-10-21T06:21:14.781Z"
   },
   {
    "duration": 213,
    "start_time": "2021-10-21T06:21:14.806Z"
   },
   {
    "duration": 48,
    "start_time": "2021-10-21T06:21:15.022Z"
   },
   {
    "duration": 200,
    "start_time": "2021-10-21T06:21:15.072Z"
   },
   {
    "duration": 6,
    "start_time": "2021-10-21T06:21:15.275Z"
   },
   {
    "duration": 16,
    "start_time": "2021-10-21T06:21:15.300Z"
   },
   {
    "duration": 10,
    "start_time": "2021-10-21T06:21:15.319Z"
   },
   {
    "duration": 589,
    "start_time": "2021-10-21T06:21:15.332Z"
   },
   {
    "duration": 396,
    "start_time": "2021-10-21T06:21:15.923Z"
   },
   {
    "duration": 409,
    "start_time": "2021-10-21T06:21:16.322Z"
   },
   {
    "duration": 3,
    "start_time": "2021-10-21T06:21:16.734Z"
   },
   {
    "duration": 325,
    "start_time": "2021-10-21T06:21:16.740Z"
   },
   {
    "duration": 337,
    "start_time": "2021-10-21T06:21:17.067Z"
   },
   {
    "duration": 317,
    "start_time": "2021-10-21T06:21:17.407Z"
   },
   {
    "duration": -1291,
    "start_time": "2021-10-21T06:21:19.018Z"
   },
   {
    "duration": 386,
    "start_time": "2021-10-21T06:26:43.986Z"
   },
   {
    "duration": 483,
    "start_time": "2021-10-21T06:27:08.445Z"
   },
   {
    "duration": 11038,
    "start_time": "2021-10-21T06:29:18.711Z"
   },
   {
    "duration": 370,
    "start_time": "2021-10-21T06:29:38.338Z"
   },
   {
    "duration": 284,
    "start_time": "2021-10-21T06:29:52.681Z"
   },
   {
    "duration": 412,
    "start_time": "2021-10-21T07:57:04.917Z"
   },
   {
    "duration": 422,
    "start_time": "2021-10-21T07:57:17.081Z"
   },
   {
    "duration": 361,
    "start_time": "2021-10-21T07:59:31.802Z"
   },
   {
    "duration": 419,
    "start_time": "2021-10-21T08:00:02.731Z"
   },
   {
    "duration": 360,
    "start_time": "2021-10-21T08:05:34.282Z"
   },
   {
    "duration": 4,
    "start_time": "2021-10-21T08:05:53.352Z"
   },
   {
    "duration": 140,
    "start_time": "2021-10-21T08:06:17.527Z"
   },
   {
    "duration": 377,
    "start_time": "2021-10-21T08:06:32.328Z"
   },
   {
    "duration": 5,
    "start_time": "2021-10-21T08:07:57.040Z"
   },
   {
    "duration": 627,
    "start_time": "2021-10-21T08:08:02.978Z"
   },
   {
    "duration": 5,
    "start_time": "2021-10-21T08:08:33.734Z"
   },
   {
    "duration": 281,
    "start_time": "2021-10-21T08:08:39.677Z"
   },
   {
    "duration": 6,
    "start_time": "2021-10-21T08:10:39.922Z"
   },
   {
    "duration": 713,
    "start_time": "2021-10-21T08:12:18.651Z"
   },
   {
    "duration": 606,
    "start_time": "2021-10-21T08:12:33.997Z"
   },
   {
    "duration": 363,
    "start_time": "2021-10-21T08:12:42.588Z"
   },
   {
    "duration": 1159,
    "start_time": "2021-10-21T08:13:05.741Z"
   },
   {
    "duration": 1461,
    "start_time": "2021-10-21T08:13:59.432Z"
   },
   {
    "duration": 622,
    "start_time": "2021-10-21T08:16:09.881Z"
   },
   {
    "duration": 4265,
    "start_time": "2021-10-21T08:16:51.424Z"
   },
   {
    "duration": 4789,
    "start_time": "2021-10-21T08:18:59.930Z"
   },
   {
    "duration": 4403,
    "start_time": "2021-10-21T08:19:11.346Z"
   },
   {
    "duration": 4798,
    "start_time": "2021-10-21T08:20:11.527Z"
   },
   {
    "duration": -1431,
    "start_time": "2021-10-21T08:24:33.293Z"
   },
   {
    "duration": 124063,
    "start_time": "2021-10-21T08:24:38.176Z"
   },
   {
    "duration": -1426,
    "start_time": "2021-10-21T08:26:43.668Z"
   },
   {
    "duration": -1436,
    "start_time": "2021-10-21T08:26:43.684Z"
   },
   {
    "duration": 572,
    "start_time": "2021-10-21T08:26:59.416Z"
   },
   {
    "duration": 382,
    "start_time": "2021-10-21T08:27:09.165Z"
   },
   {
    "duration": 6,
    "start_time": "2021-10-21T08:27:15.981Z"
   },
   {
    "duration": 361,
    "start_time": "2021-10-21T08:27:23.379Z"
   },
   {
    "duration": 4,
    "start_time": "2021-10-21T08:28:22.306Z"
   },
   {
    "duration": 580,
    "start_time": "2021-10-21T08:28:27.525Z"
   },
   {
    "duration": -1281,
    "start_time": "2021-10-21T08:29:09.052Z"
   },
   {
    "duration": 71745,
    "start_time": "2021-10-21T08:29:38.347Z"
   },
   {
    "duration": 6156,
    "start_time": "2021-10-21T08:39:46.648Z"
   },
   {
    "duration": 10,
    "start_time": "2021-10-21T08:47:44.700Z"
   },
   {
    "duration": 11,
    "start_time": "2021-10-21T08:47:50.718Z"
   },
   {
    "duration": 5491,
    "start_time": "2021-10-21T08:48:07.004Z"
   },
   {
    "duration": 9,
    "start_time": "2021-10-21T08:49:57.110Z"
   },
   {
    "duration": 4196,
    "start_time": "2021-10-21T08:49:58.274Z"
   },
   {
    "duration": 333,
    "start_time": "2021-10-21T08:51:13.470Z"
   },
   {
    "duration": 309,
    "start_time": "2021-10-21T08:51:18.520Z"
   },
   {
    "duration": 328,
    "start_time": "2021-10-21T08:51:38.512Z"
   },
   {
    "duration": 1056,
    "start_time": "2021-10-21T08:52:00.088Z"
   },
   {
    "duration": 563,
    "start_time": "2021-10-21T08:52:11.103Z"
   },
   {
    "duration": 660,
    "start_time": "2021-10-21T08:52:30.544Z"
   },
   {
    "duration": 4,
    "start_time": "2021-10-21T09:33:34.305Z"
   },
   {
    "duration": 8,
    "start_time": "2021-10-21T09:33:34.312Z"
   },
   {
    "duration": 1001,
    "start_time": "2021-10-21T09:33:34.323Z"
   },
   {
    "duration": 24,
    "start_time": "2021-10-21T09:33:35.327Z"
   },
   {
    "duration": 52,
    "start_time": "2021-10-21T09:33:35.354Z"
   },
   {
    "duration": 16,
    "start_time": "2021-10-21T09:33:35.408Z"
   },
   {
    "duration": 39,
    "start_time": "2021-10-21T09:33:35.426Z"
   },
   {
    "duration": 57,
    "start_time": "2021-10-21T09:33:35.468Z"
   },
   {
    "duration": 37,
    "start_time": "2021-10-21T09:33:35.529Z"
   },
   {
    "duration": 35,
    "start_time": "2021-10-21T09:33:35.570Z"
   },
   {
    "duration": 6,
    "start_time": "2021-10-21T09:33:35.608Z"
   },
   {
    "duration": 815,
    "start_time": "2021-10-21T09:33:35.617Z"
   },
   {
    "duration": 13,
    "start_time": "2021-10-21T09:33:36.435Z"
   },
   {
    "duration": 9,
    "start_time": "2021-10-21T09:33:36.451Z"
   },
   {
    "duration": 40,
    "start_time": "2021-10-21T09:33:36.463Z"
   },
   {
    "duration": 8,
    "start_time": "2021-10-21T09:33:36.505Z"
   },
   {
    "duration": 7,
    "start_time": "2021-10-21T09:33:36.516Z"
   },
   {
    "duration": 6,
    "start_time": "2021-10-21T09:33:36.526Z"
   },
   {
    "duration": 9,
    "start_time": "2021-10-21T09:33:36.535Z"
   },
   {
    "duration": 53,
    "start_time": "2021-10-21T09:33:36.547Z"
   },
   {
    "duration": 6,
    "start_time": "2021-10-21T09:33:36.603Z"
   },
   {
    "duration": 31,
    "start_time": "2021-10-21T09:33:36.612Z"
   },
   {
    "duration": 9,
    "start_time": "2021-10-21T09:33:36.645Z"
   },
   {
    "duration": 825,
    "start_time": "2021-10-21T09:33:36.656Z"
   },
   {
    "duration": 792,
    "start_time": "2021-10-21T09:33:37.483Z"
   },
   {
    "duration": 10,
    "start_time": "2021-10-21T09:33:38.277Z"
   },
   {
    "duration": 10,
    "start_time": "2021-10-21T09:33:38.303Z"
   },
   {
    "duration": 17,
    "start_time": "2021-10-21T09:33:38.316Z"
   },
   {
    "duration": 22,
    "start_time": "2021-10-21T09:33:38.335Z"
   },
   {
    "duration": 51,
    "start_time": "2021-10-21T09:33:38.360Z"
   },
   {
    "duration": 13,
    "start_time": "2021-10-21T09:33:38.413Z"
   },
   {
    "duration": 206,
    "start_time": "2021-10-21T09:33:38.429Z"
   },
   {
    "duration": 45,
    "start_time": "2021-10-21T09:33:38.638Z"
   },
   {
    "duration": 183,
    "start_time": "2021-10-21T09:33:38.701Z"
   },
   {
    "duration": 13,
    "start_time": "2021-10-21T09:33:38.887Z"
   },
   {
    "duration": 6219,
    "start_time": "2021-10-21T09:33:38.902Z"
   },
   {
    "duration": 572,
    "start_time": "2021-10-21T09:33:45.124Z"
   },
   {
    "duration": 570,
    "start_time": "2021-10-21T09:33:45.701Z"
   },
   {
    "duration": 3,
    "start_time": "2021-10-21T09:33:46.273Z"
   },
   {
    "duration": 466,
    "start_time": "2021-10-21T09:37:06.617Z"
   },
   {
    "duration": 460,
    "start_time": "2021-10-21T09:37:15.232Z"
   },
   {
    "duration": 461,
    "start_time": "2021-10-21T09:57:58.218Z"
   },
   {
    "duration": 348,
    "start_time": "2021-10-21T09:58:14.780Z"
   },
   {
    "duration": 549,
    "start_time": "2021-10-21T10:06:04.971Z"
   },
   {
    "duration": 366,
    "start_time": "2021-10-21T10:25:35.019Z"
   },
   {
    "duration": 46,
    "start_time": "2021-10-21T10:25:59.210Z"
   },
   {
    "duration": 11,
    "start_time": "2021-10-21T10:26:10.124Z"
   },
   {
    "duration": 6,
    "start_time": "2021-10-21T10:27:17.834Z"
   },
   {
    "duration": 138,
    "start_time": "2021-10-21T10:38:31.665Z"
   },
   {
    "duration": 6,
    "start_time": "2021-10-21T10:38:37.203Z"
   },
   {
    "duration": 24,
    "start_time": "2021-10-21T10:38:43.024Z"
   },
   {
    "duration": 403,
    "start_time": "2021-10-21T10:41:44.761Z"
   },
   {
    "duration": 4,
    "start_time": "2021-10-21T10:41:56.480Z"
   },
   {
    "duration": 717,
    "start_time": "2021-10-21T10:41:57.481Z"
   },
   {
    "duration": 138,
    "start_time": "2021-10-21T10:42:35.936Z"
   },
   {
    "duration": 5,
    "start_time": "2021-10-21T10:42:55.796Z"
   },
   {
    "duration": 7,
    "start_time": "2021-10-21T10:42:57.364Z"
   },
   {
    "duration": 44,
    "start_time": "2021-10-21T10:43:39.202Z"
   },
   {
    "duration": 4,
    "start_time": "2021-10-21T10:47:23.516Z"
   },
   {
    "duration": 358,
    "start_time": "2021-10-21T10:47:25.676Z"
   },
   {
    "duration": 56,
    "start_time": "2021-10-21T10:48:04.456Z"
   },
   {
    "duration": 8,
    "start_time": "2021-10-21T10:48:40.016Z"
   },
   {
    "duration": 4,
    "start_time": "2021-10-21T10:49:34.062Z"
   },
   {
    "duration": 7,
    "start_time": "2021-10-21T10:49:34.069Z"
   },
   {
    "duration": 1003,
    "start_time": "2021-10-21T10:49:34.079Z"
   },
   {
    "duration": 29,
    "start_time": "2021-10-21T10:49:35.085Z"
   },
   {
    "duration": 38,
    "start_time": "2021-10-21T10:49:35.117Z"
   },
   {
    "duration": 16,
    "start_time": "2021-10-21T10:49:35.158Z"
   },
   {
    "duration": 59,
    "start_time": "2021-10-21T10:49:35.176Z"
   },
   {
    "duration": 27,
    "start_time": "2021-10-21T10:49:35.237Z"
   },
   {
    "duration": 66,
    "start_time": "2021-10-21T10:49:35.268Z"
   },
   {
    "duration": 5,
    "start_time": "2021-10-21T10:49:35.337Z"
   },
   {
    "duration": 14,
    "start_time": "2021-10-21T10:49:35.345Z"
   },
   {
    "duration": 793,
    "start_time": "2021-10-21T10:49:35.362Z"
   },
   {
    "duration": 10,
    "start_time": "2021-10-21T10:49:36.157Z"
   },
   {
    "duration": 30,
    "start_time": "2021-10-21T10:49:36.170Z"
   },
   {
    "duration": 7,
    "start_time": "2021-10-21T10:49:36.202Z"
   },
   {
    "duration": 8,
    "start_time": "2021-10-21T10:49:36.211Z"
   },
   {
    "duration": 7,
    "start_time": "2021-10-21T10:49:36.221Z"
   },
   {
    "duration": 10,
    "start_time": "2021-10-21T10:49:36.230Z"
   },
   {
    "duration": 8,
    "start_time": "2021-10-21T10:49:36.242Z"
   },
   {
    "duration": 9,
    "start_time": "2021-10-21T10:49:36.252Z"
   },
   {
    "duration": 40,
    "start_time": "2021-10-21T10:49:36.264Z"
   },
   {
    "duration": 31,
    "start_time": "2021-10-21T10:49:36.306Z"
   },
   {
    "duration": 10,
    "start_time": "2021-10-21T10:49:36.339Z"
   },
   {
    "duration": 801,
    "start_time": "2021-10-21T10:49:36.351Z"
   },
   {
    "duration": 779,
    "start_time": "2021-10-21T10:49:37.155Z"
   },
   {
    "duration": 12,
    "start_time": "2021-10-21T10:49:37.937Z"
   },
   {
    "duration": 11,
    "start_time": "2021-10-21T10:49:37.954Z"
   },
   {
    "duration": 45,
    "start_time": "2021-10-21T10:49:37.967Z"
   },
   {
    "duration": 22,
    "start_time": "2021-10-21T10:49:38.014Z"
   },
   {
    "duration": 24,
    "start_time": "2021-10-21T10:49:38.039Z"
   },
   {
    "duration": 40,
    "start_time": "2021-10-21T10:49:38.066Z"
   },
   {
    "duration": 201,
    "start_time": "2021-10-21T10:49:38.108Z"
   },
   {
    "duration": 46,
    "start_time": "2021-10-21T10:49:38.312Z"
   },
   {
    "duration": 203,
    "start_time": "2021-10-21T10:49:38.360Z"
   },
   {
    "duration": 7,
    "start_time": "2021-10-21T10:49:38.565Z"
   },
   {
    "duration": 4140,
    "start_time": "2021-10-21T10:49:38.575Z"
   },
   {
    "duration": 463,
    "start_time": "2021-10-21T10:49:42.717Z"
   },
   {
    "duration": 550,
    "start_time": "2021-10-21T10:49:43.182Z"
   },
   {
    "duration": 52,
    "start_time": "2021-10-21T10:49:55.057Z"
   },
   {
    "duration": 41,
    "start_time": "2021-10-21T10:50:38.402Z"
   },
   {
    "duration": 40,
    "start_time": "2021-10-21T10:51:04.666Z"
   },
   {
    "duration": 23,
    "start_time": "2021-10-21T10:52:34.018Z"
   },
   {
    "duration": 4,
    "start_time": "2021-10-21T10:52:39.660Z"
   },
   {
    "duration": 364,
    "start_time": "2021-10-21T10:52:41.452Z"
   },
   {
    "duration": 44,
    "start_time": "2021-10-21T10:52:45.322Z"
   },
   {
    "duration": 6,
    "start_time": "2021-10-21T10:55:41.571Z"
   },
   {
    "duration": 4,
    "start_time": "2021-10-21T10:55:56.156Z"
   },
   {
    "duration": 5,
    "start_time": "2021-10-21T10:56:11.039Z"
   },
   {
    "duration": 9205,
    "start_time": "2021-10-21T10:56:14.832Z"
   },
   {
    "duration": 5,
    "start_time": "2021-10-21T10:58:28.719Z"
   },
   {
    "duration": 366,
    "start_time": "2021-10-21T10:58:31.945Z"
   },
   {
    "duration": 5,
    "start_time": "2021-10-21T10:58:41.652Z"
   },
   {
    "duration": 388,
    "start_time": "2021-10-21T11:01:28.321Z"
   },
   {
    "duration": 43,
    "start_time": "2021-10-21T11:01:39.355Z"
   },
   {
    "duration": 10,
    "start_time": "2021-10-21T11:01:56.065Z"
   },
   {
    "duration": 359,
    "start_time": "2021-10-21T11:04:42.894Z"
   },
   {
    "duration": 4,
    "start_time": "2021-10-21T11:04:52.943Z"
   },
   {
    "duration": 1105,
    "start_time": "2021-10-21T11:04:54.430Z"
   },
   {
    "duration": 5,
    "start_time": "2021-10-21T11:05:15.447Z"
   },
   {
    "duration": 403,
    "start_time": "2021-10-21T11:05:16.534Z"
   },
   {
    "duration": 5,
    "start_time": "2021-10-21T11:05:20.432Z"
   },
   {
    "duration": 5,
    "start_time": "2021-10-21T11:06:36.854Z"
   },
   {
    "duration": 5,
    "start_time": "2021-10-21T11:07:02.159Z"
   },
   {
    "duration": 6,
    "start_time": "2021-10-21T11:07:10.551Z"
   },
   {
    "duration": 5,
    "start_time": "2021-10-21T11:08:29.543Z"
   },
   {
    "duration": 8,
    "start_time": "2021-10-21T11:08:29.550Z"
   },
   {
    "duration": 1048,
    "start_time": "2021-10-21T11:08:29.561Z"
   },
   {
    "duration": 25,
    "start_time": "2021-10-21T11:08:30.611Z"
   },
   {
    "duration": 46,
    "start_time": "2021-10-21T11:08:30.638Z"
   },
   {
    "duration": 17,
    "start_time": "2021-10-21T11:08:30.700Z"
   },
   {
    "duration": 37,
    "start_time": "2021-10-21T11:08:30.720Z"
   },
   {
    "duration": 61,
    "start_time": "2021-10-21T11:08:30.762Z"
   },
   {
    "duration": 40,
    "start_time": "2021-10-21T11:08:30.826Z"
   },
   {
    "duration": 17,
    "start_time": "2021-10-21T11:08:30.869Z"
   },
   {
    "duration": 10,
    "start_time": "2021-10-21T11:08:30.901Z"
   },
   {
    "duration": 900,
    "start_time": "2021-10-21T11:08:30.914Z"
   },
   {
    "duration": 10,
    "start_time": "2021-10-21T11:08:31.817Z"
   },
   {
    "duration": 9,
    "start_time": "2021-10-21T11:08:31.829Z"
   },
   {
    "duration": 8,
    "start_time": "2021-10-21T11:08:31.840Z"
   },
   {
    "duration": 11,
    "start_time": "2021-10-21T11:08:31.851Z"
   },
   {
    "duration": 37,
    "start_time": "2021-10-21T11:08:31.865Z"
   },
   {
    "duration": 14,
    "start_time": "2021-10-21T11:08:31.905Z"
   },
   {
    "duration": 11,
    "start_time": "2021-10-21T11:08:31.921Z"
   },
   {
    "duration": 9,
    "start_time": "2021-10-21T11:08:31.935Z"
   },
   {
    "duration": 18,
    "start_time": "2021-10-21T11:08:31.946Z"
   },
   {
    "duration": 45,
    "start_time": "2021-10-21T11:08:31.967Z"
   },
   {
    "duration": 9,
    "start_time": "2021-10-21T11:08:32.018Z"
   },
   {
    "duration": 812,
    "start_time": "2021-10-21T11:08:32.030Z"
   },
   {
    "duration": 900,
    "start_time": "2021-10-21T11:08:32.845Z"
   },
   {
    "duration": 11,
    "start_time": "2021-10-21T11:08:33.747Z"
   },
   {
    "duration": 16,
    "start_time": "2021-10-21T11:08:33.760Z"
   },
   {
    "duration": 34,
    "start_time": "2021-10-21T11:08:33.779Z"
   },
   {
    "duration": 22,
    "start_time": "2021-10-21T11:08:33.815Z"
   },
   {
    "duration": 25,
    "start_time": "2021-10-21T11:08:33.840Z"
   },
   {
    "duration": 40,
    "start_time": "2021-10-21T11:08:33.868Z"
   },
   {
    "duration": 199,
    "start_time": "2021-10-21T11:08:33.911Z"
   },
   {
    "duration": 46,
    "start_time": "2021-10-21T11:08:34.112Z"
   },
   {
    "duration": 202,
    "start_time": "2021-10-21T11:08:34.160Z"
   },
   {
    "duration": 8,
    "start_time": "2021-10-21T11:08:34.364Z"
   },
   {
    "duration": 4263,
    "start_time": "2021-10-21T11:08:34.374Z"
   },
   {
    "duration": 468,
    "start_time": "2021-10-21T11:08:38.639Z"
   },
   {
    "duration": 457,
    "start_time": "2021-10-21T11:08:39.110Z"
   },
   {
    "duration": 6,
    "start_time": "2021-10-21T11:08:39.570Z"
   },
   {
    "duration": 23,
    "start_time": "2021-10-21T11:08:39.578Z"
   },
   {
    "duration": 428,
    "start_time": "2021-10-21T11:08:39.603Z"
   },
   {
    "duration": 6,
    "start_time": "2021-10-21T11:08:40.033Z"
   },
   {
    "duration": 24,
    "start_time": "2021-10-21T11:08:40.041Z"
   },
   {
    "duration": 5,
    "start_time": "2021-10-21T11:33:55.349Z"
   },
   {
    "duration": 17,
    "start_time": "2021-10-21T11:33:55.356Z"
   },
   {
    "duration": 981,
    "start_time": "2021-10-21T11:33:55.376Z"
   },
   {
    "duration": 25,
    "start_time": "2021-10-21T11:33:56.360Z"
   },
   {
    "duration": 47,
    "start_time": "2021-10-21T11:33:56.388Z"
   },
   {
    "duration": 17,
    "start_time": "2021-10-21T11:33:56.438Z"
   },
   {
    "duration": 72,
    "start_time": "2021-10-21T11:33:56.457Z"
   },
   {
    "duration": 28,
    "start_time": "2021-10-21T11:33:56.531Z"
   },
   {
    "duration": 62,
    "start_time": "2021-10-21T11:33:56.563Z"
   },
   {
    "duration": 4,
    "start_time": "2021-10-21T11:33:56.628Z"
   },
   {
    "duration": 6,
    "start_time": "2021-10-21T11:33:56.635Z"
   },
   {
    "duration": 813,
    "start_time": "2021-10-21T11:33:56.644Z"
   },
   {
    "duration": 9,
    "start_time": "2021-10-21T11:33:57.459Z"
   },
   {
    "duration": 33,
    "start_time": "2021-10-21T11:33:57.471Z"
   },
   {
    "duration": 6,
    "start_time": "2021-10-21T11:33:57.506Z"
   },
   {
    "duration": 9,
    "start_time": "2021-10-21T11:33:57.514Z"
   },
   {
    "duration": 5,
    "start_time": "2021-10-21T11:33:57.525Z"
   },
   {
    "duration": 5,
    "start_time": "2021-10-21T11:33:57.533Z"
   },
   {
    "duration": 6,
    "start_time": "2021-10-21T11:33:57.540Z"
   },
   {
    "duration": 11,
    "start_time": "2021-10-21T11:33:57.548Z"
   },
   {
    "duration": 44,
    "start_time": "2021-10-21T11:33:57.561Z"
   },
   {
    "duration": 26,
    "start_time": "2021-10-21T11:33:57.608Z"
   },
   {
    "duration": 9,
    "start_time": "2021-10-21T11:33:57.637Z"
   },
   {
    "duration": 812,
    "start_time": "2021-10-21T11:33:57.648Z"
   },
   {
    "duration": 906,
    "start_time": "2021-10-21T11:33:58.463Z"
   },
   {
    "duration": 10,
    "start_time": "2021-10-21T11:33:59.371Z"
   },
   {
    "duration": 10,
    "start_time": "2021-10-21T11:33:59.401Z"
   },
   {
    "duration": 15,
    "start_time": "2021-10-21T11:33:59.414Z"
   },
   {
    "duration": 20,
    "start_time": "2021-10-21T11:33:59.432Z"
   },
   {
    "duration": 51,
    "start_time": "2021-10-21T11:33:59.455Z"
   },
   {
    "duration": 14,
    "start_time": "2021-10-21T11:33:59.508Z"
   },
   {
    "duration": 207,
    "start_time": "2021-10-21T11:33:59.524Z"
   },
   {
    "duration": 45,
    "start_time": "2021-10-21T11:33:59.733Z"
   },
   {
    "duration": 202,
    "start_time": "2021-10-21T11:33:59.780Z"
   },
   {
    "duration": 17,
    "start_time": "2021-10-21T11:33:59.984Z"
   },
   {
    "duration": 6107,
    "start_time": "2021-10-21T11:34:00.005Z"
   },
   {
    "duration": 479,
    "start_time": "2021-10-21T11:34:06.114Z"
   },
   {
    "duration": 462,
    "start_time": "2021-10-21T11:34:06.599Z"
   },
   {
    "duration": 6,
    "start_time": "2021-10-21T11:34:07.064Z"
   },
   {
    "duration": 20,
    "start_time": "2021-10-21T11:34:07.072Z"
   },
   {
    "duration": 362,
    "start_time": "2021-10-21T11:34:53.300Z"
   },
   {
    "duration": 585,
    "start_time": "2021-10-21T11:35:36.969Z"
   },
   {
    "duration": 1115,
    "start_time": "2021-10-21T11:35:44.697Z"
   },
   {
    "duration": 10,
    "start_time": "2021-10-21T11:46:25.660Z"
   },
   {
    "duration": 4,
    "start_time": "2021-10-21T12:22:23.586Z"
   },
   {
    "duration": 6,
    "start_time": "2021-10-21T12:22:29.912Z"
   },
   {
    "duration": 358,
    "start_time": "2021-10-21T12:22:42.937Z"
   },
   {
    "duration": 5,
    "start_time": "2021-10-21T12:23:08.078Z"
   },
   {
    "duration": 7,
    "start_time": "2021-10-21T12:23:15.096Z"
   },
   {
    "duration": 10,
    "start_time": "2021-10-21T12:24:35.628Z"
   },
   {
    "duration": 7,
    "start_time": "2021-10-21T12:24:39.061Z"
   },
   {
    "duration": 13,
    "start_time": "2021-10-21T12:25:31.035Z"
   },
   {
    "duration": 5,
    "start_time": "2021-10-21T12:25:34.619Z"
   },
   {
    "duration": 6,
    "start_time": "2021-10-21T12:25:43.372Z"
   },
   {
    "duration": 354,
    "start_time": "2021-10-21T13:08:10.638Z"
   },
   {
    "duration": 6,
    "start_time": "2021-10-21T13:08:26.918Z"
   },
   {
    "duration": 6,
    "start_time": "2021-10-21T13:09:15.920Z"
   },
   {
    "duration": 1551,
    "start_time": "2021-10-21T17:48:36.390Z"
   },
   {
    "duration": 5,
    "start_time": "2021-10-21T17:48:37.944Z"
   },
   {
    "duration": 1073,
    "start_time": "2021-10-21T17:48:37.953Z"
   },
   {
    "duration": 28,
    "start_time": "2021-10-21T17:48:39.030Z"
   },
   {
    "duration": 65,
    "start_time": "2021-10-21T17:48:39.061Z"
   },
   {
    "duration": 19,
    "start_time": "2021-10-21T17:48:39.129Z"
   },
   {
    "duration": 72,
    "start_time": "2021-10-21T17:48:39.151Z"
   },
   {
    "duration": 28,
    "start_time": "2021-10-21T17:48:39.226Z"
   },
   {
    "duration": 65,
    "start_time": "2021-10-21T17:48:39.261Z"
   },
   {
    "duration": 6,
    "start_time": "2021-10-21T17:48:39.330Z"
   },
   {
    "duration": 7,
    "start_time": "2021-10-21T17:48:39.338Z"
   },
   {
    "duration": 847,
    "start_time": "2021-10-21T17:48:39.347Z"
   },
   {
    "duration": 9,
    "start_time": "2021-10-21T17:48:40.197Z"
   },
   {
    "duration": 12,
    "start_time": "2021-10-21T17:48:40.208Z"
   },
   {
    "duration": 6,
    "start_time": "2021-10-21T17:48:40.223Z"
   },
   {
    "duration": 11,
    "start_time": "2021-10-21T17:48:40.231Z"
   },
   {
    "duration": 5,
    "start_time": "2021-10-21T17:48:40.245Z"
   },
   {
    "duration": 49,
    "start_time": "2021-10-21T17:48:40.252Z"
   },
   {
    "duration": 6,
    "start_time": "2021-10-21T17:48:40.303Z"
   },
   {
    "duration": 11,
    "start_time": "2021-10-21T17:48:40.311Z"
   },
   {
    "duration": 11,
    "start_time": "2021-10-21T17:48:40.324Z"
   },
   {
    "duration": 27,
    "start_time": "2021-10-21T17:48:40.338Z"
   },
   {
    "duration": 33,
    "start_time": "2021-10-21T17:48:40.368Z"
   },
   {
    "duration": 812,
    "start_time": "2021-10-21T17:48:40.403Z"
   },
   {
    "duration": 831,
    "start_time": "2021-10-21T17:48:41.218Z"
   },
   {
    "duration": 9,
    "start_time": "2021-10-21T17:48:42.052Z"
   },
   {
    "duration": 10,
    "start_time": "2021-10-21T17:48:42.067Z"
   },
   {
    "duration": 42,
    "start_time": "2021-10-21T17:48:42.081Z"
   },
   {
    "duration": 23,
    "start_time": "2021-10-21T17:48:42.126Z"
   },
   {
    "duration": 60,
    "start_time": "2021-10-21T17:48:42.152Z"
   },
   {
    "duration": 16,
    "start_time": "2021-10-21T17:48:42.215Z"
   },
   {
    "duration": 208,
    "start_time": "2021-10-21T17:48:42.233Z"
   },
   {
    "duration": 59,
    "start_time": "2021-10-21T17:48:42.444Z"
   },
   {
    "duration": 215,
    "start_time": "2021-10-21T17:48:42.506Z"
   },
   {
    "duration": 9,
    "start_time": "2021-10-21T17:48:42.724Z"
   },
   {
    "duration": 4601,
    "start_time": "2021-10-21T17:48:42.736Z"
   },
   {
    "duration": 595,
    "start_time": "2021-10-21T17:48:47.339Z"
   },
   {
    "duration": 459,
    "start_time": "2021-10-21T17:48:47.936Z"
   },
   {
    "duration": 5,
    "start_time": "2021-10-21T17:48:48.401Z"
   },
   {
    "duration": 8,
    "start_time": "2021-10-21T17:48:48.409Z"
   },
   {
    "duration": 526,
    "start_time": "2021-10-21T17:48:48.419Z"
   },
   {
    "duration": -1677,
    "start_time": "2021-10-21T17:48:50.624Z"
   },
   {
    "duration": -1811,
    "start_time": "2021-10-21T17:48:50.760Z"
   },
   {
    "duration": -1816,
    "start_time": "2021-10-21T17:48:50.766Z"
   },
   {
    "duration": -1818,
    "start_time": "2021-10-21T17:48:50.769Z"
   },
   {
    "duration": -1820,
    "start_time": "2021-10-21T17:48:50.773Z"
   },
   {
    "duration": -1821,
    "start_time": "2021-10-21T17:48:50.775Z"
   },
   {
    "duration": 501,
    "start_time": "2021-10-21T17:49:19.966Z"
   },
   {
    "duration": 6,
    "start_time": "2021-10-21T17:49:23.542Z"
   },
   {
    "duration": 11,
    "start_time": "2021-10-21T17:49:37.207Z"
   },
   {
    "duration": 4,
    "start_time": "2021-10-21T17:49:40.750Z"
   },
   {
    "duration": 12,
    "start_time": "2021-10-21T17:49:43.111Z"
   },
   {
    "duration": 5,
    "start_time": "2021-10-21T17:49:46.372Z"
   },
   {
    "duration": 5,
    "start_time": "2021-10-21T17:49:57.269Z"
   },
   {
    "duration": 5,
    "start_time": "2021-10-21T18:03:40.212Z"
   },
   {
    "duration": 4,
    "start_time": "2021-10-21T18:03:41.467Z"
   },
   {
    "duration": 1461,
    "start_time": "2021-10-23T07:06:35.597Z"
   },
   {
    "duration": 3,
    "start_time": "2021-10-23T07:06:37.061Z"
   },
   {
    "duration": 974,
    "start_time": "2021-10-23T07:06:37.067Z"
   },
   {
    "duration": 24,
    "start_time": "2021-10-23T07:06:38.043Z"
   },
   {
    "duration": 48,
    "start_time": "2021-10-23T07:06:38.069Z"
   },
   {
    "duration": 15,
    "start_time": "2021-10-23T07:06:38.119Z"
   },
   {
    "duration": 63,
    "start_time": "2021-10-23T07:06:38.137Z"
   },
   {
    "duration": 25,
    "start_time": "2021-10-23T07:06:38.203Z"
   },
   {
    "duration": 58,
    "start_time": "2021-10-23T07:06:38.232Z"
   },
   {
    "duration": 4,
    "start_time": "2021-10-23T07:06:38.293Z"
   },
   {
    "duration": 5,
    "start_time": "2021-10-23T07:06:38.300Z"
   },
   {
    "duration": 831,
    "start_time": "2021-10-23T07:06:38.307Z"
   },
   {
    "duration": 10,
    "start_time": "2021-10-23T07:06:39.140Z"
   },
   {
    "duration": 30,
    "start_time": "2021-10-23T07:06:39.152Z"
   },
   {
    "duration": 6,
    "start_time": "2021-10-23T07:06:39.185Z"
   },
   {
    "duration": 14,
    "start_time": "2021-10-23T07:06:39.193Z"
   },
   {
    "duration": 5,
    "start_time": "2021-10-23T07:06:39.209Z"
   },
   {
    "duration": 8,
    "start_time": "2021-10-23T07:06:39.217Z"
   },
   {
    "duration": 10,
    "start_time": "2021-10-23T07:06:39.227Z"
   },
   {
    "duration": 7,
    "start_time": "2021-10-23T07:06:39.240Z"
   },
   {
    "duration": 6,
    "start_time": "2021-10-23T07:06:39.282Z"
   },
   {
    "duration": 27,
    "start_time": "2021-10-23T07:06:39.290Z"
   },
   {
    "duration": 9,
    "start_time": "2021-10-23T07:06:39.320Z"
   },
   {
    "duration": 834,
    "start_time": "2021-10-23T07:06:39.331Z"
   },
   {
    "duration": 788,
    "start_time": "2021-10-23T07:06:40.168Z"
   },
   {
    "duration": 23,
    "start_time": "2021-10-23T07:06:40.959Z"
   },
   {
    "duration": 10,
    "start_time": "2021-10-23T07:06:40.988Z"
   },
   {
    "duration": 20,
    "start_time": "2021-10-23T07:06:41.002Z"
   },
   {
    "duration": 65,
    "start_time": "2021-10-23T07:06:41.024Z"
   },
   {
    "duration": 27,
    "start_time": "2021-10-23T07:06:41.091Z"
   },
   {
    "duration": 15,
    "start_time": "2021-10-23T07:06:41.120Z"
   },
   {
    "duration": 209,
    "start_time": "2021-10-23T07:06:41.138Z"
   },
   {
    "duration": 56,
    "start_time": "2021-10-23T07:06:41.350Z"
   },
   {
    "duration": 184,
    "start_time": "2021-10-23T07:06:41.409Z"
   },
   {
    "duration": 9,
    "start_time": "2021-10-23T07:06:41.596Z"
   },
   {
    "duration": 4140,
    "start_time": "2021-10-23T07:06:41.608Z"
   },
   {
    "duration": 452,
    "start_time": "2021-10-23T07:06:45.750Z"
   },
   {
    "duration": 454,
    "start_time": "2021-10-23T07:06:46.205Z"
   },
   {
    "duration": 6,
    "start_time": "2021-10-23T07:06:46.662Z"
   },
   {
    "duration": 4,
    "start_time": "2021-10-23T07:06:46.683Z"
   },
   {
    "duration": 479,
    "start_time": "2021-10-23T07:06:46.690Z"
   },
   {
    "duration": 6,
    "start_time": "2021-10-23T07:06:47.171Z"
   },
   {
    "duration": 10,
    "start_time": "2021-10-23T07:06:47.183Z"
   },
   {
    "duration": 5,
    "start_time": "2021-10-23T07:06:47.196Z"
   },
   {
    "duration": 16,
    "start_time": "2021-10-23T07:06:47.203Z"
   },
   {
    "duration": 11,
    "start_time": "2021-10-23T07:06:47.222Z"
   },
   {
    "duration": 6,
    "start_time": "2021-10-23T07:06:47.235Z"
   },
   {
    "duration": 218,
    "start_time": "2021-10-23T07:14:45.770Z"
   },
   {
    "duration": 5,
    "start_time": "2021-10-23T07:14:50.680Z"
   },
   {
    "duration": 6,
    "start_time": "2021-10-23T07:15:03.382Z"
   },
   {
    "duration": 5,
    "start_time": "2021-10-23T07:15:13.872Z"
   },
   {
    "duration": 6,
    "start_time": "2021-10-23T07:15:28.075Z"
   },
   {
    "duration": 6,
    "start_time": "2021-10-23T07:15:38.933Z"
   },
   {
    "duration": 6,
    "start_time": "2021-10-23T07:16:12.528Z"
   },
   {
    "duration": 7,
    "start_time": "2021-10-23T07:16:21.212Z"
   },
   {
    "duration": 118,
    "start_time": "2021-10-23T07:17:01.075Z"
   },
   {
    "duration": 113,
    "start_time": "2021-10-23T07:17:13.296Z"
   },
   {
    "duration": 6,
    "start_time": "2021-10-23T07:17:21.378Z"
   },
   {
    "duration": 693,
    "start_time": "2021-10-23T07:17:41.992Z"
   },
   {
    "duration": 301,
    "start_time": "2021-10-23T07:20:20.254Z"
   },
   {
    "duration": 6,
    "start_time": "2021-10-23T07:20:32.204Z"
   },
   {
    "duration": 6,
    "start_time": "2021-10-23T07:37:40.406Z"
   },
   {
    "duration": 337,
    "start_time": "2021-10-23T07:37:46.776Z"
   },
   {
    "duration": 769,
    "start_time": "2021-10-23T08:15:00.989Z"
   },
   {
    "duration": 6,
    "start_time": "2021-10-23T08:15:16.210Z"
   },
   {
    "duration": 317,
    "start_time": "2021-10-23T08:15:55.708Z"
   },
   {
    "duration": 7,
    "start_time": "2021-10-23T08:16:31.364Z"
   },
   {
    "duration": 5,
    "start_time": "2021-10-23T08:16:56.433Z"
   },
   {
    "duration": 6,
    "start_time": "2021-10-23T08:17:35.021Z"
   },
   {
    "duration": 368,
    "start_time": "2021-10-23T08:24:01.725Z"
   },
   {
    "duration": 514,
    "start_time": "2021-10-23T08:24:40.563Z"
   },
   {
    "duration": 5,
    "start_time": "2021-10-23T08:25:15.327Z"
   },
   {
    "duration": 11,
    "start_time": "2021-10-23T08:25:15.335Z"
   },
   {
    "duration": 1052,
    "start_time": "2021-10-23T08:25:15.350Z"
   },
   {
    "duration": 25,
    "start_time": "2021-10-23T08:25:16.404Z"
   },
   {
    "duration": 57,
    "start_time": "2021-10-23T08:25:16.431Z"
   },
   {
    "duration": 16,
    "start_time": "2021-10-23T08:25:16.490Z"
   },
   {
    "duration": 35,
    "start_time": "2021-10-23T08:25:16.509Z"
   },
   {
    "duration": 57,
    "start_time": "2021-10-23T08:25:16.546Z"
   },
   {
    "duration": 36,
    "start_time": "2021-10-23T08:25:16.607Z"
   },
   {
    "duration": 36,
    "start_time": "2021-10-23T08:25:16.647Z"
   },
   {
    "duration": 7,
    "start_time": "2021-10-23T08:25:16.685Z"
   },
   {
    "duration": 805,
    "start_time": "2021-10-23T08:25:16.694Z"
   },
   {
    "duration": 13,
    "start_time": "2021-10-23T08:25:17.502Z"
   },
   {
    "duration": 11,
    "start_time": "2021-10-23T08:25:17.518Z"
   },
   {
    "duration": 7,
    "start_time": "2021-10-23T08:25:17.532Z"
   },
   {
    "duration": 46,
    "start_time": "2021-10-23T08:25:17.541Z"
   },
   {
    "duration": 7,
    "start_time": "2021-10-23T08:25:17.590Z"
   },
   {
    "duration": 4,
    "start_time": "2021-10-23T08:25:17.600Z"
   },
   {
    "duration": 5,
    "start_time": "2021-10-23T08:25:17.606Z"
   },
   {
    "duration": 8,
    "start_time": "2021-10-23T08:25:17.613Z"
   },
   {
    "duration": 15,
    "start_time": "2021-10-23T08:25:17.623Z"
   },
   {
    "duration": 60,
    "start_time": "2021-10-23T08:25:17.640Z"
   },
   {
    "duration": 9,
    "start_time": "2021-10-23T08:25:17.703Z"
   },
   {
    "duration": 775,
    "start_time": "2021-10-23T08:25:17.714Z"
   },
   {
    "duration": 760,
    "start_time": "2021-10-23T08:25:18.491Z"
   },
   {
    "duration": 10,
    "start_time": "2021-10-23T08:25:19.253Z"
   },
   {
    "duration": 10,
    "start_time": "2021-10-23T08:25:19.284Z"
   },
   {
    "duration": 20,
    "start_time": "2021-10-23T08:25:19.297Z"
   },
   {
    "duration": 25,
    "start_time": "2021-10-23T08:25:19.319Z"
   },
   {
    "duration": 56,
    "start_time": "2021-10-23T08:25:19.347Z"
   },
   {
    "duration": 12,
    "start_time": "2021-10-23T08:25:19.406Z"
   },
   {
    "duration": 192,
    "start_time": "2021-10-23T08:25:19.421Z"
   },
   {
    "duration": 42,
    "start_time": "2021-10-23T08:25:19.615Z"
   },
   {
    "duration": 190,
    "start_time": "2021-10-23T08:25:19.659Z"
   },
   {
    "duration": 8,
    "start_time": "2021-10-23T08:25:19.852Z"
   },
   {
    "duration": 4157,
    "start_time": "2021-10-23T08:25:19.862Z"
   },
   {
    "duration": 560,
    "start_time": "2021-10-23T08:25:24.022Z"
   },
   {
    "duration": 441,
    "start_time": "2021-10-23T08:25:24.584Z"
   },
   {
    "duration": 6,
    "start_time": "2021-10-23T08:25:25.028Z"
   },
   {
    "duration": 5,
    "start_time": "2021-10-23T08:25:25.036Z"
   },
   {
    "duration": 478,
    "start_time": "2021-10-23T08:25:25.043Z"
   },
   {
    "duration": 5,
    "start_time": "2021-10-23T08:25:25.524Z"
   },
   {
    "duration": 12,
    "start_time": "2021-10-23T08:25:25.532Z"
   },
   {
    "duration": 4,
    "start_time": "2021-10-23T08:25:25.546Z"
   },
   {
    "duration": 38,
    "start_time": "2021-10-23T08:25:25.553Z"
   },
   {
    "duration": 14,
    "start_time": "2021-10-23T08:25:25.593Z"
   },
   {
    "duration": 5,
    "start_time": "2021-10-23T08:25:25.609Z"
   },
   {
    "duration": 268,
    "start_time": "2021-10-23T08:25:25.616Z"
   },
   {
    "duration": 274,
    "start_time": "2021-10-23T08:25:30.790Z"
   },
   {
    "duration": 6,
    "start_time": "2021-10-23T08:25:59.436Z"
   },
   {
    "duration": 6,
    "start_time": "2021-10-23T08:26:06.627Z"
   },
   {
    "duration": 6,
    "start_time": "2021-10-23T08:26:14.703Z"
   },
   {
    "duration": 316,
    "start_time": "2021-10-23T08:26:28.099Z"
   },
   {
    "duration": 6,
    "start_time": "2021-10-23T08:26:35.421Z"
   },
   {
    "duration": 268,
    "start_time": "2021-10-23T08:26:52.173Z"
   },
   {
    "duration": 7,
    "start_time": "2021-10-23T08:27:02.813Z"
   },
   {
    "duration": 111,
    "start_time": "2021-10-23T08:30:24.216Z"
   },
   {
    "duration": 4,
    "start_time": "2021-10-23T08:30:35.723Z"
   },
   {
    "duration": 6,
    "start_time": "2021-10-23T08:30:49.288Z"
   },
   {
    "duration": 6,
    "start_time": "2021-10-23T08:30:52.114Z"
   },
   {
    "duration": 4,
    "start_time": "2021-10-23T08:31:31.137Z"
   },
   {
    "duration": 8,
    "start_time": "2021-10-23T08:31:34.142Z"
   },
   {
    "duration": 4,
    "start_time": "2021-10-23T08:33:25.219Z"
   },
   {
    "duration": 4,
    "start_time": "2021-10-23T08:33:32.389Z"
   },
   {
    "duration": 7,
    "start_time": "2021-10-23T08:33:39.116Z"
   },
   {
    "duration": 5,
    "start_time": "2021-10-23T08:34:17.927Z"
   },
   {
    "duration": 7,
    "start_time": "2021-10-23T08:34:28.166Z"
   },
   {
    "duration": 4,
    "start_time": "2021-10-23T08:34:37.659Z"
   },
   {
    "duration": 8,
    "start_time": "2021-10-23T08:34:40.245Z"
   },
   {
    "duration": 4,
    "start_time": "2021-10-23T08:40:18.128Z"
   },
   {
    "duration": 8,
    "start_time": "2021-10-23T08:40:35.936Z"
   },
   {
    "duration": 6,
    "start_time": "2021-10-23T08:47:18.765Z"
   },
   {
    "duration": 4,
    "start_time": "2021-10-23T08:48:16.501Z"
   },
   {
    "duration": 11,
    "start_time": "2021-10-23T08:48:23.568Z"
   },
   {
    "duration": 4,
    "start_time": "2021-10-23T08:48:24.545Z"
   },
   {
    "duration": 4,
    "start_time": "2021-10-23T08:48:25.703Z"
   },
   {
    "duration": 4,
    "start_time": "2021-10-23T08:48:56.151Z"
   },
   {
    "duration": 6,
    "start_time": "2021-10-23T08:58:15.513Z"
   },
   {
    "duration": 7,
    "start_time": "2021-10-23T09:00:54.040Z"
   },
   {
    "duration": 7,
    "start_time": "2021-10-23T09:30:41.528Z"
   },
   {
    "duration": 6,
    "start_time": "2021-10-23T09:30:42.807Z"
   },
   {
    "duration": 312,
    "start_time": "2021-10-23T09:30:57.616Z"
   },
   {
    "duration": 4,
    "start_time": "2021-10-23T09:32:03.366Z"
   },
   {
    "duration": 8,
    "start_time": "2021-10-23T09:32:03.373Z"
   },
   {
    "duration": 1013,
    "start_time": "2021-10-23T09:32:03.384Z"
   },
   {
    "duration": 25,
    "start_time": "2021-10-23T09:32:04.400Z"
   },
   {
    "duration": 61,
    "start_time": "2021-10-23T09:32:04.428Z"
   },
   {
    "duration": 18,
    "start_time": "2021-10-23T09:32:04.492Z"
   },
   {
    "duration": 70,
    "start_time": "2021-10-23T09:32:04.515Z"
   },
   {
    "duration": 25,
    "start_time": "2021-10-23T09:32:04.588Z"
   },
   {
    "duration": 35,
    "start_time": "2021-10-23T09:32:04.615Z"
   },
   {
    "duration": 29,
    "start_time": "2021-10-23T09:32:04.653Z"
   },
   {
    "duration": 9,
    "start_time": "2021-10-23T09:32:04.684Z"
   },
   {
    "duration": 778,
    "start_time": "2021-10-23T09:32:04.695Z"
   },
   {
    "duration": 14,
    "start_time": "2021-10-23T09:32:05.475Z"
   },
   {
    "duration": 9,
    "start_time": "2021-10-23T09:32:05.492Z"
   },
   {
    "duration": 8,
    "start_time": "2021-10-23T09:32:05.503Z"
   },
   {
    "duration": 8,
    "start_time": "2021-10-23T09:32:05.514Z"
   },
   {
    "duration": 58,
    "start_time": "2021-10-23T09:32:05.525Z"
   },
   {
    "duration": 9,
    "start_time": "2021-10-23T09:32:05.587Z"
   },
   {
    "duration": 9,
    "start_time": "2021-10-23T09:32:05.603Z"
   },
   {
    "duration": 10,
    "start_time": "2021-10-23T09:32:05.615Z"
   },
   {
    "duration": 9,
    "start_time": "2021-10-23T09:32:05.627Z"
   },
   {
    "duration": 57,
    "start_time": "2021-10-23T09:32:05.639Z"
   },
   {
    "duration": 8,
    "start_time": "2021-10-23T09:32:05.699Z"
   },
   {
    "duration": 772,
    "start_time": "2021-10-23T09:32:05.710Z"
   },
   {
    "duration": 756,
    "start_time": "2021-10-23T09:32:06.484Z"
   },
   {
    "duration": 9,
    "start_time": "2021-10-23T09:32:07.243Z"
   },
   {
    "duration": 28,
    "start_time": "2021-10-23T09:32:07.254Z"
   },
   {
    "duration": 14,
    "start_time": "2021-10-23T09:32:07.284Z"
   },
   {
    "duration": 21,
    "start_time": "2021-10-23T09:32:07.301Z"
   },
   {
    "duration": 22,
    "start_time": "2021-10-23T09:32:07.324Z"
   },
   {
    "duration": 43,
    "start_time": "2021-10-23T09:32:07.348Z"
   },
   {
    "duration": 193,
    "start_time": "2021-10-23T09:32:07.394Z"
   },
   {
    "duration": 42,
    "start_time": "2021-10-23T09:32:07.589Z"
   },
   {
    "duration": 195,
    "start_time": "2021-10-23T09:32:07.633Z"
   },
   {
    "duration": 7,
    "start_time": "2021-10-23T09:32:07.830Z"
   },
   {
    "duration": 4339,
    "start_time": "2021-10-23T09:32:07.839Z"
   },
   {
    "duration": 447,
    "start_time": "2021-10-23T09:32:12.182Z"
   },
   {
    "duration": 442,
    "start_time": "2021-10-23T09:32:12.632Z"
   },
   {
    "duration": 5,
    "start_time": "2021-10-23T09:32:13.081Z"
   },
   {
    "duration": 12,
    "start_time": "2021-10-23T09:32:13.088Z"
   },
   {
    "duration": 465,
    "start_time": "2021-10-23T09:32:13.103Z"
   },
   {
    "duration": 5,
    "start_time": "2021-10-23T09:32:13.570Z"
   },
   {
    "duration": 9,
    "start_time": "2021-10-23T09:32:13.582Z"
   },
   {
    "duration": 5,
    "start_time": "2021-10-23T09:32:13.593Z"
   },
   {
    "duration": 13,
    "start_time": "2021-10-23T09:32:13.601Z"
   },
   {
    "duration": 6,
    "start_time": "2021-10-23T09:32:13.617Z"
   },
   {
    "duration": 6,
    "start_time": "2021-10-23T09:32:13.625Z"
   },
   {
    "duration": 156,
    "start_time": "2021-10-23T09:32:13.634Z"
   },
   {
    "duration": 101,
    "start_time": "2021-10-23T09:32:13.884Z"
   },
   {
    "duration": 13,
    "start_time": "2021-10-23T09:32:13.987Z"
   },
   {
    "duration": 6,
    "start_time": "2021-10-23T09:32:22.271Z"
   },
   {
    "duration": 6,
    "start_time": "2021-10-23T09:39:50.473Z"
   },
   {
    "duration": 6,
    "start_time": "2021-10-23T09:40:48.555Z"
   },
   {
    "duration": 327,
    "start_time": "2021-10-23T09:48:14.365Z"
   },
   {
    "duration": 348,
    "start_time": "2021-10-23T09:48:22.735Z"
   },
   {
    "duration": 336,
    "start_time": "2021-10-23T09:49:55.049Z"
   },
   {
    "duration": 434,
    "start_time": "2021-10-23T09:52:03.699Z"
   },
   {
    "duration": 21,
    "start_time": "2021-10-23T09:54:36.726Z"
   },
   {
    "duration": 23,
    "start_time": "2021-10-23T09:55:14.134Z"
   },
   {
    "duration": 295,
    "start_time": "2021-10-23T09:55:42.138Z"
   },
   {
    "duration": 32,
    "start_time": "2021-10-23T09:56:27.583Z"
   },
   {
    "duration": 386,
    "start_time": "2021-10-23T09:56:47.840Z"
   },
   {
    "duration": 2321,
    "start_time": "2021-10-23T09:57:41.104Z"
   },
   {
    "duration": 327,
    "start_time": "2021-10-23T10:04:49.031Z"
   },
   {
    "duration": 2165,
    "start_time": "2021-10-23T10:06:26.840Z"
   },
   {
    "duration": 38,
    "start_time": "2021-10-23T10:07:02.592Z"
   },
   {
    "duration": 2045,
    "start_time": "2021-10-23T10:07:16.310Z"
   },
   {
    "duration": 13,
    "start_time": "2021-10-23T10:07:25.377Z"
   },
   {
    "duration": 7086,
    "start_time": "2021-10-23T10:07:31.536Z"
   },
   {
    "duration": 12,
    "start_time": "2021-10-23T10:07:45.872Z"
   },
   {
    "duration": 6,
    "start_time": "2021-10-23T10:07:54.662Z"
   },
   {
    "duration": 330,
    "start_time": "2021-10-23T10:08:16.618Z"
   },
   {
    "duration": 358,
    "start_time": "2021-10-23T10:10:56.599Z"
   },
   {
    "duration": 331,
    "start_time": "2021-10-23T10:11:43.850Z"
   },
   {
    "duration": 634,
    "start_time": "2021-10-23T10:12:42.735Z"
   },
   {
    "duration": 519529,
    "start_time": "2021-10-23T10:13:22.064Z"
   },
   {
    "duration": 101489,
    "start_time": "2021-10-23T10:22:08.769Z"
   },
   {
    "duration": 5,
    "start_time": "2021-10-23T10:24:17.059Z"
   },
   {
    "duration": 409853,
    "start_time": "2021-10-23T10:24:31.785Z"
   },
   {
    "duration": 199151,
    "start_time": "2021-10-23T10:31:29.031Z"
   },
   {
    "duration": 138130,
    "start_time": "2021-10-23T10:34:54.489Z"
   },
   {
    "duration": 139551,
    "start_time": "2021-10-23T10:38:37.956Z"
   },
   {
    "duration": 313959,
    "start_time": "2021-10-23T10:42:26.648Z"
   },
   {
    "duration": 35107,
    "start_time": "2021-10-23T11:08:57.206Z"
   },
   {
    "duration": 309,
    "start_time": "2021-10-23T11:10:25.576Z"
   },
   {
    "duration": 6,
    "start_time": "2021-10-23T11:17:52.455Z"
   },
   {
    "duration": 24122,
    "start_time": "2021-10-23T11:17:57.125Z"
   },
   {
    "duration": 35394,
    "start_time": "2021-10-23T11:18:27.161Z"
   },
   {
    "duration": 375,
    "start_time": "2021-10-23T11:19:26.831Z"
   },
   {
    "duration": 404,
    "start_time": "2021-10-23T11:37:16.135Z"
   },
   {
    "duration": 5,
    "start_time": "2021-10-23T11:37:28.631Z"
   },
   {
    "duration": 273,
    "start_time": "2021-10-23T11:37:39.567Z"
   },
   {
    "duration": 765,
    "start_time": "2021-10-23T11:37:44.817Z"
   },
   {
    "duration": 84,
    "start_time": "2021-10-23T11:38:06.227Z"
   },
   {
    "duration": 276,
    "start_time": "2021-10-23T11:38:10.694Z"
   },
   {
    "duration": 8,
    "start_time": "2021-10-23T11:38:15.710Z"
   },
   {
    "duration": 42,
    "start_time": "2021-10-23T11:38:22.294Z"
   },
   {
    "duration": 373,
    "start_time": "2021-10-23T14:29:48.041Z"
   },
   {
    "duration": 286,
    "start_time": "2021-10-23T14:31:22.270Z"
   },
   {
    "duration": 1470,
    "start_time": "2021-10-23T14:33:05.553Z"
   },
   {
    "duration": 4,
    "start_time": "2021-10-23T14:33:07.025Z"
   },
   {
    "duration": 937,
    "start_time": "2021-10-23T14:33:07.031Z"
   },
   {
    "duration": 28,
    "start_time": "2021-10-23T14:33:07.971Z"
   },
   {
    "duration": 41,
    "start_time": "2021-10-23T14:33:08.001Z"
   },
   {
    "duration": 40,
    "start_time": "2021-10-23T14:33:08.044Z"
   },
   {
    "duration": 35,
    "start_time": "2021-10-23T14:33:08.086Z"
   },
   {
    "duration": 26,
    "start_time": "2021-10-23T14:33:08.125Z"
   },
   {
    "duration": 35,
    "start_time": "2021-10-23T14:33:08.182Z"
   },
   {
    "duration": 5,
    "start_time": "2021-10-23T14:33:08.219Z"
   },
   {
    "duration": 10,
    "start_time": "2021-10-23T14:33:08.226Z"
   },
   {
    "duration": 827,
    "start_time": "2021-10-23T14:33:08.239Z"
   },
   {
    "duration": 14,
    "start_time": "2021-10-23T14:33:09.069Z"
   },
   {
    "duration": 8,
    "start_time": "2021-10-23T14:33:09.085Z"
   },
   {
    "duration": 6,
    "start_time": "2021-10-23T14:33:09.096Z"
   },
   {
    "duration": 13,
    "start_time": "2021-10-23T14:33:09.104Z"
   },
   {
    "duration": 5,
    "start_time": "2021-10-23T14:33:09.120Z"
   },
   {
    "duration": 7,
    "start_time": "2021-10-23T14:33:09.128Z"
   },
   {
    "duration": 47,
    "start_time": "2021-10-23T14:33:09.137Z"
   },
   {
    "duration": 13,
    "start_time": "2021-10-23T14:33:09.186Z"
   },
   {
    "duration": 8,
    "start_time": "2021-10-23T14:33:09.201Z"
   },
   {
    "duration": 25,
    "start_time": "2021-10-23T14:33:09.212Z"
   },
   {
    "duration": 38,
    "start_time": "2021-10-23T14:33:09.244Z"
   },
   {
    "duration": 757,
    "start_time": "2021-10-23T14:33:09.285Z"
   },
   {
    "duration": 778,
    "start_time": "2021-10-23T14:33:10.044Z"
   },
   {
    "duration": 11,
    "start_time": "2021-10-23T14:33:10.824Z"
   },
   {
    "duration": 10,
    "start_time": "2021-10-23T14:33:10.838Z"
   },
   {
    "duration": 45,
    "start_time": "2021-10-23T14:33:10.850Z"
   },
   {
    "duration": 20,
    "start_time": "2021-10-23T14:33:10.898Z"
   },
   {
    "duration": 25,
    "start_time": "2021-10-23T14:33:10.920Z"
   },
   {
    "duration": 34,
    "start_time": "2021-10-23T14:33:10.948Z"
   },
   {
    "duration": 184,
    "start_time": "2021-10-23T14:33:10.985Z"
   },
   {
    "duration": 48,
    "start_time": "2021-10-23T14:33:11.171Z"
   },
   {
    "duration": 185,
    "start_time": "2021-10-23T14:33:11.222Z"
   },
   {
    "duration": 8,
    "start_time": "2021-10-23T14:33:11.409Z"
   },
   {
    "duration": 3997,
    "start_time": "2021-10-23T14:33:11.419Z"
   },
   {
    "duration": 438,
    "start_time": "2021-10-23T14:33:15.418Z"
   },
   {
    "duration": 440,
    "start_time": "2021-10-23T14:33:15.859Z"
   },
   {
    "duration": 6,
    "start_time": "2021-10-23T14:33:16.302Z"
   },
   {
    "duration": 6,
    "start_time": "2021-10-23T14:33:16.310Z"
   },
   {
    "duration": 603,
    "start_time": "2021-10-23T14:33:16.318Z"
   },
   {
    "duration": 5,
    "start_time": "2021-10-23T14:33:16.924Z"
   },
   {
    "duration": 17,
    "start_time": "2021-10-23T14:33:16.931Z"
   },
   {
    "duration": 4,
    "start_time": "2021-10-23T14:33:16.950Z"
   },
   {
    "duration": 29,
    "start_time": "2021-10-23T14:33:16.956Z"
   },
   {
    "duration": 10,
    "start_time": "2021-10-23T14:33:16.987Z"
   },
   {
    "duration": 6,
    "start_time": "2021-10-23T14:33:16.999Z"
   },
   {
    "duration": 277,
    "start_time": "2021-10-23T14:33:17.008Z"
   },
   {
    "duration": 95,
    "start_time": "2021-10-23T14:33:17.290Z"
   },
   {
    "duration": 7,
    "start_time": "2021-10-23T14:33:17.388Z"
   },
   {
    "duration": 87,
    "start_time": "2021-10-23T14:33:17.397Z"
   },
   {
    "duration": 7,
    "start_time": "2021-10-23T14:33:17.487Z"
   },
   {
    "duration": 15,
    "start_time": "2021-10-23T14:33:17.496Z"
   },
   {
    "duration": 82,
    "start_time": "2021-10-23T14:33:17.513Z"
   },
   {
    "duration": 9,
    "start_time": "2021-10-23T14:33:17.598Z"
   },
   {
    "duration": 1047,
    "start_time": "2021-10-23T14:33:17.610Z"
   },
   {
    "duration": 35614,
    "start_time": "2021-10-23T14:33:18.659Z"
   },
   {
    "duration": 413,
    "start_time": "2021-10-23T14:33:54.276Z"
   },
   {
    "duration": -104,
    "start_time": "2021-10-23T14:33:54.796Z"
   },
   {
    "duration": 5,
    "start_time": "2021-10-23T16:54:18.646Z"
   },
   {
    "duration": 14,
    "start_time": "2021-10-23T16:54:18.653Z"
   },
   {
    "duration": 1020,
    "start_time": "2021-10-23T16:54:18.670Z"
   },
   {
    "duration": 23,
    "start_time": "2021-10-23T16:54:19.693Z"
   },
   {
    "duration": 33,
    "start_time": "2021-10-23T16:54:19.718Z"
   },
   {
    "duration": 15,
    "start_time": "2021-10-23T16:54:19.782Z"
   },
   {
    "duration": 34,
    "start_time": "2021-10-23T16:54:19.800Z"
   },
   {
    "duration": 53,
    "start_time": "2021-10-23T16:54:19.838Z"
   },
   {
    "duration": 34,
    "start_time": "2021-10-23T16:54:19.894Z"
   },
   {
    "duration": 6,
    "start_time": "2021-10-23T16:54:19.930Z"
   },
   {
    "duration": 7,
    "start_time": "2021-10-23T16:54:19.938Z"
   },
   {
    "duration": 797,
    "start_time": "2021-10-23T16:54:19.947Z"
   },
   {
    "duration": 9,
    "start_time": "2021-10-23T16:54:20.747Z"
   },
   {
    "duration": 27,
    "start_time": "2021-10-23T16:54:20.759Z"
   },
   {
    "duration": 8,
    "start_time": "2021-10-23T16:54:20.788Z"
   },
   {
    "duration": 7,
    "start_time": "2021-10-23T16:54:20.798Z"
   },
   {
    "duration": 6,
    "start_time": "2021-10-23T16:54:20.808Z"
   },
   {
    "duration": 4,
    "start_time": "2021-10-23T16:54:20.816Z"
   },
   {
    "duration": 7,
    "start_time": "2021-10-23T16:54:20.822Z"
   },
   {
    "duration": 53,
    "start_time": "2021-10-23T16:54:20.831Z"
   },
   {
    "duration": 15,
    "start_time": "2021-10-23T16:54:20.886Z"
   },
   {
    "duration": 28,
    "start_time": "2021-10-23T16:54:20.903Z"
   },
   {
    "duration": 9,
    "start_time": "2021-10-23T16:54:20.937Z"
   },
   {
    "duration": 756,
    "start_time": "2021-10-23T16:54:20.949Z"
   },
   {
    "duration": 857,
    "start_time": "2021-10-23T16:54:21.707Z"
   },
   {
    "duration": 16,
    "start_time": "2021-10-23T16:54:22.566Z"
   },
   {
    "duration": 10,
    "start_time": "2021-10-23T16:54:22.584Z"
   },
   {
    "duration": 17,
    "start_time": "2021-10-23T16:54:22.596Z"
   },
   {
    "duration": 20,
    "start_time": "2021-10-23T16:54:22.616Z"
   },
   {
    "duration": 56,
    "start_time": "2021-10-23T16:54:22.639Z"
   },
   {
    "duration": 14,
    "start_time": "2021-10-23T16:54:22.697Z"
   },
   {
    "duration": 205,
    "start_time": "2021-10-23T16:54:22.713Z"
   },
   {
    "duration": 41,
    "start_time": "2021-10-23T16:54:22.920Z"
   },
   {
    "duration": 183,
    "start_time": "2021-10-23T16:54:22.964Z"
   },
   {
    "duration": 8,
    "start_time": "2021-10-23T16:54:23.149Z"
   },
   {
    "duration": 4057,
    "start_time": "2021-10-23T16:54:23.159Z"
   },
   {
    "duration": 448,
    "start_time": "2021-10-23T16:54:27.219Z"
   },
   {
    "duration": 440,
    "start_time": "2021-10-23T16:54:27.669Z"
   },
   {
    "duration": 5,
    "start_time": "2021-10-23T16:54:28.111Z"
   },
   {
    "duration": 6,
    "start_time": "2021-10-23T16:54:28.118Z"
   },
   {
    "duration": 479,
    "start_time": "2021-10-23T16:54:28.127Z"
   },
   {
    "duration": 5,
    "start_time": "2021-10-23T16:54:28.608Z"
   },
   {
    "duration": 11,
    "start_time": "2021-10-23T16:54:28.615Z"
   },
   {
    "duration": 5,
    "start_time": "2021-10-23T16:54:28.628Z"
   },
   {
    "duration": 47,
    "start_time": "2021-10-23T16:54:28.635Z"
   },
   {
    "duration": 7,
    "start_time": "2021-10-23T16:54:28.685Z"
   },
   {
    "duration": 5,
    "start_time": "2021-10-23T16:54:28.695Z"
   },
   {
    "duration": 279,
    "start_time": "2021-10-23T16:54:28.703Z"
   },
   {
    "duration": 8,
    "start_time": "2021-10-23T16:54:28.985Z"
   },
   {
    "duration": 89,
    "start_time": "2021-10-23T16:54:28.995Z"
   },
   {
    "duration": 6,
    "start_time": "2021-10-23T16:54:29.086Z"
   },
   {
    "duration": 6,
    "start_time": "2021-10-23T16:54:29.094Z"
   },
   {
    "duration": 18,
    "start_time": "2021-10-23T16:54:29.102Z"
   },
   {
    "duration": 77,
    "start_time": "2021-10-23T16:54:29.122Z"
   },
   {
    "duration": 6,
    "start_time": "2021-10-23T16:54:29.202Z"
   },
   {
    "duration": 1037,
    "start_time": "2021-10-23T16:54:29.210Z"
   },
   {
    "duration": 34440,
    "start_time": "2021-10-23T16:54:30.249Z"
   },
   {
    "duration": 322,
    "start_time": "2021-10-23T16:55:04.691Z"
   },
   {
    "duration": -569,
    "start_time": "2021-10-23T16:55:05.584Z"
   },
   {
    "duration": 5,
    "start_time": "2021-10-23T17:29:34.184Z"
   },
   {
    "duration": 36809,
    "start_time": "2021-10-23T17:35:54.796Z"
   },
   {
    "duration": 5,
    "start_time": "2021-10-23T17:37:27.813Z"
   },
   {
    "duration": 6,
    "start_time": "2021-10-23T17:38:04.717Z"
   },
   {
    "duration": 5,
    "start_time": "2021-10-23T17:41:52.272Z"
   },
   {
    "duration": 308,
    "start_time": "2021-10-23T17:42:01.296Z"
   },
   {
    "duration": 35053,
    "start_time": "2021-10-23T17:42:20.016Z"
   },
   {
    "duration": 5,
    "start_time": "2021-10-23T17:43:23.537Z"
   },
   {
    "duration": 309,
    "start_time": "2021-10-23T17:45:31.699Z"
   },
   {
    "duration": 6,
    "start_time": "2021-10-23T17:46:18.843Z"
   },
   {
    "duration": 5,
    "start_time": "2021-10-23T17:53:57.460Z"
   },
   {
    "duration": 6,
    "start_time": "2021-10-23T17:55:13.899Z"
   },
   {
    "duration": 7,
    "start_time": "2021-10-23T17:55:19.385Z"
   },
   {
    "duration": 6,
    "start_time": "2021-10-23T17:55:30.959Z"
   },
   {
    "duration": 5,
    "start_time": "2021-10-23T17:57:08.828Z"
   },
   {
    "duration": 6,
    "start_time": "2021-10-23T18:00:16.807Z"
   },
   {
    "duration": 4,
    "start_time": "2021-10-23T18:02:44.325Z"
   },
   {
    "duration": 4,
    "start_time": "2021-10-23T18:02:46.762Z"
   },
   {
    "duration": 6,
    "start_time": "2021-10-23T18:02:48.089Z"
   },
   {
    "duration": 273,
    "start_time": "2021-10-23T18:04:59.620Z"
   },
   {
    "duration": 4,
    "start_time": "2021-10-23T18:05:01.860Z"
   },
   {
    "duration": 4,
    "start_time": "2021-10-23T18:05:03.164Z"
   },
   {
    "duration": 5,
    "start_time": "2021-10-23T18:05:04.157Z"
   },
   {
    "duration": 5,
    "start_time": "2021-10-23T18:40:10.162Z"
   },
   {
    "duration": 48,
    "start_time": "2021-10-23T18:44:41.239Z"
   },
   {
    "duration": 6,
    "start_time": "2021-10-23T18:44:42.737Z"
   },
   {
    "duration": 6,
    "start_time": "2021-10-23T18:44:47.279Z"
   },
   {
    "duration": 6,
    "start_time": "2021-10-23T18:45:01.671Z"
   },
   {
    "duration": 6056,
    "start_time": "2021-10-23T18:45:13.319Z"
   },
   {
    "duration": 1168,
    "start_time": "2021-10-23T18:45:29.515Z"
   },
   {
    "duration": 1119,
    "start_time": "2021-10-23T18:45:40.965Z"
   },
   {
    "duration": 476,
    "start_time": "2021-10-23T18:47:56.176Z"
   },
   {
    "duration": 5,
    "start_time": "2021-10-23T18:50:45.765Z"
   },
   {
    "duration": 2553,
    "start_time": "2021-10-23T18:50:59.341Z"
   },
   {
    "duration": 13,
    "start_time": "2021-10-23T18:53:20.774Z"
   },
   {
    "duration": 994,
    "start_time": "2021-10-23T18:53:43.992Z"
   },
   {
    "duration": 1245,
    "start_time": "2021-10-24T05:57:35.758Z"
   },
   {
    "duration": 2,
    "start_time": "2021-10-24T05:57:37.005Z"
   },
   {
    "duration": 866,
    "start_time": "2021-10-24T05:57:37.009Z"
   },
   {
    "duration": 17,
    "start_time": "2021-10-24T05:57:37.877Z"
   },
   {
    "duration": 30,
    "start_time": "2021-10-24T05:57:37.896Z"
   },
   {
    "duration": 11,
    "start_time": "2021-10-24T05:57:37.928Z"
   },
   {
    "duration": 53,
    "start_time": "2021-10-24T05:57:37.941Z"
   },
   {
    "duration": 17,
    "start_time": "2021-10-24T05:57:37.997Z"
   },
   {
    "duration": 22,
    "start_time": "2021-10-24T05:57:38.016Z"
   },
   {
    "duration": 5,
    "start_time": "2021-10-24T05:57:38.039Z"
   },
   {
    "duration": 6,
    "start_time": "2021-10-24T05:57:38.046Z"
   },
   {
    "duration": 644,
    "start_time": "2021-10-24T05:57:38.078Z"
   },
   {
    "duration": 8,
    "start_time": "2021-10-24T05:57:38.724Z"
   },
   {
    "duration": 7,
    "start_time": "2021-10-24T05:57:38.733Z"
   },
   {
    "duration": 7,
    "start_time": "2021-10-24T05:57:38.741Z"
   },
   {
    "duration": 29,
    "start_time": "2021-10-24T05:57:38.750Z"
   },
   {
    "duration": 7,
    "start_time": "2021-10-24T05:57:38.782Z"
   },
   {
    "duration": 23,
    "start_time": "2021-10-24T05:57:38.790Z"
   },
   {
    "duration": 7,
    "start_time": "2021-10-24T05:57:38.814Z"
   },
   {
    "duration": 538,
    "start_time": "2021-10-24T05:57:38.822Z"
   },
   {
    "duration": 522,
    "start_time": "2021-10-24T05:57:39.362Z"
   },
   {
    "duration": 7,
    "start_time": "2021-10-24T05:57:39.887Z"
   },
   {
    "duration": 7,
    "start_time": "2021-10-24T05:57:39.898Z"
   },
   {
    "duration": 15,
    "start_time": "2021-10-24T05:57:39.908Z"
   },
   {
    "duration": 15,
    "start_time": "2021-10-24T05:57:39.925Z"
   },
   {
    "duration": 51,
    "start_time": "2021-10-24T05:57:39.941Z"
   },
   {
    "duration": 13,
    "start_time": "2021-10-24T05:57:39.994Z"
   },
   {
    "duration": 137,
    "start_time": "2021-10-24T05:57:40.009Z"
   },
   {
    "duration": 34,
    "start_time": "2021-10-24T05:57:40.148Z"
   },
   {
    "duration": 115,
    "start_time": "2021-10-24T05:57:40.184Z"
   },
   {
    "duration": 6,
    "start_time": "2021-10-24T05:57:40.300Z"
   },
   {
    "duration": 2846,
    "start_time": "2021-10-24T05:57:40.307Z"
   },
   {
    "duration": 296,
    "start_time": "2021-10-24T05:57:43.154Z"
   },
   {
    "duration": 302,
    "start_time": "2021-10-24T05:57:43.452Z"
   },
   {
    "duration": 4,
    "start_time": "2021-10-24T05:57:43.756Z"
   },
   {
    "duration": 6,
    "start_time": "2021-10-24T05:57:43.762Z"
   },
   {
    "duration": 470,
    "start_time": "2021-10-24T05:57:43.770Z"
   },
   {
    "duration": 4,
    "start_time": "2021-10-24T05:57:44.241Z"
   },
   {
    "duration": 15,
    "start_time": "2021-10-24T05:57:44.246Z"
   },
   {
    "duration": 4,
    "start_time": "2021-10-24T05:57:44.262Z"
   },
   {
    "duration": 14,
    "start_time": "2021-10-24T05:57:44.278Z"
   },
   {
    "duration": 7,
    "start_time": "2021-10-24T05:57:44.294Z"
   },
   {
    "duration": 8,
    "start_time": "2021-10-24T05:57:44.303Z"
   },
   {
    "duration": 275,
    "start_time": "2021-10-24T05:57:44.312Z"
   },
   {
    "duration": 89,
    "start_time": "2021-10-24T05:57:44.590Z"
   },
   {
    "duration": 5,
    "start_time": "2021-10-24T05:57:44.681Z"
   },
   {
    "duration": 88,
    "start_time": "2021-10-24T05:57:44.691Z"
   },
   {
    "duration": 1999,
    "start_time": "2021-10-24T05:57:44.784Z"
   },
   {
    "duration": 92,
    "start_time": "2021-10-24T05:57:46.785Z"
   },
   {
    "duration": 908,
    "start_time": "2021-10-24T05:57:46.879Z"
   },
   {
    "duration": 30417,
    "start_time": "2021-10-24T05:57:47.790Z"
   },
   {
    "duration": 33614,
    "start_time": "2021-10-24T05:58:18.209Z"
   },
   {
    "duration": 4,
    "start_time": "2021-10-24T05:58:51.825Z"
   },
   {
    "duration": 6,
    "start_time": "2021-10-24T05:58:51.830Z"
   },
   {
    "duration": 6,
    "start_time": "2021-10-24T05:58:51.838Z"
   },
   {
    "duration": 421739,
    "start_time": "2021-10-24T06:10:31.231Z"
   },
   {
    "duration": 1389642,
    "start_time": "2021-10-24T06:17:47.502Z"
   },
   {
    "duration": 34721,
    "start_time": "2021-10-24T06:57:43.904Z"
   },
   {
    "duration": 39047,
    "start_time": "2021-10-24T06:58:28.388Z"
   },
   {
    "duration": 5,
    "start_time": "2021-10-24T06:59:16.728Z"
   },
   {
    "duration": 4,
    "start_time": "2021-10-24T06:59:35.969Z"
   },
   {
    "duration": 6,
    "start_time": "2021-10-24T07:08:12.314Z"
   },
   {
    "duration": 42,
    "start_time": "2021-10-24T07:08:18.424Z"
   },
   {
    "duration": 355,
    "start_time": "2021-10-24T07:10:33.735Z"
   },
   {
    "duration": 49,
    "start_time": "2021-10-24T07:10:40.977Z"
   },
   {
    "duration": 405,
    "start_time": "2021-10-24T07:15:54.879Z"
   },
   {
    "duration": 41,
    "start_time": "2021-10-24T07:16:18.467Z"
   },
   {
    "duration": 360,
    "start_time": "2021-10-24T07:16:39.176Z"
   },
   {
    "duration": 4,
    "start_time": "2021-10-24T07:17:17.288Z"
   },
   {
    "duration": 1829,
    "start_time": "2021-10-24T07:17:24.108Z"
   },
   {
    "duration": 3,
    "start_time": "2021-10-24T07:17:49.837Z"
   },
   {
    "duration": 9,
    "start_time": "2021-10-24T07:21:13.301Z"
   },
   {
    "duration": 4,
    "start_time": "2021-10-24T07:21:36.349Z"
   },
   {
    "duration": 3,
    "start_time": "2021-10-24T07:22:16.637Z"
   },
   {
    "duration": 3,
    "start_time": "2021-10-24T07:22:30.707Z"
   },
   {
    "duration": 3,
    "start_time": "2021-10-24T07:22:34.948Z"
   },
   {
    "duration": 704,
    "start_time": "2021-10-24T07:23:24.149Z"
   },
   {
    "duration": 4,
    "start_time": "2021-10-24T07:24:42.407Z"
   },
   {
    "duration": 367,
    "start_time": "2021-10-24T07:27:04.051Z"
   },
   {
    "duration": 34074,
    "start_time": "2021-10-24T07:27:17.783Z"
   },
   {
    "duration": 37744,
    "start_time": "2021-10-24T07:27:51.858Z"
   },
   {
    "duration": 9,
    "start_time": "2021-10-24T07:28:29.605Z"
   },
   {
    "duration": 10,
    "start_time": "2021-10-24T07:28:29.616Z"
   },
   {
    "duration": 12,
    "start_time": "2021-10-24T07:28:29.627Z"
   },
   {
    "duration": 5,
    "start_time": "2021-10-24T07:28:29.641Z"
   },
   {
    "duration": 5,
    "start_time": "2021-10-24T07:28:29.647Z"
   },
   {
    "duration": 25,
    "start_time": "2021-10-24T07:28:29.654Z"
   },
   {
    "duration": 32898,
    "start_time": "2021-10-24T07:28:29.682Z"
   },
   {
    "duration": 26,
    "start_time": "2021-10-24T07:31:20.619Z"
   },
   {
    "duration": 154861,
    "start_time": "2021-10-24T07:31:40.550Z"
   },
   {
    "duration": 6,
    "start_time": "2021-10-24T07:35:26.055Z"
   },
   {
    "duration": 4,
    "start_time": "2021-10-24T07:36:39.808Z"
   },
   {
    "duration": 5,
    "start_time": "2021-10-24T07:37:06.386Z"
   },
   {
    "duration": 4,
    "start_time": "2021-10-24T07:37:07.721Z"
   },
   {
    "duration": 2892,
    "start_time": "2021-10-24T07:39:47.747Z"
   },
   {
    "duration": 4,
    "start_time": "2021-10-24T07:41:51.504Z"
   },
   {
    "duration": 4,
    "start_time": "2021-10-24T07:41:51.510Z"
   },
   {
    "duration": 887,
    "start_time": "2021-10-24T07:41:51.516Z"
   },
   {
    "duration": 17,
    "start_time": "2021-10-24T07:41:52.405Z"
   },
   {
    "duration": 23,
    "start_time": "2021-10-24T07:41:52.423Z"
   },
   {
    "duration": 34,
    "start_time": "2021-10-24T07:41:52.448Z"
   },
   {
    "duration": 26,
    "start_time": "2021-10-24T07:41:52.485Z"
   },
   {
    "duration": 19,
    "start_time": "2021-10-24T07:41:52.514Z"
   },
   {
    "duration": 51,
    "start_time": "2021-10-24T07:41:52.535Z"
   },
   {
    "duration": 5,
    "start_time": "2021-10-24T07:41:52.589Z"
   },
   {
    "duration": 6,
    "start_time": "2021-10-24T07:41:52.596Z"
   },
   {
    "duration": 518,
    "start_time": "2021-10-24T07:41:52.603Z"
   },
   {
    "duration": 7,
    "start_time": "2021-10-24T07:41:53.123Z"
   },
   {
    "duration": 5,
    "start_time": "2021-10-24T07:41:53.131Z"
   },
   {
    "duration": 4,
    "start_time": "2021-10-24T07:41:53.137Z"
   },
   {
    "duration": 7,
    "start_time": "2021-10-24T07:41:53.143Z"
   },
   {
    "duration": 27,
    "start_time": "2021-10-24T07:41:53.152Z"
   },
   {
    "duration": 25,
    "start_time": "2021-10-24T07:41:53.181Z"
   },
   {
    "duration": 8,
    "start_time": "2021-10-24T07:41:53.208Z"
   },
   {
    "duration": 518,
    "start_time": "2021-10-24T07:41:53.218Z"
   },
   {
    "duration": 604,
    "start_time": "2021-10-24T07:41:53.738Z"
   },
   {
    "duration": 8,
    "start_time": "2021-10-24T07:41:54.347Z"
   },
   {
    "duration": 25,
    "start_time": "2021-10-24T07:41:54.358Z"
   },
   {
    "duration": 18,
    "start_time": "2021-10-24T07:41:54.385Z"
   },
   {
    "duration": 14,
    "start_time": "2021-10-24T07:41:54.404Z"
   },
   {
    "duration": 34,
    "start_time": "2021-10-24T07:41:54.420Z"
   },
   {
    "duration": 9,
    "start_time": "2021-10-24T07:41:54.456Z"
   },
   {
    "duration": 132,
    "start_time": "2021-10-24T07:41:54.467Z"
   },
   {
    "duration": 26,
    "start_time": "2021-10-24T07:41:54.601Z"
   },
   {
    "duration": 120,
    "start_time": "2021-10-24T07:41:54.629Z"
   },
   {
    "duration": 7,
    "start_time": "2021-10-24T07:41:54.752Z"
   },
   {
    "duration": 2628,
    "start_time": "2021-10-24T07:41:54.761Z"
   },
   {
    "duration": 305,
    "start_time": "2021-10-24T07:41:57.391Z"
   },
   {
    "duration": 282,
    "start_time": "2021-10-24T07:41:57.698Z"
   },
   {
    "duration": 5,
    "start_time": "2021-10-24T07:41:57.983Z"
   },
   {
    "duration": 7,
    "start_time": "2021-10-24T07:41:57.991Z"
   },
   {
    "duration": 313,
    "start_time": "2021-10-24T07:41:58.000Z"
   },
   {
    "duration": 4,
    "start_time": "2021-10-24T07:41:58.314Z"
   },
   {
    "duration": 12,
    "start_time": "2021-10-24T07:41:58.320Z"
   },
   {
    "duration": 3,
    "start_time": "2021-10-24T07:41:58.334Z"
   },
   {
    "duration": 10,
    "start_time": "2021-10-24T07:41:58.338Z"
   },
   {
    "duration": 7,
    "start_time": "2021-10-24T07:41:58.350Z"
   },
   {
    "duration": 5,
    "start_time": "2021-10-24T07:41:58.382Z"
   },
   {
    "duration": 288,
    "start_time": "2021-10-24T07:41:58.389Z"
   },
   {
    "duration": 9,
    "start_time": "2021-10-24T07:41:58.680Z"
   },
   {
    "duration": 5,
    "start_time": "2021-10-24T07:41:58.690Z"
   },
   {
    "duration": 4,
    "start_time": "2021-10-24T07:41:58.697Z"
   },
   {
    "duration": 2292,
    "start_time": "2021-10-24T07:41:58.703Z"
   },
   {
    "duration": 17,
    "start_time": "2021-10-24T07:42:01.080Z"
   },
   {
    "duration": 142133,
    "start_time": "2021-10-24T07:42:01.100Z"
   },
   {
    "duration": 34990,
    "start_time": "2021-10-24T07:44:23.234Z"
   },
   {
    "duration": 38504,
    "start_time": "2021-10-24T07:44:58.225Z"
   },
   {
    "duration": 14,
    "start_time": "2021-10-24T07:45:36.731Z"
   },
   {
    "duration": 8,
    "start_time": "2021-10-24T07:45:36.747Z"
   },
   {
    "duration": 20,
    "start_time": "2021-10-24T07:45:36.757Z"
   },
   {
    "duration": 7,
    "start_time": "2021-10-24T07:45:36.785Z"
   },
   {
    "duration": 152227,
    "start_time": "2021-10-24T07:45:36.795Z"
   },
   {
    "duration": 4,
    "start_time": "2021-10-24T08:13:30.289Z"
   },
   {
    "duration": 5,
    "start_time": "2021-10-24T08:17:13.828Z"
   },
   {
    "duration": 4,
    "start_time": "2021-10-24T08:17:21.291Z"
   },
   {
    "duration": 1503,
    "start_time": "2021-10-24T23:48:42.582Z"
   },
   {
    "duration": 4,
    "start_time": "2021-10-24T23:48:44.088Z"
   },
   {
    "duration": 1033,
    "start_time": "2021-10-24T23:48:44.096Z"
   },
   {
    "duration": 28,
    "start_time": "2021-10-24T23:48:45.132Z"
   },
   {
    "duration": 62,
    "start_time": "2021-10-24T23:48:45.164Z"
   },
   {
    "duration": 17,
    "start_time": "2021-10-24T23:48:45.228Z"
   },
   {
    "duration": 36,
    "start_time": "2021-10-24T23:48:45.248Z"
   },
   {
    "duration": 25,
    "start_time": "2021-10-24T23:48:45.321Z"
   },
   {
    "duration": 36,
    "start_time": "2021-10-24T23:48:45.523Z"
   },
   {
    "duration": 5,
    "start_time": "2021-10-24T23:48:46.525Z"
   },
   {
    "duration": 4,
    "start_time": "2021-10-24T23:48:46.731Z"
   },
   {
    "duration": 942,
    "start_time": "2021-10-24T23:48:47.072Z"
   },
   {
    "duration": 16,
    "start_time": "2021-10-24T23:48:48.018Z"
   },
   {
    "duration": 21,
    "start_time": "2021-10-24T23:48:48.038Z"
   },
   {
    "duration": 12,
    "start_time": "2021-10-24T23:48:48.081Z"
   },
   {
    "duration": 12,
    "start_time": "2021-10-24T23:48:48.304Z"
   },
   {
    "duration": 7,
    "start_time": "2021-10-24T23:48:49.304Z"
   },
   {
    "duration": 23,
    "start_time": "2021-10-24T23:48:50.367Z"
   },
   {
    "duration": 9,
    "start_time": "2021-10-24T23:48:50.569Z"
   },
   {
    "duration": 787,
    "start_time": "2021-10-24T23:48:50.840Z"
   },
   {
    "duration": 779,
    "start_time": "2021-10-24T23:48:51.630Z"
   },
   {
    "duration": 15,
    "start_time": "2021-10-24T23:48:52.412Z"
   },
   {
    "duration": 14,
    "start_time": "2021-10-24T23:48:52.429Z"
   },
   {
    "duration": 23,
    "start_time": "2021-10-24T23:48:52.446Z"
   },
   {
    "duration": 22,
    "start_time": "2021-10-24T23:48:52.897Z"
   },
   {
    "duration": 26,
    "start_time": "2021-10-24T23:48:53.103Z"
   },
   {
    "duration": 13,
    "start_time": "2021-10-24T23:48:54.234Z"
   },
   {
    "duration": 175,
    "start_time": "2021-10-24T23:48:54.729Z"
   },
   {
    "duration": 44,
    "start_time": "2021-10-24T23:48:55.157Z"
   },
   {
    "duration": 167,
    "start_time": "2021-10-24T23:48:55.737Z"
   },
   {
    "duration": 9,
    "start_time": "2021-10-24T23:48:57.367Z"
   },
   {
    "duration": 4257,
    "start_time": "2021-10-24T23:48:57.665Z"
   },
   {
    "duration": 555,
    "start_time": "2021-10-24T23:49:01.924Z"
   },
   {
    "duration": 460,
    "start_time": "2021-10-24T23:49:02.482Z"
   },
   {
    "duration": 5,
    "start_time": "2021-10-24T23:49:02.945Z"
   },
   {
    "duration": 14,
    "start_time": "2021-10-24T23:49:02.952Z"
   },
   {
    "duration": 608,
    "start_time": "2021-10-24T23:49:02.969Z"
   },
   {
    "duration": 6,
    "start_time": "2021-10-24T23:49:03.579Z"
   },
   {
    "duration": 10,
    "start_time": "2021-10-24T23:49:05.722Z"
   },
   {
    "duration": 4,
    "start_time": "2021-10-24T23:49:08.503Z"
   },
   {
    "duration": 12,
    "start_time": "2021-10-24T23:49:09.201Z"
   },
   {
    "duration": 7,
    "start_time": "2021-10-24T23:49:13.984Z"
   },
   {
    "duration": 41,
    "start_time": "2021-10-24T23:49:25.075Z"
   },
   {
    "duration": 5,
    "start_time": "2021-10-24T23:49:39.671Z"
   },
   {
    "duration": 4,
    "start_time": "2021-10-24T23:57:09.998Z"
   },
   {
    "duration": 5,
    "start_time": "2021-10-24T23:57:10.131Z"
   },
   {
    "duration": 214,
    "start_time": "2021-10-24T23:57:13.112Z"
   },
   {
    "duration": 6,
    "start_time": "2021-10-24T23:57:13.423Z"
   },
   {
    "duration": 6,
    "start_time": "2021-10-24T23:57:13.969Z"
   },
   {
    "duration": 5,
    "start_time": "2021-10-24T23:57:14.398Z"
   },
   {
    "duration": 1222,
    "start_time": "2021-10-24T23:57:15.005Z"
   },
   {
    "duration": 4,
    "start_time": "2021-10-24T23:57:49.703Z"
   },
   {
    "duration": 11,
    "start_time": "2021-10-24T23:57:50.897Z"
   },
   {
    "duration": 4,
    "start_time": "2021-10-24T23:57:52.283Z"
   },
   {
    "duration": 5,
    "start_time": "2021-10-24T23:57:52.443Z"
   },
   {
    "duration": 205,
    "start_time": "2021-10-24T23:57:53.323Z"
   },
   {
    "duration": 10,
    "start_time": "2021-10-24T23:57:53.624Z"
   },
   {
    "duration": 6,
    "start_time": "2021-10-24T23:57:54.401Z"
   },
   {
    "duration": 5,
    "start_time": "2021-10-24T23:57:55.212Z"
   },
   {
    "duration": 1360,
    "start_time": "2021-10-24T23:57:59.677Z"
   },
   {
    "duration": 15,
    "start_time": "2021-10-24T23:58:42.204Z"
   },
   {
    "duration": 40649,
    "start_time": "2021-10-24T23:58:45.790Z"
   },
   {
    "duration": 45231,
    "start_time": "2021-10-24T23:59:26.442Z"
   },
   {
    "duration": 17,
    "start_time": "2021-10-25T00:00:11.676Z"
   },
   {
    "duration": 6,
    "start_time": "2021-10-25T00:00:30.471Z"
   },
   {
    "duration": 406,
    "start_time": "2021-10-25T00:01:15.556Z"
   },
   {
    "duration": 7414,
    "start_time": "2021-10-25T00:01:20.830Z"
   },
   {
    "duration": 4,
    "start_time": "2021-10-25T00:03:23.227Z"
   },
   {
    "duration": 13,
    "start_time": "2021-10-25T00:03:26.190Z"
   },
   {
    "duration": 63,
    "start_time": "2021-10-25T00:03:28.868Z"
   },
   {
    "duration": 6,
    "start_time": "2021-10-25T00:03:29.126Z"
   },
   {
    "duration": 6,
    "start_time": "2021-10-25T00:03:29.169Z"
   },
   {
    "duration": 7,
    "start_time": "2021-10-25T00:03:29.547Z"
   },
   {
    "duration": 1334,
    "start_time": "2021-10-25T00:03:29.996Z"
   },
   {
    "duration": 1523,
    "start_time": "2021-10-25T05:27:49.444Z"
   },
   {
    "duration": 4,
    "start_time": "2021-10-25T05:27:50.969Z"
   },
   {
    "duration": 1011,
    "start_time": "2021-10-25T05:27:50.976Z"
   },
   {
    "duration": 25,
    "start_time": "2021-10-25T05:27:51.990Z"
   },
   {
    "duration": 39,
    "start_time": "2021-10-25T05:27:52.018Z"
   },
   {
    "duration": 48,
    "start_time": "2021-10-25T05:27:52.060Z"
   },
   {
    "duration": 35,
    "start_time": "2021-10-25T05:27:52.111Z"
   },
   {
    "duration": 26,
    "start_time": "2021-10-25T05:27:52.150Z"
   },
   {
    "duration": 37,
    "start_time": "2021-10-25T05:27:52.201Z"
   },
   {
    "duration": 5,
    "start_time": "2021-10-25T05:27:52.241Z"
   },
   {
    "duration": 5,
    "start_time": "2021-10-25T05:27:52.249Z"
   },
   {
    "duration": 855,
    "start_time": "2021-10-25T05:27:52.256Z"
   },
   {
    "duration": 10,
    "start_time": "2021-10-25T05:27:53.114Z"
   },
   {
    "duration": 7,
    "start_time": "2021-10-25T05:27:53.127Z"
   },
   {
    "duration": 6,
    "start_time": "2021-10-25T05:27:53.137Z"
   },
   {
    "duration": 12,
    "start_time": "2021-10-25T05:27:53.146Z"
   },
   {
    "duration": 7,
    "start_time": "2021-10-25T05:27:53.201Z"
   },
   {
    "duration": 27,
    "start_time": "2021-10-25T05:27:53.211Z"
   },
   {
    "duration": 9,
    "start_time": "2021-10-25T05:27:53.241Z"
   },
   {
    "duration": 852,
    "start_time": "2021-10-25T05:27:53.254Z"
   },
   {
    "duration": 807,
    "start_time": "2021-10-25T05:27:54.109Z"
   },
   {
    "duration": 9,
    "start_time": "2021-10-25T05:27:54.918Z"
   },
   {
    "duration": 9,
    "start_time": "2021-10-25T05:27:54.933Z"
   },
   {
    "duration": 19,
    "start_time": "2021-10-25T05:27:54.946Z"
   },
   {
    "duration": 54,
    "start_time": "2021-10-25T05:27:54.967Z"
   },
   {
    "duration": 24,
    "start_time": "2021-10-25T05:27:55.023Z"
   },
   {
    "duration": 12,
    "start_time": "2021-10-25T05:27:55.050Z"
   },
   {
    "duration": 221,
    "start_time": "2021-10-25T05:27:55.064Z"
   },
   {
    "duration": 49,
    "start_time": "2021-10-25T05:27:55.287Z"
   },
   {
    "duration": 191,
    "start_time": "2021-10-25T05:27:55.339Z"
   },
   {
    "duration": 7,
    "start_time": "2021-10-25T05:27:55.533Z"
   },
   {
    "duration": 4393,
    "start_time": "2021-10-25T05:27:55.542Z"
   },
   {
    "duration": 481,
    "start_time": "2021-10-25T05:27:59.937Z"
   },
   {
    "duration": 466,
    "start_time": "2021-10-25T05:28:00.420Z"
   },
   {
    "duration": 13,
    "start_time": "2021-10-25T05:28:00.889Z"
   },
   {
    "duration": 10,
    "start_time": "2021-10-25T05:28:00.905Z"
   },
   {
    "duration": 649,
    "start_time": "2021-10-25T05:28:00.918Z"
   },
   {
    "duration": 7,
    "start_time": "2021-10-25T05:28:01.569Z"
   },
   {
    "duration": 29,
    "start_time": "2021-10-25T05:28:01.579Z"
   },
   {
    "duration": 12,
    "start_time": "2021-10-25T05:28:01.611Z"
   },
   {
    "duration": 21,
    "start_time": "2021-10-25T05:28:01.626Z"
   },
   {
    "duration": 29,
    "start_time": "2021-10-25T05:28:01.649Z"
   },
   {
    "duration": 26,
    "start_time": "2021-10-25T05:28:01.681Z"
   },
   {
    "duration": 198,
    "start_time": "2021-10-25T05:28:01.709Z"
   },
   {
    "duration": 97,
    "start_time": "2021-10-25T05:28:01.910Z"
   },
   {
    "duration": 91,
    "start_time": "2021-10-25T05:28:02.011Z"
   },
   {
    "duration": 12,
    "start_time": "2021-10-25T05:28:02.106Z"
   },
   {
    "duration": 1686,
    "start_time": "2021-10-25T05:28:02.120Z"
   },
   {
    "duration": 197,
    "start_time": "2021-10-25T05:28:03.809Z"
   },
   {
    "duration": 173709,
    "start_time": "2021-10-25T05:28:04.009Z"
   },
   {
    "duration": 41662,
    "start_time": "2021-10-25T05:30:57.721Z"
   },
   {
    "duration": 45006,
    "start_time": "2021-10-25T05:31:39.386Z"
   },
   {
    "duration": 18,
    "start_time": "2021-10-25T05:32:24.394Z"
   },
   {
    "duration": 10,
    "start_time": "2021-10-25T05:32:24.415Z"
   },
   {
    "duration": 6,
    "start_time": "2021-10-25T05:32:24.428Z"
   },
   {
    "duration": 7,
    "start_time": "2021-10-25T05:32:24.436Z"
   },
   {
    "duration": 488,
    "start_time": "2021-10-25T05:32:24.445Z"
   },
   {
    "duration": 452,
    "start_time": "2021-10-25T05:46:37.738Z"
   },
   {
    "duration": 458,
    "start_time": "2021-10-25T05:46:57.853Z"
   },
   {
    "duration": 460,
    "start_time": "2021-10-25T05:47:04.813Z"
   },
   {
    "duration": 456,
    "start_time": "2021-10-25T05:47:15.293Z"
   },
   {
    "duration": 445,
    "start_time": "2021-10-25T05:47:40.567Z"
   },
   {
    "duration": 545,
    "start_time": "2021-10-25T05:48:08.283Z"
   },
   {
    "duration": 473,
    "start_time": "2021-10-25T05:48:21.284Z"
   },
   {
    "duration": 456,
    "start_time": "2021-10-25T05:48:25.412Z"
   },
   {
    "duration": 449,
    "start_time": "2021-10-25T05:48:48.700Z"
   },
   {
    "duration": 7,
    "start_time": "2021-10-25T06:03:39.105Z"
   },
   {
    "duration": 5,
    "start_time": "2021-10-25T06:04:27.896Z"
   },
   {
    "duration": 4,
    "start_time": "2021-10-25T06:04:32.244Z"
   },
   {
    "duration": 5,
    "start_time": "2021-10-25T06:04:33.531Z"
   },
   {
    "duration": 6,
    "start_time": "2021-10-25T06:04:38.356Z"
   },
   {
    "duration": 12,
    "start_time": "2021-10-25T06:05:25.060Z"
   },
   {
    "duration": 4,
    "start_time": "2021-10-25T06:05:26.331Z"
   },
   {
    "duration": 5,
    "start_time": "2021-10-25T06:05:27.621Z"
   },
   {
    "duration": 233,
    "start_time": "2021-10-25T06:05:32.470Z"
   },
   {
    "duration": 7,
    "start_time": "2021-10-25T06:05:34.995Z"
   },
   {
    "duration": 7,
    "start_time": "2021-10-25T06:05:40.500Z"
   },
   {
    "duration": 7,
    "start_time": "2021-10-25T06:05:42.941Z"
   },
   {
    "duration": 1688,
    "start_time": "2021-10-25T06:05:46.514Z"
   },
   {
    "duration": 1458,
    "start_time": "2021-10-25T06:09:33.446Z"
   },
   {
    "duration": 1505,
    "start_time": "2021-10-25T06:09:47.210Z"
   },
   {
    "duration": 1369,
    "start_time": "2021-10-25T06:09:55.039Z"
   },
   {
    "duration": 5,
    "start_time": "2021-10-25T06:26:12.136Z"
   },
   {
    "duration": 11,
    "start_time": "2021-10-25T06:26:12.144Z"
   },
   {
    "duration": 1181,
    "start_time": "2021-10-25T06:26:12.159Z"
   },
   {
    "duration": 27,
    "start_time": "2021-10-25T06:26:13.343Z"
   },
   {
    "duration": 56,
    "start_time": "2021-10-25T06:26:13.373Z"
   },
   {
    "duration": 18,
    "start_time": "2021-10-25T06:26:13.433Z"
   },
   {
    "duration": 78,
    "start_time": "2021-10-25T06:26:13.455Z"
   },
   {
    "duration": 26,
    "start_time": "2021-10-25T06:26:13.536Z"
   },
   {
    "duration": 66,
    "start_time": "2021-10-25T06:26:13.566Z"
   },
   {
    "duration": 5,
    "start_time": "2021-10-25T06:26:13.635Z"
   },
   {
    "duration": 7,
    "start_time": "2021-10-25T06:26:13.642Z"
   },
   {
    "duration": 839,
    "start_time": "2021-10-25T06:26:13.651Z"
   },
   {
    "duration": 14,
    "start_time": "2021-10-25T06:26:14.492Z"
   },
   {
    "duration": 11,
    "start_time": "2021-10-25T06:26:14.509Z"
   },
   {
    "duration": 7,
    "start_time": "2021-10-25T06:26:14.522Z"
   },
   {
    "duration": 9,
    "start_time": "2021-10-25T06:26:14.531Z"
   },
   {
    "duration": 8,
    "start_time": "2021-10-25T06:26:14.542Z"
   },
   {
    "duration": 73,
    "start_time": "2021-10-25T06:26:14.552Z"
   },
   {
    "duration": 9,
    "start_time": "2021-10-25T06:26:14.627Z"
   },
   {
    "duration": 851,
    "start_time": "2021-10-25T06:26:14.638Z"
   },
   {
    "duration": 830,
    "start_time": "2021-10-25T06:26:15.492Z"
   },
   {
    "duration": 10,
    "start_time": "2021-10-25T06:26:16.325Z"
   },
   {
    "duration": 10,
    "start_time": "2021-10-25T06:26:16.337Z"
   },
   {
    "duration": 16,
    "start_time": "2021-10-25T06:26:16.349Z"
   },
   {
    "duration": 49,
    "start_time": "2021-10-25T06:26:16.368Z"
   },
   {
    "duration": 17,
    "start_time": "2021-10-25T06:26:16.420Z"
   },
   {
    "duration": 14,
    "start_time": "2021-10-25T06:26:16.442Z"
   },
   {
    "duration": 222,
    "start_time": "2021-10-25T06:26:16.459Z"
   },
   {
    "duration": 56,
    "start_time": "2021-10-25T06:26:16.683Z"
   },
   {
    "duration": 197,
    "start_time": "2021-10-25T06:26:16.741Z"
   },
   {
    "duration": 9,
    "start_time": "2021-10-25T06:26:16.940Z"
   },
   {
    "duration": 4627,
    "start_time": "2021-10-25T06:26:16.951Z"
   },
   {
    "duration": 475,
    "start_time": "2021-10-25T06:26:21.580Z"
   },
   {
    "duration": 604,
    "start_time": "2021-10-25T06:26:22.058Z"
   },
   {
    "duration": 6,
    "start_time": "2021-10-25T06:26:22.664Z"
   },
   {
    "duration": 10,
    "start_time": "2021-10-25T06:26:22.672Z"
   },
   {
    "duration": 508,
    "start_time": "2021-10-25T06:26:22.684Z"
   },
   {
    "duration": 8,
    "start_time": "2021-10-25T06:26:23.195Z"
   },
   {
    "duration": 13,
    "start_time": "2021-10-25T06:26:23.205Z"
   },
   {
    "duration": 6,
    "start_time": "2021-10-25T06:26:23.221Z"
   },
   {
    "duration": 16,
    "start_time": "2021-10-25T06:26:23.229Z"
   },
   {
    "duration": 9,
    "start_time": "2021-10-25T06:26:23.247Z"
   },
   {
    "duration": 7,
    "start_time": "2021-10-25T06:26:23.258Z"
   },
   {
    "duration": 107,
    "start_time": "2021-10-25T06:26:23.301Z"
   },
   {
    "duration": 98,
    "start_time": "2021-10-25T06:26:23.503Z"
   },
   {
    "duration": 6,
    "start_time": "2021-10-25T06:26:23.604Z"
   },
   {
    "duration": 7,
    "start_time": "2021-10-25T06:26:23.612Z"
   },
   {
    "duration": 1688,
    "start_time": "2021-10-25T06:26:23.621Z"
   },
   {
    "duration": 12006,
    "start_time": "2021-10-25T06:26:50.628Z"
   },
   {
    "duration": 2314566,
    "start_time": "2021-10-25T06:28:19.062Z"
   },
   {
    "duration": 10472242,
    "start_time": "2021-10-25T07:10:02.484Z"
   },
   {
    "duration": 2654,
    "start_time": "2021-10-25T10:25:51.604Z"
   },
   {
    "duration": 11,
    "start_time": "2021-10-25T10:26:06.458Z"
   },
   {
    "duration": 6,
    "start_time": "2021-10-25T10:29:04.823Z"
   },
   {
    "duration": 5,
    "start_time": "2021-10-25T10:29:19.606Z"
   },
   {
    "duration": 5,
    "start_time": "2021-10-25T10:29:37.600Z"
   },
   {
    "duration": 5,
    "start_time": "2021-10-25T10:29:45.599Z"
   },
   {
    "duration": 5,
    "start_time": "2021-10-25T10:29:57.035Z"
   },
   {
    "duration": 6,
    "start_time": "2021-10-25T10:30:24.256Z"
   },
   {
    "duration": 346,
    "start_time": "2021-10-25T10:30:35.770Z"
   },
   {
    "duration": 10362,
    "start_time": "2021-10-25T10:30:55.184Z"
   },
   {
    "duration": 352,
    "start_time": "2021-10-25T10:31:47.786Z"
   },
   {
    "duration": 5,
    "start_time": "2021-10-25T10:31:54.781Z"
   },
   {
    "duration": 465,
    "start_time": "2021-10-25T10:31:59.129Z"
   },
   {
    "duration": 438,
    "start_time": "2021-10-25T10:32:17.788Z"
   },
   {
    "duration": 356,
    "start_time": "2021-10-25T10:35:20.086Z"
   },
   {
    "duration": 7,
    "start_time": "2021-10-25T10:36:17.060Z"
   },
   {
    "duration": 335,
    "start_time": "2021-10-25T10:36:31.797Z"
   },
   {
    "duration": 6,
    "start_time": "2021-10-25T10:36:43.611Z"
   },
   {
    "duration": 779,
    "start_time": "2021-10-25T10:37:02.858Z"
   },
   {
    "duration": 903,
    "start_time": "2021-10-25T10:52:25.865Z"
   },
   {
    "duration": 906,
    "start_time": "2021-10-25T11:00:06.491Z"
   },
   {
    "duration": 363,
    "start_time": "2021-10-25T11:05:34.035Z"
   },
   {
    "duration": 338,
    "start_time": "2021-10-25T11:06:26.946Z"
   },
   {
    "duration": 343,
    "start_time": "2021-10-25T11:07:07.634Z"
   },
   {
    "duration": 364,
    "start_time": "2021-10-25T11:08:25.311Z"
   },
   {
    "duration": 345,
    "start_time": "2021-10-25T11:08:50.571Z"
   },
   {
    "duration": 6,
    "start_time": "2021-10-25T11:09:06.665Z"
   },
   {
    "duration": 466,
    "start_time": "2021-10-25T11:09:30.879Z"
   },
   {
    "duration": 355,
    "start_time": "2021-10-25T11:09:42.293Z"
   },
   {
    "duration": 12,
    "start_time": "2021-10-25T11:11:47.923Z"
   },
   {
    "duration": 9,
    "start_time": "2021-10-25T11:12:00.590Z"
   },
   {
    "duration": 6,
    "start_time": "2021-10-25T11:12:42.314Z"
   },
   {
    "duration": 6,
    "start_time": "2021-10-25T11:13:05.709Z"
   },
   {
    "duration": 7,
    "start_time": "2021-10-25T11:13:18.811Z"
   },
   {
    "duration": 712,
    "start_time": "2021-10-25T11:14:50.562Z"
   },
   {
    "duration": 17,
    "start_time": "2021-10-25T11:18:27.159Z"
   },
   {
    "duration": 643,
    "start_time": "2021-10-25T11:26:00.932Z"
   },
   {
    "duration": 438,
    "start_time": "2021-10-25T11:30:52.830Z"
   },
   {
    "duration": 7,
    "start_time": "2021-10-25T11:31:20.103Z"
   },
   {
    "duration": 5,
    "start_time": "2021-10-25T11:31:49.453Z"
   },
   {
    "duration": 15191,
    "start_time": "2021-10-25T11:32:59.062Z"
   },
   {
    "duration": 6,
    "start_time": "2021-10-25T11:34:30.169Z"
   },
   {
    "duration": 17,
    "start_time": "2021-10-25T11:44:30.596Z"
   },
   {
    "duration": 543,
    "start_time": "2021-10-25T11:44:38.210Z"
   },
   {
    "duration": 43189,
    "start_time": "2021-10-25T11:45:34.556Z"
   },
   {
    "duration": 21,
    "start_time": "2021-10-25T11:47:24.993Z"
   },
   {
    "duration": 144,
    "start_time": "2021-10-25T11:58:50.264Z"
   },
   {
    "duration": 4,
    "start_time": "2021-10-25T11:58:51.625Z"
   },
   {
    "duration": 6,
    "start_time": "2021-10-25T11:59:02.352Z"
   },
   {
    "duration": 360,
    "start_time": "2021-10-25T11:59:11.972Z"
   },
   {
    "duration": 5,
    "start_time": "2021-10-25T11:59:15.033Z"
   },
   {
    "duration": 6,
    "start_time": "2021-10-25T11:59:20.736Z"
   },
   {
    "duration": 2117,
    "start_time": "2021-10-25T11:59:28.282Z"
   },
   {
    "duration": 2853,
    "start_time": "2021-10-25T12:01:14.999Z"
   },
   {
    "duration": 5,
    "start_time": "2021-10-25T12:01:30.389Z"
   },
   {
    "duration": 5,
    "start_time": "2021-10-25T12:01:33.242Z"
   },
   {
    "duration": 5,
    "start_time": "2021-10-25T12:01:36.572Z"
   },
   {
    "duration": 5,
    "start_time": "2021-10-25T12:02:09.789Z"
   },
   {
    "duration": 22,
    "start_time": "2021-10-25T12:02:38.904Z"
   },
   {
    "duration": 19,
    "start_time": "2021-10-25T12:03:39.408Z"
   },
   {
    "duration": 7,
    "start_time": "2021-10-25T12:19:17.802Z"
   },
   {
    "duration": 5,
    "start_time": "2021-10-25T12:19:17.813Z"
   },
   {
    "duration": 1058,
    "start_time": "2021-10-25T12:19:17.823Z"
   },
   {
    "duration": 36,
    "start_time": "2021-10-25T12:19:18.884Z"
   },
   {
    "duration": 37,
    "start_time": "2021-10-25T12:19:18.922Z"
   },
   {
    "duration": 46,
    "start_time": "2021-10-25T12:19:18.962Z"
   },
   {
    "duration": 37,
    "start_time": "2021-10-25T12:19:19.012Z"
   },
   {
    "duration": 49,
    "start_time": "2021-10-25T12:19:19.052Z"
   },
   {
    "duration": 39,
    "start_time": "2021-10-25T12:19:19.105Z"
   },
   {
    "duration": 5,
    "start_time": "2021-10-25T12:19:19.147Z"
   },
   {
    "duration": 8,
    "start_time": "2021-10-25T12:19:19.154Z"
   },
   {
    "duration": 875,
    "start_time": "2021-10-25T12:19:19.165Z"
   },
   {
    "duration": 10,
    "start_time": "2021-10-25T12:19:20.043Z"
   },
   {
    "duration": 21,
    "start_time": "2021-10-25T12:19:20.055Z"
   },
   {
    "duration": 23,
    "start_time": "2021-10-25T12:19:20.079Z"
   },
   {
    "duration": 19,
    "start_time": "2021-10-25T12:19:20.105Z"
   },
   {
    "duration": 20,
    "start_time": "2021-10-25T12:19:20.126Z"
   },
   {
    "duration": 33,
    "start_time": "2021-10-25T12:19:20.148Z"
   },
   {
    "duration": 9,
    "start_time": "2021-10-25T12:19:20.183Z"
   },
   {
    "duration": 848,
    "start_time": "2021-10-25T12:19:20.202Z"
   },
   {
    "duration": 827,
    "start_time": "2021-10-25T12:19:21.052Z"
   },
   {
    "duration": 11,
    "start_time": "2021-10-25T12:19:21.881Z"
   },
   {
    "duration": 12,
    "start_time": "2021-10-25T12:19:21.906Z"
   },
   {
    "duration": 18,
    "start_time": "2021-10-25T12:19:21.921Z"
   },
   {
    "duration": 59,
    "start_time": "2021-10-25T12:19:21.942Z"
   },
   {
    "duration": 21,
    "start_time": "2021-10-25T12:19:22.006Z"
   },
   {
    "duration": 14,
    "start_time": "2021-10-25T12:19:22.030Z"
   },
   {
    "duration": 222,
    "start_time": "2021-10-25T12:19:22.046Z"
   },
   {
    "duration": 62,
    "start_time": "2021-10-25T12:19:22.271Z"
   },
   {
    "duration": 191,
    "start_time": "2021-10-25T12:19:22.335Z"
   },
   {
    "duration": 7,
    "start_time": "2021-10-25T12:19:22.528Z"
   },
   {
    "duration": 4526,
    "start_time": "2021-10-25T12:19:22.538Z"
   },
   {
    "duration": 630,
    "start_time": "2021-10-25T12:19:27.067Z"
   },
   {
    "duration": 492,
    "start_time": "2021-10-25T12:19:27.701Z"
   },
   {
    "duration": 6,
    "start_time": "2021-10-25T12:19:28.200Z"
   },
   {
    "duration": 14,
    "start_time": "2021-10-25T12:19:28.209Z"
   },
   {
    "duration": 842,
    "start_time": "2021-10-25T12:19:28.225Z"
   },
   {
    "duration": -59,
    "start_time": "2021-10-25T12:19:29.130Z"
   },
   {
    "duration": -68,
    "start_time": "2021-10-25T12:19:29.141Z"
   },
   {
    "duration": -82,
    "start_time": "2021-10-25T12:19:29.158Z"
   },
   {
    "duration": -86,
    "start_time": "2021-10-25T12:19:29.164Z"
   },
   {
    "duration": -181,
    "start_time": "2021-10-25T12:19:29.261Z"
   },
   {
    "duration": -209,
    "start_time": "2021-10-25T12:19:29.292Z"
   },
   {
    "duration": -210,
    "start_time": "2021-10-25T12:19:29.295Z"
   },
   {
    "duration": -224,
    "start_time": "2021-10-25T12:19:29.311Z"
   },
   {
    "duration": -234,
    "start_time": "2021-10-25T12:19:29.324Z"
   },
   {
    "duration": -237,
    "start_time": "2021-10-25T12:19:29.329Z"
   },
   {
    "duration": -241,
    "start_time": "2021-10-25T12:19:29.335Z"
   },
   {
    "duration": -284,
    "start_time": "2021-10-25T12:19:29.381Z"
   },
   {
    "duration": -290,
    "start_time": "2021-10-25T12:19:29.389Z"
   },
   {
    "duration": -320,
    "start_time": "2021-10-25T12:19:29.421Z"
   },
   {
    "duration": -324,
    "start_time": "2021-10-25T12:19:29.427Z"
   },
   {
    "duration": -325,
    "start_time": "2021-10-25T12:19:29.430Z"
   },
   {
    "duration": -329,
    "start_time": "2021-10-25T12:19:29.436Z"
   },
   {
    "duration": 6,
    "start_time": "2021-10-25T12:19:39.185Z"
   },
   {
    "duration": 15,
    "start_time": "2021-10-25T12:19:39.195Z"
   },
   {
    "duration": 973,
    "start_time": "2021-10-25T12:19:39.214Z"
   },
   {
    "duration": 30,
    "start_time": "2021-10-25T12:19:40.190Z"
   },
   {
    "duration": 38,
    "start_time": "2021-10-25T12:19:40.223Z"
   },
   {
    "duration": 48,
    "start_time": "2021-10-25T12:19:40.263Z"
   },
   {
    "duration": 39,
    "start_time": "2021-10-25T12:19:40.314Z"
   },
   {
    "duration": 63,
    "start_time": "2021-10-25T12:19:40.357Z"
   },
   {
    "duration": 37,
    "start_time": "2021-10-25T12:19:40.424Z"
   },
   {
    "duration": 4,
    "start_time": "2021-10-25T12:19:40.464Z"
   },
   {
    "duration": 9,
    "start_time": "2021-10-25T12:19:40.471Z"
   },
   {
    "duration": 881,
    "start_time": "2021-10-25T12:19:40.482Z"
   },
   {
    "duration": 9,
    "start_time": "2021-10-25T12:19:41.365Z"
   },
   {
    "duration": 29,
    "start_time": "2021-10-25T12:19:41.377Z"
   },
   {
    "duration": 17,
    "start_time": "2021-10-25T12:19:41.409Z"
   },
   {
    "duration": 10,
    "start_time": "2021-10-25T12:19:41.429Z"
   },
   {
    "duration": 14,
    "start_time": "2021-10-25T12:19:41.441Z"
   },
   {
    "duration": 48,
    "start_time": "2021-10-25T12:19:41.457Z"
   },
   {
    "duration": 10,
    "start_time": "2021-10-25T12:19:41.508Z"
   },
   {
    "duration": 873,
    "start_time": "2021-10-25T12:19:41.520Z"
   },
   {
    "duration": 852,
    "start_time": "2021-10-25T12:19:42.396Z"
   },
   {
    "duration": 10,
    "start_time": "2021-10-25T12:19:43.250Z"
   },
   {
    "duration": 21,
    "start_time": "2021-10-25T12:19:43.266Z"
   },
   {
    "duration": 16,
    "start_time": "2021-10-25T12:19:43.302Z"
   },
   {
    "duration": 23,
    "start_time": "2021-10-25T12:19:43.321Z"
   },
   {
    "duration": 20,
    "start_time": "2021-10-25T12:19:43.346Z"
   },
   {
    "duration": 46,
    "start_time": "2021-10-25T12:19:43.369Z"
   },
   {
    "duration": 204,
    "start_time": "2021-10-25T12:19:43.418Z"
   },
   {
    "duration": 46,
    "start_time": "2021-10-25T12:19:43.625Z"
   },
   {
    "duration": 212,
    "start_time": "2021-10-25T12:19:43.673Z"
   },
   {
    "duration": 14,
    "start_time": "2021-10-25T12:19:43.887Z"
   },
   {
    "duration": 4590,
    "start_time": "2021-10-25T12:19:43.904Z"
   },
   {
    "duration": 491,
    "start_time": "2021-10-25T12:19:48.502Z"
   },
   {
    "duration": 482,
    "start_time": "2021-10-25T12:19:49.000Z"
   },
   {
    "duration": 5,
    "start_time": "2021-10-25T12:19:49.486Z"
   },
   {
    "duration": 6,
    "start_time": "2021-10-25T12:19:49.503Z"
   },
   {
    "duration": 549,
    "start_time": "2021-10-25T12:19:49.512Z"
   },
   {
    "duration": 6,
    "start_time": "2021-10-25T12:19:50.063Z"
   },
   {
    "duration": 31,
    "start_time": "2021-10-25T12:19:50.072Z"
   },
   {
    "duration": 4,
    "start_time": "2021-10-25T12:19:50.107Z"
   },
   {
    "duration": 28,
    "start_time": "2021-10-25T12:19:50.114Z"
   },
   {
    "duration": 10,
    "start_time": "2021-10-25T12:19:50.144Z"
   },
   {
    "duration": 6,
    "start_time": "2021-10-25T12:19:50.156Z"
   },
   {
    "duration": 54,
    "start_time": "2021-10-25T12:19:50.165Z"
   },
   {
    "duration": 8,
    "start_time": "2021-10-25T12:19:50.302Z"
   },
   {
    "duration": 94,
    "start_time": "2021-10-25T12:19:50.313Z"
   },
   {
    "duration": 8,
    "start_time": "2021-10-25T12:19:50.410Z"
   },
   {
    "duration": 1882,
    "start_time": "2021-10-25T12:19:50.421Z"
   },
   {
    "duration": 51667,
    "start_time": "2021-10-25T12:19:52.306Z"
   },
   {
    "duration": -469,
    "start_time": "2021-10-25T12:20:44.445Z"
   },
   {
    "duration": -477,
    "start_time": "2021-10-25T12:20:44.454Z"
   },
   {
    "duration": -669,
    "start_time": "2021-10-25T12:20:44.648Z"
   },
   {
    "duration": -684,
    "start_time": "2021-10-25T12:20:44.664Z"
   },
   {
    "duration": -690,
    "start_time": "2021-10-25T12:20:44.672Z"
   },
   {
    "duration": 6,
    "start_time": "2021-10-25T12:21:20.170Z"
   },
   {
    "duration": 26,
    "start_time": "2021-10-25T12:21:20.179Z"
   },
   {
    "duration": 1034,
    "start_time": "2021-10-25T12:21:20.208Z"
   },
   {
    "duration": 27,
    "start_time": "2021-10-25T12:21:21.245Z"
   },
   {
    "duration": 58,
    "start_time": "2021-10-25T12:21:21.275Z"
   },
   {
    "duration": 21,
    "start_time": "2021-10-25T12:21:21.336Z"
   },
   {
    "duration": 65,
    "start_time": "2021-10-25T12:21:21.359Z"
   },
   {
    "duration": 29,
    "start_time": "2021-10-25T12:21:21.429Z"
   },
   {
    "duration": 64,
    "start_time": "2021-10-25T12:21:21.461Z"
   },
   {
    "duration": 6,
    "start_time": "2021-10-25T12:21:21.528Z"
   },
   {
    "duration": 18,
    "start_time": "2021-10-25T12:21:21.536Z"
   },
   {
    "duration": 849,
    "start_time": "2021-10-25T12:21:21.556Z"
   },
   {
    "duration": 10,
    "start_time": "2021-10-25T12:21:22.408Z"
   },
   {
    "duration": 24,
    "start_time": "2021-10-25T12:21:22.420Z"
   },
   {
    "duration": 8,
    "start_time": "2021-10-25T12:21:22.447Z"
   },
   {
    "duration": 17,
    "start_time": "2021-10-25T12:21:22.458Z"
   },
   {
    "duration": 27,
    "start_time": "2021-10-25T12:21:22.478Z"
   },
   {
    "duration": 32,
    "start_time": "2021-10-25T12:21:22.507Z"
   },
   {
    "duration": 9,
    "start_time": "2021-10-25T12:21:22.541Z"
   },
   {
    "duration": 869,
    "start_time": "2021-10-25T12:21:22.553Z"
   },
   {
    "duration": 838,
    "start_time": "2021-10-25T12:21:23.425Z"
   },
   {
    "duration": 11,
    "start_time": "2021-10-25T12:21:24.265Z"
   },
   {
    "duration": 35,
    "start_time": "2021-10-25T12:21:24.281Z"
   },
   {
    "duration": 29,
    "start_time": "2021-10-25T12:21:24.320Z"
   },
   {
    "duration": 50,
    "start_time": "2021-10-25T12:21:24.351Z"
   },
   {
    "duration": 31,
    "start_time": "2021-10-25T12:21:24.403Z"
   },
   {
    "duration": 15,
    "start_time": "2021-10-25T12:21:24.437Z"
   },
   {
    "duration": 230,
    "start_time": "2021-10-25T12:21:24.455Z"
   },
   {
    "duration": 53,
    "start_time": "2021-10-25T12:21:24.687Z"
   },
   {
    "duration": 202,
    "start_time": "2021-10-25T12:21:24.743Z"
   },
   {
    "duration": 8,
    "start_time": "2021-10-25T12:21:24.947Z"
   },
   {
    "duration": 4642,
    "start_time": "2021-10-25T12:21:24.958Z"
   },
   {
    "duration": 654,
    "start_time": "2021-10-25T12:21:29.603Z"
   },
   {
    "duration": 497,
    "start_time": "2021-10-25T12:21:30.259Z"
   },
   {
    "duration": 5,
    "start_time": "2021-10-25T12:21:30.759Z"
   },
   {
    "duration": 31,
    "start_time": "2021-10-25T12:21:30.767Z"
   },
   {
    "duration": 608,
    "start_time": "2021-10-25T12:21:30.800Z"
   },
   {
    "duration": 5,
    "start_time": "2021-10-25T12:21:31.411Z"
   },
   {
    "duration": 41,
    "start_time": "2021-10-25T12:21:31.418Z"
   },
   {
    "duration": 38,
    "start_time": "2021-10-25T12:21:31.462Z"
   },
   {
    "duration": 27,
    "start_time": "2021-10-25T12:21:31.502Z"
   },
   {
    "duration": 22,
    "start_time": "2021-10-25T12:21:31.532Z"
   },
   {
    "duration": 29,
    "start_time": "2021-10-25T12:21:31.557Z"
   },
   {
    "duration": 122,
    "start_time": "2021-10-25T12:21:31.588Z"
   },
   {
    "duration": 99,
    "start_time": "2021-10-25T12:21:31.803Z"
   },
   {
    "duration": 11,
    "start_time": "2021-10-25T12:21:31.905Z"
   },
   {
    "duration": 22,
    "start_time": "2021-10-25T12:21:31.918Z"
   },
   {
    "duration": 2060,
    "start_time": "2021-10-25T12:21:31.943Z"
   },
   {
    "duration": 12226,
    "start_time": "2021-10-25T12:21:34.006Z"
   },
   {
    "duration": 2733,
    "start_time": "2021-10-25T12:21:46.235Z"
   },
   {
    "duration": 7,
    "start_time": "2021-10-25T12:21:48.971Z"
   },
   {
    "duration": 22,
    "start_time": "2021-10-25T12:21:48.980Z"
   },
   {
    "duration": 6,
    "start_time": "2021-10-25T12:21:49.004Z"
   },
   {
    "duration": 18,
    "start_time": "2021-10-25T12:21:49.012Z"
   },
   {
    "duration": 1514,
    "start_time": "2021-10-26T05:36:11.395Z"
   },
   {
    "duration": 3,
    "start_time": "2021-10-26T05:36:12.912Z"
   },
   {
    "duration": 1016,
    "start_time": "2021-10-26T05:36:12.918Z"
   },
   {
    "duration": 33,
    "start_time": "2021-10-26T05:36:13.936Z"
   },
   {
    "duration": 37,
    "start_time": "2021-10-26T05:36:13.971Z"
   },
   {
    "duration": 17,
    "start_time": "2021-10-26T05:36:14.010Z"
   },
   {
    "duration": 58,
    "start_time": "2021-10-26T05:36:14.029Z"
   },
   {
    "duration": 27,
    "start_time": "2021-10-26T05:36:14.091Z"
   },
   {
    "duration": 64,
    "start_time": "2021-10-26T05:36:14.121Z"
   },
   {
    "duration": 5,
    "start_time": "2021-10-26T05:36:14.187Z"
   },
   {
    "duration": 7,
    "start_time": "2021-10-26T05:36:14.194Z"
   },
   {
    "duration": 812,
    "start_time": "2021-10-26T05:36:14.203Z"
   },
   {
    "duration": 9,
    "start_time": "2021-10-26T05:36:15.017Z"
   },
   {
    "duration": 30,
    "start_time": "2021-10-26T05:36:15.028Z"
   },
   {
    "duration": 12,
    "start_time": "2021-10-26T05:36:15.060Z"
   },
   {
    "duration": 14,
    "start_time": "2021-10-26T05:36:15.075Z"
   },
   {
    "duration": 7,
    "start_time": "2021-10-26T05:36:15.091Z"
   },
   {
    "duration": 27,
    "start_time": "2021-10-26T05:36:15.100Z"
   },
   {
    "duration": 33,
    "start_time": "2021-10-26T05:36:15.130Z"
   },
   {
    "duration": 778,
    "start_time": "2021-10-26T05:36:15.166Z"
   },
   {
    "duration": 865,
    "start_time": "2021-10-26T05:36:15.947Z"
   },
   {
    "duration": 9,
    "start_time": "2021-10-26T05:36:16.815Z"
   },
   {
    "duration": 29,
    "start_time": "2021-10-26T05:36:16.829Z"
   },
   {
    "duration": 21,
    "start_time": "2021-10-26T05:36:16.861Z"
   },
   {
    "duration": 32,
    "start_time": "2021-10-26T05:36:16.884Z"
   },
   {
    "duration": 19,
    "start_time": "2021-10-26T05:36:16.919Z"
   },
   {
    "duration": 13,
    "start_time": "2021-10-26T05:36:16.957Z"
   },
   {
    "duration": 196,
    "start_time": "2021-10-26T05:36:16.972Z"
   },
   {
    "duration": 44,
    "start_time": "2021-10-26T05:36:17.170Z"
   },
   {
    "duration": 198,
    "start_time": "2021-10-26T05:36:17.217Z"
   },
   {
    "duration": 8,
    "start_time": "2021-10-26T05:36:17.417Z"
   },
   {
    "duration": 4210,
    "start_time": "2021-10-26T05:36:17.427Z"
   },
   {
    "duration": 457,
    "start_time": "2021-10-26T05:36:21.640Z"
   },
   {
    "duration": 448,
    "start_time": "2021-10-26T05:36:22.100Z"
   },
   {
    "duration": 10,
    "start_time": "2021-10-26T05:36:22.550Z"
   },
   {
    "duration": 12,
    "start_time": "2021-10-26T05:36:22.562Z"
   },
   {
    "duration": 611,
    "start_time": "2021-10-26T05:36:22.576Z"
   },
   {
    "duration": 5,
    "start_time": "2021-10-26T05:36:23.189Z"
   },
   {
    "duration": 14,
    "start_time": "2021-10-26T05:36:23.196Z"
   },
   {
    "duration": 9,
    "start_time": "2021-10-26T05:36:23.212Z"
   },
   {
    "duration": 38,
    "start_time": "2021-10-26T05:36:23.223Z"
   },
   {
    "duration": 12,
    "start_time": "2021-10-26T05:36:23.264Z"
   },
   {
    "duration": 10,
    "start_time": "2021-10-26T05:36:23.278Z"
   },
   {
    "duration": 173,
    "start_time": "2021-10-26T05:36:23.290Z"
   },
   {
    "duration": 193,
    "start_time": "2021-10-26T05:36:23.466Z"
   },
   {
    "duration": 5,
    "start_time": "2021-10-26T05:36:23.661Z"
   },
   {
    "duration": 8,
    "start_time": "2021-10-26T05:36:23.669Z"
   },
   {
    "duration": 509,
    "start_time": "2021-10-26T05:36:23.679Z"
   },
   {
    "duration": -262,
    "start_time": "2021-10-26T05:36:24.453Z"
   },
   {
    "duration": -264,
    "start_time": "2021-10-26T05:36:24.456Z"
   },
   {
    "duration": -357,
    "start_time": "2021-10-26T05:36:24.551Z"
   },
   {
    "duration": -366,
    "start_time": "2021-10-26T05:36:24.561Z"
   },
   {
    "duration": -379,
    "start_time": "2021-10-26T05:36:24.575Z"
   },
   {
    "duration": -386,
    "start_time": "2021-10-26T05:36:24.583Z"
   },
   {
    "duration": 1457,
    "start_time": "2021-10-26T05:36:55.744Z"
   },
   {
    "duration": 4,
    "start_time": "2021-10-26T05:36:57.203Z"
   },
   {
    "duration": 1007,
    "start_time": "2021-10-26T05:36:57.209Z"
   },
   {
    "duration": 25,
    "start_time": "2021-10-26T05:36:58.219Z"
   },
   {
    "duration": 49,
    "start_time": "2021-10-26T05:36:58.246Z"
   },
   {
    "duration": 17,
    "start_time": "2021-10-26T05:36:58.297Z"
   },
   {
    "duration": 64,
    "start_time": "2021-10-26T05:36:58.316Z"
   },
   {
    "duration": 25,
    "start_time": "2021-10-26T05:36:58.382Z"
   },
   {
    "duration": 59,
    "start_time": "2021-10-26T05:36:58.411Z"
   },
   {
    "duration": 6,
    "start_time": "2021-10-26T05:36:58.473Z"
   },
   {
    "duration": 6,
    "start_time": "2021-10-26T05:36:58.482Z"
   },
   {
    "duration": 838,
    "start_time": "2021-10-26T05:36:58.490Z"
   },
   {
    "duration": 8,
    "start_time": "2021-10-26T05:36:59.331Z"
   },
   {
    "duration": 20,
    "start_time": "2021-10-26T05:36:59.341Z"
   },
   {
    "duration": 8,
    "start_time": "2021-10-26T05:36:59.363Z"
   },
   {
    "duration": 12,
    "start_time": "2021-10-26T05:36:59.373Z"
   },
   {
    "duration": 6,
    "start_time": "2021-10-26T05:36:59.387Z"
   },
   {
    "duration": 25,
    "start_time": "2021-10-26T05:36:59.395Z"
   },
   {
    "duration": 41,
    "start_time": "2021-10-26T05:36:59.423Z"
   },
   {
    "duration": 808,
    "start_time": "2021-10-26T05:36:59.466Z"
   },
   {
    "duration": 805,
    "start_time": "2021-10-26T05:37:00.276Z"
   },
   {
    "duration": 10,
    "start_time": "2021-10-26T05:37:01.083Z"
   },
   {
    "duration": 34,
    "start_time": "2021-10-26T05:37:01.095Z"
   },
   {
    "duration": 33,
    "start_time": "2021-10-26T05:37:01.131Z"
   },
   {
    "duration": 22,
    "start_time": "2021-10-26T05:37:01.167Z"
   },
   {
    "duration": 33,
    "start_time": "2021-10-26T05:37:01.191Z"
   },
   {
    "duration": 12,
    "start_time": "2021-10-26T05:37:01.229Z"
   },
   {
    "duration": 192,
    "start_time": "2021-10-26T05:37:01.244Z"
   },
   {
    "duration": 56,
    "start_time": "2021-10-26T05:37:01.438Z"
   },
   {
    "duration": 180,
    "start_time": "2021-10-26T05:37:01.497Z"
   },
   {
    "duration": 8,
    "start_time": "2021-10-26T05:37:01.680Z"
   },
   {
    "duration": 4217,
    "start_time": "2021-10-26T05:37:01.690Z"
   },
   {
    "duration": 562,
    "start_time": "2021-10-26T05:37:05.910Z"
   },
   {
    "duration": 451,
    "start_time": "2021-10-26T05:37:06.475Z"
   },
   {
    "duration": 5,
    "start_time": "2021-10-26T05:37:06.928Z"
   },
   {
    "duration": 22,
    "start_time": "2021-10-26T05:37:06.935Z"
   },
   {
    "duration": 581,
    "start_time": "2021-10-26T05:37:06.959Z"
   },
   {
    "duration": 5,
    "start_time": "2021-10-26T05:37:07.542Z"
   },
   {
    "duration": 15,
    "start_time": "2021-10-26T05:37:07.549Z"
   },
   {
    "duration": 5,
    "start_time": "2021-10-26T05:37:07.567Z"
   },
   {
    "duration": 21,
    "start_time": "2021-10-26T05:37:07.574Z"
   },
   {
    "duration": 8,
    "start_time": "2021-10-26T05:37:07.597Z"
   },
   {
    "duration": 14,
    "start_time": "2021-10-26T05:37:07.607Z"
   },
   {
    "duration": 140,
    "start_time": "2021-10-26T05:37:07.623Z"
   },
   {
    "duration": 98,
    "start_time": "2021-10-26T05:37:07.767Z"
   },
   {
    "duration": 96,
    "start_time": "2021-10-26T05:37:07.867Z"
   },
   {
    "duration": 19,
    "start_time": "2021-10-26T05:37:07.965Z"
   },
   {
    "duration": 534,
    "start_time": "2021-10-26T05:37:07.986Z"
   },
   {
    "duration": -270,
    "start_time": "2021-10-26T05:37:08.794Z"
   },
   {
    "duration": -280,
    "start_time": "2021-10-26T05:37:08.806Z"
   },
   {
    "duration": -288,
    "start_time": "2021-10-26T05:37:08.816Z"
   },
   {
    "duration": -291,
    "start_time": "2021-10-26T05:37:08.821Z"
   },
   {
    "duration": -354,
    "start_time": "2021-10-26T05:37:08.886Z"
   },
   {
    "duration": -362,
    "start_time": "2021-10-26T05:37:08.896Z"
   },
   {
    "duration": 1788,
    "start_time": "2021-10-26T05:37:37.475Z"
   },
   {
    "duration": 10639,
    "start_time": "2021-10-26T05:37:45.097Z"
   },
   {
    "duration": 2468,
    "start_time": "2021-10-26T05:37:57.844Z"
   },
   {
    "duration": 5,
    "start_time": "2021-10-26T05:38:03.250Z"
   },
   {
    "duration": 5,
    "start_time": "2021-10-26T05:38:04.499Z"
   },
   {
    "duration": 5,
    "start_time": "2021-10-26T05:38:05.866Z"
   },
   {
    "duration": 16,
    "start_time": "2021-10-26T05:38:07.696Z"
   },
   {
    "duration": 672,
    "start_time": "2021-10-26T06:24:00.792Z"
   },
   {
    "duration": 4,
    "start_time": "2021-10-26T06:25:01.313Z"
   },
   {
    "duration": 6,
    "start_time": "2021-10-26T06:25:03.419Z"
   },
   {
    "duration": 6,
    "start_time": "2021-10-26T06:25:12.965Z"
   },
   {
    "duration": 6,
    "start_time": "2021-10-26T06:25:31.923Z"
   },
   {
    "duration": 43,
    "start_time": "2021-10-26T06:25:54.578Z"
   },
   {
    "duration": 7,
    "start_time": "2021-10-26T06:26:12.173Z"
   },
   {
    "duration": 7,
    "start_time": "2021-10-26T06:26:12.184Z"
   },
   {
    "duration": 1032,
    "start_time": "2021-10-26T06:26:12.194Z"
   },
   {
    "duration": 35,
    "start_time": "2021-10-26T06:26:13.230Z"
   },
   {
    "duration": 37,
    "start_time": "2021-10-26T06:26:13.267Z"
   },
   {
    "duration": 16,
    "start_time": "2021-10-26T06:26:13.307Z"
   },
   {
    "duration": 63,
    "start_time": "2021-10-26T06:26:13.326Z"
   },
   {
    "duration": 28,
    "start_time": "2021-10-26T06:26:13.392Z"
   },
   {
    "duration": 64,
    "start_time": "2021-10-26T06:26:13.426Z"
   },
   {
    "duration": 4,
    "start_time": "2021-10-26T06:26:13.493Z"
   },
   {
    "duration": 6,
    "start_time": "2021-10-26T06:26:13.500Z"
   },
   {
    "duration": 797,
    "start_time": "2021-10-26T06:26:13.508Z"
   },
   {
    "duration": 10,
    "start_time": "2021-10-26T06:26:14.308Z"
   },
   {
    "duration": 12,
    "start_time": "2021-10-26T06:26:14.320Z"
   },
   {
    "duration": 24,
    "start_time": "2021-10-26T06:26:14.335Z"
   },
   {
    "duration": 9,
    "start_time": "2021-10-26T06:26:14.362Z"
   },
   {
    "duration": 6,
    "start_time": "2021-10-26T06:26:14.373Z"
   },
   {
    "duration": 28,
    "start_time": "2021-10-26T06:26:14.381Z"
   },
   {
    "duration": 9,
    "start_time": "2021-10-26T06:26:14.412Z"
   },
   {
    "duration": 795,
    "start_time": "2021-10-26T06:26:14.458Z"
   },
   {
    "duration": 786,
    "start_time": "2021-10-26T06:26:15.258Z"
   },
   {
    "duration": 17,
    "start_time": "2021-10-26T06:26:16.047Z"
   },
   {
    "duration": 17,
    "start_time": "2021-10-26T06:26:16.066Z"
   },
   {
    "duration": 18,
    "start_time": "2021-10-26T06:26:16.086Z"
   },
   {
    "duration": 21,
    "start_time": "2021-10-26T06:26:16.107Z"
   },
   {
    "duration": 45,
    "start_time": "2021-10-26T06:26:16.130Z"
   },
   {
    "duration": 43,
    "start_time": "2021-10-26T06:26:23.355Z"
   },
   {
    "duration": 12,
    "start_time": "2021-10-26T06:27:01.835Z"
   },
   {
    "duration": 4,
    "start_time": "2021-10-26T06:29:02.694Z"
   },
   {
    "duration": 10,
    "start_time": "2021-10-26T06:29:03.933Z"
   },
   {
    "duration": 464,
    "start_time": "2021-10-26T06:29:26.709Z"
   },
   {
    "duration": 10,
    "start_time": "2021-10-26T06:29:35.759Z"
   },
   {
    "duration": 9,
    "start_time": "2021-10-26T06:29:55.895Z"
   },
   {
    "duration": 10,
    "start_time": "2021-10-26T06:30:00.204Z"
   },
   {
    "duration": 9,
    "start_time": "2021-10-26T06:30:19.494Z"
   },
   {
    "duration": 10,
    "start_time": "2021-10-26T06:30:23.505Z"
   },
   {
    "duration": 9,
    "start_time": "2021-10-26T06:30:30.309Z"
   },
   {
    "duration": 5,
    "start_time": "2021-10-26T06:31:56.327Z"
   },
   {
    "duration": 9,
    "start_time": "2021-10-26T06:31:56.335Z"
   },
   {
    "duration": 977,
    "start_time": "2021-10-26T06:31:56.348Z"
   },
   {
    "duration": 32,
    "start_time": "2021-10-26T06:31:57.329Z"
   },
   {
    "duration": 36,
    "start_time": "2021-10-26T06:31:57.363Z"
   },
   {
    "duration": 17,
    "start_time": "2021-10-26T06:31:57.402Z"
   },
   {
    "duration": 73,
    "start_time": "2021-10-26T06:31:57.422Z"
   },
   {
    "duration": 27,
    "start_time": "2021-10-26T06:31:57.499Z"
   },
   {
    "duration": 36,
    "start_time": "2021-10-26T06:31:57.558Z"
   },
   {
    "duration": 5,
    "start_time": "2021-10-26T06:31:57.597Z"
   },
   {
    "duration": 5,
    "start_time": "2021-10-26T06:31:57.604Z"
   },
   {
    "duration": 801,
    "start_time": "2021-10-26T06:31:57.611Z"
   },
   {
    "duration": 10,
    "start_time": "2021-10-26T06:31:58.414Z"
   },
   {
    "duration": 32,
    "start_time": "2021-10-26T06:31:58.426Z"
   },
   {
    "duration": 5,
    "start_time": "2021-10-26T06:31:58.461Z"
   },
   {
    "duration": 8,
    "start_time": "2021-10-26T06:31:58.469Z"
   },
   {
    "duration": 6,
    "start_time": "2021-10-26T06:31:58.479Z"
   },
   {
    "duration": 25,
    "start_time": "2021-10-26T06:31:58.487Z"
   },
   {
    "duration": 49,
    "start_time": "2021-10-26T06:31:58.515Z"
   },
   {
    "duration": 780,
    "start_time": "2021-10-26T06:31:58.567Z"
   },
   {
    "duration": 776,
    "start_time": "2021-10-26T06:31:59.349Z"
   },
   {
    "duration": 9,
    "start_time": "2021-10-26T06:32:00.128Z"
   },
   {
    "duration": 24,
    "start_time": "2021-10-26T06:32:00.141Z"
   },
   {
    "duration": 21,
    "start_time": "2021-10-26T06:32:00.168Z"
   },
   {
    "duration": 24,
    "start_time": "2021-10-26T06:32:00.192Z"
   },
   {
    "duration": 46,
    "start_time": "2021-10-26T06:32:00.219Z"
   },
   {
    "duration": 12,
    "start_time": "2021-10-26T06:32:02.507Z"
   },
   {
    "duration": 10,
    "start_time": "2021-10-26T06:32:04.762Z"
   },
   {
    "duration": 13,
    "start_time": "2021-10-26T06:48:02.487Z"
   },
   {
    "duration": 183,
    "start_time": "2021-10-26T06:48:05.192Z"
   },
   {
    "duration": 40,
    "start_time": "2021-10-26T06:48:06.569Z"
   },
   {
    "duration": 183,
    "start_time": "2021-10-26T06:48:08.456Z"
   },
   {
    "duration": 8,
    "start_time": "2021-10-26T06:48:12.778Z"
   },
   {
    "duration": 4523,
    "start_time": "2021-10-26T06:48:14.322Z"
   },
   {
    "duration": 471,
    "start_time": "2021-10-26T06:48:21.963Z"
   },
   {
    "duration": 473,
    "start_time": "2021-10-26T06:48:24.314Z"
   },
   {
    "duration": 5,
    "start_time": "2021-10-26T06:48:37.568Z"
   },
   {
    "duration": 4,
    "start_time": "2021-10-26T06:48:40.608Z"
   },
   {
    "duration": 10088,
    "start_time": "2021-10-26T06:48:49.330Z"
   },
   {
    "duration": 11054,
    "start_time": "2021-10-26T06:49:30.941Z"
   },
   {
    "duration": 6,
    "start_time": "2021-10-26T06:52:58.464Z"
   },
   {
    "duration": 8,
    "start_time": "2021-10-26T06:52:58.473Z"
   },
   {
    "duration": 956,
    "start_time": "2021-10-26T06:52:58.485Z"
   },
   {
    "duration": 34,
    "start_time": "2021-10-26T06:52:59.445Z"
   },
   {
    "duration": 36,
    "start_time": "2021-10-26T06:52:59.481Z"
   },
   {
    "duration": 44,
    "start_time": "2021-10-26T06:52:59.519Z"
   },
   {
    "duration": 34,
    "start_time": "2021-10-26T06:52:59.566Z"
   },
   {
    "duration": 30,
    "start_time": "2021-10-26T06:52:59.604Z"
   },
   {
    "duration": 35,
    "start_time": "2021-10-26T06:52:59.658Z"
   },
   {
    "duration": 11,
    "start_time": "2021-10-26T06:52:59.695Z"
   },
   {
    "duration": 21,
    "start_time": "2021-10-26T06:52:59.708Z"
   },
   {
    "duration": 779,
    "start_time": "2021-10-26T06:52:59.732Z"
   },
   {
    "duration": 10,
    "start_time": "2021-10-26T06:53:00.513Z"
   },
   {
    "duration": 32,
    "start_time": "2021-10-26T06:53:00.525Z"
   },
   {
    "duration": 14,
    "start_time": "2021-10-26T06:53:00.560Z"
   },
   {
    "duration": 23,
    "start_time": "2021-10-26T06:53:00.576Z"
   },
   {
    "duration": 24,
    "start_time": "2021-10-26T06:53:00.601Z"
   },
   {
    "duration": 51,
    "start_time": "2021-10-26T06:53:00.628Z"
   },
   {
    "duration": 43,
    "start_time": "2021-10-26T06:53:00.682Z"
   },
   {
    "duration": 774,
    "start_time": "2021-10-26T06:53:00.728Z"
   },
   {
    "duration": 749,
    "start_time": "2021-10-26T06:53:01.504Z"
   },
   {
    "duration": 10,
    "start_time": "2021-10-26T06:53:02.255Z"
   },
   {
    "duration": 21,
    "start_time": "2021-10-26T06:53:02.269Z"
   },
   {
    "duration": 28,
    "start_time": "2021-10-26T06:53:02.293Z"
   },
   {
    "duration": 36,
    "start_time": "2021-10-26T06:53:02.324Z"
   },
   {
    "duration": 19,
    "start_time": "2021-10-26T06:53:02.362Z"
   },
   {
    "duration": 8,
    "start_time": "2021-10-26T06:53:02.384Z"
   },
   {
    "duration": 10,
    "start_time": "2021-10-26T06:53:04.902Z"
   },
   {
    "duration": 5,
    "start_time": "2021-10-26T06:53:32.729Z"
   },
   {
    "duration": 15,
    "start_time": "2021-10-26T06:53:32.736Z"
   },
   {
    "duration": 1069,
    "start_time": "2021-10-26T06:53:32.754Z"
   },
   {
    "duration": 31,
    "start_time": "2021-10-26T06:53:33.826Z"
   },
   {
    "duration": 35,
    "start_time": "2021-10-26T06:53:33.860Z"
   },
   {
    "duration": 17,
    "start_time": "2021-10-26T06:53:33.897Z"
   },
   {
    "duration": 63,
    "start_time": "2021-10-26T06:53:33.917Z"
   },
   {
    "duration": 25,
    "start_time": "2021-10-26T06:53:33.983Z"
   },
   {
    "duration": 59,
    "start_time": "2021-10-26T06:53:34.012Z"
   },
   {
    "duration": 4,
    "start_time": "2021-10-26T06:53:34.075Z"
   },
   {
    "duration": 18,
    "start_time": "2021-10-26T06:53:34.081Z"
   },
   {
    "duration": 773,
    "start_time": "2021-10-26T06:53:34.102Z"
   },
   {
    "duration": 9,
    "start_time": "2021-10-26T06:53:34.877Z"
   },
   {
    "duration": 11,
    "start_time": "2021-10-26T06:53:34.888Z"
   },
   {
    "duration": 10,
    "start_time": "2021-10-26T06:53:34.901Z"
   },
   {
    "duration": 12,
    "start_time": "2021-10-26T06:53:34.913Z"
   },
   {
    "duration": 37,
    "start_time": "2021-10-26T06:53:34.928Z"
   },
   {
    "duration": 33,
    "start_time": "2021-10-26T06:53:34.967Z"
   },
   {
    "duration": 12,
    "start_time": "2021-10-26T06:53:35.002Z"
   },
   {
    "duration": 770,
    "start_time": "2021-10-26T06:53:35.016Z"
   },
   {
    "duration": 857,
    "start_time": "2021-10-26T06:53:35.789Z"
   },
   {
    "duration": 15,
    "start_time": "2021-10-26T06:53:36.648Z"
   },
   {
    "duration": 33,
    "start_time": "2021-10-26T06:53:36.665Z"
   },
   {
    "duration": 26,
    "start_time": "2021-10-26T06:53:36.701Z"
   },
   {
    "duration": 25,
    "start_time": "2021-10-26T06:53:36.730Z"
   },
   {
    "duration": 20,
    "start_time": "2021-10-26T06:53:36.757Z"
   },
   {
    "duration": 3,
    "start_time": "2021-10-26T06:53:36.781Z"
   },
   {
    "duration": 5,
    "start_time": "2021-10-26T06:55:01.719Z"
   },
   {
    "duration": 10,
    "start_time": "2021-10-26T06:55:01.726Z"
   },
   {
    "duration": 1071,
    "start_time": "2021-10-26T06:55:01.739Z"
   },
   {
    "duration": 23,
    "start_time": "2021-10-26T06:55:02.813Z"
   },
   {
    "duration": 52,
    "start_time": "2021-10-26T06:55:02.839Z"
   },
   {
    "duration": 19,
    "start_time": "2021-10-26T06:55:02.894Z"
   },
   {
    "duration": 62,
    "start_time": "2021-10-26T06:55:02.916Z"
   },
   {
    "duration": 26,
    "start_time": "2021-10-26T06:55:02.981Z"
   },
   {
    "duration": 61,
    "start_time": "2021-10-26T06:55:03.012Z"
   },
   {
    "duration": 5,
    "start_time": "2021-10-26T06:55:03.076Z"
   },
   {
    "duration": 12,
    "start_time": "2021-10-26T06:55:03.083Z"
   },
   {
    "duration": 782,
    "start_time": "2021-10-26T06:55:03.097Z"
   },
   {
    "duration": 9,
    "start_time": "2021-10-26T06:55:03.881Z"
   },
   {
    "duration": 13,
    "start_time": "2021-10-26T06:55:03.892Z"
   },
   {
    "duration": 8,
    "start_time": "2021-10-26T06:55:03.908Z"
   },
   {
    "duration": 11,
    "start_time": "2021-10-26T06:55:03.918Z"
   },
   {
    "duration": 7,
    "start_time": "2021-10-26T06:55:03.957Z"
   },
   {
    "duration": 31,
    "start_time": "2021-10-26T06:55:03.966Z"
   },
   {
    "duration": 9,
    "start_time": "2021-10-26T06:55:03.999Z"
   },
   {
    "duration": 796,
    "start_time": "2021-10-26T06:55:04.011Z"
   },
   {
    "duration": 773,
    "start_time": "2021-10-26T06:55:04.810Z"
   },
   {
    "duration": 10,
    "start_time": "2021-10-26T06:55:05.585Z"
   },
   {
    "duration": 16,
    "start_time": "2021-10-26T06:55:05.598Z"
   },
   {
    "duration": 40,
    "start_time": "2021-10-26T06:55:05.617Z"
   },
   {
    "duration": 23,
    "start_time": "2021-10-26T06:55:05.660Z"
   },
   {
    "duration": 16,
    "start_time": "2021-10-26T06:55:32.825Z"
   },
   {
    "duration": 9443,
    "start_time": "2021-10-26T06:56:02.482Z"
   },
   {
    "duration": 13,
    "start_time": "2021-10-26T06:56:28.579Z"
   },
   {
    "duration": 8,
    "start_time": "2021-10-26T06:56:32.119Z"
   },
   {
    "duration": 10,
    "start_time": "2021-10-26T06:56:51.131Z"
   },
   {
    "duration": 13,
    "start_time": "2021-10-26T06:57:22.753Z"
   },
   {
    "duration": 15,
    "start_time": "2021-10-26T06:59:29.721Z"
   },
   {
    "duration": 8,
    "start_time": "2021-10-26T06:59:42.184Z"
   },
   {
    "duration": 400,
    "start_time": "2021-10-26T07:00:49.113Z"
   },
   {
    "duration": 391,
    "start_time": "2021-10-26T07:01:08.282Z"
   },
   {
    "duration": 376,
    "start_time": "2021-10-26T07:01:38.923Z"
   },
   {
    "duration": 45,
    "start_time": "2021-10-26T07:02:09.029Z"
   },
   {
    "duration": 14,
    "start_time": "2021-10-26T07:02:34.035Z"
   },
   {
    "duration": 5,
    "start_time": "2021-10-26T07:02:59.147Z"
   },
   {
    "duration": 4,
    "start_time": "2021-10-26T07:02:59.155Z"
   },
   {
    "duration": 922,
    "start_time": "2021-10-26T07:02:59.162Z"
   },
   {
    "duration": 26,
    "start_time": "2021-10-26T07:03:00.086Z"
   },
   {
    "duration": 57,
    "start_time": "2021-10-26T07:03:00.114Z"
   },
   {
    "duration": 16,
    "start_time": "2021-10-26T07:03:00.174Z"
   },
   {
    "duration": 38,
    "start_time": "2021-10-26T07:03:00.193Z"
   },
   {
    "duration": 28,
    "start_time": "2021-10-26T07:03:00.261Z"
   },
   {
    "duration": 79,
    "start_time": "2021-10-26T07:03:00.293Z"
   },
   {
    "duration": 6,
    "start_time": "2021-10-26T07:03:00.375Z"
   },
   {
    "duration": 34,
    "start_time": "2021-10-26T07:03:00.384Z"
   },
   {
    "duration": 1040,
    "start_time": "2021-10-26T07:03:00.421Z"
   },
   {
    "duration": 12,
    "start_time": "2021-10-26T07:03:01.464Z"
   },
   {
    "duration": 21,
    "start_time": "2021-10-26T07:03:01.479Z"
   },
   {
    "duration": 38,
    "start_time": "2021-10-26T07:03:01.503Z"
   },
   {
    "duration": 34,
    "start_time": "2021-10-26T07:03:01.545Z"
   },
   {
    "duration": 35,
    "start_time": "2021-10-26T07:03:01.582Z"
   },
   {
    "duration": 54,
    "start_time": "2021-10-26T07:03:01.619Z"
   },
   {
    "duration": 25,
    "start_time": "2021-10-26T07:03:01.676Z"
   },
   {
    "duration": 769,
    "start_time": "2021-10-26T07:03:01.704Z"
   },
   {
    "duration": 797,
    "start_time": "2021-10-26T07:03:02.475Z"
   },
   {
    "duration": 10,
    "start_time": "2021-10-26T07:03:03.276Z"
   },
   {
    "duration": 15,
    "start_time": "2021-10-26T07:03:03.288Z"
   },
   {
    "duration": 22,
    "start_time": "2021-10-26T07:03:03.306Z"
   },
   {
    "duration": 46,
    "start_time": "2021-10-26T07:03:03.330Z"
   },
   {
    "duration": 9518,
    "start_time": "2021-10-26T07:03:06.238Z"
   },
   {
    "duration": 33,
    "start_time": "2021-10-26T07:07:25.385Z"
   },
   {
    "duration": 11736,
    "start_time": "2021-10-26T07:07:49.496Z"
   },
   {
    "duration": -289,
    "start_time": "2021-10-26T07:08:01.524Z"
   },
   {
    "duration": 11015,
    "start_time": "2021-10-26T07:08:18.493Z"
   },
   {
    "duration": 5,
    "start_time": "2021-10-26T07:21:10.437Z"
   },
   {
    "duration": 7,
    "start_time": "2021-10-26T07:21:10.445Z"
   },
   {
    "duration": 945,
    "start_time": "2021-10-26T07:21:10.455Z"
   },
   {
    "duration": 23,
    "start_time": "2021-10-26T07:21:11.403Z"
   },
   {
    "duration": 52,
    "start_time": "2021-10-26T07:21:11.429Z"
   },
   {
    "duration": 15,
    "start_time": "2021-10-26T07:21:11.484Z"
   },
   {
    "duration": 59,
    "start_time": "2021-10-26T07:21:11.502Z"
   },
   {
    "duration": 25,
    "start_time": "2021-10-26T07:21:11.565Z"
   },
   {
    "duration": 35,
    "start_time": "2021-10-26T07:21:11.593Z"
   },
   {
    "duration": 5,
    "start_time": "2021-10-26T07:21:11.658Z"
   },
   {
    "duration": 28,
    "start_time": "2021-10-26T07:21:11.665Z"
   },
   {
    "duration": 782,
    "start_time": "2021-10-26T07:21:11.695Z"
   },
   {
    "duration": 13,
    "start_time": "2021-10-26T07:21:12.480Z"
   },
   {
    "duration": 7,
    "start_time": "2021-10-26T07:21:12.496Z"
   },
   {
    "duration": 8,
    "start_time": "2021-10-26T07:21:12.505Z"
   },
   {
    "duration": 44,
    "start_time": "2021-10-26T07:21:12.515Z"
   },
   {
    "duration": 9,
    "start_time": "2021-10-26T07:21:12.562Z"
   },
   {
    "duration": 26,
    "start_time": "2021-10-26T07:21:12.574Z"
   },
   {
    "duration": 10,
    "start_time": "2021-10-26T07:21:12.603Z"
   },
   {
    "duration": 810,
    "start_time": "2021-10-26T07:21:12.615Z"
   },
   {
    "duration": 759,
    "start_time": "2021-10-26T07:21:13.427Z"
   },
   {
    "duration": 10,
    "start_time": "2021-10-26T07:21:14.188Z"
   },
   {
    "duration": 17,
    "start_time": "2021-10-26T07:21:14.202Z"
   },
   {
    "duration": 35,
    "start_time": "2021-10-26T07:21:14.222Z"
   },
   {
    "duration": 22,
    "start_time": "2021-10-26T07:21:14.260Z"
   },
   {
    "duration": 17,
    "start_time": "2021-10-26T07:21:55.545Z"
   },
   {
    "duration": 39,
    "start_time": "2021-10-26T07:24:44.408Z"
   },
   {
    "duration": 20,
    "start_time": "2021-10-26T07:43:24.557Z"
   },
   {
    "duration": 42,
    "start_time": "2021-10-26T07:43:26.106Z"
   },
   {
    "duration": 41,
    "start_time": "2021-10-26T07:44:35.022Z"
   },
   {
    "duration": 18,
    "start_time": "2021-10-26T07:44:45.331Z"
   },
   {
    "duration": 8,
    "start_time": "2021-10-26T07:44:51.394Z"
   },
   {
    "duration": 4,
    "start_time": "2021-10-26T07:46:06.221Z"
   },
   {
    "duration": 3,
    "start_time": "2021-10-26T07:46:15.299Z"
   },
   {
    "duration": 5,
    "start_time": "2021-10-26T07:46:52.536Z"
   },
   {
    "duration": 6,
    "start_time": "2021-10-26T07:46:52.544Z"
   },
   {
    "duration": 957,
    "start_time": "2021-10-26T07:46:52.553Z"
   },
   {
    "duration": 23,
    "start_time": "2021-10-26T07:46:53.513Z"
   },
   {
    "duration": 48,
    "start_time": "2021-10-26T07:46:53.539Z"
   },
   {
    "duration": 18,
    "start_time": "2021-10-26T07:46:53.590Z"
   },
   {
    "duration": 56,
    "start_time": "2021-10-26T07:46:53.610Z"
   },
   {
    "duration": 33,
    "start_time": "2021-10-26T07:46:53.669Z"
   },
   {
    "duration": 55,
    "start_time": "2021-10-26T07:46:53.705Z"
   },
   {
    "duration": 5,
    "start_time": "2021-10-26T07:46:53.762Z"
   },
   {
    "duration": 13,
    "start_time": "2021-10-26T07:46:53.769Z"
   },
   {
    "duration": 800,
    "start_time": "2021-10-26T07:46:53.784Z"
   },
   {
    "duration": 9,
    "start_time": "2021-10-26T07:46:54.586Z"
   },
   {
    "duration": 9,
    "start_time": "2021-10-26T07:46:54.597Z"
   },
   {
    "duration": 7,
    "start_time": "2021-10-26T07:46:54.608Z"
   },
   {
    "duration": 42,
    "start_time": "2021-10-26T07:46:54.618Z"
   },
   {
    "duration": 5,
    "start_time": "2021-10-26T07:46:54.662Z"
   },
   {
    "duration": 26,
    "start_time": "2021-10-26T07:46:54.670Z"
   },
   {
    "duration": 8,
    "start_time": "2021-10-26T07:46:54.698Z"
   },
   {
    "duration": 792,
    "start_time": "2021-10-26T07:46:54.709Z"
   },
   {
    "duration": 762,
    "start_time": "2021-10-26T07:46:55.503Z"
   },
   {
    "duration": 11,
    "start_time": "2021-10-26T07:46:56.267Z"
   },
   {
    "duration": 11,
    "start_time": "2021-10-26T07:46:56.284Z"
   },
   {
    "duration": 16,
    "start_time": "2021-10-26T07:46:56.298Z"
   },
   {
    "duration": 50,
    "start_time": "2021-10-26T07:46:56.317Z"
   },
   {
    "duration": 3,
    "start_time": "2021-10-26T07:46:56.369Z"
   },
   {
    "duration": 27,
    "start_time": "2021-10-26T07:46:56.374Z"
   },
   {
    "duration": 13,
    "start_time": "2021-10-26T07:46:56.403Z"
   },
   {
    "duration": 210,
    "start_time": "2021-10-26T07:46:56.418Z"
   },
   {
    "duration": 51,
    "start_time": "2021-10-26T07:46:56.630Z"
   },
   {
    "duration": 179,
    "start_time": "2021-10-26T07:46:56.684Z"
   },
   {
    "duration": 8,
    "start_time": "2021-10-26T07:46:56.865Z"
   },
   {
    "duration": 4221,
    "start_time": "2021-10-26T07:46:56.875Z"
   },
   {
    "duration": 464,
    "start_time": "2021-10-26T07:47:01.099Z"
   },
   {
    "duration": 574,
    "start_time": "2021-10-26T07:47:01.565Z"
   },
   {
    "duration": 5,
    "start_time": "2021-10-26T07:47:02.141Z"
   },
   {
    "duration": 4,
    "start_time": "2021-10-26T07:47:02.158Z"
   },
   {
    "duration": 482,
    "start_time": "2021-10-26T07:47:02.164Z"
   },
   {
    "duration": 10,
    "start_time": "2021-10-26T07:47:02.648Z"
   },
   {
    "duration": 41,
    "start_time": "2021-10-26T07:47:02.661Z"
   },
   {
    "duration": 21,
    "start_time": "2021-10-26T07:47:02.704Z"
   },
   {
    "duration": 25,
    "start_time": "2021-10-26T07:47:02.728Z"
   },
   {
    "duration": 14,
    "start_time": "2021-10-26T07:47:02.755Z"
   },
   {
    "duration": 21,
    "start_time": "2021-10-26T07:47:02.772Z"
   },
   {
    "duration": 262,
    "start_time": "2021-10-26T07:47:02.796Z"
   },
   {
    "duration": 7,
    "start_time": "2021-10-26T07:47:03.062Z"
   },
   {
    "duration": 89,
    "start_time": "2021-10-26T07:47:03.072Z"
   },
   {
    "duration": 11,
    "start_time": "2021-10-26T07:47:03.164Z"
   },
   {
    "duration": 1684,
    "start_time": "2021-10-26T07:47:03.177Z"
   },
   {
    "duration": 10875,
    "start_time": "2021-10-26T07:47:04.958Z"
   },
   {
    "duration": 2553,
    "start_time": "2021-10-26T07:47:15.836Z"
   },
   {
    "duration": 5,
    "start_time": "2021-10-26T07:47:18.391Z"
   },
   {
    "duration": 20,
    "start_time": "2021-10-26T07:47:18.399Z"
   },
   {
    "duration": 10,
    "start_time": "2021-10-26T07:47:18.421Z"
   },
   {
    "duration": 75,
    "start_time": "2021-10-26T07:47:18.433Z"
   },
   {
    "duration": 7,
    "start_time": "2021-10-26T07:51:46.980Z"
   },
   {
    "duration": 1512,
    "start_time": "2021-10-26T16:42:29.433Z"
   },
   {
    "duration": 4,
    "start_time": "2021-10-26T16:42:30.948Z"
   },
   {
    "duration": 1046,
    "start_time": "2021-10-26T16:42:30.956Z"
   },
   {
    "duration": 41,
    "start_time": "2021-10-26T16:42:32.005Z"
   },
   {
    "duration": 43,
    "start_time": "2021-10-26T16:42:32.049Z"
   },
   {
    "duration": 18,
    "start_time": "2021-10-26T16:42:32.198Z"
   },
   {
    "duration": 35,
    "start_time": "2021-10-26T16:42:32.605Z"
   },
   {
    "duration": 26,
    "start_time": "2021-10-26T16:42:32.970Z"
   },
   {
    "duration": 37,
    "start_time": "2021-10-26T16:42:33.192Z"
   },
   {
    "duration": 5,
    "start_time": "2021-10-26T16:42:34.588Z"
   },
   {
    "duration": 4,
    "start_time": "2021-10-26T16:42:34.701Z"
   },
   {
    "duration": 799,
    "start_time": "2021-10-26T16:42:35.040Z"
   },
   {
    "duration": 9,
    "start_time": "2021-10-26T16:42:35.842Z"
   },
   {
    "duration": 7,
    "start_time": "2021-10-26T16:42:35.985Z"
   },
   {
    "duration": 5,
    "start_time": "2021-10-26T16:42:36.705Z"
   },
   {
    "duration": 10,
    "start_time": "2021-10-26T16:42:37.042Z"
   },
   {
    "duration": 6,
    "start_time": "2021-10-26T16:42:38.028Z"
   },
   {
    "duration": 26,
    "start_time": "2021-10-26T16:42:39.131Z"
   },
   {
    "duration": 10,
    "start_time": "2021-10-26T16:42:39.401Z"
   },
   {
    "duration": 778,
    "start_time": "2021-10-26T16:42:39.651Z"
   },
   {
    "duration": 803,
    "start_time": "2021-10-26T16:42:40.431Z"
   },
   {
    "duration": 12,
    "start_time": "2021-10-26T16:42:41.237Z"
   },
   {
    "duration": 11,
    "start_time": "2021-10-26T16:42:41.252Z"
   },
   {
    "duration": 21,
    "start_time": "2021-10-26T16:42:41.266Z"
   },
   {
    "duration": 23,
    "start_time": "2021-10-26T16:42:41.791Z"
   },
   {
    "duration": 3,
    "start_time": "2021-10-26T16:42:43.927Z"
   },
   {
    "duration": 21,
    "start_time": "2021-10-26T16:42:44.106Z"
   },
   {
    "duration": 41,
    "start_time": "2021-10-26T16:42:51.028Z"
   },
   {
    "duration": 6,
    "start_time": "2021-10-26T16:43:07.249Z"
   }
  ],
  "kernelspec": {
   "display_name": "Python 3",
   "language": "python",
   "name": "python3"
  },
  "language_info": {
   "codemirror_mode": {
    "name": "ipython",
    "version": 3
   },
   "file_extension": ".py",
   "mimetype": "text/x-python",
   "name": "python",
   "nbconvert_exporter": "python",
   "pygments_lexer": "ipython3",
   "version": "3.8.3"
  },
  "toc": {
   "base_numbering": 1,
   "nav_menu": {},
   "number_sections": true,
   "sideBar": true,
   "skip_h1_title": true,
   "title_cell": "Table of Contents",
   "title_sidebar": "Contents",
   "toc_cell": false,
   "toc_position": {},
   "toc_section_display": true,
   "toc_window_display": false
  }
 },
 "nbformat": 4,
 "nbformat_minor": 2
}
